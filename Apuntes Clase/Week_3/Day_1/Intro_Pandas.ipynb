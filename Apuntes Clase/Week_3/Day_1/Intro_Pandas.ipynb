{
 "cells": [
  {
   "cell_type": "markdown",
   "id": "2b567deb",
   "metadata": {},
   "source": [
    "# Intro Pandas (Panel Data)\n",
    "\n",
    "**[Documentación](https://pandas.pydata.org/docs/reference/index.html#api)**\n",
    "\n",
    "**[Código fuente](https://github.com/pandas-dev/pandas)**\n",
    "\n",
    "\n",
    "![pandas](../../images/pandas.png)\n",
    "\n",
    "\n",
    "Pandas es una librería de python especializada en el manejo y análisis de estructuras de datos.\n",
    "\n",
    "\n",
    "Las principales características de esta librería son:\n",
    "\n",
    "+ Define nuevas estructuras de datos basadas en los arrays de la librería NumPy pero con nuevas funcionalidades.\n",
    "+ Permite leer y escribir fácilmente ficheros en formato CSV, Excel y bases de datos SQL.\n",
    "+ Permite acceder a los datos mediante índices o nombres para filas y columnas.\n",
    "+ Ofrece métodos para reordenar, dividir y combinar conjuntos de datos.\n",
    "+ Permite trabajar con series temporales.\n",
    "+ Realiza todas estas operaciones de manera muy eficiente.\n",
    "\n",
    "\n",
    "**Tipos de datos de Pandas**\n",
    "Pandas dispone de dos estructuras de datos diferentes:\n",
    "\n",
    "+ Series: Estructura de una dimensión.\n",
    "+ DataFrame: Estructura de dos dimensiones (tablas).\n",
    "\n",
    "Estas estructuras se construyen a partir de arrays de la librería NumPy, añadiendo nuevas funcionalidades."
   ]
  },
  {
   "cell_type": "code",
   "execution_count": 1,
   "id": "14577ff1",
   "metadata": {},
   "outputs": [
    {
     "name": "stdout",
     "output_type": "stream",
     "text": [
      "Requirement already satisfied: pandas in c:\\users\\botic\\anaconda3\\envs\\comunio-app-streamlit-22-23\\lib\\site-packages (1.3.2)\n",
      "Requirement already satisfied: pytz>=2017.3 in c:\\users\\botic\\anaconda3\\envs\\comunio-app-streamlit-22-23\\lib\\site-packages (from pandas) (2022.2.1)\n",
      "Requirement already satisfied: python-dateutil>=2.7.3 in c:\\users\\botic\\anaconda3\\envs\\comunio-app-streamlit-22-23\\lib\\site-packages (from pandas) (2.8.2)\n",
      "Requirement already satisfied: numpy>=1.17.3 in c:\\users\\botic\\anaconda3\\envs\\comunio-app-streamlit-22-23\\lib\\site-packages (from pandas) (1.23.2)\n",
      "Requirement already satisfied: six>=1.5 in c:\\users\\botic\\anaconda3\\envs\\comunio-app-streamlit-22-23\\lib\\site-packages (from python-dateutil>=2.7.3->pandas) (1.16.0)\n"
     ]
    }
   ],
   "source": [
    "!pip install pandas"
   ]
  },
  {
   "cell_type": "code",
   "execution_count": 2,
   "id": "fd9c35b0",
   "metadata": {},
   "outputs": [],
   "source": [
    "import pandas as pd\n",
    "import numpy as np"
   ]
  },
  {
   "cell_type": "code",
   "execution_count": 3,
   "id": "a190000c",
   "metadata": {},
   "outputs": [],
   "source": [
    "import warnings\n",
    "warnings.filterwarnings('ignore') # esto es para evitar que se imprimar los mensajes de aviso"
   ]
  },
  {
   "cell_type": "markdown",
   "id": "20319173",
   "metadata": {},
   "source": [
    "### Serie\n",
    "\n",
    "Son estructuras similares a los arrays de una dimensión. Son homogéneas, es decir, sus elementos tienen que ser del mismo tipo, y su tamaño es inmutable, es decir, no se puede cambiar, aunque si su contenido.\n",
    "\n",
    "Dispone de un índice que asocia un nombre a cada elemento del la serie, a través de la cuál se accede al elemento."
   ]
  },
  {
   "cell_type": "code",
   "execution_count": 4,
   "id": "a8672c59",
   "metadata": {},
   "outputs": [
    {
     "data": {
      "text/plain": [
       "[11.559999999999999,\n",
       " 19.360000000000003,\n",
       " 29.160000000000004,\n",
       " 40.96000000000001,\n",
       " 54.760000000000005,\n",
       " 70.56,\n",
       " 88.36000000000001,\n",
       " 108.16000000000001,\n",
       " 129.96,\n",
       " 153.76000000000002]"
      ]
     },
     "execution_count": 4,
     "metadata": {},
     "output_type": "execute_result"
    }
   ],
   "source": [
    "lst = [(3.4 + i) ** 2 for i in range(10)]\n",
    "\n",
    "lst"
   ]
  },
  {
   "cell_type": "code",
   "execution_count": 5,
   "id": "0fa755f4",
   "metadata": {},
   "outputs": [
    {
     "data": {
      "text/plain": [
       "list"
      ]
     },
     "execution_count": 5,
     "metadata": {},
     "output_type": "execute_result"
    }
   ],
   "source": [
    "type(lst)"
   ]
  },
  {
   "cell_type": "code",
   "execution_count": 6,
   "id": "08d9b61e",
   "metadata": {},
   "outputs": [
    {
     "data": {
      "text/plain": [
       "0     11.56\n",
       "1     19.36\n",
       "2     29.16\n",
       "3     40.96\n",
       "4     54.76\n",
       "5     70.56\n",
       "6     88.36\n",
       "7    108.16\n",
       "8    129.96\n",
       "9    153.76\n",
       "dtype: float64"
      ]
     },
     "execution_count": 6,
     "metadata": {},
     "output_type": "execute_result"
    }
   ],
   "source": [
    "serie = pd.Series(lst)\n",
    "\n",
    "serie"
   ]
  },
  {
   "cell_type": "code",
   "execution_count": 7,
   "id": "a5778579",
   "metadata": {},
   "outputs": [
    {
     "data": {
      "text/plain": [
       "pandas.core.series.Series"
      ]
     },
     "execution_count": 7,
     "metadata": {},
     "output_type": "execute_result"
    }
   ],
   "source": [
    "type(serie)"
   ]
  },
  {
   "cell_type": "code",
   "execution_count": 9,
   "id": "a481f4d3",
   "metadata": {},
   "outputs": [
    {
     "data": {
      "text/plain": [
       "0    11.56\n",
       "1    19.36\n",
       "dtype: float64"
      ]
     },
     "execution_count": 9,
     "metadata": {},
     "output_type": "execute_result"
    }
   ],
   "source": [
    "serie.head(2) # nos muestra los 5 primeros elementos de la serie"
   ]
  },
  {
   "cell_type": "code",
   "execution_count": 10,
   "id": "763d590d",
   "metadata": {},
   "outputs": [
    {
     "data": {
      "text/plain": [
       "8    129.96\n",
       "9    153.76\n",
       "dtype: float64"
      ]
     },
     "execution_count": 10,
     "metadata": {},
     "output_type": "execute_result"
    }
   ],
   "source": [
    "serie.tail(2) # nos muestra los últimos cinco elementos de la serie"
   ]
  },
  {
   "cell_type": "code",
   "execution_count": 11,
   "id": "a744ab66",
   "metadata": {},
   "outputs": [
    {
     "data": {
      "text/plain": [
       "RangeIndex(start=0, stop=10, step=1)"
      ]
     },
     "execution_count": 11,
     "metadata": {},
     "output_type": "execute_result"
    }
   ],
   "source": [
    "serie.index"
   ]
  },
  {
   "cell_type": "markdown",
   "id": "f0188bff",
   "metadata": {},
   "source": [
    "**Renombar indices de una serie**"
   ]
  },
  {
   "cell_type": "code",
   "execution_count": 12,
   "id": "993f6387",
   "metadata": {},
   "outputs": [
    {
     "data": {
      "text/plain": [
       "a     11.56\n",
       "b     19.36\n",
       "c     29.16\n",
       "d     40.96\n",
       "e     54.76\n",
       "f     70.56\n",
       "g     88.36\n",
       "h    108.16\n",
       "i    129.96\n",
       "j    153.76\n",
       "dtype: float64"
      ]
     },
     "execution_count": 12,
     "metadata": {},
     "output_type": "execute_result"
    }
   ],
   "source": [
    "serie.index = ['a', 'b', 'c', 'd', 'e', 'f', 'g', 'h', 'i', 'j']\n",
    "\n",
    "serie"
   ]
  },
  {
   "cell_type": "code",
   "execution_count": 13,
   "id": "a45c099e",
   "metadata": {},
   "outputs": [
    {
     "data": {
      "text/plain": [
       "Index(['a', 'b', 'c', 'd', 'e', 'f', 'g', 'h', 'i', 'j'], dtype='object')"
      ]
     },
     "execution_count": 13,
     "metadata": {},
     "output_type": "execute_result"
    }
   ],
   "source": [
    "serie.index"
   ]
  },
  {
   "cell_type": "code",
   "execution_count": 15,
   "id": "64c537cf",
   "metadata": {},
   "outputs": [],
   "source": [
    "#help(serie)"
   ]
  },
  {
   "cell_type": "markdown",
   "id": "4cc530a4",
   "metadata": {},
   "source": [
    "### DataFrame\n",
    "\n",
    "Un objeto del tipo DataFrame define un conjunto de datos estructurado en forma de tabla donde cada columna es un objeto de tipo Series, es decir, todos los datos de una misma columna son del mismo tipo, y las filas son registros que pueden contender datos de distintos tipos.\n",
    "\n",
    "Un DataFrame contiene dos índices, uno para las filas y otro para las columnas, y se puede acceder a sus elementos mediante los nombres de las filas y las columnas."
   ]
  },
  {
   "cell_type": "code",
   "execution_count": 16,
   "id": "e95ad419",
   "metadata": {},
   "outputs": [
    {
     "data": {
      "text/plain": [
       "array([[0.97496633, 0.80630749, 0.01744064, 0.92846417, 0.54287339],\n",
       "       [0.1953008 , 0.61264177, 0.87095326, 0.01401954, 0.4258402 ],\n",
       "       [0.52683593, 0.02156816, 0.05729982, 0.2660827 , 0.57191195],\n",
       "       [0.0953584 , 0.37728827, 0.98508254, 0.60804265, 0.94000814],\n",
       "       [0.76566227, 0.6201061 , 0.55361627, 0.3092511 , 0.29793147],\n",
       "       [0.41346485, 0.32649031, 0.86668659, 0.05981241, 0.31661119],\n",
       "       [0.29718217, 0.87484695, 0.87209674, 0.08064813, 0.44907063],\n",
       "       [0.49010664, 0.70812066, 0.63167799, 0.9818607 , 0.32345317],\n",
       "       [0.46437337, 0.69853673, 0.58124167, 0.67233835, 0.2590392 ],\n",
       "       [0.17512075, 0.67113399, 0.87652213, 0.71382187, 0.25765006]])"
      ]
     },
     "execution_count": 16,
     "metadata": {},
     "output_type": "execute_result"
    }
   ],
   "source": [
    "columnas = ['col1', 'col2', 'col3', 'col4', 'col5']\n",
    "\n",
    "data = np.random.random((10,5))\n",
    "\n",
    "data"
   ]
  },
  {
   "cell_type": "code",
   "execution_count": 20,
   "id": "e9807653",
   "metadata": {},
   "outputs": [
    {
     "data": {
      "text/html": [
       "<div>\n",
       "<style scoped>\n",
       "    .dataframe tbody tr th:only-of-type {\n",
       "        vertical-align: middle;\n",
       "    }\n",
       "\n",
       "    .dataframe tbody tr th {\n",
       "        vertical-align: top;\n",
       "    }\n",
       "\n",
       "    .dataframe thead th {\n",
       "        text-align: right;\n",
       "    }\n",
       "</style>\n",
       "<table border=\"1\" class=\"dataframe\">\n",
       "  <thead>\n",
       "    <tr style=\"text-align: right;\">\n",
       "      <th></th>\n",
       "      <th>col1</th>\n",
       "      <th>col2</th>\n",
       "      <th>col3</th>\n",
       "      <th>col4</th>\n",
       "      <th>col5</th>\n",
       "    </tr>\n",
       "  </thead>\n",
       "  <tbody>\n",
       "    <tr>\n",
       "      <th>0</th>\n",
       "      <td>0.974966</td>\n",
       "      <td>0.806307</td>\n",
       "      <td>0.017441</td>\n",
       "      <td>0.928464</td>\n",
       "      <td>0.542873</td>\n",
       "    </tr>\n",
       "    <tr>\n",
       "      <th>1</th>\n",
       "      <td>0.195301</td>\n",
       "      <td>0.612642</td>\n",
       "      <td>0.870953</td>\n",
       "      <td>0.014020</td>\n",
       "      <td>0.425840</td>\n",
       "    </tr>\n",
       "    <tr>\n",
       "      <th>2</th>\n",
       "      <td>0.526836</td>\n",
       "      <td>0.021568</td>\n",
       "      <td>0.057300</td>\n",
       "      <td>0.266083</td>\n",
       "      <td>0.571912</td>\n",
       "    </tr>\n",
       "    <tr>\n",
       "      <th>3</th>\n",
       "      <td>0.095358</td>\n",
       "      <td>0.377288</td>\n",
       "      <td>0.985083</td>\n",
       "      <td>0.608043</td>\n",
       "      <td>0.940008</td>\n",
       "    </tr>\n",
       "    <tr>\n",
       "      <th>4</th>\n",
       "      <td>0.765662</td>\n",
       "      <td>0.620106</td>\n",
       "      <td>0.553616</td>\n",
       "      <td>0.309251</td>\n",
       "      <td>0.297931</td>\n",
       "    </tr>\n",
       "  </tbody>\n",
       "</table>\n",
       "</div>"
      ],
      "text/plain": [
       "       col1      col2      col3      col4      col5\n",
       "0  0.974966  0.806307  0.017441  0.928464  0.542873\n",
       "1  0.195301  0.612642  0.870953  0.014020  0.425840\n",
       "2  0.526836  0.021568  0.057300  0.266083  0.571912\n",
       "3  0.095358  0.377288  0.985083  0.608043  0.940008\n",
       "4  0.765662  0.620106  0.553616  0.309251  0.297931"
      ]
     },
     "execution_count": 20,
     "metadata": {},
     "output_type": "execute_result"
    }
   ],
   "source": [
    "df = pd.DataFrame(data ,columns=columnas)\n",
    "\n",
    "df.head()"
   ]
  },
  {
   "cell_type": "markdown",
   "id": "de3ec4b7",
   "metadata": {},
   "source": [
    "**Para acceder a una columna en particular**"
   ]
  },
  {
   "cell_type": "code",
   "execution_count": 21,
   "id": "bb3253bf",
   "metadata": {},
   "outputs": [
    {
     "data": {
      "text/plain": [
       "0    0.806307\n",
       "1    0.612642\n",
       "2    0.021568\n",
       "3    0.377288\n",
       "4    0.620106\n",
       "5    0.326490\n",
       "6    0.874847\n",
       "7    0.708121\n",
       "8    0.698537\n",
       "9    0.671134\n",
       "Name: col2, dtype: float64"
      ]
     },
     "execution_count": 21,
     "metadata": {},
     "output_type": "execute_result"
    }
   ],
   "source": [
    "df['col2']"
   ]
  },
  {
   "cell_type": "code",
   "execution_count": 22,
   "id": "765fae31",
   "metadata": {},
   "outputs": [
    {
     "data": {
      "text/plain": [
       "0    0.806307\n",
       "1    0.612642\n",
       "2    0.021568\n",
       "3    0.377288\n",
       "4    0.620106\n",
       "5    0.326490\n",
       "6    0.874847\n",
       "7    0.708121\n",
       "8    0.698537\n",
       "9    0.671134\n",
       "Name: col2, dtype: float64"
      ]
     },
     "execution_count": 22,
     "metadata": {},
     "output_type": "execute_result"
    }
   ],
   "source": [
    "df.col2"
   ]
  },
  {
   "cell_type": "code",
   "execution_count": 23,
   "id": "f85580ac",
   "metadata": {},
   "outputs": [
    {
     "data": {
      "text/plain": [
       "pandas.core.series.Series"
      ]
     },
     "execution_count": 23,
     "metadata": {},
     "output_type": "execute_result"
    }
   ],
   "source": [
    "type(df.col2)"
   ]
  },
  {
   "cell_type": "code",
   "execution_count": 24,
   "id": "421c47b8",
   "metadata": {},
   "outputs": [
    {
     "data": {
      "text/plain": [
       "pandas.core.frame.DataFrame"
      ]
     },
     "execution_count": 24,
     "metadata": {},
     "output_type": "execute_result"
    }
   ],
   "source": [
    "type(df)"
   ]
  },
  {
   "cell_type": "markdown",
   "id": "2be5b1ae",
   "metadata": {},
   "source": [
    "**Mostrar elementos de una columna de un dataframe**"
   ]
  },
  {
   "cell_type": "code",
   "execution_count": 25,
   "id": "39a7bc7b",
   "metadata": {},
   "outputs": [
    {
     "data": {
      "text/plain": [
       "0    0.806307\n",
       "1    0.612642\n",
       "2    0.021568\n",
       "3    0.377288\n",
       "4    0.620106\n",
       "5    0.326490\n",
       "6    0.874847\n",
       "7    0.708121\n",
       "8    0.698537\n",
       "9    0.671134\n",
       "Name: col2, dtype: float64"
      ]
     },
     "execution_count": 25,
     "metadata": {},
     "output_type": "execute_result"
    }
   ],
   "source": [
    "df['col2']"
   ]
  },
  {
   "cell_type": "code",
   "execution_count": 26,
   "id": "5273480a",
   "metadata": {},
   "outputs": [
    {
     "data": {
      "text/plain": [
       "0    0.017441\n",
       "1    0.870953\n",
       "2    0.057300\n",
       "3    0.985083\n",
       "4    0.553616\n",
       "5    0.866687\n",
       "6    0.872097\n",
       "7    0.631678\n",
       "8    0.581242\n",
       "9    0.876522\n",
       "Name: col3, dtype: float64"
      ]
     },
     "execution_count": 26,
     "metadata": {},
     "output_type": "execute_result"
    }
   ],
   "source": [
    "df.col3"
   ]
  },
  {
   "cell_type": "markdown",
   "id": "e62e896e",
   "metadata": {},
   "source": [
    "**Renombrar columnas de un dataframe**"
   ]
  },
  {
   "cell_type": "markdown",
   "id": "be03d619",
   "metadata": {},
   "source": [
    "Para renombrar columnas de un dataframe usaremos el método rename de pandas que recibe como argumento un diccionario en el que la clave será el nombre de la columna antigua y el valor el nombre de la nueva columna"
   ]
  },
  {
   "cell_type": "code",
   "execution_count": 27,
   "id": "1ffee288",
   "metadata": {},
   "outputs": [],
   "source": [
    "df = df.rename(columns={'col2': 'columna_2'})"
   ]
  },
  {
   "cell_type": "code",
   "execution_count": 28,
   "id": "05cab0c8",
   "metadata": {},
   "outputs": [
    {
     "data": {
      "text/html": [
       "<div>\n",
       "<style scoped>\n",
       "    .dataframe tbody tr th:only-of-type {\n",
       "        vertical-align: middle;\n",
       "    }\n",
       "\n",
       "    .dataframe tbody tr th {\n",
       "        vertical-align: top;\n",
       "    }\n",
       "\n",
       "    .dataframe thead th {\n",
       "        text-align: right;\n",
       "    }\n",
       "</style>\n",
       "<table border=\"1\" class=\"dataframe\">\n",
       "  <thead>\n",
       "    <tr style=\"text-align: right;\">\n",
       "      <th></th>\n",
       "      <th>col1</th>\n",
       "      <th>columna_2</th>\n",
       "      <th>col3</th>\n",
       "      <th>col4</th>\n",
       "      <th>col5</th>\n",
       "    </tr>\n",
       "  </thead>\n",
       "  <tbody>\n",
       "    <tr>\n",
       "      <th>0</th>\n",
       "      <td>0.974966</td>\n",
       "      <td>0.806307</td>\n",
       "      <td>0.017441</td>\n",
       "      <td>0.928464</td>\n",
       "      <td>0.542873</td>\n",
       "    </tr>\n",
       "    <tr>\n",
       "      <th>1</th>\n",
       "      <td>0.195301</td>\n",
       "      <td>0.612642</td>\n",
       "      <td>0.870953</td>\n",
       "      <td>0.014020</td>\n",
       "      <td>0.425840</td>\n",
       "    </tr>\n",
       "    <tr>\n",
       "      <th>2</th>\n",
       "      <td>0.526836</td>\n",
       "      <td>0.021568</td>\n",
       "      <td>0.057300</td>\n",
       "      <td>0.266083</td>\n",
       "      <td>0.571912</td>\n",
       "    </tr>\n",
       "    <tr>\n",
       "      <th>3</th>\n",
       "      <td>0.095358</td>\n",
       "      <td>0.377288</td>\n",
       "      <td>0.985083</td>\n",
       "      <td>0.608043</td>\n",
       "      <td>0.940008</td>\n",
       "    </tr>\n",
       "    <tr>\n",
       "      <th>4</th>\n",
       "      <td>0.765662</td>\n",
       "      <td>0.620106</td>\n",
       "      <td>0.553616</td>\n",
       "      <td>0.309251</td>\n",
       "      <td>0.297931</td>\n",
       "    </tr>\n",
       "  </tbody>\n",
       "</table>\n",
       "</div>"
      ],
      "text/plain": [
       "       col1  columna_2      col3      col4      col5\n",
       "0  0.974966   0.806307  0.017441  0.928464  0.542873\n",
       "1  0.195301   0.612642  0.870953  0.014020  0.425840\n",
       "2  0.526836   0.021568  0.057300  0.266083  0.571912\n",
       "3  0.095358   0.377288  0.985083  0.608043  0.940008\n",
       "4  0.765662   0.620106  0.553616  0.309251  0.297931"
      ]
     },
     "execution_count": 28,
     "metadata": {},
     "output_type": "execute_result"
    }
   ],
   "source": [
    "df.head()"
   ]
  },
  {
   "cell_type": "markdown",
   "id": "d2241b33",
   "metadata": {},
   "source": [
    "Usando el parámetro inplace dentro del método rename estamos sobreescribiendo nuestro dataframe sin tener que igualarlo a una variable"
   ]
  },
  {
   "cell_type": "code",
   "execution_count": 29,
   "id": "e19d349c",
   "metadata": {},
   "outputs": [],
   "source": [
    "df.rename(columns={'col3': 'columna_3'}, inplace=True)"
   ]
  },
  {
   "cell_type": "code",
   "execution_count": 30,
   "id": "5360835a",
   "metadata": {},
   "outputs": [
    {
     "data": {
      "text/html": [
       "<div>\n",
       "<style scoped>\n",
       "    .dataframe tbody tr th:only-of-type {\n",
       "        vertical-align: middle;\n",
       "    }\n",
       "\n",
       "    .dataframe tbody tr th {\n",
       "        vertical-align: top;\n",
       "    }\n",
       "\n",
       "    .dataframe thead th {\n",
       "        text-align: right;\n",
       "    }\n",
       "</style>\n",
       "<table border=\"1\" class=\"dataframe\">\n",
       "  <thead>\n",
       "    <tr style=\"text-align: right;\">\n",
       "      <th></th>\n",
       "      <th>col1</th>\n",
       "      <th>columna_2</th>\n",
       "      <th>columna_3</th>\n",
       "      <th>col4</th>\n",
       "      <th>col5</th>\n",
       "    </tr>\n",
       "  </thead>\n",
       "  <tbody>\n",
       "    <tr>\n",
       "      <th>0</th>\n",
       "      <td>0.974966</td>\n",
       "      <td>0.806307</td>\n",
       "      <td>0.017441</td>\n",
       "      <td>0.928464</td>\n",
       "      <td>0.542873</td>\n",
       "    </tr>\n",
       "    <tr>\n",
       "      <th>1</th>\n",
       "      <td>0.195301</td>\n",
       "      <td>0.612642</td>\n",
       "      <td>0.870953</td>\n",
       "      <td>0.014020</td>\n",
       "      <td>0.425840</td>\n",
       "    </tr>\n",
       "    <tr>\n",
       "      <th>2</th>\n",
       "      <td>0.526836</td>\n",
       "      <td>0.021568</td>\n",
       "      <td>0.057300</td>\n",
       "      <td>0.266083</td>\n",
       "      <td>0.571912</td>\n",
       "    </tr>\n",
       "    <tr>\n",
       "      <th>3</th>\n",
       "      <td>0.095358</td>\n",
       "      <td>0.377288</td>\n",
       "      <td>0.985083</td>\n",
       "      <td>0.608043</td>\n",
       "      <td>0.940008</td>\n",
       "    </tr>\n",
       "    <tr>\n",
       "      <th>4</th>\n",
       "      <td>0.765662</td>\n",
       "      <td>0.620106</td>\n",
       "      <td>0.553616</td>\n",
       "      <td>0.309251</td>\n",
       "      <td>0.297931</td>\n",
       "    </tr>\n",
       "  </tbody>\n",
       "</table>\n",
       "</div>"
      ],
      "text/plain": [
       "       col1  columna_2  columna_3      col4      col5\n",
       "0  0.974966   0.806307   0.017441  0.928464  0.542873\n",
       "1  0.195301   0.612642   0.870953  0.014020  0.425840\n",
       "2  0.526836   0.021568   0.057300  0.266083  0.571912\n",
       "3  0.095358   0.377288   0.985083  0.608043  0.940008\n",
       "4  0.765662   0.620106   0.553616  0.309251  0.297931"
      ]
     },
     "execution_count": 30,
     "metadata": {},
     "output_type": "execute_result"
    }
   ],
   "source": [
    "df.head()"
   ]
  },
  {
   "cell_type": "code",
   "execution_count": 31,
   "id": "26b35580",
   "metadata": {},
   "outputs": [
    {
     "data": {
      "text/html": [
       "<div>\n",
       "<style scoped>\n",
       "    .dataframe tbody tr th:only-of-type {\n",
       "        vertical-align: middle;\n",
       "    }\n",
       "\n",
       "    .dataframe tbody tr th {\n",
       "        vertical-align: top;\n",
       "    }\n",
       "\n",
       "    .dataframe thead th {\n",
       "        text-align: right;\n",
       "    }\n",
       "</style>\n",
       "<table border=\"1\" class=\"dataframe\">\n",
       "  <thead>\n",
       "    <tr style=\"text-align: right;\">\n",
       "      <th></th>\n",
       "      <th>col1_a</th>\n",
       "      <th>col2_a</th>\n",
       "      <th>col3_a</th>\n",
       "      <th>col4_a</th>\n",
       "      <th>col5_a</th>\n",
       "    </tr>\n",
       "  </thead>\n",
       "  <tbody>\n",
       "    <tr>\n",
       "      <th>0</th>\n",
       "      <td>0.974966</td>\n",
       "      <td>0.806307</td>\n",
       "      <td>0.017441</td>\n",
       "      <td>0.928464</td>\n",
       "      <td>0.542873</td>\n",
       "    </tr>\n",
       "    <tr>\n",
       "      <th>1</th>\n",
       "      <td>0.195301</td>\n",
       "      <td>0.612642</td>\n",
       "      <td>0.870953</td>\n",
       "      <td>0.014020</td>\n",
       "      <td>0.425840</td>\n",
       "    </tr>\n",
       "    <tr>\n",
       "      <th>2</th>\n",
       "      <td>0.526836</td>\n",
       "      <td>0.021568</td>\n",
       "      <td>0.057300</td>\n",
       "      <td>0.266083</td>\n",
       "      <td>0.571912</td>\n",
       "    </tr>\n",
       "    <tr>\n",
       "      <th>3</th>\n",
       "      <td>0.095358</td>\n",
       "      <td>0.377288</td>\n",
       "      <td>0.985083</td>\n",
       "      <td>0.608043</td>\n",
       "      <td>0.940008</td>\n",
       "    </tr>\n",
       "    <tr>\n",
       "      <th>4</th>\n",
       "      <td>0.765662</td>\n",
       "      <td>0.620106</td>\n",
       "      <td>0.553616</td>\n",
       "      <td>0.309251</td>\n",
       "      <td>0.297931</td>\n",
       "    </tr>\n",
       "  </tbody>\n",
       "</table>\n",
       "</div>"
      ],
      "text/plain": [
       "     col1_a    col2_a    col3_a    col4_a    col5_a\n",
       "0  0.974966  0.806307  0.017441  0.928464  0.542873\n",
       "1  0.195301  0.612642  0.870953  0.014020  0.425840\n",
       "2  0.526836  0.021568  0.057300  0.266083  0.571912\n",
       "3  0.095358  0.377288  0.985083  0.608043  0.940008\n",
       "4  0.765662  0.620106  0.553616  0.309251  0.297931"
      ]
     },
     "execution_count": 31,
     "metadata": {},
     "output_type": "execute_result"
    }
   ],
   "source": [
    "new_cols = ['col1_a', 'col2_a', 'col3_a', 'col4_a', 'col5_a']\n",
    "\n",
    "df.columns = new_cols\n",
    "\n",
    "df.head()"
   ]
  },
  {
   "cell_type": "code",
   "execution_count": 32,
   "id": "233290aa",
   "metadata": {},
   "outputs": [
    {
     "data": {
      "text/plain": [
       "Index(['col1_a', 'col2_a', 'col3_a', 'col4_a', 'col5_a'], dtype='object')"
      ]
     },
     "execution_count": 32,
     "metadata": {},
     "output_type": "execute_result"
    }
   ],
   "source": [
    "df.columns"
   ]
  },
  {
   "cell_type": "markdown",
   "id": "8afd6dd3",
   "metadata": {},
   "source": [
    "**Selección de varias columnas**\n",
    "\n",
    "Para seleccionar varias columnas de un dataframe llamaremos a nuestro dataframe y usando [] le pasaremos una lista de las columnas que queremos seleccionar, se no generará un dataframe con esas columnas mostrándolas en el orden de la lista"
   ]
  },
  {
   "cell_type": "code",
   "execution_count": 33,
   "id": "03feee48",
   "metadata": {},
   "outputs": [],
   "source": [
    "df_filtrado = df[['col3_a', 'col1_a', 'col5_a']]"
   ]
  },
  {
   "cell_type": "code",
   "execution_count": 34,
   "id": "f5191606",
   "metadata": {},
   "outputs": [
    {
     "data": {
      "text/html": [
       "<div>\n",
       "<style scoped>\n",
       "    .dataframe tbody tr th:only-of-type {\n",
       "        vertical-align: middle;\n",
       "    }\n",
       "\n",
       "    .dataframe tbody tr th {\n",
       "        vertical-align: top;\n",
       "    }\n",
       "\n",
       "    .dataframe thead th {\n",
       "        text-align: right;\n",
       "    }\n",
       "</style>\n",
       "<table border=\"1\" class=\"dataframe\">\n",
       "  <thead>\n",
       "    <tr style=\"text-align: right;\">\n",
       "      <th></th>\n",
       "      <th>col3_a</th>\n",
       "      <th>col1_a</th>\n",
       "      <th>col5_a</th>\n",
       "    </tr>\n",
       "  </thead>\n",
       "  <tbody>\n",
       "    <tr>\n",
       "      <th>0</th>\n",
       "      <td>0.017441</td>\n",
       "      <td>0.974966</td>\n",
       "      <td>0.542873</td>\n",
       "    </tr>\n",
       "    <tr>\n",
       "      <th>1</th>\n",
       "      <td>0.870953</td>\n",
       "      <td>0.195301</td>\n",
       "      <td>0.425840</td>\n",
       "    </tr>\n",
       "    <tr>\n",
       "      <th>2</th>\n",
       "      <td>0.057300</td>\n",
       "      <td>0.526836</td>\n",
       "      <td>0.571912</td>\n",
       "    </tr>\n",
       "    <tr>\n",
       "      <th>3</th>\n",
       "      <td>0.985083</td>\n",
       "      <td>0.095358</td>\n",
       "      <td>0.940008</td>\n",
       "    </tr>\n",
       "    <tr>\n",
       "      <th>4</th>\n",
       "      <td>0.553616</td>\n",
       "      <td>0.765662</td>\n",
       "      <td>0.297931</td>\n",
       "    </tr>\n",
       "    <tr>\n",
       "      <th>5</th>\n",
       "      <td>0.866687</td>\n",
       "      <td>0.413465</td>\n",
       "      <td>0.316611</td>\n",
       "    </tr>\n",
       "    <tr>\n",
       "      <th>6</th>\n",
       "      <td>0.872097</td>\n",
       "      <td>0.297182</td>\n",
       "      <td>0.449071</td>\n",
       "    </tr>\n",
       "    <tr>\n",
       "      <th>7</th>\n",
       "      <td>0.631678</td>\n",
       "      <td>0.490107</td>\n",
       "      <td>0.323453</td>\n",
       "    </tr>\n",
       "    <tr>\n",
       "      <th>8</th>\n",
       "      <td>0.581242</td>\n",
       "      <td>0.464373</td>\n",
       "      <td>0.259039</td>\n",
       "    </tr>\n",
       "    <tr>\n",
       "      <th>9</th>\n",
       "      <td>0.876522</td>\n",
       "      <td>0.175121</td>\n",
       "      <td>0.257650</td>\n",
       "    </tr>\n",
       "  </tbody>\n",
       "</table>\n",
       "</div>"
      ],
      "text/plain": [
       "     col3_a    col1_a    col5_a\n",
       "0  0.017441  0.974966  0.542873\n",
       "1  0.870953  0.195301  0.425840\n",
       "2  0.057300  0.526836  0.571912\n",
       "3  0.985083  0.095358  0.940008\n",
       "4  0.553616  0.765662  0.297931\n",
       "5  0.866687  0.413465  0.316611\n",
       "6  0.872097  0.297182  0.449071\n",
       "7  0.631678  0.490107  0.323453\n",
       "8  0.581242  0.464373  0.259039\n",
       "9  0.876522  0.175121  0.257650"
      ]
     },
     "execution_count": 34,
     "metadata": {},
     "output_type": "execute_result"
    }
   ],
   "source": [
    "df_filtrado"
   ]
  },
  {
   "cell_type": "markdown",
   "id": "f69ca3c6",
   "metadata": {},
   "source": [
    "**Añadir una columna nueva**"
   ]
  },
  {
   "cell_type": "code",
   "execution_count": 35,
   "id": "8fb18a3a",
   "metadata": {},
   "outputs": [],
   "source": [
    "df['nueva_columna'] = 0 # añadimos una columna llena de ceros"
   ]
  },
  {
   "cell_type": "code",
   "execution_count": 36,
   "id": "06f625f5",
   "metadata": {},
   "outputs": [
    {
     "data": {
      "text/html": [
       "<div>\n",
       "<style scoped>\n",
       "    .dataframe tbody tr th:only-of-type {\n",
       "        vertical-align: middle;\n",
       "    }\n",
       "\n",
       "    .dataframe tbody tr th {\n",
       "        vertical-align: top;\n",
       "    }\n",
       "\n",
       "    .dataframe thead th {\n",
       "        text-align: right;\n",
       "    }\n",
       "</style>\n",
       "<table border=\"1\" class=\"dataframe\">\n",
       "  <thead>\n",
       "    <tr style=\"text-align: right;\">\n",
       "      <th></th>\n",
       "      <th>col1_a</th>\n",
       "      <th>col2_a</th>\n",
       "      <th>col3_a</th>\n",
       "      <th>col4_a</th>\n",
       "      <th>col5_a</th>\n",
       "      <th>nueva_columna</th>\n",
       "    </tr>\n",
       "  </thead>\n",
       "  <tbody>\n",
       "    <tr>\n",
       "      <th>0</th>\n",
       "      <td>0.974966</td>\n",
       "      <td>0.806307</td>\n",
       "      <td>0.017441</td>\n",
       "      <td>0.928464</td>\n",
       "      <td>0.542873</td>\n",
       "      <td>0</td>\n",
       "    </tr>\n",
       "    <tr>\n",
       "      <th>1</th>\n",
       "      <td>0.195301</td>\n",
       "      <td>0.612642</td>\n",
       "      <td>0.870953</td>\n",
       "      <td>0.014020</td>\n",
       "      <td>0.425840</td>\n",
       "      <td>0</td>\n",
       "    </tr>\n",
       "    <tr>\n",
       "      <th>2</th>\n",
       "      <td>0.526836</td>\n",
       "      <td>0.021568</td>\n",
       "      <td>0.057300</td>\n",
       "      <td>0.266083</td>\n",
       "      <td>0.571912</td>\n",
       "      <td>0</td>\n",
       "    </tr>\n",
       "    <tr>\n",
       "      <th>3</th>\n",
       "      <td>0.095358</td>\n",
       "      <td>0.377288</td>\n",
       "      <td>0.985083</td>\n",
       "      <td>0.608043</td>\n",
       "      <td>0.940008</td>\n",
       "      <td>0</td>\n",
       "    </tr>\n",
       "    <tr>\n",
       "      <th>4</th>\n",
       "      <td>0.765662</td>\n",
       "      <td>0.620106</td>\n",
       "      <td>0.553616</td>\n",
       "      <td>0.309251</td>\n",
       "      <td>0.297931</td>\n",
       "      <td>0</td>\n",
       "    </tr>\n",
       "  </tbody>\n",
       "</table>\n",
       "</div>"
      ],
      "text/plain": [
       "     col1_a    col2_a    col3_a    col4_a    col5_a  nueva_columna\n",
       "0  0.974966  0.806307  0.017441  0.928464  0.542873              0\n",
       "1  0.195301  0.612642  0.870953  0.014020  0.425840              0\n",
       "2  0.526836  0.021568  0.057300  0.266083  0.571912              0\n",
       "3  0.095358  0.377288  0.985083  0.608043  0.940008              0\n",
       "4  0.765662  0.620106  0.553616  0.309251  0.297931              0"
      ]
     },
     "execution_count": 36,
     "metadata": {},
     "output_type": "execute_result"
    }
   ],
   "source": [
    "df.head()"
   ]
  },
  {
   "cell_type": "code",
   "execution_count": 37,
   "id": "75c16463",
   "metadata": {},
   "outputs": [
    {
     "data": {
      "text/plain": [
       "[None, 1, None, 3, None, 5, None, 7, None, 9]"
      ]
     },
     "execution_count": 37,
     "metadata": {},
     "output_type": "execute_result"
    }
   ],
   "source": [
    "[i if i%2 else None for i in range(len(df))]"
   ]
  },
  {
   "cell_type": "code",
   "execution_count": null,
   "id": "27821535",
   "metadata": {},
   "outputs": [],
   "source": [
    "lst= []\n",
    "for i in range(len(df)):\n",
    "    if i%2:\n",
    "        lst.append(i)\n",
    "    else:\n",
    "        lst.append(None)\n",
    "lst"
   ]
  },
  {
   "cell_type": "code",
   "execution_count": 38,
   "id": "8fc2ee1e",
   "metadata": {},
   "outputs": [],
   "source": [
    "df['col_con_nulos'] = [i if i%2 else None for i in range(len(df))] # añadimos una columna con valores nulos"
   ]
  },
  {
   "cell_type": "code",
   "execution_count": 39,
   "id": "f7ab6632",
   "metadata": {},
   "outputs": [
    {
     "data": {
      "text/html": [
       "<div>\n",
       "<style scoped>\n",
       "    .dataframe tbody tr th:only-of-type {\n",
       "        vertical-align: middle;\n",
       "    }\n",
       "\n",
       "    .dataframe tbody tr th {\n",
       "        vertical-align: top;\n",
       "    }\n",
       "\n",
       "    .dataframe thead th {\n",
       "        text-align: right;\n",
       "    }\n",
       "</style>\n",
       "<table border=\"1\" class=\"dataframe\">\n",
       "  <thead>\n",
       "    <tr style=\"text-align: right;\">\n",
       "      <th></th>\n",
       "      <th>col1_a</th>\n",
       "      <th>col2_a</th>\n",
       "      <th>col3_a</th>\n",
       "      <th>col4_a</th>\n",
       "      <th>col5_a</th>\n",
       "      <th>nueva_columna</th>\n",
       "      <th>col_con_nulos</th>\n",
       "    </tr>\n",
       "  </thead>\n",
       "  <tbody>\n",
       "    <tr>\n",
       "      <th>0</th>\n",
       "      <td>0.974966</td>\n",
       "      <td>0.806307</td>\n",
       "      <td>0.017441</td>\n",
       "      <td>0.928464</td>\n",
       "      <td>0.542873</td>\n",
       "      <td>0</td>\n",
       "      <td>NaN</td>\n",
       "    </tr>\n",
       "    <tr>\n",
       "      <th>1</th>\n",
       "      <td>0.195301</td>\n",
       "      <td>0.612642</td>\n",
       "      <td>0.870953</td>\n",
       "      <td>0.014020</td>\n",
       "      <td>0.425840</td>\n",
       "      <td>0</td>\n",
       "      <td>1.0</td>\n",
       "    </tr>\n",
       "    <tr>\n",
       "      <th>2</th>\n",
       "      <td>0.526836</td>\n",
       "      <td>0.021568</td>\n",
       "      <td>0.057300</td>\n",
       "      <td>0.266083</td>\n",
       "      <td>0.571912</td>\n",
       "      <td>0</td>\n",
       "      <td>NaN</td>\n",
       "    </tr>\n",
       "    <tr>\n",
       "      <th>3</th>\n",
       "      <td>0.095358</td>\n",
       "      <td>0.377288</td>\n",
       "      <td>0.985083</td>\n",
       "      <td>0.608043</td>\n",
       "      <td>0.940008</td>\n",
       "      <td>0</td>\n",
       "      <td>3.0</td>\n",
       "    </tr>\n",
       "    <tr>\n",
       "      <th>4</th>\n",
       "      <td>0.765662</td>\n",
       "      <td>0.620106</td>\n",
       "      <td>0.553616</td>\n",
       "      <td>0.309251</td>\n",
       "      <td>0.297931</td>\n",
       "      <td>0</td>\n",
       "      <td>NaN</td>\n",
       "    </tr>\n",
       "    <tr>\n",
       "      <th>5</th>\n",
       "      <td>0.413465</td>\n",
       "      <td>0.326490</td>\n",
       "      <td>0.866687</td>\n",
       "      <td>0.059812</td>\n",
       "      <td>0.316611</td>\n",
       "      <td>0</td>\n",
       "      <td>5.0</td>\n",
       "    </tr>\n",
       "    <tr>\n",
       "      <th>6</th>\n",
       "      <td>0.297182</td>\n",
       "      <td>0.874847</td>\n",
       "      <td>0.872097</td>\n",
       "      <td>0.080648</td>\n",
       "      <td>0.449071</td>\n",
       "      <td>0</td>\n",
       "      <td>NaN</td>\n",
       "    </tr>\n",
       "    <tr>\n",
       "      <th>7</th>\n",
       "      <td>0.490107</td>\n",
       "      <td>0.708121</td>\n",
       "      <td>0.631678</td>\n",
       "      <td>0.981861</td>\n",
       "      <td>0.323453</td>\n",
       "      <td>0</td>\n",
       "      <td>7.0</td>\n",
       "    </tr>\n",
       "    <tr>\n",
       "      <th>8</th>\n",
       "      <td>0.464373</td>\n",
       "      <td>0.698537</td>\n",
       "      <td>0.581242</td>\n",
       "      <td>0.672338</td>\n",
       "      <td>0.259039</td>\n",
       "      <td>0</td>\n",
       "      <td>NaN</td>\n",
       "    </tr>\n",
       "    <tr>\n",
       "      <th>9</th>\n",
       "      <td>0.175121</td>\n",
       "      <td>0.671134</td>\n",
       "      <td>0.876522</td>\n",
       "      <td>0.713822</td>\n",
       "      <td>0.257650</td>\n",
       "      <td>0</td>\n",
       "      <td>9.0</td>\n",
       "    </tr>\n",
       "  </tbody>\n",
       "</table>\n",
       "</div>"
      ],
      "text/plain": [
       "     col1_a    col2_a    col3_a    col4_a    col5_a  nueva_columna  \\\n",
       "0  0.974966  0.806307  0.017441  0.928464  0.542873              0   \n",
       "1  0.195301  0.612642  0.870953  0.014020  0.425840              0   \n",
       "2  0.526836  0.021568  0.057300  0.266083  0.571912              0   \n",
       "3  0.095358  0.377288  0.985083  0.608043  0.940008              0   \n",
       "4  0.765662  0.620106  0.553616  0.309251  0.297931              0   \n",
       "5  0.413465  0.326490  0.866687  0.059812  0.316611              0   \n",
       "6  0.297182  0.874847  0.872097  0.080648  0.449071              0   \n",
       "7  0.490107  0.708121  0.631678  0.981861  0.323453              0   \n",
       "8  0.464373  0.698537  0.581242  0.672338  0.259039              0   \n",
       "9  0.175121  0.671134  0.876522  0.713822  0.257650              0   \n",
       "\n",
       "   col_con_nulos  \n",
       "0            NaN  \n",
       "1            1.0  \n",
       "2            NaN  \n",
       "3            3.0  \n",
       "4            NaN  \n",
       "5            5.0  \n",
       "6            NaN  \n",
       "7            7.0  \n",
       "8            NaN  \n",
       "9            9.0  "
      ]
     },
     "execution_count": 39,
     "metadata": {},
     "output_type": "execute_result"
    }
   ],
   "source": [
    "df"
   ]
  },
  {
   "cell_type": "code",
   "execution_count": 40,
   "id": "4643b76b",
   "metadata": {},
   "outputs": [
    {
     "data": {
      "text/plain": [
       "nan"
      ]
     },
     "execution_count": 40,
     "metadata": {},
     "output_type": "execute_result"
    }
   ],
   "source": [
    "df.col_con_nulos[0]"
   ]
  },
  {
   "cell_type": "code",
   "execution_count": 41,
   "id": "d5614acd",
   "metadata": {},
   "outputs": [
    {
     "data": {
      "text/plain": [
       "numpy.float64"
      ]
     },
     "execution_count": 41,
     "metadata": {},
     "output_type": "execute_result"
    }
   ],
   "source": [
    "type(df.col_con_nulos[0])"
   ]
  },
  {
   "cell_type": "markdown",
   "id": "2c0a3f86",
   "metadata": {},
   "source": [
    "**Mostrar la info de nuestro dataframe**"
   ]
  },
  {
   "cell_type": "code",
   "execution_count": 43,
   "id": "29785f63",
   "metadata": {},
   "outputs": [
    {
     "name": "stdout",
     "output_type": "stream",
     "text": [
      "<class 'pandas.core.frame.DataFrame'>\n",
      "RangeIndex: 10 entries, 0 to 9\n",
      "Data columns (total 7 columns):\n",
      " #   Column         Non-Null Count  Dtype  \n",
      "---  ------         --------------  -----  \n",
      " 0   col1_a         10 non-null     float64\n",
      " 1   col2_a         10 non-null     float64\n",
      " 2   col3_a         10 non-null     float64\n",
      " 3   col4_a         10 non-null     float64\n",
      " 4   col5_a         10 non-null     float64\n",
      " 5   nueva_columna  10 non-null     int64  \n",
      " 6   col_con_nulos  5 non-null      float64\n",
      "dtypes: float64(6), int64(1)\n",
      "memory usage: 688.0 bytes\n"
     ]
    }
   ],
   "source": [
    "df.info()"
   ]
  },
  {
   "cell_type": "markdown",
   "id": "22eae6f3",
   "metadata": {},
   "source": [
    "**Generar un dataframe vacio**"
   ]
  },
  {
   "cell_type": "code",
   "execution_count": 44,
   "id": "51169fb6",
   "metadata": {},
   "outputs": [],
   "source": [
    "empty_df = pd.DataFrame()"
   ]
  },
  {
   "cell_type": "code",
   "execution_count": 45,
   "id": "9b9df45b",
   "metadata": {},
   "outputs": [
    {
     "data": {
      "text/html": [
       "<div>\n",
       "<style scoped>\n",
       "    .dataframe tbody tr th:only-of-type {\n",
       "        vertical-align: middle;\n",
       "    }\n",
       "\n",
       "    .dataframe tbody tr th {\n",
       "        vertical-align: top;\n",
       "    }\n",
       "\n",
       "    .dataframe thead th {\n",
       "        text-align: right;\n",
       "    }\n",
       "</style>\n",
       "<table border=\"1\" class=\"dataframe\">\n",
       "  <thead>\n",
       "    <tr style=\"text-align: right;\">\n",
       "      <th></th>\n",
       "    </tr>\n",
       "  </thead>\n",
       "  <tbody>\n",
       "  </tbody>\n",
       "</table>\n",
       "</div>"
      ],
      "text/plain": [
       "Empty DataFrame\n",
       "Columns: []\n",
       "Index: []"
      ]
     },
     "execution_count": 45,
     "metadata": {},
     "output_type": "execute_result"
    }
   ],
   "source": [
    "empty_df"
   ]
  },
  {
   "cell_type": "markdown",
   "id": "0aed8b10",
   "metadata": {},
   "source": [
    "**Generar un dataframe a partir de una lista de listas**"
   ]
  },
  {
   "cell_type": "code",
   "execution_count": 46,
   "id": "060b0f85",
   "metadata": {},
   "outputs": [
    {
     "data": {
      "text/html": [
       "<div>\n",
       "<style scoped>\n",
       "    .dataframe tbody tr th:only-of-type {\n",
       "        vertical-align: middle;\n",
       "    }\n",
       "\n",
       "    .dataframe tbody tr th {\n",
       "        vertical-align: top;\n",
       "    }\n",
       "\n",
       "    .dataframe thead th {\n",
       "        text-align: right;\n",
       "    }\n",
       "</style>\n",
       "<table border=\"1\" class=\"dataframe\">\n",
       "  <thead>\n",
       "    <tr style=\"text-align: right;\">\n",
       "      <th></th>\n",
       "      <th>num</th>\n",
       "      <th>str</th>\n",
       "      <th>otro_num</th>\n",
       "    </tr>\n",
       "  </thead>\n",
       "  <tbody>\n",
       "    <tr>\n",
       "      <th>0</th>\n",
       "      <td>655643</td>\n",
       "      <td>buenas</td>\n",
       "      <td>35432.0</td>\n",
       "    </tr>\n",
       "    <tr>\n",
       "      <th>1</th>\n",
       "      <td>354</td>\n",
       "      <td>como andas</td>\n",
       "      <td>899.0</td>\n",
       "    </tr>\n",
       "    <tr>\n",
       "      <th>2</th>\n",
       "      <td>3543</td>\n",
       "      <td>ooi</td>\n",
       "      <td>NaN</td>\n",
       "    </tr>\n",
       "  </tbody>\n",
       "</table>\n",
       "</div>"
      ],
      "text/plain": [
       "      num         str  otro_num\n",
       "0  655643      buenas   35432.0\n",
       "1     354  como andas     899.0\n",
       "2    3543         ooi       NaN"
      ]
     },
     "execution_count": 46,
     "metadata": {},
     "output_type": "execute_result"
    }
   ],
   "source": [
    "lst_lst = [[655643, 'buenas', 35432],\n",
    "          [354, 'como andas', 899],\n",
    "          [3543, 'ooi']]\n",
    "\n",
    "columnas = ['num', 'str', 'otro_num']\n",
    "\n",
    "df_lst = pd.DataFrame(lst_lst, columns=columnas)\n",
    "\n",
    "df_lst"
   ]
  },
  {
   "cell_type": "markdown",
   "id": "ff3604a8",
   "metadata": {},
   "source": [
    "**Generar un dataframe a partir de un diccionario**"
   ]
  },
  {
   "cell_type": "code",
   "execution_count": 47,
   "id": "26d6139b",
   "metadata": {},
   "outputs": [
    {
     "data": {
      "text/html": [
       "<div>\n",
       "<style scoped>\n",
       "    .dataframe tbody tr th:only-of-type {\n",
       "        vertical-align: middle;\n",
       "    }\n",
       "\n",
       "    .dataframe tbody tr th {\n",
       "        vertical-align: top;\n",
       "    }\n",
       "\n",
       "    .dataframe thead th {\n",
       "        text-align: right;\n",
       "    }\n",
       "</style>\n",
       "<table border=\"1\" class=\"dataframe\">\n",
       "  <thead>\n",
       "    <tr style=\"text-align: right;\">\n",
       "      <th></th>\n",
       "      <th>casa</th>\n",
       "      <th>oficina</th>\n",
       "      <th>numero</th>\n",
       "    </tr>\n",
       "  </thead>\n",
       "  <tbody>\n",
       "    <tr>\n",
       "      <th>0</th>\n",
       "      <td>655643</td>\n",
       "      <td>354</td>\n",
       "      <td>3543</td>\n",
       "    </tr>\n",
       "    <tr>\n",
       "      <th>1</th>\n",
       "      <td>buenas</td>\n",
       "      <td>como andas</td>\n",
       "      <td>ooi</td>\n",
       "    </tr>\n",
       "    <tr>\n",
       "      <th>2</th>\n",
       "      <td>35432</td>\n",
       "      <td>899</td>\n",
       "      <td>0</td>\n",
       "    </tr>\n",
       "  </tbody>\n",
       "</table>\n",
       "</div>"
      ],
      "text/plain": [
       "     casa     oficina numero\n",
       "0  655643         354   3543\n",
       "1  buenas  como andas    ooi\n",
       "2   35432         899      0"
      ]
     },
     "execution_count": 47,
     "metadata": {},
     "output_type": "execute_result"
    }
   ],
   "source": [
    "dictio = {'casa':lst_lst[0],\n",
    "         'oficina': lst_lst[1],\n",
    "         'numero': lst_lst[2]+[0]}\n",
    "\n",
    "df_dictio = pd.DataFrame(dictio)\n",
    "\n",
    "df_dictio"
   ]
  },
  {
   "cell_type": "code",
   "execution_count": 52,
   "id": "a8acd867",
   "metadata": {},
   "outputs": [
    {
     "data": {
      "text/html": [
       "<div>\n",
       "<style scoped>\n",
       "    .dataframe tbody tr th:only-of-type {\n",
       "        vertical-align: middle;\n",
       "    }\n",
       "\n",
       "    .dataframe tbody tr th {\n",
       "        vertical-align: top;\n",
       "    }\n",
       "\n",
       "    .dataframe thead th {\n",
       "        text-align: right;\n",
       "    }\n",
       "</style>\n",
       "<table border=\"1\" class=\"dataframe\">\n",
       "  <thead>\n",
       "    <tr style=\"text-align: right;\">\n",
       "      <th></th>\n",
       "      <th>oficina</th>\n",
       "      <th>numero</th>\n",
       "    </tr>\n",
       "    <tr>\n",
       "      <th>casa</th>\n",
       "      <th></th>\n",
       "      <th></th>\n",
       "    </tr>\n",
       "  </thead>\n",
       "  <tbody>\n",
       "    <tr>\n",
       "      <th>655643</th>\n",
       "      <td>354</td>\n",
       "      <td>3543</td>\n",
       "    </tr>\n",
       "    <tr>\n",
       "      <th>buenas</th>\n",
       "      <td>como andas</td>\n",
       "      <td>ooi</td>\n",
       "    </tr>\n",
       "    <tr>\n",
       "      <th>35432</th>\n",
       "      <td>899</td>\n",
       "      <td>0</td>\n",
       "    </tr>\n",
       "  </tbody>\n",
       "</table>\n",
       "</div>"
      ],
      "text/plain": [
       "           oficina numero\n",
       "casa                     \n",
       "655643         354   3543\n",
       "buenas  como andas    ooi\n",
       "35432          899      0"
      ]
     },
     "execution_count": 52,
     "metadata": {},
     "output_type": "execute_result"
    }
   ],
   "source": [
    "df_dictio.set_index('casa')"
   ]
  },
  {
   "cell_type": "markdown",
   "id": "941ac06e",
   "metadata": {},
   "source": [
    "### Operaciones con Dataframes"
   ]
  },
  {
   "cell_type": "markdown",
   "id": "8fa2c011",
   "metadata": {},
   "source": [
    "**Transponer**"
   ]
  },
  {
   "cell_type": "code",
   "execution_count": 53,
   "id": "6416a3cc",
   "metadata": {},
   "outputs": [
    {
     "data": {
      "text/html": [
       "<div>\n",
       "<style scoped>\n",
       "    .dataframe tbody tr th:only-of-type {\n",
       "        vertical-align: middle;\n",
       "    }\n",
       "\n",
       "    .dataframe tbody tr th {\n",
       "        vertical-align: top;\n",
       "    }\n",
       "\n",
       "    .dataframe thead th {\n",
       "        text-align: right;\n",
       "    }\n",
       "</style>\n",
       "<table border=\"1\" class=\"dataframe\">\n",
       "  <thead>\n",
       "    <tr style=\"text-align: right;\">\n",
       "      <th></th>\n",
       "      <th>0</th>\n",
       "      <th>1</th>\n",
       "      <th>2</th>\n",
       "      <th>3</th>\n",
       "      <th>4</th>\n",
       "      <th>5</th>\n",
       "      <th>6</th>\n",
       "      <th>7</th>\n",
       "      <th>8</th>\n",
       "      <th>9</th>\n",
       "    </tr>\n",
       "  </thead>\n",
       "  <tbody>\n",
       "    <tr>\n",
       "      <th>col1_a</th>\n",
       "      <td>0.974966</td>\n",
       "      <td>0.195301</td>\n",
       "      <td>0.526836</td>\n",
       "      <td>0.095358</td>\n",
       "      <td>0.765662</td>\n",
       "      <td>0.413465</td>\n",
       "      <td>0.297182</td>\n",
       "      <td>0.490107</td>\n",
       "      <td>0.464373</td>\n",
       "      <td>0.175121</td>\n",
       "    </tr>\n",
       "    <tr>\n",
       "      <th>col2_a</th>\n",
       "      <td>0.806307</td>\n",
       "      <td>0.612642</td>\n",
       "      <td>0.021568</td>\n",
       "      <td>0.377288</td>\n",
       "      <td>0.620106</td>\n",
       "      <td>0.326490</td>\n",
       "      <td>0.874847</td>\n",
       "      <td>0.708121</td>\n",
       "      <td>0.698537</td>\n",
       "      <td>0.671134</td>\n",
       "    </tr>\n",
       "    <tr>\n",
       "      <th>col3_a</th>\n",
       "      <td>0.017441</td>\n",
       "      <td>0.870953</td>\n",
       "      <td>0.057300</td>\n",
       "      <td>0.985083</td>\n",
       "      <td>0.553616</td>\n",
       "      <td>0.866687</td>\n",
       "      <td>0.872097</td>\n",
       "      <td>0.631678</td>\n",
       "      <td>0.581242</td>\n",
       "      <td>0.876522</td>\n",
       "    </tr>\n",
       "    <tr>\n",
       "      <th>col4_a</th>\n",
       "      <td>0.928464</td>\n",
       "      <td>0.014020</td>\n",
       "      <td>0.266083</td>\n",
       "      <td>0.608043</td>\n",
       "      <td>0.309251</td>\n",
       "      <td>0.059812</td>\n",
       "      <td>0.080648</td>\n",
       "      <td>0.981861</td>\n",
       "      <td>0.672338</td>\n",
       "      <td>0.713822</td>\n",
       "    </tr>\n",
       "    <tr>\n",
       "      <th>col5_a</th>\n",
       "      <td>0.542873</td>\n",
       "      <td>0.425840</td>\n",
       "      <td>0.571912</td>\n",
       "      <td>0.940008</td>\n",
       "      <td>0.297931</td>\n",
       "      <td>0.316611</td>\n",
       "      <td>0.449071</td>\n",
       "      <td>0.323453</td>\n",
       "      <td>0.259039</td>\n",
       "      <td>0.257650</td>\n",
       "    </tr>\n",
       "    <tr>\n",
       "      <th>nueva_columna</th>\n",
       "      <td>0.000000</td>\n",
       "      <td>0.000000</td>\n",
       "      <td>0.000000</td>\n",
       "      <td>0.000000</td>\n",
       "      <td>0.000000</td>\n",
       "      <td>0.000000</td>\n",
       "      <td>0.000000</td>\n",
       "      <td>0.000000</td>\n",
       "      <td>0.000000</td>\n",
       "      <td>0.000000</td>\n",
       "    </tr>\n",
       "    <tr>\n",
       "      <th>col_con_nulos</th>\n",
       "      <td>NaN</td>\n",
       "      <td>1.000000</td>\n",
       "      <td>NaN</td>\n",
       "      <td>3.000000</td>\n",
       "      <td>NaN</td>\n",
       "      <td>5.000000</td>\n",
       "      <td>NaN</td>\n",
       "      <td>7.000000</td>\n",
       "      <td>NaN</td>\n",
       "      <td>9.000000</td>\n",
       "    </tr>\n",
       "  </tbody>\n",
       "</table>\n",
       "</div>"
      ],
      "text/plain": [
       "                      0         1         2         3         4         5  \\\n",
       "col1_a         0.974966  0.195301  0.526836  0.095358  0.765662  0.413465   \n",
       "col2_a         0.806307  0.612642  0.021568  0.377288  0.620106  0.326490   \n",
       "col3_a         0.017441  0.870953  0.057300  0.985083  0.553616  0.866687   \n",
       "col4_a         0.928464  0.014020  0.266083  0.608043  0.309251  0.059812   \n",
       "col5_a         0.542873  0.425840  0.571912  0.940008  0.297931  0.316611   \n",
       "nueva_columna  0.000000  0.000000  0.000000  0.000000  0.000000  0.000000   \n",
       "col_con_nulos       NaN  1.000000       NaN  3.000000       NaN  5.000000   \n",
       "\n",
       "                      6         7         8         9  \n",
       "col1_a         0.297182  0.490107  0.464373  0.175121  \n",
       "col2_a         0.874847  0.708121  0.698537  0.671134  \n",
       "col3_a         0.872097  0.631678  0.581242  0.876522  \n",
       "col4_a         0.080648  0.981861  0.672338  0.713822  \n",
       "col5_a         0.449071  0.323453  0.259039  0.257650  \n",
       "nueva_columna  0.000000  0.000000  0.000000  0.000000  \n",
       "col_con_nulos       NaN  7.000000       NaN  9.000000  "
      ]
     },
     "execution_count": 53,
     "metadata": {},
     "output_type": "execute_result"
    }
   ],
   "source": [
    "df.transpose()"
   ]
  },
  {
   "cell_type": "code",
   "execution_count": 54,
   "id": "5de8676b",
   "metadata": {},
   "outputs": [
    {
     "data": {
      "text/html": [
       "<div>\n",
       "<style scoped>\n",
       "    .dataframe tbody tr th:only-of-type {\n",
       "        vertical-align: middle;\n",
       "    }\n",
       "\n",
       "    .dataframe tbody tr th {\n",
       "        vertical-align: top;\n",
       "    }\n",
       "\n",
       "    .dataframe thead th {\n",
       "        text-align: right;\n",
       "    }\n",
       "</style>\n",
       "<table border=\"1\" class=\"dataframe\">\n",
       "  <thead>\n",
       "    <tr style=\"text-align: right;\">\n",
       "      <th></th>\n",
       "      <th>0</th>\n",
       "      <th>1</th>\n",
       "      <th>2</th>\n",
       "      <th>3</th>\n",
       "      <th>4</th>\n",
       "      <th>5</th>\n",
       "      <th>6</th>\n",
       "      <th>7</th>\n",
       "      <th>8</th>\n",
       "      <th>9</th>\n",
       "    </tr>\n",
       "  </thead>\n",
       "  <tbody>\n",
       "    <tr>\n",
       "      <th>col1_a</th>\n",
       "      <td>0.974966</td>\n",
       "      <td>0.195301</td>\n",
       "      <td>0.526836</td>\n",
       "      <td>0.095358</td>\n",
       "      <td>0.765662</td>\n",
       "      <td>0.413465</td>\n",
       "      <td>0.297182</td>\n",
       "      <td>0.490107</td>\n",
       "      <td>0.464373</td>\n",
       "      <td>0.175121</td>\n",
       "    </tr>\n",
       "    <tr>\n",
       "      <th>col2_a</th>\n",
       "      <td>0.806307</td>\n",
       "      <td>0.612642</td>\n",
       "      <td>0.021568</td>\n",
       "      <td>0.377288</td>\n",
       "      <td>0.620106</td>\n",
       "      <td>0.326490</td>\n",
       "      <td>0.874847</td>\n",
       "      <td>0.708121</td>\n",
       "      <td>0.698537</td>\n",
       "      <td>0.671134</td>\n",
       "    </tr>\n",
       "    <tr>\n",
       "      <th>col3_a</th>\n",
       "      <td>0.017441</td>\n",
       "      <td>0.870953</td>\n",
       "      <td>0.057300</td>\n",
       "      <td>0.985083</td>\n",
       "      <td>0.553616</td>\n",
       "      <td>0.866687</td>\n",
       "      <td>0.872097</td>\n",
       "      <td>0.631678</td>\n",
       "      <td>0.581242</td>\n",
       "      <td>0.876522</td>\n",
       "    </tr>\n",
       "    <tr>\n",
       "      <th>col4_a</th>\n",
       "      <td>0.928464</td>\n",
       "      <td>0.014020</td>\n",
       "      <td>0.266083</td>\n",
       "      <td>0.608043</td>\n",
       "      <td>0.309251</td>\n",
       "      <td>0.059812</td>\n",
       "      <td>0.080648</td>\n",
       "      <td>0.981861</td>\n",
       "      <td>0.672338</td>\n",
       "      <td>0.713822</td>\n",
       "    </tr>\n",
       "    <tr>\n",
       "      <th>col5_a</th>\n",
       "      <td>0.542873</td>\n",
       "      <td>0.425840</td>\n",
       "      <td>0.571912</td>\n",
       "      <td>0.940008</td>\n",
       "      <td>0.297931</td>\n",
       "      <td>0.316611</td>\n",
       "      <td>0.449071</td>\n",
       "      <td>0.323453</td>\n",
       "      <td>0.259039</td>\n",
       "      <td>0.257650</td>\n",
       "    </tr>\n",
       "    <tr>\n",
       "      <th>nueva_columna</th>\n",
       "      <td>0.000000</td>\n",
       "      <td>0.000000</td>\n",
       "      <td>0.000000</td>\n",
       "      <td>0.000000</td>\n",
       "      <td>0.000000</td>\n",
       "      <td>0.000000</td>\n",
       "      <td>0.000000</td>\n",
       "      <td>0.000000</td>\n",
       "      <td>0.000000</td>\n",
       "      <td>0.000000</td>\n",
       "    </tr>\n",
       "    <tr>\n",
       "      <th>col_con_nulos</th>\n",
       "      <td>NaN</td>\n",
       "      <td>1.000000</td>\n",
       "      <td>NaN</td>\n",
       "      <td>3.000000</td>\n",
       "      <td>NaN</td>\n",
       "      <td>5.000000</td>\n",
       "      <td>NaN</td>\n",
       "      <td>7.000000</td>\n",
       "      <td>NaN</td>\n",
       "      <td>9.000000</td>\n",
       "    </tr>\n",
       "  </tbody>\n",
       "</table>\n",
       "</div>"
      ],
      "text/plain": [
       "                      0         1         2         3         4         5  \\\n",
       "col1_a         0.974966  0.195301  0.526836  0.095358  0.765662  0.413465   \n",
       "col2_a         0.806307  0.612642  0.021568  0.377288  0.620106  0.326490   \n",
       "col3_a         0.017441  0.870953  0.057300  0.985083  0.553616  0.866687   \n",
       "col4_a         0.928464  0.014020  0.266083  0.608043  0.309251  0.059812   \n",
       "col5_a         0.542873  0.425840  0.571912  0.940008  0.297931  0.316611   \n",
       "nueva_columna  0.000000  0.000000  0.000000  0.000000  0.000000  0.000000   \n",
       "col_con_nulos       NaN  1.000000       NaN  3.000000       NaN  5.000000   \n",
       "\n",
       "                      6         7         8         9  \n",
       "col1_a         0.297182  0.490107  0.464373  0.175121  \n",
       "col2_a         0.874847  0.708121  0.698537  0.671134  \n",
       "col3_a         0.872097  0.631678  0.581242  0.876522  \n",
       "col4_a         0.080648  0.981861  0.672338  0.713822  \n",
       "col5_a         0.449071  0.323453  0.259039  0.257650  \n",
       "nueva_columna  0.000000  0.000000  0.000000  0.000000  \n",
       "col_con_nulos       NaN  7.000000       NaN  9.000000  "
      ]
     },
     "execution_count": 54,
     "metadata": {},
     "output_type": "execute_result"
    }
   ],
   "source": [
    "df.T"
   ]
  },
  {
   "cell_type": "markdown",
   "id": "13658b79",
   "metadata": {},
   "source": [
    "**Sumar**"
   ]
  },
  {
   "cell_type": "code",
   "execution_count": 55,
   "id": "9d79a714",
   "metadata": {},
   "outputs": [
    {
     "data": {
      "text/plain": [
       "col1_a            4.398372\n",
       "col2_a            5.717040\n",
       "col3_a            6.312618\n",
       "col4_a            4.634342\n",
       "col5_a            4.384389\n",
       "nueva_columna     0.000000\n",
       "col_con_nulos    25.000000\n",
       "dtype: float64"
      ]
     },
     "execution_count": 55,
     "metadata": {},
     "output_type": "execute_result"
    }
   ],
   "source": [
    "df.sum()"
   ]
  },
  {
   "cell_type": "markdown",
   "id": "88ac08c8",
   "metadata": {},
   "source": [
    "**Máximo, mínimo, desviación standard, media, mediana, moda**"
   ]
  },
  {
   "cell_type": "code",
   "execution_count": 56,
   "id": "a6c3ff0c",
   "metadata": {},
   "outputs": [
    {
     "data": {
      "text/plain": [
       "col1_a           0.974966\n",
       "col2_a           0.874847\n",
       "col3_a           0.985083\n",
       "col4_a           0.981861\n",
       "col5_a           0.940008\n",
       "nueva_columna    0.000000\n",
       "col_con_nulos    9.000000\n",
       "dtype: float64"
      ]
     },
     "execution_count": 56,
     "metadata": {},
     "output_type": "execute_result"
    }
   ],
   "source": [
    "df.max()"
   ]
  },
  {
   "cell_type": "code",
   "execution_count": 57,
   "id": "0cd220bf",
   "metadata": {},
   "outputs": [
    {
     "data": {
      "text/plain": [
       "col1_a           0.095358\n",
       "col2_a           0.021568\n",
       "col3_a           0.017441\n",
       "col4_a           0.014020\n",
       "col5_a           0.257650\n",
       "nueva_columna    0.000000\n",
       "col_con_nulos    1.000000\n",
       "dtype: float64"
      ]
     },
     "execution_count": 57,
     "metadata": {},
     "output_type": "execute_result"
    }
   ],
   "source": [
    "df.min()"
   ]
  },
  {
   "cell_type": "code",
   "execution_count": 58,
   "id": "f3c61483",
   "metadata": {},
   "outputs": [
    {
     "data": {
      "text/plain": [
       "col1_a           0.273416\n",
       "col2_a           0.257361\n",
       "col3_a           0.344957\n",
       "col4_a           0.363072\n",
       "col5_a           0.209029\n",
       "nueva_columna    0.000000\n",
       "col_con_nulos    3.162278\n",
       "dtype: float64"
      ]
     },
     "execution_count": 58,
     "metadata": {},
     "output_type": "execute_result"
    }
   ],
   "source": [
    "df.std()"
   ]
  },
  {
   "cell_type": "code",
   "execution_count": 59,
   "id": "8781b281",
   "metadata": {},
   "outputs": [
    {
     "data": {
      "text/plain": [
       "col1_a           0.439837\n",
       "col2_a           0.571704\n",
       "col3_a           0.631262\n",
       "col4_a           0.463434\n",
       "col5_a           0.438439\n",
       "nueva_columna    0.000000\n",
       "col_con_nulos    5.000000\n",
       "dtype: float64"
      ]
     },
     "execution_count": 59,
     "metadata": {},
     "output_type": "execute_result"
    }
   ],
   "source": [
    "df.mean()"
   ]
  },
  {
   "cell_type": "code",
   "execution_count": 60,
   "id": "a8758151",
   "metadata": {},
   "outputs": [
    {
     "data": {
      "text/plain": [
       "col1_a           0.438919\n",
       "col2_a           0.645620\n",
       "col3_a           0.749182\n",
       "col4_a           0.458647\n",
       "col5_a           0.374647\n",
       "nueva_columna    0.000000\n",
       "col_con_nulos    5.000000\n",
       "dtype: float64"
      ]
     },
     "execution_count": 60,
     "metadata": {},
     "output_type": "execute_result"
    }
   ],
   "source": [
    "df.median()"
   ]
  },
  {
   "cell_type": "code",
   "execution_count": 62,
   "id": "b82bf2db",
   "metadata": {},
   "outputs": [
    {
     "data": {
      "text/plain": [
       "0.4389191116555385"
      ]
     },
     "execution_count": 62,
     "metadata": {},
     "output_type": "execute_result"
    }
   ],
   "source": [
    "df['col1_a'].median()"
   ]
  },
  {
   "cell_type": "code",
   "execution_count": 66,
   "id": "9d1eb72a",
   "metadata": {},
   "outputs": [
    {
     "data": {
      "text/plain": [
       "0    1.0\n",
       "1    1.0\n",
       "dtype: float64"
      ]
     },
     "execution_count": 66,
     "metadata": {},
     "output_type": "execute_result"
    }
   ],
   "source": [
    "pd.DataFrame(np.ones((5,2))).mean()"
   ]
  },
  {
   "cell_type": "code",
   "execution_count": null,
   "id": "e83df007",
   "metadata": {},
   "outputs": [],
   "source": []
  }
 ],
 "metadata": {
  "kernelspec": {
   "display_name": "Python 3 (ipykernel)",
   "language": "python",
   "name": "python3"
  },
  "language_info": {
   "codemirror_mode": {
    "name": "ipython",
    "version": 3
   },
   "file_extension": ".py",
   "mimetype": "text/x-python",
   "name": "python",
   "nbconvert_exporter": "python",
   "pygments_lexer": "ipython3",
   "version": "3.9.13"
  }
 },
 "nbformat": 4,
 "nbformat_minor": 5
}
