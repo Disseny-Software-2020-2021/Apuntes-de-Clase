{
 "cells": [
  {
   "cell_type": "markdown",
   "id": "2b567deb",
   "metadata": {},
   "source": [
    "# Intro Pandas (Panel Data)\n",
    "\n",
    "**[Documentación](https://pandas.pydata.org/docs/reference/index.html#api)**\n",
    "\n",
    "**[Código fuente](https://github.com/pandas-dev/pandas)**\n",
    "\n",
    "\n",
    "![pandas](../../images/pandas.png)\n",
    "\n",
    "\n",
    "Pandas es una librería de python especializada en el manejo y análisis de estructuras de datos.\n",
    "\n",
    "\n",
    "Las principales características de esta librería son:\n",
    "\n",
    "+ Define nuevas estructuras de datos basadas en los arrays de la librería NumPy pero con nuevas funcionalidades.\n",
    "+ Permite leer y escribir fácilmente ficheros en formato CSV, Excel y bases de datos SQL.\n",
    "+ Permite acceder a los datos mediante índices o nombres para filas y columnas.\n",
    "+ Ofrece métodos para reordenar, dividir y combinar conjuntos de datos.\n",
    "+ Permite trabajar con series temporales.\n",
    "+ Realiza todas estas operaciones de manera muy eficiente.\n",
    "\n",
    "\n",
    "**Tipos de datos de Pandas**\n",
    "Pandas dispone de dos estructuras de datos diferentes:\n",
    "\n",
    "+ Series: Estructura de una dimensión.\n",
    "+ DataFrame: Estructura de dos dimensiones (tablas).\n",
    "\n",
    "Estas estructuras se construyen a partir de arrays de la librería NumPy, añadiendo nuevas funcionalidades."
   ]
  },
  {
   "cell_type": "code",
   "execution_count": null,
   "id": "14577ff1",
   "metadata": {},
   "outputs": [],
   "source": [
    "!pip install pandas"
   ]
  },
  {
   "cell_type": "code",
   "execution_count": null,
   "id": "fd9c35b0",
   "metadata": {},
   "outputs": [],
   "source": [
    "import pandas as pd\n",
    "import numpy as np"
   ]
  },
  {
   "cell_type": "code",
   "execution_count": null,
   "id": "a190000c",
   "metadata": {},
   "outputs": [],
   "source": [
    "import warnings\n",
    "warnings.filterwarnings('ignore') # esto es para evitar que se imprimar los mensajes de aviso"
   ]
  },
  {
   "cell_type": "markdown",
   "id": "20319173",
   "metadata": {},
   "source": [
    "### Serie\n",
    "\n",
    "Son estructuras similares a los arrays de una dimensión. Son homogéneas, es decir, sus elementos tienen que ser del mismo tipo, y su tamaño es inmutable, es decir, no se puede cambiar, aunque si su contenido.\n",
    "\n",
    "Dispone de un índice que asocia un nombre a cada elemento del la serie, a través de la cuál se accede al elemento."
   ]
  },
  {
   "cell_type": "code",
   "execution_count": null,
   "id": "a8672c59",
   "metadata": {},
   "outputs": [],
   "source": [
    "lst = [(3.4 + i) ** 2 for i in range(10)]\n",
    "\n",
    "lst"
   ]
  },
  {
   "cell_type": "code",
   "execution_count": null,
   "id": "0fa755f4",
   "metadata": {},
   "outputs": [],
   "source": [
    "type(lst)"
   ]
  },
  {
   "cell_type": "code",
   "execution_count": null,
   "id": "08d9b61e",
   "metadata": {},
   "outputs": [],
   "source": [
    "serie = pd.Series(lst)\n",
    "\n",
    "serie"
   ]
  },
  {
   "cell_type": "code",
   "execution_count": null,
   "id": "a5778579",
   "metadata": {},
   "outputs": [],
   "source": [
    "type(serie)"
   ]
  },
  {
   "cell_type": "code",
   "execution_count": null,
   "id": "a481f4d3",
   "metadata": {},
   "outputs": [],
   "source": [
    "serie.head(2) # nos muestra los 5 primeros elementos de la serie"
   ]
  },
  {
   "cell_type": "code",
   "execution_count": null,
   "id": "763d590d",
   "metadata": {},
   "outputs": [],
   "source": [
    "serie.tail(2) # nos muestra los últimos cinco elementos de la serie"
   ]
  },
  {
   "cell_type": "code",
   "execution_count": null,
   "id": "a744ab66",
   "metadata": {},
   "outputs": [],
   "source": [
    "serie.index"
   ]
  },
  {
   "cell_type": "markdown",
   "id": "f0188bff",
   "metadata": {},
   "source": [
    "**Renombar indices de una serie**"
   ]
  },
  {
   "cell_type": "code",
   "execution_count": null,
   "id": "993f6387",
   "metadata": {},
   "outputs": [],
   "source": [
    "serie.index = ['a', 'b', 'c', 'd', 'e', 'f', 'g', 'h', 'i', 'j']\n",
    "\n",
    "serie"
   ]
  },
  {
   "cell_type": "code",
   "execution_count": null,
   "id": "a45c099e",
   "metadata": {},
   "outputs": [],
   "source": [
    "serie.index"
   ]
  },
  {
   "cell_type": "code",
   "execution_count": null,
   "id": "64c537cf",
   "metadata": {},
   "outputs": [],
   "source": [
    "#help(serie)"
   ]
  },
  {
   "cell_type": "markdown",
   "id": "4cc530a4",
   "metadata": {},
   "source": [
    "### DataFrame\n",
    "\n",
    "Un objeto del tipo DataFrame define un conjunto de datos estructurado en forma de tabla donde cada columna es un objeto de tipo Series, es decir, todos los datos de una misma columna son del mismo tipo, y las filas son registros que pueden contender datos de distintos tipos.\n",
    "\n",
    "Un DataFrame contiene dos índices, uno para las filas y otro para las columnas, y se puede acceder a sus elementos mediante los nombres de las filas y las columnas."
   ]
  },
  {
   "cell_type": "code",
   "execution_count": null,
   "id": "e95ad419",
   "metadata": {},
   "outputs": [],
   "source": [
    "columnas = ['col1', 'col2', 'col3', 'col4', 'col5']\n",
    "\n",
    "data = np.random.random((10,5))\n",
    "\n",
    "data"
   ]
  },
  {
   "cell_type": "code",
   "execution_count": null,
   "id": "e9807653",
   "metadata": {},
   "outputs": [],
   "source": [
    "df = pd.DataFrame(data, columns=columnas)\n",
    "\n",
    "df.head()"
   ]
  },
  {
   "cell_type": "markdown",
   "id": "de3ec4b7",
   "metadata": {},
   "source": [
    "**Para acceder a una columna en particular**"
   ]
  },
  {
   "cell_type": "code",
   "execution_count": null,
   "id": "bb3253bf",
   "metadata": {},
   "outputs": [],
   "source": [
    "df['col2']"
   ]
  },
  {
   "cell_type": "code",
   "execution_count": null,
   "id": "765fae31",
   "metadata": {},
   "outputs": [],
   "source": [
    "df.col2"
   ]
  },
  {
   "cell_type": "code",
   "execution_count": null,
   "id": "f85580ac",
   "metadata": {},
   "outputs": [],
   "source": [
    "type(df.col2)"
   ]
  },
  {
   "cell_type": "code",
   "execution_count": null,
   "id": "421c47b8",
   "metadata": {},
   "outputs": [],
   "source": [
    "type(df)"
   ]
  },
  {
   "cell_type": "markdown",
   "id": "2be5b1ae",
   "metadata": {},
   "source": [
    "**Mostrar elementos de una columna de un dataframe**"
   ]
  },
  {
   "cell_type": "code",
   "execution_count": null,
   "id": "39a7bc7b",
   "metadata": {},
   "outputs": [],
   "source": [
    "df['col2']"
   ]
  },
  {
   "cell_type": "code",
   "execution_count": null,
   "id": "5273480a",
   "metadata": {},
   "outputs": [],
   "source": [
    "df.col3"
   ]
  },
  {
   "cell_type": "markdown",
   "id": "e62e896e",
   "metadata": {},
   "source": [
    "**Renombrar columnas de un dataframe**"
   ]
  },
  {
   "cell_type": "markdown",
   "id": "be03d619",
   "metadata": {},
   "source": [
    "Para renombrar columnas de un dataframe usaremos el método rename de pandas que recibe como argumento un diccionario en el que la clave será el nombre de la columna antigua y el valor el nombre de la nueva columna"
   ]
  },
  {
   "cell_type": "code",
   "execution_count": null,
   "id": "1ffee288",
   "metadata": {},
   "outputs": [],
   "source": [
    "df = df.rename(columns={'col2': 'columna_2'})"
   ]
  },
  {
   "cell_type": "code",
   "execution_count": null,
   "id": "05cab0c8",
   "metadata": {},
   "outputs": [],
   "source": [
    "df.head()"
   ]
  },
  {
   "cell_type": "markdown",
   "id": "d2241b33",
   "metadata": {},
   "source": [
    "Usando el parámetro inplace dentro del método rename estamos sobreescribiendo nuestro dataframe sin tener que igualarlo a una variable"
   ]
  },
  {
   "cell_type": "code",
   "execution_count": null,
   "id": "e19d349c",
   "metadata": {},
   "outputs": [],
   "source": [
    "df.rename(columns={'col3': 'columna_3'}, inplace=True)"
   ]
  },
  {
   "cell_type": "code",
   "execution_count": null,
   "id": "5360835a",
   "metadata": {},
   "outputs": [],
   "source": [
    "df.head()"
   ]
  },
  {
   "cell_type": "markdown",
   "id": "8afd6dd3",
   "metadata": {},
   "source": [
    "**Selección de varias columnas**\n",
    "\n",
    "Para seleccionar varias columnas de un dataframe llamaremos a nuestro dataframe y usando [] le pasaremos una lista de las columnas que queremos seleccionar, se no generará un dataframe con esas columnas mostrándolas en el orden de la lista"
   ]
  },
  {
   "cell_type": "code",
   "execution_count": null,
   "id": "03feee48",
   "metadata": {},
   "outputs": [],
   "source": [
    "df_filtrado = df[['columna_3', 'col1', 'col5']]"
   ]
  },
  {
   "cell_type": "code",
   "execution_count": null,
   "id": "f5191606",
   "metadata": {},
   "outputs": [],
   "source": [
    "df_filtrado"
   ]
  },
  {
   "cell_type": "markdown",
   "id": "f69ca3c6",
   "metadata": {},
   "source": [
    "**Añadir una columna nueva**"
   ]
  },
  {
   "cell_type": "code",
   "execution_count": null,
   "id": "8fb18a3a",
   "metadata": {},
   "outputs": [],
   "source": [
    "df['nueva_columna'] = 0 # añadimos una columna llena de ceros"
   ]
  },
  {
   "cell_type": "code",
   "execution_count": null,
   "id": "06f625f5",
   "metadata": {},
   "outputs": [],
   "source": [
    "df.head()"
   ]
  },
  {
   "cell_type": "code",
   "execution_count": null,
   "id": "75c16463",
   "metadata": {},
   "outputs": [],
   "source": [
    "[i if i%2 else None for i in range(len(df))]"
   ]
  },
  {
   "cell_type": "code",
   "execution_count": null,
   "id": "27821535",
   "metadata": {},
   "outputs": [],
   "source": [
    "lst= []\n",
    "for i in range(len(df)):\n",
    "    if i%2:\n",
    "        lst.append(i)\n",
    "    else:\n",
    "        lst.append(None)\n",
    "lst"
   ]
  },
  {
   "cell_type": "code",
   "execution_count": null,
   "id": "8fc2ee1e",
   "metadata": {},
   "outputs": [],
   "source": [
    "df['col_con_nulos'] = [i if i%2 else None for i in range(len(df))] # añadimos una columna con valores nulos"
   ]
  },
  {
   "cell_type": "code",
   "execution_count": null,
   "id": "f7ab6632",
   "metadata": {},
   "outputs": [],
   "source": [
    "df"
   ]
  },
  {
   "cell_type": "code",
   "execution_count": null,
   "id": "4643b76b",
   "metadata": {},
   "outputs": [],
   "source": [
    "df.col_con_nulos[0]"
   ]
  },
  {
   "cell_type": "code",
   "execution_count": null,
   "id": "d5614acd",
   "metadata": {},
   "outputs": [],
   "source": [
    "type(df.col_con_nulos[0])"
   ]
  },
  {
   "cell_type": "markdown",
   "id": "2c0a3f86",
   "metadata": {},
   "source": [
    "**Mostrar la info de nuestro dataframe**"
   ]
  },
  {
   "cell_type": "code",
   "execution_count": null,
   "id": "29785f63",
   "metadata": {},
   "outputs": [],
   "source": [
    "df.info()"
   ]
  },
  {
   "cell_type": "markdown",
   "id": "22eae6f3",
   "metadata": {},
   "source": [
    "**Generar un dataframe vacio**"
   ]
  },
  {
   "cell_type": "code",
   "execution_count": null,
   "id": "51169fb6",
   "metadata": {},
   "outputs": [],
   "source": [
    "empty_df = pd.DataFrame()"
   ]
  },
  {
   "cell_type": "code",
   "execution_count": null,
   "id": "9b9df45b",
   "metadata": {},
   "outputs": [],
   "source": [
    "empty_df"
   ]
  },
  {
   "cell_type": "markdown",
   "id": "0aed8b10",
   "metadata": {},
   "source": [
    "**Generar un dataframe a partir de una lista de listas**"
   ]
  },
  {
   "cell_type": "code",
   "execution_count": null,
   "id": "060b0f85",
   "metadata": {},
   "outputs": [],
   "source": [
    "lst_lst = [[655643, 'buenas', 35432],\n",
    "          [354, 'como andas', 899],\n",
    "          [3543, 'ooi']]\n",
    "\n",
    "columnas = ['num', 'str', 'otro_num']\n",
    "\n",
    "df_lst = pd.DataFrame(lst_lst, columns=columnas)\n",
    "\n",
    "df_lst"
   ]
  },
  {
   "cell_type": "markdown",
   "id": "ff3604a8",
   "metadata": {},
   "source": [
    "**Generar un dataframe a partir de un diccionario**"
   ]
  },
  {
   "cell_type": "code",
   "execution_count": null,
   "id": "26d6139b",
   "metadata": {},
   "outputs": [],
   "source": [
    "dictio = {'casa':lst_lst[0],\n",
    "         'oficina': lst_lst[1],\n",
    "         'numero': lst_lst[2]+[0]}\n",
    "\n",
    "df_dictio = pd.DataFrame(dictio)\n",
    "\n",
    "df_dictio"
   ]
  },
  {
   "cell_type": "markdown",
   "id": "941ac06e",
   "metadata": {},
   "source": [
    "### Operaciones con Dataframes"
   ]
  },
  {
   "cell_type": "markdown",
   "id": "8fa2c011",
   "metadata": {},
   "source": [
    "**Transponer**"
   ]
  },
  {
   "cell_type": "code",
   "execution_count": null,
   "id": "6416a3cc",
   "metadata": {},
   "outputs": [],
   "source": [
    "df.transpose()"
   ]
  },
  {
   "cell_type": "code",
   "execution_count": null,
   "id": "5de8676b",
   "metadata": {},
   "outputs": [],
   "source": [
    "df.T"
   ]
  },
  {
   "cell_type": "markdown",
   "id": "13658b79",
   "metadata": {},
   "source": [
    "**Sumar**"
   ]
  },
  {
   "cell_type": "code",
   "execution_count": null,
   "id": "9d79a714",
   "metadata": {},
   "outputs": [],
   "source": [
    "df.sum()"
   ]
  },
  {
   "cell_type": "markdown",
   "id": "88ac08c8",
   "metadata": {},
   "source": [
    "**Máximo, mínimo, desviación standard, media, mediana, moda**"
   ]
  },
  {
   "cell_type": "code",
   "execution_count": null,
   "id": "a6c3ff0c",
   "metadata": {},
   "outputs": [],
   "source": [
    "df.max()"
   ]
  },
  {
   "cell_type": "code",
   "execution_count": null,
   "id": "0cd220bf",
   "metadata": {},
   "outputs": [],
   "source": [
    "df.min()"
   ]
  },
  {
   "cell_type": "code",
   "execution_count": null,
   "id": "f3c61483",
   "metadata": {},
   "outputs": [],
   "source": [
    "df.std()"
   ]
  },
  {
   "cell_type": "code",
   "execution_count": null,
   "id": "8781b281",
   "metadata": {},
   "outputs": [],
   "source": [
    "df.mean()"
   ]
  },
  {
   "cell_type": "code",
   "execution_count": null,
   "id": "a8758151",
   "metadata": {},
   "outputs": [],
   "source": [
    "df.median()"
   ]
  },
  {
   "cell_type": "code",
   "execution_count": null,
   "id": "b82bf2db",
   "metadata": {},
   "outputs": [],
   "source": [
    "df['col1'].median()"
   ]
  },
  {
   "cell_type": "code",
   "execution_count": null,
   "id": "9d1eb72a",
   "metadata": {},
   "outputs": [],
   "source": [
    "np.ones((5,2,4))"
   ]
  },
  {
   "cell_type": "code",
   "execution_count": null,
   "id": "e83df007",
   "metadata": {},
   "outputs": [],
   "source": []
  }
 ],
 "metadata": {
  "kernelspec": {
   "display_name": "Python 3 (ipykernel)",
   "language": "python",
   "name": "python3"
  },
  "language_info": {
   "codemirror_mode": {
    "name": "ipython",
    "version": 3
   },
   "file_extension": ".py",
   "mimetype": "text/x-python",
   "name": "python",
   "nbconvert_exporter": "python",
   "pygments_lexer": "ipython3",
   "version": "3.9.7"
  }
 },
 "nbformat": 4,
 "nbformat_minor": 5
}
