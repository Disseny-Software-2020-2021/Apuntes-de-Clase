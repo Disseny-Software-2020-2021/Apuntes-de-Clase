{
 "cells": [
  {
   "cell_type": "markdown",
   "id": "2a54939c",
   "metadata": {},
   "source": [
    "# Intro Numpy  (Numerical Python)\n",
    "\n",
    "**[Documentación](https://numpy.org/doc/stable/)**\n",
    "\n",
    "**[Código fuente](https://github.com/numpy/numpy)**\n",
    "\n",
    "\n",
    "![numpy](../../images/numpy.png)"
   ]
  },
  {
   "cell_type": "markdown",
   "id": "1237650a",
   "metadata": {},
   "source": [
    "NumPy es el paquete fundamental para computación cientifíca en python. Es una librería de python nos permite manejar vectores, matrices, [tensores](https://es.wikipedia.org/wiki/C%C3%A1lculo_tensorial) (arrays multidimensionales) y además realizar todas las operaciones matemáticas y lógicas de los mismos, como la manipulación de la dimensión, ordenado, selección, I/O, operaciones estadísticas, transformadas de Fourier, simulación aleatoria y un largo etcétera. Constituye la herramienta de álgebra lineal."
   ]
  },
  {
   "cell_type": "markdown",
   "id": "cde200a2",
   "metadata": {},
   "source": [
    "### Tensor\n",
    "\n",
    "La palabra ['tensor'](https://es.wikipedia.org/wiki/C%C3%A1lculo_tensorial) se utiliza a menudo como abreviatura de campo tensorial, que es un valor tensorial definido en cada punto en una variedad. El primero en utilizar esta palabra fue William Rowan Hamilton en 1846, empleándola para lo que actualmente se conoce como módulo y fue Woldemar Voigt en 1899 quien la empleó en su acepción actual. La palabra tensor proviene del latín tensus, participio pasado de tendere 'estirar, extender'. El nombre se extendió porque la teoría de la elasticidad fue una de las primeras aplicaciones físicas donde se usaron tensores. Gregorio Ricci-Curbastro en 1890 desarrolló la notación actual con el nombre de geometría diferencial absoluta, y se popularizó con la publicación de Cálculo Diferencial Absoluto de Tullio Levi-Civita en 1900. Con la introducción de la teoría de la relatividad general por parte de Albert Einstein alrededor de 1915 se encontró su aplicación más pragmática. La Relatividad General es netamente tensorial. Einstein había aprendido del mismo Levi-Civita el uso de tensores con gran dificultad.\n",
    "\n",
    "Podemos pensar en un tensor como la generalización del ente algebraico. Con un ejemplo se verá más claro.\n",
    "\n",
    "Un **número**, cualquier número, $2$, $3.6$, $\\pi$, $\\phi$, $\\sqrt{2}$, es un **tensor de rango $0$**.\n",
    "\n",
    "Un **vector**, cualquier vector, sea como sea su longitud, $(1, 2, 3)$, $(0, 5, 2, 1, 5)$, $(9,2)$, es un **tensor de rango $1$**.\n",
    "\n",
    "Una **matriz**, cualquier matriz, sean cuales sean sus dimensiones, es un **tensor de rango $2$**.\n",
    "\n",
    "Un **cubo de Rubik** por ejemplo es un **tensor de rango $3$**.\n",
    "\n",
    "Pensar en dimensiones superiores es complicado por no decir imposible, pero se pueden interpretar a través del contenido. Una **bolsa llena de cubos de Rubik** es un **tensor de rango $4$**.\n",
    "\n",
    "Una **caja llena de bolsas que están llenas de cubos de Rubik es un tensor de rango $5$**.\n",
    "\n",
    "Y así sucesivamente."
   ]
  },
  {
   "cell_type": "markdown",
   "id": "64cf978d",
   "metadata": {},
   "source": [
    "**Veamos algo de todo esto en python:**\n",
    "\n",
    "\n",
    "## **Arrays**"
   ]
  },
  {
   "cell_type": "code",
   "execution_count": null,
   "id": "c69a5ecc",
   "metadata": {},
   "outputs": [],
   "source": [
    "!pip install numpy"
   ]
  },
  {
   "cell_type": "code",
   "execution_count": null,
   "id": "186e874b",
   "metadata": {},
   "outputs": [],
   "source": [
    "import numpy as np"
   ]
  },
  {
   "cell_type": "markdown",
   "id": "1ea4cf30",
   "metadata": {},
   "source": [
    "#### Tensor rango 0"
   ]
  },
  {
   "cell_type": "code",
   "execution_count": null,
   "id": "8b09f872",
   "metadata": {},
   "outputs": [],
   "source": [
    "punto = np.random.random(1)\n",
    "\n",
    "punto"
   ]
  },
  {
   "cell_type": "code",
   "execution_count": null,
   "id": "14efc575",
   "metadata": {},
   "outputs": [],
   "source": [
    "type(punto)"
   ]
  },
  {
   "cell_type": "markdown",
   "id": "c89b1375",
   "metadata": {},
   "source": [
    "#### Tensor rango 1"
   ]
  },
  {
   "cell_type": "code",
   "execution_count": null,
   "id": "cc5b54b8",
   "metadata": {},
   "outputs": [],
   "source": [
    "vector = np.random.random(5)\n",
    "\n",
    "vector"
   ]
  },
  {
   "cell_type": "code",
   "execution_count": null,
   "id": "9b9372b8",
   "metadata": {},
   "outputs": [],
   "source": [
    "type(vector)"
   ]
  },
  {
   "cell_type": "markdown",
   "id": "92d78e81",
   "metadata": {},
   "source": [
    "#### Tensor rango 2"
   ]
  },
  {
   "cell_type": "code",
   "execution_count": null,
   "id": "1efcde9a",
   "metadata": {},
   "outputs": [],
   "source": [
    "# matriz, tensor de rango 2\n",
    "\n",
    "matriz = np.random.random((10,5))\n",
    "\n",
    "matriz"
   ]
  },
  {
   "cell_type": "code",
   "execution_count": null,
   "id": "b1bf2323",
   "metadata": {},
   "outputs": [],
   "source": [
    "type(matriz)"
   ]
  },
  {
   "cell_type": "markdown",
   "id": "22084cc2",
   "metadata": {},
   "source": [
    "#### Tensor rango 3"
   ]
  },
  {
   "cell_type": "code",
   "execution_count": null,
   "id": "0efd8979",
   "metadata": {},
   "outputs": [],
   "source": [
    "cubo = np.random.random((3,3,2))\n",
    "\n",
    "cubo"
   ]
  },
  {
   "cell_type": "code",
   "execution_count": null,
   "id": "6f4be704",
   "metadata": {},
   "outputs": [],
   "source": [
    "type(cubo)"
   ]
  },
  {
   "cell_type": "markdown",
   "id": "00ec8466",
   "metadata": {},
   "source": [
    "#### Tensor rango 4"
   ]
  },
  {
   "cell_type": "code",
   "execution_count": null,
   "id": "853feb54",
   "metadata": {},
   "outputs": [],
   "source": [
    "tensor = np.random.random((5,3,3,2))\n",
    "\n",
    "tensor"
   ]
  },
  {
   "cell_type": "code",
   "execution_count": null,
   "id": "9c7b29aa",
   "metadata": {},
   "outputs": [],
   "source": [
    "type(tensor)"
   ]
  },
  {
   "cell_type": "markdown",
   "id": "cfdd0d90",
   "metadata": {},
   "source": [
    "### Métodos con matrices"
   ]
  },
  {
   "cell_type": "markdown",
   "id": "56620cf4",
   "metadata": {},
   "source": [
    "#### Dimensiones y Tamaño"
   ]
  },
  {
   "cell_type": "code",
   "execution_count": null,
   "id": "4b59663f",
   "metadata": {},
   "outputs": [],
   "source": [
    "print(f' Dimensiones de punto: {punto.shape}')\n",
    "print(f' Dimensiones de vector: {vector.shape}')\n",
    "print(f' Dimensiones de matriz: {matriz.shape}')\n",
    "print(f' Dimensiones de cubo: {cubo.shape}')\n",
    "print(f' Dimensiones de tensor: {tensor.shape}')"
   ]
  },
  {
   "cell_type": "code",
   "execution_count": null,
   "id": "e9858308",
   "metadata": {},
   "outputs": [],
   "source": [
    "print(f' Tamaño de punto: {punto.size}')\n",
    "print(f' Tamaño de vector: {vector.size}')\n",
    "print(f' Tamaño de matriz: {matriz.size}')\n",
    "print(f' Tamaño de cubo: {cubo.size}')\n",
    "print(f' Tamaño de tensor: {tensor.size}')"
   ]
  },
  {
   "cell_type": "markdown",
   "id": "04e22571",
   "metadata": {},
   "source": [
    "#### Cambiar dimensiones"
   ]
  },
  {
   "cell_type": "code",
   "execution_count": null,
   "id": "89a636bd",
   "metadata": {},
   "outputs": [],
   "source": [
    "matriz_2 = matriz.reshape(5,5,2)"
   ]
  },
  {
   "cell_type": "markdown",
   "id": "40763997",
   "metadata": {},
   "source": [
    "Debemos tener en cuenta al hacer el reshape que el número de elementos debe de mantenerse, en este caso hemos añadido una dimensión más a nuestra matriz pero mantenemos el número de elementos"
   ]
  },
  {
   "cell_type": "code",
   "execution_count": null,
   "id": "a9ecf1dd",
   "metadata": {},
   "outputs": [],
   "source": [
    "matriz.size == matriz_2.size"
   ]
  },
  {
   "cell_type": "markdown",
   "id": "8969bf26",
   "metadata": {},
   "source": [
    "#### Producto por escalares"
   ]
  },
  {
   "cell_type": "code",
   "execution_count": null,
   "id": "d447c8f0",
   "metadata": {},
   "outputs": [],
   "source": [
    "vector_2 = np.random.random(5)\n",
    "\n",
    "vector_2"
   ]
  },
  {
   "cell_type": "code",
   "execution_count": null,
   "id": "4d45cbfb",
   "metadata": {},
   "outputs": [],
   "source": [
    "vector_3 = 2 * vector_2\n",
    "\n",
    "vector_3"
   ]
  },
  {
   "cell_type": "markdown",
   "id": "3c828648",
   "metadata": {},
   "source": [
    "#### Producto escalar"
   ]
  },
  {
   "cell_type": "code",
   "execution_count": null,
   "id": "d8e05b17",
   "metadata": {},
   "outputs": [],
   "source": [
    "p_esc = np.dot(vector,vector_2)\n",
    "\n",
    "p_esc"
   ]
  },
  {
   "cell_type": "markdown",
   "id": "0176cc6e",
   "metadata": {},
   "source": [
    "#### Suma"
   ]
  },
  {
   "cell_type": "markdown",
   "id": "a9b33be0",
   "metadata": {},
   "source": [
    "##### Total"
   ]
  },
  {
   "cell_type": "code",
   "execution_count": null,
   "id": "a8ce2927",
   "metadata": {},
   "outputs": [],
   "source": [
    "print(f' Suma total del vector: {vector.sum()}')\n",
    "print(f' Suma total de la matriz: {matriz.sum()}')\n",
    "print(f' Suma total del cubo: {cubo.sum()}')\n",
    "print(f' Suma total del tensor: {tensor.sum()}')"
   ]
  },
  {
   "cell_type": "markdown",
   "id": "3c66f6e4",
   "metadata": {},
   "source": [
    "##### Por filas"
   ]
  },
  {
   "cell_type": "code",
   "execution_count": null,
   "id": "20367282",
   "metadata": {},
   "outputs": [],
   "source": [
    "print(f' Suma total de filas de la matriz: {matriz.sum(axis=1)}')\n",
    "print(f' Suma total de filas del cubo: {cubo.sum(axis=1)}')\n",
    "print(f' Suma total de filas del tensor: {tensor.sum(axis=1)}')"
   ]
  },
  {
   "cell_type": "markdown",
   "id": "dc0f7ec5",
   "metadata": {},
   "source": [
    "##### Por columnas"
   ]
  },
  {
   "cell_type": "code",
   "execution_count": null,
   "id": "78e472b6",
   "metadata": {},
   "outputs": [],
   "source": [
    "print(f' Suma total de columnas de la matriz: {matriz.sum(axis=0)}')\n",
    "print(f' Suma total de columnas del cubo: {cubo.sum(axis=0)}')\n",
    "print(f' Suma total de columnas del tensor: {tensor.sum(axis=0)}')"
   ]
  },
  {
   "cell_type": "markdown",
   "id": "bf3b94b5",
   "metadata": {},
   "source": [
    "#### Mínimo"
   ]
  },
  {
   "cell_type": "code",
   "execution_count": null,
   "id": "0c19b0f1",
   "metadata": {},
   "outputs": [],
   "source": [
    "print(f' Minimo de vector: {vector.min()}')\n",
    "print(f' Minimo de matriz: {matriz.min()}')\n",
    "print(f' Minimo de cubo: {cubo.min()}')\n",
    "print(f' Minimo de tensor: {tensor.min()}')"
   ]
  },
  {
   "cell_type": "markdown",
   "id": "0321a5dd",
   "metadata": {},
   "source": [
    "#### Máximo"
   ]
  },
  {
   "cell_type": "code",
   "execution_count": null,
   "id": "aefb3445",
   "metadata": {},
   "outputs": [],
   "source": [
    "print(f' Máximo de vector: {vector.max()}')\n",
    "print(f' Máximo de matriz: {matriz.max()}')\n",
    "print(f' Máximo de cubo: {cubo.max()}')\n",
    "print(f' Máximo de tensor: {tensor.max()}')"
   ]
  },
  {
   "cell_type": "markdown",
   "id": "3968c3d8",
   "metadata": {},
   "source": [
    "#### Media"
   ]
  },
  {
   "cell_type": "code",
   "execution_count": null,
   "id": "bf2c5853",
   "metadata": {},
   "outputs": [],
   "source": [
    "print(f' Media de vector: {vector.mean()}')\n",
    "print(f' Media de matriz: {matriz.mean()}')\n",
    "print(f' Media de cubo: {cubo.mean()}')\n",
    "print(f' Media de tensor: {tensor.mean()}')"
   ]
  },
  {
   "cell_type": "markdown",
   "id": "59c41cc5",
   "metadata": {},
   "source": [
    "#### Mediana"
   ]
  },
  {
   "cell_type": "code",
   "execution_count": null,
   "id": "3e5ef2cc",
   "metadata": {},
   "outputs": [],
   "source": [
    "print(f' Mediana de vector: {np.median(vector)}')\n",
    "print(f' Mediana de matriz: {np.median(matriz)}')\n",
    "print(f' Mediana de cubo: {np.median(cubo)}')\n",
    "print(f' Mediana de tensor: {np.median(tensor)}')"
   ]
  },
  {
   "cell_type": "markdown",
   "id": "876286ab",
   "metadata": {},
   "source": [
    "#### Desviación standar"
   ]
  },
  {
   "cell_type": "code",
   "execution_count": null,
   "id": "efbd96dc",
   "metadata": {},
   "outputs": [],
   "source": [
    "print(f' Desviación standard de vector: {vector.std()}')\n",
    "print(f' Desviación standard de matriz: {matriz.std()}')\n",
    "print(f' Desviación standard de cubo: {cubo.std()}')\n",
    "print(f' Desviación standard de tensor: {tensor.std()}')"
   ]
  },
  {
   "cell_type": "markdown",
   "id": "a342cb54",
   "metadata": {},
   "source": [
    "#### Varianza"
   ]
  },
  {
   "cell_type": "code",
   "execution_count": null,
   "id": "c4625fe3",
   "metadata": {},
   "outputs": [],
   "source": [
    "print(f' Varianza de vector: {vector.var()}')\n",
    "print(f' Varianza de matriz: {matriz.var()}')\n",
    "print(f' Varianza de cubo: {cubo.var()}')\n",
    "print(f' Varianza de tensor: {tensor.var()}')"
   ]
  },
  {
   "cell_type": "markdown",
   "id": "4423d2a0",
   "metadata": {},
   "source": [
    "#### Desviación standar a partir de la varianza"
   ]
  },
  {
   "cell_type": "code",
   "execution_count": null,
   "id": "fa3e8c0f",
   "metadata": {},
   "outputs": [],
   "source": [
    "print(f' Std a partir de var de vector: {vector.var()**0.5}')\n",
    "print(f' Std a partir de var de matriz: {matriz.var()**0.5}')\n",
    "print(f' Std a partir de var de cubo: {cubo.var()**0.5}')\n",
    "print(f' Std a partir de var de tensor: {tensor.var()**0.5}')"
   ]
  },
  {
   "cell_type": "markdown",
   "id": "4407f8a1",
   "metadata": {},
   "source": [
    "#### Matriz Traspuesta"
   ]
  },
  {
   "cell_type": "code",
   "execution_count": null,
   "id": "e470d9e3",
   "metadata": {},
   "outputs": [],
   "source": [
    "matriz.T"
   ]
  },
  {
   "cell_type": "markdown",
   "id": "e96ce109",
   "metadata": {},
   "source": [
    "#### Suma Acumulada"
   ]
  },
  {
   "cell_type": "code",
   "execution_count": null,
   "id": "55b5a17b",
   "metadata": {},
   "outputs": [],
   "source": [
    "print(f' Suma Acumulada de vector: {np.cumsum(vector)}')\n",
    "print(f' Suma Acumulada de matriz: {np.cumsum(matriz)}')\n",
    "print(f' Suma Acumulada de cubo: {np.cumsum(cubo)}')\n",
    "print(f' Suma Acumulada de tensor: {np.cumsum(tensor)}')"
   ]
  },
  {
   "cell_type": "markdown",
   "id": "344d9e58",
   "metadata": {},
   "source": [
    "#### Producto Acumulado"
   ]
  },
  {
   "cell_type": "code",
   "execution_count": null,
   "id": "69d2aeeb",
   "metadata": {},
   "outputs": [],
   "source": [
    "print(f' Producto Acumulada de vector: {np.cumprod(vector)}')\n",
    "print(f' Producto Acumulada de matriz: {np.cumprod(matriz)}')\n",
    "print(f' Producto Acumulada de cubo: {np.cumprod(cubo)}')\n",
    "print(f' Producto Acumulada de tensor: {np.cumprod(tensor)}')"
   ]
  },
  {
   "cell_type": "markdown",
   "id": "5da339a7",
   "metadata": {},
   "source": [
    "#### Casos de uso de map, filter"
   ]
  },
  {
   "cell_type": "code",
   "execution_count": null,
   "id": "af3f83e1",
   "metadata": {},
   "outputs": [],
   "source": [
    "matriz_2"
   ]
  },
  {
   "cell_type": "code",
   "execution_count": null,
   "id": "ec5ae880",
   "metadata": {},
   "outputs": [],
   "source": [
    "matriz_map = list(map(lambda x: x**2+2*x+3, matriz_2))\n",
    "matriz_map"
   ]
  },
  {
   "cell_type": "code",
   "execution_count": null,
   "id": "e4b78386",
   "metadata": {},
   "outputs": [],
   "source": [
    "matriz_filter = list(filter(lambda x: x<0.5, matriz_2[0][0]))\n",
    "matriz_filter"
   ]
  },
  {
   "cell_type": "code",
   "execution_count": null,
   "id": "101a26f9",
   "metadata": {},
   "outputs": [],
   "source": []
  }
 ],
 "metadata": {
  "kernelspec": {
   "display_name": "Python 3 (ipykernel)",
   "language": "python",
   "name": "python3"
  },
  "language_info": {
   "codemirror_mode": {
    "name": "ipython",
    "version": 3
   },
   "file_extension": ".py",
   "mimetype": "text/x-python",
   "name": "python",
   "nbconvert_exporter": "python",
   "pygments_lexer": "ipython3",
   "version": "3.9.7"
  }
 },
 "nbformat": 4,
 "nbformat_minor": 5
}
