{
  "nbformat": 4,
  "nbformat_minor": 0,
  "metadata": {
    "kernelspec": {
      "display_name": "Python 3",
      "language": "python",
      "name": "python3"
    },
    "language_info": {
      "codemirror_mode": {
        "name": "ipython",
        "version": 3
      },
      "file_extension": ".py",
      "mimetype": "text/x-python",
      "name": "python",
      "nbconvert_exporter": "python",
      "pygments_lexer": "ipython3",
      "version": "3.8.4"
    },
    "toc": {
      "base_numbering": 1,
      "nav_menu": {},
      "number_sections": true,
      "sideBar": true,
      "skip_h1_title": false,
      "title_cell": "Table of Contents",
      "title_sidebar": "Contents",
      "toc_cell": false,
      "toc_position": {},
      "toc_section_display": true,
      "toc_window_display": false
    },
    "varInspector": {
      "cols": {
        "lenName": 16,
        "lenType": 16,
        "lenVar": 40
      },
      "kernels_config": {
        "python": {
          "delete_cmd_postfix": "",
          "delete_cmd_prefix": "del ",
          "library": "var_list.py",
          "varRefreshCmd": "print(var_dic_list())"
        },
        "r": {
          "delete_cmd_postfix": ") ",
          "delete_cmd_prefix": "rm(",
          "library": "var_list.r",
          "varRefreshCmd": "cat(var_dic_list()) "
        }
      },
      "types_to_exclude": [
        "module",
        "function",
        "builtin_function_or_method",
        "instance",
        "_Feature"
      ],
      "window_display": false
    },
    "colab": {
      "name": "Copy of Code Along Object Types - Structure.ipynb",
      "provenance": [],
      "collapsed_sections": [],
      "toc_visible": true
    }
  },
  "cells": [
    {
      "cell_type": "markdown",
      "metadata": {
        "id": "IaHWdhUzKGPn"
      },
      "source": [
        "# Python Object types"
      ]
    },
    {
      "cell_type": "markdown",
      "metadata": {
        "id": "xxiBDpjwKGPt"
      },
      "source": [
        "### Strings"
      ]
    },
    {
      "cell_type": "markdown",
      "metadata": {
        "id": "pM6pZTUMVC5S"
      },
      "source": [
        "Hey guys! This is a text cell"
      ]
    },
    {
      "cell_type": "code",
      "metadata": {
        "id": "xJiI7LMCKGPt",
        "colab": {
          "base_uri": "https://localhost:8080/"
        },
        "outputId": "3b57cb29-9b42-49cf-f3a3-f4bc06c00fbb"
      },
      "source": [
        "my_string = \"I love cats\"\n",
        "print(my_string)"
      ],
      "execution_count": 2,
      "outputs": [
        {
          "output_type": "stream",
          "name": "stdout",
          "text": [
            "I love cats\n"
          ]
        }
      ]
    },
    {
      "cell_type": "code",
      "metadata": {
        "colab": {
          "base_uri": "https://localhost:8080/",
          "height": 35
        },
        "id": "Pv8fCJyqWNeF",
        "outputId": "57edcba0-b9a6-4177-c31f-f5ad6b869a5c"
      },
      "source": [
        "my_string[2:6] # range of values in a list, string,... can be specified with: first_value : last_value -1"
      ],
      "execution_count": 3,
      "outputs": [
        {
          "output_type": "execute_result",
          "data": {
            "application/vnd.google.colaboratory.intrinsic+json": {
              "type": "string"
            },
            "text/plain": [
              "'love'"
            ]
          },
          "metadata": {},
          "execution_count": 3
        }
      ]
    },
    {
      "cell_type": "markdown",
      "metadata": {
        "id": "i757Q-q1WoCf"
      },
      "source": [
        "When slicing an string, you should use:\n",
        "\n",
        "my_string[first_index : last_index + 1]"
      ]
    },
    {
      "cell_type": "code",
      "metadata": {
        "colab": {
          "base_uri": "https://localhost:8080/"
        },
        "id": "aTQGnwG5VO6l",
        "outputId": "77dd1edf-2f2b-4562-dcc6-3e6dcf1149c5"
      },
      "source": [
        "type(my_string)"
      ],
      "execution_count": 4,
      "outputs": [
        {
          "output_type": "execute_result",
          "data": {
            "text/plain": [
              "str"
            ]
          },
          "metadata": {},
          "execution_count": 4
        }
      ]
    },
    {
      "cell_type": "code",
      "metadata": {
        "colab": {
          "base_uri": "https://localhost:8080/"
        },
        "id": "Cd9YtpPWVXKj",
        "outputId": "91518cec-fbe6-4761-f70b-2d9eb6d5214b"
      },
      "source": [
        "a = None\n",
        "type(a)"
      ],
      "execution_count": 5,
      "outputs": [
        {
          "output_type": "execute_result",
          "data": {
            "text/plain": [
              "NoneType"
            ]
          },
          "metadata": {},
          "execution_count": 5
        }
      ]
    },
    {
      "cell_type": "code",
      "metadata": {
        "colab": {
          "base_uri": "https://localhost:8080/",
          "height": 35
        },
        "id": "6ixOtC9rVmzu",
        "outputId": "9bc9e0e0-7f8d-4cbb-850d-debf637add5d"
      },
      "source": [
        "my_string[-2]"
      ],
      "execution_count": 6,
      "outputs": [
        {
          "output_type": "execute_result",
          "data": {
            "application/vnd.google.colaboratory.intrinsic+json": {
              "type": "string"
            },
            "text/plain": [
              "'t'"
            ]
          },
          "metadata": {},
          "execution_count": 6
        }
      ]
    },
    {
      "cell_type": "code",
      "metadata": {
        "colab": {
          "base_uri": "https://localhost:8080/",
          "height": 35
        },
        "id": "h1EXJ59tV9Ll",
        "outputId": "cacbdca3-4857-4465-d6c2-aeec952a8bfd"
      },
      "source": [
        "my_string[2: ]"
      ],
      "execution_count": 7,
      "outputs": [
        {
          "output_type": "execute_result",
          "data": {
            "application/vnd.google.colaboratory.intrinsic+json": {
              "type": "string"
            },
            "text/plain": [
              "'love cats'"
            ]
          },
          "metadata": {},
          "execution_count": 7
        }
      ]
    },
    {
      "cell_type": "code",
      "metadata": {
        "colab": {
          "base_uri": "https://localhost:8080/",
          "height": 35
        },
        "id": "Y1MCqEkKW3Lq",
        "outputId": "3d0a786e-787c-46ad-d048-d7637fff7fc2"
      },
      "source": [
        "my_string[:6]"
      ],
      "execution_count": 8,
      "outputs": [
        {
          "output_type": "execute_result",
          "data": {
            "application/vnd.google.colaboratory.intrinsic+json": {
              "type": "string"
            },
            "text/plain": [
              "'I love'"
            ]
          },
          "metadata": {},
          "execution_count": 8
        }
      ]
    },
    {
      "cell_type": "code",
      "metadata": {
        "colab": {
          "base_uri": "https://localhost:8080/",
          "height": 165
        },
        "id": "rzqJFgmRXGYu",
        "outputId": "cc94b1bb-7b21-4577-de4f-1f54c0778c50"
      },
      "source": [
        "my_string[0] = \"Y\""
      ],
      "execution_count": 9,
      "outputs": [
        {
          "output_type": "error",
          "ename": "TypeError",
          "evalue": "ignored",
          "traceback": [
            "\u001b[0;31m---------------------------------------------------------------------------\u001b[0m",
            "\u001b[0;31mTypeError\u001b[0m                                 Traceback (most recent call last)",
            "\u001b[0;32m<ipython-input-9-668eacba1c37>\u001b[0m in \u001b[0;36m<module>\u001b[0;34m()\u001b[0m\n\u001b[0;32m----> 1\u001b[0;31m \u001b[0mmy_string\u001b[0m\u001b[0;34m[\u001b[0m\u001b[0;36m0\u001b[0m\u001b[0;34m]\u001b[0m \u001b[0;34m=\u001b[0m \u001b[0;34m\"Y\"\u001b[0m\u001b[0;34m\u001b[0m\u001b[0;34m\u001b[0m\u001b[0m\n\u001b[0m",
            "\u001b[0;31mTypeError\u001b[0m: 'str' object does not support item assignment"
          ]
        }
      ]
    },
    {
      "cell_type": "markdown",
      "metadata": {
        "id": "I3_JXnIbKGPu"
      },
      "source": [
        "String methods: https://www.w3schools.com/python/python_ref_string.asp"
      ]
    },
    {
      "cell_type": "markdown",
      "metadata": {
        "id": "UljFtPeDKGPv"
      },
      "source": [
        "## Lists"
      ]
    },
    {
      "cell_type": "code",
      "metadata": {
        "id": "rQHBLWmfKGPw"
      },
      "source": [
        "teachers = [\"Ignacio\",\"Raúl\"]"
      ],
      "execution_count": 10,
      "outputs": []
    },
    {
      "cell_type": "code",
      "metadata": {
        "id": "7yEusjg6KGPw",
        "colab": {
          "base_uri": "https://localhost:8080/"
        },
        "outputId": "c9e3f01d-a9b4-4b9f-c557-18de1317abd9"
      },
      "source": [
        "type(teachers)"
      ],
      "execution_count": 11,
      "outputs": [
        {
          "output_type": "execute_result",
          "data": {
            "text/plain": [
              "list"
            ]
          },
          "metadata": {},
          "execution_count": 11
        }
      ]
    },
    {
      "cell_type": "markdown",
      "metadata": {
        "id": "MybbKKMUKGPw"
      },
      "source": [
        "#### Indexing, slicing, appending"
      ]
    },
    {
      "cell_type": "code",
      "metadata": {
        "id": "w2fD3VsBKGPw",
        "colab": {
          "base_uri": "https://localhost:8080/",
          "height": 35
        },
        "outputId": "d004e869-8630-409c-d87d-caef0416ce56"
      },
      "source": [
        "teachers[1]"
      ],
      "execution_count": 12,
      "outputs": [
        {
          "output_type": "execute_result",
          "data": {
            "application/vnd.google.colaboratory.intrinsic+json": {
              "type": "string"
            },
            "text/plain": [
              "'Raúl'"
            ]
          },
          "metadata": {},
          "execution_count": 12
        }
      ]
    },
    {
      "cell_type": "code",
      "metadata": {
        "colab": {
          "base_uri": "https://localhost:8080/",
          "height": 35
        },
        "id": "SF9_CRInXlAh",
        "outputId": "9022ed03-4a35-4e40-8422-63d4127b82b1"
      },
      "source": [
        "teachers[len(teachers)-1]"
      ],
      "execution_count": 13,
      "outputs": [
        {
          "output_type": "execute_result",
          "data": {
            "application/vnd.google.colaboratory.intrinsic+json": {
              "type": "string"
            },
            "text/plain": [
              "'Raúl'"
            ]
          },
          "metadata": {},
          "execution_count": 13
        }
      ]
    },
    {
      "cell_type": "code",
      "metadata": {
        "colab": {
          "base_uri": "https://localhost:8080/"
        },
        "id": "AmZXZKAqrMa8",
        "outputId": "a6935668-6835-475a-cbc9-d7da2ddda5ed"
      },
      "source": [
        "len(teachers)"
      ],
      "execution_count": 14,
      "outputs": [
        {
          "output_type": "execute_result",
          "data": {
            "text/plain": [
              "2"
            ]
          },
          "metadata": {},
          "execution_count": 14
        }
      ]
    },
    {
      "cell_type": "code",
      "metadata": {
        "colab": {
          "base_uri": "https://localhost:8080/"
        },
        "id": "THuH-nKIXurb",
        "outputId": "704c1c4d-b29c-4744-c702-c2c6166f8761"
      },
      "source": [
        "len(teachers) - 1"
      ],
      "execution_count": 15,
      "outputs": [
        {
          "output_type": "execute_result",
          "data": {
            "text/plain": [
              "1"
            ]
          },
          "metadata": {},
          "execution_count": 15
        }
      ]
    },
    {
      "cell_type": "code",
      "metadata": {
        "colab": {
          "base_uri": "https://localhost:8080/",
          "height": 165
        },
        "id": "cB3Tb3IWX5t0",
        "outputId": "8d168ae4-f180-410b-eee3-309d702dcb5f"
      },
      "source": [
        "teachers[3]"
      ],
      "execution_count": 16,
      "outputs": [
        {
          "output_type": "error",
          "ename": "IndexError",
          "evalue": "ignored",
          "traceback": [
            "\u001b[0;31m---------------------------------------------------------------------------\u001b[0m",
            "\u001b[0;31mIndexError\u001b[0m                                Traceback (most recent call last)",
            "\u001b[0;32m<ipython-input-16-fb0447530ca2>\u001b[0m in \u001b[0;36m<module>\u001b[0;34m()\u001b[0m\n\u001b[0;32m----> 1\u001b[0;31m \u001b[0mteachers\u001b[0m\u001b[0;34m[\u001b[0m\u001b[0;36m3\u001b[0m\u001b[0;34m]\u001b[0m\u001b[0;34m\u001b[0m\u001b[0;34m\u001b[0m\u001b[0m\n\u001b[0m",
            "\u001b[0;31mIndexError\u001b[0m: list index out of range"
          ]
        }
      ]
    },
    {
      "cell_type": "markdown",
      "metadata": {
        "id": "CO8l2t1uKGPw"
      },
      "source": [
        "## Working with lists"
      ]
    },
    {
      "cell_type": "code",
      "metadata": {
        "id": "aTc0UiivKGPx"
      },
      "source": [
        "students = [\"Alberto Ranz\",\n",
        "            \"Aleksandar Nikolov\",\n",
        "            \"Ayub Pattan\",\n",
        "            \"Dorothea Lowe\",\n",
        "            \"Elina Neu\",\n",
        "            \"Emanuele Pireddu\",\n",
        "            \"Kim Buchner\",\n",
        "            \"Kübra Betkas\",\n",
        "            \"Maximilian Sören\",\n",
        "            \"Tim Eisenmenger\",\n",
        "            \"Laura Trapero\"]"
      ],
      "execution_count": 17,
      "outputs": []
    },
    {
      "cell_type": "code",
      "metadata": {
        "colab": {
          "base_uri": "https://localhost:8080/",
          "height": 35
        },
        "id": "ICuPT6BCrllp",
        "outputId": "2704f77c-1e0f-4bda-e16d-a6fcbde3350d"
      },
      "source": [
        "students[0]"
      ],
      "execution_count": 18,
      "outputs": [
        {
          "output_type": "execute_result",
          "data": {
            "application/vnd.google.colaboratory.intrinsic+json": {
              "type": "string"
            },
            "text/plain": [
              "'Alberto Ranz'"
            ]
          },
          "metadata": {},
          "execution_count": 18
        }
      ]
    },
    {
      "cell_type": "code",
      "metadata": {
        "colab": {
          "base_uri": "https://localhost:8080/"
        },
        "id": "Hp3QkC-Vrwt9",
        "outputId": "974e49f3-cdd2-4b45-9070-9a94c4005957"
      },
      "source": [
        "type(students[0])"
      ],
      "execution_count": 19,
      "outputs": [
        {
          "output_type": "execute_result",
          "data": {
            "text/plain": [
              "str"
            ]
          },
          "metadata": {},
          "execution_count": 19
        }
      ]
    },
    {
      "cell_type": "code",
      "metadata": {
        "colab": {
          "base_uri": "https://localhost:8080/",
          "height": 35
        },
        "id": "i5x_6o7tr04c",
        "outputId": "d5a46a90-c7f7-40d6-e584-7b79b0d12430"
      },
      "source": [
        "students[0][0]"
      ],
      "execution_count": 20,
      "outputs": [
        {
          "output_type": "execute_result",
          "data": {
            "application/vnd.google.colaboratory.intrinsic+json": {
              "type": "string"
            },
            "text/plain": [
              "'A'"
            ]
          },
          "metadata": {},
          "execution_count": 20
        }
      ]
    },
    {
      "cell_type": "code",
      "metadata": {
        "colab": {
          "base_uri": "https://localhost:8080/",
          "height": 35
        },
        "id": "iTxyMSmZZ2Zd",
        "outputId": "bc484a43-0209-4de9-9513-8abdd5301cd0"
      },
      "source": [
        "students[0][0]"
      ],
      "execution_count": 21,
      "outputs": [
        {
          "output_type": "execute_result",
          "data": {
            "application/vnd.google.colaboratory.intrinsic+json": {
              "type": "string"
            },
            "text/plain": [
              "'A'"
            ]
          },
          "metadata": {},
          "execution_count": 21
        }
      ]
    },
    {
      "cell_type": "code",
      "metadata": {
        "id": "a0CPwR6aaXtA"
      },
      "source": [
        "students2 = [\"Faisal Hammad\",\n",
        "            [\"Ignacio Rus\",\"Anna Karchenkova\"],\n",
        "            \"José Martínez\",\n",
        "            \"Lisa Saunders\",\n",
        "            \"Nathalie H\",\n",
        "            \"Sarah Vonderberg\",\n",
        "            \"Tsvetlina Minkova\",\n",
        "            \"Wenlin Xiao\"]"
      ],
      "execution_count": 22,
      "outputs": []
    },
    {
      "cell_type": "code",
      "metadata": {
        "colab": {
          "base_uri": "https://localhost:8080/"
        },
        "id": "hlfqPpONsgfd",
        "outputId": "567e896f-80b6-47a6-d9f5-fb570b31705e"
      },
      "source": [
        "students2[1]"
      ],
      "execution_count": 23,
      "outputs": [
        {
          "output_type": "execute_result",
          "data": {
            "text/plain": [
              "['Ignacio Rus', 'Anna Karchenkova']"
            ]
          },
          "metadata": {},
          "execution_count": 23
        }
      ]
    },
    {
      "cell_type": "code",
      "metadata": {
        "colab": {
          "base_uri": "https://localhost:8080/",
          "height": 35
        },
        "id": "Aj32V2fAsmxA",
        "outputId": "216c69cf-ab1e-4c63-ade1-524f110394ab"
      },
      "source": [
        "students2[1][1]"
      ],
      "execution_count": 24,
      "outputs": [
        {
          "output_type": "execute_result",
          "data": {
            "application/vnd.google.colaboratory.intrinsic+json": {
              "type": "string"
            },
            "text/plain": [
              "'Anna Karchenkova'"
            ]
          },
          "metadata": {},
          "execution_count": 24
        }
      ]
    },
    {
      "cell_type": "code",
      "metadata": {
        "colab": {
          "base_uri": "https://localhost:8080/",
          "height": 35
        },
        "id": "Je5GLP1lsu5U",
        "outputId": "04c2cd00-b810-47cd-8ef9-d2f8284d5b08"
      },
      "source": [
        "students2[1][1][0]"
      ],
      "execution_count": 25,
      "outputs": [
        {
          "output_type": "execute_result",
          "data": {
            "application/vnd.google.colaboratory.intrinsic+json": {
              "type": "string"
            },
            "text/plain": [
              "'A'"
            ]
          },
          "metadata": {},
          "execution_count": 25
        }
      ]
    },
    {
      "cell_type": "code",
      "metadata": {
        "colab": {
          "base_uri": "https://localhost:8080/",
          "height": 35
        },
        "id": "Ef4wYhhNasKD",
        "outputId": "c2582fa4-c0bc-444c-f736-5deaa815a76e"
      },
      "source": [
        "students2[1][1][0]"
      ],
      "execution_count": 26,
      "outputs": [
        {
          "output_type": "execute_result",
          "data": {
            "application/vnd.google.colaboratory.intrinsic+json": {
              "type": "string"
            },
            "text/plain": [
              "'A'"
            ]
          },
          "metadata": {},
          "execution_count": 26
        }
      ]
    },
    {
      "cell_type": "markdown",
      "metadata": {
        "id": "ebggPTQJKGPy"
      },
      "source": [
        "#### Print male students "
      ]
    },
    {
      "cell_type": "code",
      "metadata": {
        "id": "G9A4KCJKKGPy",
        "colab": {
          "base_uri": "https://localhost:8080/"
        },
        "outputId": "dfe289b7-60eb-4303-f3df-fe51209d0b3c"
      },
      "source": [
        "students"
      ],
      "execution_count": 27,
      "outputs": [
        {
          "output_type": "execute_result",
          "data": {
            "text/plain": [
              "['Alberto Ranz',\n",
              " 'Aleksandar Nikolov',\n",
              " 'Ayub Pattan',\n",
              " 'Dorothea Lowe',\n",
              " 'Elina Neu',\n",
              " 'Emanuele Pireddu',\n",
              " 'Kim Buchner',\n",
              " 'Kübra Betkas',\n",
              " 'Maximilian Sören',\n",
              " 'Tim Eisenmenger',\n",
              " 'Laura Trapero']"
            ]
          },
          "metadata": {},
          "execution_count": 27
        }
      ]
    },
    {
      "cell_type": "code",
      "metadata": {
        "colab": {
          "base_uri": "https://localhost:8080/"
        },
        "id": "Qmv5Qdc6aN3i",
        "outputId": "fe365466-5b88-40c5-f538-6c6fbd7ddc33"
      },
      "source": [
        "students[0:3]"
      ],
      "execution_count": 28,
      "outputs": [
        {
          "output_type": "execute_result",
          "data": {
            "text/plain": [
              "['Alberto Ranz', 'Aleksandar Nikolov', 'Ayub Pattan']"
            ]
          },
          "metadata": {},
          "execution_count": 28
        }
      ]
    },
    {
      "cell_type": "code",
      "metadata": {
        "colab": {
          "base_uri": "https://localhost:8080/"
        },
        "id": "EFKZvwM3bM1m",
        "outputId": "6557f761-c66c-48ba-e154-334cf925e78c"
      },
      "source": [
        "students3 = students\n",
        "students3[1] = \"Lisa Saunders\"\n",
        "students3[3] = \"Ignacio Rus\"\n",
        "students3"
      ],
      "execution_count": 29,
      "outputs": [
        {
          "output_type": "execute_result",
          "data": {
            "text/plain": [
              "['Alberto Ranz',\n",
              " 'Lisa Saunders',\n",
              " 'Ayub Pattan',\n",
              " 'Ignacio Rus',\n",
              " 'Elina Neu',\n",
              " 'Emanuele Pireddu',\n",
              " 'Kim Buchner',\n",
              " 'Kübra Betkas',\n",
              " 'Maximilian Sören',\n",
              " 'Tim Eisenmenger',\n",
              " 'Laura Trapero']"
            ]
          },
          "metadata": {},
          "execution_count": 29
        }
      ]
    },
    {
      "cell_type": "markdown",
      "metadata": {
        "id": "F0-AgkMDSCJD"
      },
      "source": [
        "Let's go back and get used to work a bit with strings. Imagine that we want to pick one student and pick only the name."
      ]
    },
    {
      "cell_type": "code",
      "metadata": {
        "colab": {
          "base_uri": "https://localhost:8080/",
          "height": 35
        },
        "id": "ve896eG-0cBm",
        "outputId": "b1a45be4-ea3e-42f2-dd2a-8f7090e6e7a1"
      },
      "source": [
        "students[0]"
      ],
      "execution_count": 36,
      "outputs": [
        {
          "output_type": "execute_result",
          "data": {
            "application/vnd.google.colaboratory.intrinsic+json": {
              "type": "string"
            },
            "text/plain": [
              "'Alberto Ranz'"
            ]
          },
          "metadata": {},
          "execution_count": 36
        }
      ]
    },
    {
      "cell_type": "code",
      "metadata": {
        "id": "Fv4eQmO30lzO",
        "colab": {
          "base_uri": "https://localhost:8080/"
        },
        "outputId": "edc19cf2-ec6c-4a3f-ff2d-a735ee8c532a"
      },
      "source": [
        "loc = students[0].find(\" \")\n",
        "loc"
      ],
      "execution_count": 39,
      "outputs": [
        {
          "output_type": "execute_result",
          "data": {
            "text/plain": [
              "7"
            ]
          },
          "metadata": {},
          "execution_count": 39
        }
      ]
    },
    {
      "cell_type": "code",
      "metadata": {
        "colab": {
          "base_uri": "https://localhost:8080/",
          "height": 35
        },
        "id": "Rz6u0rek0z32",
        "outputId": "2499231b-53ed-42f9-f114-3a61a421b02a"
      },
      "source": [
        "students[0][:loc]"
      ],
      "execution_count": 40,
      "outputs": [
        {
          "output_type": "execute_result",
          "data": {
            "application/vnd.google.colaboratory.intrinsic+json": {
              "type": "string"
            },
            "text/plain": [
              "'Alberto'"
            ]
          },
          "metadata": {},
          "execution_count": 40
        }
      ]
    },
    {
      "cell_type": "code",
      "metadata": {
        "colab": {
          "base_uri": "https://localhost:8080/",
          "height": 35
        },
        "id": "xVvuPuAK04jg",
        "outputId": "ad8f755a-3137-436a-c802-8f23f0b72cfb"
      },
      "source": [
        "students[0][loc+1:]"
      ],
      "execution_count": 41,
      "outputs": [
        {
          "output_type": "execute_result",
          "data": {
            "application/vnd.google.colaboratory.intrinsic+json": {
              "type": "string"
            },
            "text/plain": [
              "'Ranz'"
            ]
          },
          "metadata": {},
          "execution_count": 41
        }
      ]
    },
    {
      "cell_type": "markdown",
      "metadata": {
        "id": "M1RXwrR9SVwr"
      },
      "source": [
        "Now let's make it easier. All the names have a blank space in beteween. Therefore, we can try to sploit this in order to retrieve the name of the students. \n",
        "\n",
        "The `split(delimiter)` function can be used into a string in order to return a list of elements which where separated by the delimiter. By default the delimiter is a blank space."
      ]
    },
    {
      "cell_type": "code",
      "metadata": {
        "colab": {
          "base_uri": "https://localhost:8080/"
        },
        "id": "AX1BZ0o0zaLq",
        "outputId": "a5eebac8-5938-4ac4-ca6a-c4c0b74d73c2"
      },
      "source": [
        "students[0].split()"
      ],
      "execution_count": 42,
      "outputs": [
        {
          "output_type": "execute_result",
          "data": {
            "text/plain": [
              "['Alberto', 'Ranz']"
            ]
          },
          "metadata": {},
          "execution_count": 42
        }
      ]
    },
    {
      "cell_type": "code",
      "metadata": {
        "colab": {
          "base_uri": "https://localhost:8080/"
        },
        "id": "t8GhXmRyTODo",
        "outputId": "da118ca4-0cdf-4b57-fff2-7961d9c4b76a"
      },
      "source": [
        "type(students[0].split())"
      ],
      "execution_count": 43,
      "outputs": [
        {
          "output_type": "execute_result",
          "data": {
            "text/plain": [
              "list"
            ]
          },
          "metadata": {},
          "execution_count": 43
        }
      ]
    },
    {
      "cell_type": "markdown",
      "metadata": {
        "id": "y0l1vVboTAID"
      },
      "source": [
        "Now let's print the name and the surname for one student."
      ]
    },
    {
      "cell_type": "code",
      "metadata": {
        "colab": {
          "base_uri": "https://localhost:8080/"
        },
        "id": "4lyOEBWMTFrv",
        "outputId": "f9538812-0ccc-4570-b4bb-0b27e0516a88"
      },
      "source": [
        "print(\"The name of the student is {} and the surname is {}\".format(students[0].split()[0],students[0].split()[1]))"
      ],
      "execution_count": 44,
      "outputs": [
        {
          "output_type": "stream",
          "name": "stdout",
          "text": [
            "The name of the student is Alberto and the surname is Ranz\n"
          ]
        }
      ]
    },
    {
      "cell_type": "markdown",
      "metadata": {
        "id": "Lk-_AtHzVGAN"
      },
      "source": [
        "Now let's see how to check is someone is in the list. "
      ]
    },
    {
      "cell_type": "code",
      "metadata": {
        "colab": {
          "base_uri": "https://localhost:8080/"
        },
        "id": "nCAReBw1VKbv",
        "outputId": "41423dac-c9a4-4ee0-8728-4ce83a01aa41"
      },
      "source": [
        "\"Ignacio\" in students"
      ],
      "execution_count": 68,
      "outputs": [
        {
          "output_type": "execute_result",
          "data": {
            "text/plain": [
              "False"
            ]
          },
          "metadata": {},
          "execution_count": 68
        }
      ]
    },
    {
      "cell_type": "code",
      "metadata": {
        "colab": {
          "base_uri": "https://localhost:8080/"
        },
        "id": "NcNcfZCDVNEP",
        "outputId": "67c7a710-40f4-4ad1-ec67-452c6d1cc16a"
      },
      "source": [
        "students"
      ],
      "execution_count": 69,
      "outputs": [
        {
          "output_type": "execute_result",
          "data": {
            "text/plain": [
              "['Alberto Ranz',\n",
              " 'Lisa Saunders',\n",
              " 'Ayub Pattan',\n",
              " 'Ignacio Rus',\n",
              " 'Elina Neu',\n",
              " 'Emanuele Pireddu',\n",
              " 'Kim Buchner',\n",
              " 'Kübra Betkas',\n",
              " 'Maximilian Sören',\n",
              " 'Tim Eisenmenger',\n",
              " 'Laura Trapero']"
            ]
          },
          "metadata": {},
          "execution_count": 69
        }
      ]
    },
    {
      "cell_type": "markdown",
      "metadata": {
        "id": "EfUFyuLpVRl-"
      },
      "source": [
        "It says False because `in` is looking for a perfect match. "
      ]
    },
    {
      "cell_type": "code",
      "metadata": {
        "colab": {
          "base_uri": "https://localhost:8080/"
        },
        "id": "VgycYB-YVYfg",
        "outputId": "5b9bf020-5c36-4827-b972-d569b7d13542"
      },
      "source": [
        "\"Ignacio Rus\" in students"
      ],
      "execution_count": 70,
      "outputs": [
        {
          "output_type": "execute_result",
          "data": {
            "text/plain": [
              "True"
            ]
          },
          "metadata": {},
          "execution_count": 70
        }
      ]
    },
    {
      "cell_type": "markdown",
      "metadata": {
        "id": "kEl64lawVb0p"
      },
      "source": [
        "Now it will be quite useful to know in which slot is located \"Ignacio Rus\". In order to know this, we can use `index()` "
      ]
    },
    {
      "cell_type": "code",
      "metadata": {
        "colab": {
          "base_uri": "https://localhost:8080/"
        },
        "id": "Bv-n_rusVnIu",
        "outputId": "fccd8684-8c27-4c4d-95d1-b9e473c87ff7"
      },
      "source": [
        "students.index(\"Ignacio Rus\")"
      ],
      "execution_count": 71,
      "outputs": [
        {
          "output_type": "execute_result",
          "data": {
            "text/plain": [
              "3"
            ]
          },
          "metadata": {},
          "execution_count": 71
        }
      ]
    },
    {
      "cell_type": "markdown",
      "metadata": {
        "id": "snRdWHIvKGPz"
      },
      "source": [
        "Print the surname for \"Laura\"."
      ]
    },
    {
      "cell_type": "markdown",
      "metadata": {
        "id": "xqZeeilCKGP2"
      },
      "source": [
        "## Working with Dictionaries"
      ]
    },
    {
      "cell_type": "code",
      "metadata": {
        "id": "VUaU8Xx0KGP2"
      },
      "source": [
        "ages = {\"Ignacio\": 45,\n",
        "        \"Raul\": 29,\n",
        "       }"
      ],
      "execution_count": 45,
      "outputs": []
    },
    {
      "cell_type": "code",
      "metadata": {
        "id": "xjg1Cly6KGP2",
        "colab": {
          "base_uri": "https://localhost:8080/"
        },
        "outputId": "3512c004-2f5e-47d4-9452-5b594d350284"
      },
      "source": [
        "ages"
      ],
      "execution_count": 46,
      "outputs": [
        {
          "output_type": "execute_result",
          "data": {
            "text/plain": [
              "{'Ignacio': 45, 'Raul': 29}"
            ]
          },
          "metadata": {},
          "execution_count": 46
        }
      ]
    },
    {
      "cell_type": "markdown",
      "metadata": {
        "id": "uK3DKyvpKGP2"
      },
      "source": [
        "#### Accessing keys & values"
      ]
    },
    {
      "cell_type": "code",
      "metadata": {
        "colab": {
          "base_uri": "https://localhost:8080/"
        },
        "id": "soGmPromQAEh",
        "outputId": "64a48f36-51bf-4f72-d0a4-a55b41a3dd3f"
      },
      "source": [
        "ages.keys()"
      ],
      "execution_count": 47,
      "outputs": [
        {
          "output_type": "execute_result",
          "data": {
            "text/plain": [
              "dict_keys(['Ignacio', 'Raul'])"
            ]
          },
          "metadata": {},
          "execution_count": 47
        }
      ]
    },
    {
      "cell_type": "markdown",
      "metadata": {
        "id": "jY8rb8rwTzDE"
      },
      "source": [
        "This object is not a list, but we can cast it as a list using `list()`"
      ]
    },
    {
      "cell_type": "code",
      "metadata": {
        "id": "T1ee_LIoKGP2",
        "colab": {
          "base_uri": "https://localhost:8080/"
        },
        "outputId": "c92d68cb-1882-472e-adb8-dcd38b9d6af5"
      },
      "source": [
        "list(ages.keys())"
      ],
      "execution_count": null,
      "outputs": [
        {
          "output_type": "execute_result",
          "data": {
            "text/plain": [
              "['Ignacio', 'Raul']"
            ]
          },
          "metadata": {
            "tags": []
          },
          "execution_count": 91
        }
      ]
    },
    {
      "cell_type": "code",
      "metadata": {
        "colab": {
          "base_uri": "https://localhost:8080/"
        },
        "id": "xO3Umr5mT75k",
        "outputId": "768c41a9-53fb-47e6-d3c0-df628452c88f"
      },
      "source": [
        "ages.values()"
      ],
      "execution_count": 48,
      "outputs": [
        {
          "output_type": "execute_result",
          "data": {
            "text/plain": [
              "dict_values([45, 29])"
            ]
          },
          "metadata": {},
          "execution_count": 48
        }
      ]
    },
    {
      "cell_type": "code",
      "metadata": {
        "colab": {
          "base_uri": "https://localhost:8080/"
        },
        "id": "WeKNnEuChavH",
        "outputId": "5ab7bc7c-6c38-461f-8db1-365cffd9576e"
      },
      "source": [
        "list(ages.values())"
      ],
      "execution_count": 49,
      "outputs": [
        {
          "output_type": "execute_result",
          "data": {
            "text/plain": [
              "[45, 29]"
            ]
          },
          "metadata": {},
          "execution_count": 49
        }
      ]
    },
    {
      "cell_type": "code",
      "metadata": {
        "colab": {
          "base_uri": "https://localhost:8080/"
        },
        "id": "UxVcUm5kUDCS",
        "outputId": "aea28ec6-36ca-4f09-873d-d140df52b0d9"
      },
      "source": [
        "ages.items()"
      ],
      "execution_count": 50,
      "outputs": [
        {
          "output_type": "execute_result",
          "data": {
            "text/plain": [
              "dict_items([('Ignacio', 45), ('Raul', 29)])"
            ]
          },
          "metadata": {},
          "execution_count": 50
        }
      ]
    },
    {
      "cell_type": "code",
      "metadata": {
        "colab": {
          "base_uri": "https://localhost:8080/"
        },
        "id": "8v8KGodLhlNk",
        "outputId": "acab4ee6-0ced-4372-bb90-80f9e3d9a1b8"
      },
      "source": [
        "list(ages.items())"
      ],
      "execution_count": 51,
      "outputs": [
        {
          "output_type": "execute_result",
          "data": {
            "text/plain": [
              "[('Ignacio', 45), ('Raul', 29)]"
            ]
          },
          "metadata": {},
          "execution_count": 51
        }
      ]
    },
    {
      "cell_type": "code",
      "metadata": {
        "id": "NytmS77oht8p"
      },
      "source": [
        "my_list = list(ages.items())"
      ],
      "execution_count": 52,
      "outputs": []
    },
    {
      "cell_type": "code",
      "metadata": {
        "colab": {
          "base_uri": "https://localhost:8080/"
        },
        "id": "qETQL4jPh0f8",
        "outputId": "389d95e6-ff77-4e1f-9672-7d7ffda3a3da"
      },
      "source": [
        "my_list[-1][1]"
      ],
      "execution_count": 53,
      "outputs": [
        {
          "output_type": "execute_result",
          "data": {
            "text/plain": [
              "29"
            ]
          },
          "metadata": {},
          "execution_count": 53
        }
      ]
    },
    {
      "cell_type": "markdown",
      "metadata": {
        "id": "SFyFJYrgKGP3"
      },
      "source": [
        "#### Nested dictionaries\n",
        "\n",
        "Create a dictionary of teachers. For it teacher, it stores their age, role and the city where they were born."
      ]
    },
    {
      "cell_type": "code",
      "metadata": {
        "id": "HAgMDjweKGP3"
      },
      "source": [
        "teachers_dict = {\n",
        "    \"Ignacio\":{\n",
        "        \"age\": 45,\n",
        "        \"role\":\"LT\",\n",
        "        \"city_born\":\"Barcelona\"\n",
        "    },\n",
        "    \"Raul\":{\n",
        "        \"age\":29,\n",
        "        \"role\":\"TA\",\n",
        "        \"city_born\":\"Barcelona\"\n",
        "    }\n",
        "}"
      ],
      "execution_count": 55,
      "outputs": []
    },
    {
      "cell_type": "code",
      "metadata": {
        "id": "TPHK_PxzKGP3",
        "colab": {
          "base_uri": "https://localhost:8080/"
        },
        "outputId": "1dea3adf-13c5-4179-a9cb-f37e49f769f0"
      },
      "source": [
        "teachers_dict.keys()"
      ],
      "execution_count": 56,
      "outputs": [
        {
          "output_type": "execute_result",
          "data": {
            "text/plain": [
              "dict_keys(['Ignacio', 'Raul'])"
            ]
          },
          "metadata": {},
          "execution_count": 56
        }
      ]
    },
    {
      "cell_type": "code",
      "metadata": {
        "colab": {
          "base_uri": "https://localhost:8080/"
        },
        "id": "ozX_mbkUkTMs",
        "outputId": "9190e73f-c49a-4008-bc54-c60e7279f137"
      },
      "source": [
        "teachers_dict.values()"
      ],
      "execution_count": 57,
      "outputs": [
        {
          "output_type": "execute_result",
          "data": {
            "text/plain": [
              "dict_values([{'age': 45, 'role': 'LT', 'city_born': 'Barcelona'}, {'age': 29, 'role': 'TA', 'city_born': 'Barcelona'}])"
            ]
          },
          "metadata": {},
          "execution_count": 57
        }
      ]
    },
    {
      "cell_type": "code",
      "metadata": {
        "colab": {
          "base_uri": "https://localhost:8080/"
        },
        "id": "bOLuAQyWkbd_",
        "outputId": "5e4ed4ee-a85e-4bf5-874d-895e253b6b5a"
      },
      "source": [
        "teachers_dict[\"Ignacio\"]"
      ],
      "execution_count": 58,
      "outputs": [
        {
          "output_type": "execute_result",
          "data": {
            "text/plain": [
              "{'age': 45, 'city_born': 'Barcelona', 'role': 'LT'}"
            ]
          },
          "metadata": {},
          "execution_count": 58
        }
      ]
    },
    {
      "cell_type": "code",
      "metadata": {
        "colab": {
          "base_uri": "https://localhost:8080/",
          "height": 35
        },
        "id": "ov8zTHVTknua",
        "outputId": "fc6250cd-952b-4900-d1ad-655ffdbb85d8"
      },
      "source": [
        "teachers_dict[\"Ignacio\"][\"city_born\"]"
      ],
      "execution_count": 59,
      "outputs": [
        {
          "output_type": "execute_result",
          "data": {
            "application/vnd.google.colaboratory.intrinsic+json": {
              "type": "string"
            },
            "text/plain": [
              "'Barcelona'"
            ]
          },
          "metadata": {},
          "execution_count": 59
        }
      ]
    },
    {
      "cell_type": "markdown",
      "metadata": {
        "id": "PhTUxp3iKGP3"
      },
      "source": [
        "## Tuples"
      ]
    },
    {
      "cell_type": "code",
      "metadata": {
        "id": "vvMz2_IdKGP3",
        "colab": {
          "base_uri": "https://localhost:8080/"
        },
        "outputId": "27a3091f-8c8b-4071-e50f-5cee7dee42c8"
      },
      "source": [
        "my_tuple = (\"Manchester\", 1245.5, [\"Lisa\", 23])\n",
        "my_tuple    "
      ],
      "execution_count": 60,
      "outputs": [
        {
          "output_type": "execute_result",
          "data": {
            "text/plain": [
              "('Manchester', 1245.5, ['Lisa', 23])"
            ]
          },
          "metadata": {},
          "execution_count": 60
        }
      ]
    },
    {
      "cell_type": "code",
      "metadata": {
        "colab": {
          "base_uri": "https://localhost:8080/",
          "height": 35
        },
        "id": "8hwgWNg_mZrL",
        "outputId": "4899fdea-dea5-417d-e18b-4af4b62df920"
      },
      "source": [
        "my_tuple[2][0]"
      ],
      "execution_count": 61,
      "outputs": [
        {
          "output_type": "execute_result",
          "data": {
            "application/vnd.google.colaboratory.intrinsic+json": {
              "type": "string"
            },
            "text/plain": [
              "'Lisa'"
            ]
          },
          "metadata": {},
          "execution_count": 61
        }
      ]
    },
    {
      "cell_type": "code",
      "metadata": {
        "colab": {
          "base_uri": "https://localhost:8080/",
          "height": 165
        },
        "id": "ipUtoWmBmkHU",
        "outputId": "cdf49855-7ca4-42d7-84b4-7b192ff2ae65"
      },
      "source": [
        "my_tuple[0] = \"El Cairo\""
      ],
      "execution_count": 62,
      "outputs": [
        {
          "output_type": "error",
          "ename": "TypeError",
          "evalue": "ignored",
          "traceback": [
            "\u001b[0;31m---------------------------------------------------------------------------\u001b[0m",
            "\u001b[0;31mTypeError\u001b[0m                                 Traceback (most recent call last)",
            "\u001b[0;32m<ipython-input-62-b22aa19a2f8b>\u001b[0m in \u001b[0;36m<module>\u001b[0;34m()\u001b[0m\n\u001b[0;32m----> 1\u001b[0;31m \u001b[0mmy_tuple\u001b[0m\u001b[0;34m[\u001b[0m\u001b[0;36m0\u001b[0m\u001b[0;34m]\u001b[0m \u001b[0;34m=\u001b[0m \u001b[0;34m\"El Cairo\"\u001b[0m\u001b[0;34m\u001b[0m\u001b[0;34m\u001b[0m\u001b[0m\n\u001b[0m",
            "\u001b[0;31mTypeError\u001b[0m: 'tuple' object does not support item assignment"
          ]
        }
      ]
    },
    {
      "cell_type": "markdown",
      "metadata": {
        "id": "MAPYhXigKGP4"
      },
      "source": [
        "## Sets"
      ]
    },
    {
      "cell_type": "code",
      "metadata": {
        "id": "T9PltD_MKGP4"
      },
      "source": [
        "numbers = [23,45,12,23,34]"
      ],
      "execution_count": 74,
      "outputs": []
    },
    {
      "cell_type": "markdown",
      "metadata": {
        "id": "n9CA_YwlKGP4"
      },
      "source": [
        "Take a random sample (with replacement) of 100 numbers from 1 to 100:"
      ]
    },
    {
      "cell_type": "code",
      "metadata": {
        "colab": {
          "base_uri": "https://localhost:8080/"
        },
        "id": "DH35dtBJtH7K",
        "outputId": "b0ec99bd-b62a-4e9d-bb21-560c578a9376"
      },
      "source": [
        "23 in numbers"
      ],
      "execution_count": 75,
      "outputs": [
        {
          "output_type": "execute_result",
          "data": {
            "text/plain": [
              "True"
            ]
          },
          "metadata": {},
          "execution_count": 75
        }
      ]
    },
    {
      "cell_type": "markdown",
      "metadata": {
        "id": "RPROmWfKKGP4"
      },
      "source": [
        "How many unique numbers are there in the sample?"
      ]
    },
    {
      "cell_type": "code",
      "metadata": {
        "colab": {
          "base_uri": "https://localhost:8080/"
        },
        "id": "g4VIRARvU3sm",
        "outputId": "222288a6-b44c-4f0e-f056-eecf40126331"
      },
      "source": [
        "set(numbers)"
      ],
      "execution_count": 76,
      "outputs": [
        {
          "output_type": "execute_result",
          "data": {
            "text/plain": [
              "{12, 23, 34, 45}"
            ]
          },
          "metadata": {},
          "execution_count": 76
        }
      ]
    },
    {
      "cell_type": "markdown",
      "metadata": {
        "id": "o7CGwcXWWFl3"
      },
      "source": [
        "Sets doesn't work like lists"
      ]
    },
    {
      "cell_type": "code",
      "metadata": {
        "colab": {
          "base_uri": "https://localhost:8080/",
          "height": 183
        },
        "id": "QWkz-FpcWDCI",
        "outputId": "7be8ea17-fd43-4440-b25f-72eccda2ec01"
      },
      "source": [
        "my_set = set(numbers)\n",
        "my_set[0]"
      ],
      "execution_count": 77,
      "outputs": [
        {
          "output_type": "error",
          "ename": "TypeError",
          "evalue": "ignored",
          "traceback": [
            "\u001b[0;31m---------------------------------------------------------------------------\u001b[0m",
            "\u001b[0;31mTypeError\u001b[0m                                 Traceback (most recent call last)",
            "\u001b[0;32m<ipython-input-77-b47d9788274a>\u001b[0m in \u001b[0;36m<module>\u001b[0;34m()\u001b[0m\n\u001b[1;32m      1\u001b[0m \u001b[0mmy_set\u001b[0m \u001b[0;34m=\u001b[0m \u001b[0mset\u001b[0m\u001b[0;34m(\u001b[0m\u001b[0mnumbers\u001b[0m\u001b[0;34m)\u001b[0m\u001b[0;34m\u001b[0m\u001b[0;34m\u001b[0m\u001b[0m\n\u001b[0;32m----> 2\u001b[0;31m \u001b[0mmy_set\u001b[0m\u001b[0;34m[\u001b[0m\u001b[0;36m0\u001b[0m\u001b[0;34m]\u001b[0m\u001b[0;34m\u001b[0m\u001b[0;34m\u001b[0m\u001b[0m\n\u001b[0m",
            "\u001b[0;31mTypeError\u001b[0m: 'set' object is not subscriptable"
          ]
        }
      ]
    }
  ]
}