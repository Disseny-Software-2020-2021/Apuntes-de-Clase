{
 "cells": [
  {
   "cell_type": "markdown",
   "id": "bb9c25ff",
   "metadata": {},
   "source": [
    "# Introducción a Python\n",
    "\n",
    "https://docs.python.org/3/\n",
    "\n",
    "![python](../../images/python.png)\n",
    "\n",
    "$$$$\n",
    "\n",
    "Python es un lenguaje de programación interpretado cuya filosofía hace hincapié en la legibilidad de su código. Se trata de un lenguaje de programación multiparadigma, ya que soporta parcialmente la orientación a objetos, programación imperativa y, en menor medida, programación funcional. Es un lenguaje interpretado, dinámico y multiplataforma.\n",
    "\n",
    "Es administrado por la Python Software Foundation. Posee una licencia de código abierto, denominada Python Software Foundation License."
   ]
  },
  {
   "cell_type": "code",
   "execution_count": 1,
   "id": "7ab208d1",
   "metadata": {},
   "outputs": [
    {
     "name": "stdout",
     "output_type": "stream",
     "text": [
      "The Zen of Python, by Tim Peters\n",
      "\n",
      "Beautiful is better than ugly.\n",
      "Explicit is better than implicit.\n",
      "Simple is better than complex.\n",
      "Complex is better than complicated.\n",
      "Flat is better than nested.\n",
      "Sparse is better than dense.\n",
      "Readability counts.\n",
      "Special cases aren't special enough to break the rules.\n",
      "Although practicality beats purity.\n",
      "Errors should never pass silently.\n",
      "Unless explicitly silenced.\n",
      "In the face of ambiguity, refuse the temptation to guess.\n",
      "There should be one-- and preferably only one --obvious way to do it.\n",
      "Although that way may not be obvious at first unless you're Dutch.\n",
      "Now is better than never.\n",
      "Although never is often better than *right* now.\n",
      "If the implementation is hard to explain, it's a bad idea.\n",
      "If the implementation is easy to explain, it may be a good idea.\n",
      "Namespaces are one honking great idea -- let's do more of those!\n"
     ]
    }
   ],
   "source": [
    "import this"
   ]
  },
  {
   "cell_type": "markdown",
   "id": "3bb5ec53",
   "metadata": {},
   "source": [
    "```python\n",
    "Bonito es mejor que feo.\n",
    "Explícito es mejor que implícito.\n",
    "Simple es mejor que complejo.\n",
    "Complejo es mejor que complicado.\n",
    "Plano es mejor que anidado.\n",
    "Disperso es mejor que denso.\n",
    "La legibilidad cuenta.\n",
    "Los casos especiales no son tan especiales como para romper las reglas.\n",
    "Aunque la practicidad gana a la pureza.\n",
    "Los errores nunca deben pasar en silencio.\n",
    "A menos que se silencien explícitamente.\n",
    "Ante la ambigüedad, rechaza la tentación de suponer.\n",
    "Debe haber una -y preferiblemente sólo una- forma obvia de hacerlo.\n",
    "Aunque esa manera puede no ser obvia al principio, a menos que seas holandés.\n",
    "Ahora es mejor que nunca.\n",
    "Aunque nunca es a menudo mejor que *ahora mismo*.\n",
    "Si la implementación es difícil de explicar, es una mala idea.\n",
    "Si la implementación es fácil de explicar, puede ser una buena idea.\n",
    "Los espacios de nombres son una gran idea, ¡hagamos más de ellos!\n",
    "```"
   ]
  },
  {
   "cell_type": "markdown",
   "id": "f3c597ff",
   "metadata": {},
   "source": [
    "**Tabla de contenidos:**\n",
    "\n",
    "    1  Numeric Data\n",
    "        1.1  Números enteros (integer)\n",
    "        1.2  Números reales (float)\n",
    "        1.3  Números complejos (complex)\n",
    "    2  Categoric Data\n",
    "        2.1 Cadenas de Caracteres (strings)\n",
    "    3  Booleanos\n",
    "    4  Valores nulos (None)\n",
    "    5  Estructuras de Datos compuestos:\n",
    "        5.1  Listas\n",
    "        5.2  Tuplas\n",
    "        5.3  Conjuntos (set)\n",
    "        5.4  Diccionarios \n",
    "    6  Bucles\n",
    "        6.1 For\n",
    "        6.2 While\n",
    "    7  Estructuras de control\n",
    "    8  Manejo de errores\n",
    "        \n",
    "    "
   ]
  },
  {
   "cell_type": "markdown",
   "id": "b6880d9d",
   "metadata": {},
   "source": [
    "## Numeric Data"
   ]
  },
  {
   "cell_type": "markdown",
   "id": "39bb27cf",
   "metadata": {},
   "source": [
    "### Integers (Números enteros)"
   ]
  },
  {
   "cell_type": "code",
   "execution_count": 2,
   "id": "1a21830b",
   "metadata": {},
   "outputs": [],
   "source": [
    "num = 3"
   ]
  },
  {
   "cell_type": "code",
   "execution_count": 3,
   "id": "31e770c1",
   "metadata": {},
   "outputs": [
    {
     "data": {
      "text/plain": [
       "int"
      ]
     },
     "execution_count": 3,
     "metadata": {},
     "output_type": "execute_result"
    }
   ],
   "source": [
    "type(num)"
   ]
  },
  {
   "cell_type": "markdown",
   "id": "6496c023",
   "metadata": {},
   "source": [
    "### Floats (Números reales)"
   ]
  },
  {
   "cell_type": "code",
   "execution_count": 4,
   "id": "2af0ce4b",
   "metadata": {},
   "outputs": [],
   "source": [
    "ft = 3.5"
   ]
  },
  {
   "cell_type": "code",
   "execution_count": 5,
   "id": "41ee7a60",
   "metadata": {},
   "outputs": [
    {
     "data": {
      "text/plain": [
       "float"
      ]
     },
     "execution_count": 5,
     "metadata": {},
     "output_type": "execute_result"
    }
   ],
   "source": [
    "type(ft)"
   ]
  },
  {
   "cell_type": "code",
   "execution_count": 6,
   "id": "f2ebe1e1",
   "metadata": {},
   "outputs": [],
   "source": [
    "ft_1 = 3,5"
   ]
  },
  {
   "cell_type": "code",
   "execution_count": 7,
   "id": "80437be6",
   "metadata": {},
   "outputs": [
    {
     "data": {
      "text/plain": [
       "(3, 5)"
      ]
     },
     "execution_count": 7,
     "metadata": {},
     "output_type": "execute_result"
    }
   ],
   "source": [
    "ft_1"
   ]
  },
  {
   "cell_type": "code",
   "execution_count": 8,
   "id": "f9972978",
   "metadata": {},
   "outputs": [
    {
     "data": {
      "text/plain": [
       "tuple"
      ]
     },
     "execution_count": 8,
     "metadata": {},
     "output_type": "execute_result"
    }
   ],
   "source": [
    "type(ft_1)"
   ]
  },
  {
   "cell_type": "markdown",
   "id": "cc04e966",
   "metadata": {},
   "source": [
    "### Complex (Números complejos)"
   ]
  },
  {
   "cell_type": "code",
   "execution_count": 9,
   "id": "08714277",
   "metadata": {},
   "outputs": [],
   "source": [
    "cmpx = 4j+2"
   ]
  },
  {
   "cell_type": "code",
   "execution_count": 10,
   "id": "2ad36733",
   "metadata": {},
   "outputs": [
    {
     "data": {
      "text/plain": [
       "complex"
      ]
     },
     "execution_count": 10,
     "metadata": {},
     "output_type": "execute_result"
    }
   ],
   "source": [
    "type(cmpx)"
   ]
  },
  {
   "cell_type": "markdown",
   "id": "1b835373",
   "metadata": {},
   "source": [
    "## Categoric Data "
   ]
  },
  {
   "cell_type": "markdown",
   "id": "58fbda39",
   "metadata": {},
   "source": [
    "### Strings (Cadenas de caracteres)"
   ]
  },
  {
   "cell_type": "code",
   "execution_count": 11,
   "id": "6e401cf3",
   "metadata": {},
   "outputs": [],
   "source": [
    "saludo = 'Buenos días clase'"
   ]
  },
  {
   "cell_type": "code",
   "execution_count": 12,
   "id": "a9855658",
   "metadata": {},
   "outputs": [
    {
     "data": {
      "text/plain": [
       "str"
      ]
     },
     "execution_count": 12,
     "metadata": {},
     "output_type": "execute_result"
    }
   ],
   "source": [
    "type(saludo)"
   ]
  },
  {
   "cell_type": "code",
   "execution_count": 13,
   "id": "397582a0",
   "metadata": {},
   "outputs": [
    {
     "data": {
      "text/plain": [
       "str"
      ]
     },
     "execution_count": 13,
     "metadata": {},
     "output_type": "execute_result"
    }
   ],
   "source": [
    "char = 'a'\n",
    "type(char)"
   ]
  },
  {
   "cell_type": "code",
   "execution_count": 14,
   "id": "d8fb8d69",
   "metadata": {},
   "outputs": [
    {
     "ename": "SyntaxError",
     "evalue": "invalid syntax (Temp/ipykernel_26968/1282936924.py, line 1)",
     "output_type": "error",
     "traceback": [
      "\u001b[1;36m  File \u001b[1;32m\"C:\\Users\\botic\\AppData\\Local\\Temp/ipykernel_26968/1282936924.py\"\u001b[1;36m, line \u001b[1;32m1\u001b[0m\n\u001b[1;33m    string con # los nombres de variables no pueden llevar espacios en blanco\u001b[0m\n\u001b[1;37m           ^\u001b[0m\n\u001b[1;31mSyntaxError\u001b[0m\u001b[1;31m:\u001b[0m invalid syntax\n"
     ]
    }
   ],
   "source": [
    "string con # los nombres de variables no pueden llevar espacios en blanco"
   ]
  },
  {
   "cell_type": "code",
   "execution_count": 15,
   "id": "5bcab0c9",
   "metadata": {},
   "outputs": [
    {
     "name": "stdout",
     "output_type": "stream",
     "text": [
      "Buenos 'días' clase\n"
     ]
    }
   ],
   "source": [
    "string_con_comillas = \"Buenos 'días' clase\"\n",
    "print(string_con_comillas)"
   ]
  },
  {
   "cell_type": "code",
   "execution_count": 16,
   "id": "db12e021",
   "metadata": {},
   "outputs": [
    {
     "data": {
      "text/plain": [
       "'Buenos diasclase'"
      ]
     },
     "execution_count": 16,
     "metadata": {},
     "output_type": "execute_result"
    }
   ],
   "source": [
    "\"Buenos dias\"'clase' "
   ]
  },
  {
   "cell_type": "markdown",
   "id": "862d9b14",
   "metadata": {},
   "source": [
    "#### Método len()"
   ]
  },
  {
   "cell_type": "markdown",
   "id": "7fef7772",
   "metadata": {},
   "source": [
    "El método len() se usa para conocer la longitud de la cadena"
   ]
  },
  {
   "cell_type": "code",
   "execution_count": 17,
   "id": "a90a23f1",
   "metadata": {},
   "outputs": [
    {
     "data": {
      "text/plain": [
       "17"
      ]
     },
     "execution_count": 17,
     "metadata": {},
     "output_type": "execute_result"
    }
   ],
   "source": [
    "len(saludo)"
   ]
  },
  {
   "cell_type": "markdown",
   "id": "19775e3b",
   "metadata": {},
   "source": [
    "#### Método split()"
   ]
  },
  {
   "cell_type": "markdown",
   "id": "903910d8",
   "metadata": {},
   "source": [
    "El método split toma la cadena de caracteres y la rompe cada vez que encuentre el caracter que le hemos pasado como parámetro, transformando la cadena de caracteres en una lista."
   ]
  },
  {
   "cell_type": "code",
   "execution_count": 18,
   "id": "fc157cb8",
   "metadata": {},
   "outputs": [
    {
     "data": {
      "text/plain": [
       "['Buenos', 'días', 'clase']"
      ]
     },
     "execution_count": 18,
     "metadata": {},
     "output_type": "execute_result"
    }
   ],
   "source": [
    "saludo.split()"
   ]
  },
  {
   "cell_type": "code",
   "execution_count": 19,
   "id": "547a69e4",
   "metadata": {},
   "outputs": [
    {
     "data": {
      "text/plain": [
       "list"
      ]
     },
     "execution_count": 19,
     "metadata": {},
     "output_type": "execute_result"
    }
   ],
   "source": [
    "type(saludo.split())"
   ]
  },
  {
   "cell_type": "code",
   "execution_count": 20,
   "id": "ec996427",
   "metadata": {},
   "outputs": [
    {
     "data": {
      "text/plain": [
       "['Bueno', ' día', ' cla', 'e']"
      ]
     },
     "execution_count": 20,
     "metadata": {},
     "output_type": "execute_result"
    }
   ],
   "source": [
    "saludo.split('s')"
   ]
  },
  {
   "cell_type": "code",
   "execution_count": 21,
   "id": "5b455684",
   "metadata": {},
   "outputs": [
    {
     "data": {
      "text/plain": [
       "['Buenos días ', '']"
      ]
     },
     "execution_count": 21,
     "metadata": {},
     "output_type": "execute_result"
    }
   ],
   "source": [
    "saludo.split('clase')"
   ]
  },
  {
   "cell_type": "code",
   "execution_count": null,
   "id": "af1bc8bd",
   "metadata": {},
   "outputs": [],
   "source": [
    "'Buenos'.split('')"
   ]
  },
  {
   "cell_type": "markdown",
   "id": "f8fb7d45",
   "metadata": {},
   "source": [
    "#### Método strip()"
   ]
  },
  {
   "cell_type": "markdown",
   "id": "ee66d894",
   "metadata": {},
   "source": [
    "El método strip elimina los espacios en blanco que contiene una cadena de carateres tanto a la izquierda como a la derecha, tiene dos variantes que son rstrip() y lstrip(), que eliminan únicamente los espacios en blanco a la derecha (rstrip) o a la izquierda (lstrip)"
   ]
  },
  {
   "cell_type": "code",
   "execution_count": 22,
   "id": "4b4f4678",
   "metadata": {},
   "outputs": [
    {
     "name": "stdout",
     "output_type": "stream",
     "text": [
      "     Buenos días   clase       \n"
     ]
    }
   ],
   "source": [
    "saludo_con_espacios = '     Buenos días   clase       '\n",
    "print(saludo_con_espacios)"
   ]
  },
  {
   "cell_type": "code",
   "execution_count": 23,
   "id": "b95e1da6",
   "metadata": {},
   "outputs": [
    {
     "data": {
      "text/plain": [
       "'Buenos días   clase'"
      ]
     },
     "execution_count": 23,
     "metadata": {},
     "output_type": "execute_result"
    }
   ],
   "source": [
    "saludo_con_espacios.strip()"
   ]
  },
  {
   "cell_type": "code",
   "execution_count": 24,
   "id": "a898a1ad",
   "metadata": {},
   "outputs": [
    {
     "data": {
      "text/plain": [
       "'     Buenos días   clase'"
      ]
     },
     "execution_count": 24,
     "metadata": {},
     "output_type": "execute_result"
    }
   ],
   "source": [
    "saludo_con_espacios.rstrip()"
   ]
  },
  {
   "cell_type": "code",
   "execution_count": 25,
   "id": "16765013",
   "metadata": {},
   "outputs": [
    {
     "data": {
      "text/plain": [
       "'Buenos días   clase       '"
      ]
     },
     "execution_count": 25,
     "metadata": {},
     "output_type": "execute_result"
    }
   ],
   "source": [
    "saludo_con_espacios.lstrip()"
   ]
  },
  {
   "cell_type": "markdown",
   "id": "db23ea81",
   "metadata": {},
   "source": [
    "#### Método replace()"
   ]
  },
  {
   "cell_type": "markdown",
   "id": "783dbb23",
   "metadata": {},
   "source": [
    "El método replace() sirve para sustituir un caracter o una sub-cadena de caracteres dentro de una cadena de caracteres."
   ]
  },
  {
   "cell_type": "code",
   "execution_count": 26,
   "id": "2c068bef",
   "metadata": {},
   "outputs": [
    {
     "data": {
      "text/plain": [
       "'Buenos días clase'"
      ]
     },
     "execution_count": 26,
     "metadata": {},
     "output_type": "execute_result"
    }
   ],
   "source": [
    "saludo"
   ]
  },
  {
   "cell_type": "code",
   "execution_count": 27,
   "id": "40045c7c",
   "metadata": {},
   "outputs": [
    {
     "data": {
      "text/plain": [
       "'Buenos días gentecilla'"
      ]
     },
     "execution_count": 27,
     "metadata": {},
     "output_type": "execute_result"
    }
   ],
   "source": [
    "saludo.replace('clase','gentecilla')"
   ]
  },
  {
   "cell_type": "code",
   "execution_count": 28,
   "id": "2e7576c6",
   "metadata": {},
   "outputs": [
    {
     "data": {
      "text/plain": [
       "'Buenos días clase'"
      ]
     },
     "execution_count": 28,
     "metadata": {},
     "output_type": "execute_result"
    }
   ],
   "source": [
    "saludo"
   ]
  },
  {
   "cell_type": "code",
   "execution_count": 29,
   "id": "51d4949d",
   "metadata": {},
   "outputs": [
    {
     "name": "stdout",
     "output_type": "stream",
     "text": [
      "Buenos días gentecilla\n"
     ]
    }
   ],
   "source": [
    "saludo = saludo.replace('clase','gentecilla')\n",
    "print(saludo)"
   ]
  },
  {
   "cell_type": "markdown",
   "id": "1b4a27f9",
   "metadata": {},
   "source": [
    "## Booleans "
   ]
  },
  {
   "cell_type": "code",
   "execution_count": 30,
   "id": "c851c7bc",
   "metadata": {},
   "outputs": [
    {
     "data": {
      "text/plain": [
       "(bool, bool)"
      ]
     },
     "execution_count": 30,
     "metadata": {},
     "output_type": "execute_result"
    }
   ],
   "source": [
    "type(True), type(False)"
   ]
  },
  {
   "cell_type": "code",
   "execution_count": 31,
   "id": "dc7d47bf",
   "metadata": {},
   "outputs": [
    {
     "data": {
      "text/plain": [
       "False"
      ]
     },
     "execution_count": 31,
     "metadata": {},
     "output_type": "execute_result"
    }
   ],
   "source": [
    "True == 0"
   ]
  },
  {
   "cell_type": "code",
   "execution_count": 32,
   "id": "0fb9a959",
   "metadata": {},
   "outputs": [
    {
     "data": {
      "text/plain": [
       "True"
      ]
     },
     "execution_count": 32,
     "metadata": {},
     "output_type": "execute_result"
    }
   ],
   "source": [
    "False == 0"
   ]
  },
  {
   "cell_type": "code",
   "execution_count": 33,
   "id": "0e778008",
   "metadata": {},
   "outputs": [
    {
     "data": {
      "text/plain": [
       "True"
      ]
     },
     "execution_count": 33,
     "metadata": {},
     "output_type": "execute_result"
    }
   ],
   "source": [
    "True == 1"
   ]
  },
  {
   "cell_type": "code",
   "execution_count": 34,
   "id": "3bfff24a",
   "metadata": {},
   "outputs": [
    {
     "data": {
      "text/plain": [
       "False"
      ]
     },
     "execution_count": 34,
     "metadata": {},
     "output_type": "execute_result"
    }
   ],
   "source": [
    "True == 2"
   ]
  },
  {
   "cell_type": "markdown",
   "id": "bb429f95",
   "metadata": {},
   "source": [
    "## Nulls (valores nulos)"
   ]
  },
  {
   "cell_type": "code",
   "execution_count": 35,
   "id": "1c09fcef",
   "metadata": {},
   "outputs": [
    {
     "data": {
      "text/plain": [
       "NoneType"
      ]
     },
     "execution_count": 35,
     "metadata": {},
     "output_type": "execute_result"
    }
   ],
   "source": [
    "type(None)"
   ]
  },
  {
   "cell_type": "markdown",
   "id": "8054650f",
   "metadata": {},
   "source": [
    "## Estructuras de Datos"
   ]
  },
  {
   "cell_type": "markdown",
   "id": "aaa6e32a",
   "metadata": {},
   "source": [
    "### Listas (list)"
   ]
  },
  {
   "cell_type": "markdown",
   "id": "03890a29",
   "metadata": {},
   "source": [
    "Las listas son estructuras de datos compuestas, python al ser un lenguage de bajo tipado permite guardar diferentes tipos de datos dentro de una lista.\n",
    "Para acceder a los elementos de una lista lo haremos a través de su índice, en python los índices comienzan el número cero, por lo que para acceder al primer elemento de una lista deberíamos de usar el 0 en vez del 1.\n",
    "\n",
    "Para inicializar una lista nueva deberemos de crear una variable nueva y usar los [] dentro de los cuales le pasaremos los elementos que contendrá nuestra lista:\n",
    "\n",
    "    lst = ['ana', 'Pedro', 1, 2.0, True, None]\n",
    "\n",
    "Siendo 'i' un número cualquiera dentro del rango de longitud de una lista para acceder a cada elemento de la lista deberíamos de escribir la siguiente sentencia:\n",
    "    \n",
    "    lst[i]\n",
    "    \n",
    "    Tomando como ejemplo la lista anterior y dando a i el valor de 1:\n",
    "    \n",
    "    print(lst[1])\n",
    "    'Pedro'"
   ]
  },
  {
   "cell_type": "code",
   "execution_count": 36,
   "id": "12d3903e",
   "metadata": {},
   "outputs": [],
   "source": [
    "lst = ['ana', 'Pedro', 1, 2.0, True, None]"
   ]
  },
  {
   "cell_type": "code",
   "execution_count": 37,
   "id": "d42ebf2b",
   "metadata": {},
   "outputs": [
    {
     "data": {
      "text/plain": [
       "'Pedro'"
      ]
     },
     "execution_count": 37,
     "metadata": {},
     "output_type": "execute_result"
    }
   ],
   "source": [
    "lst[1]"
   ]
  },
  {
   "cell_type": "code",
   "execution_count": 38,
   "id": "d02e854a",
   "metadata": {},
   "outputs": [
    {
     "data": {
      "text/plain": [
       "list"
      ]
     },
     "execution_count": 38,
     "metadata": {},
     "output_type": "execute_result"
    }
   ],
   "source": [
    "type(lst)"
   ]
  },
  {
   "cell_type": "code",
   "execution_count": 39,
   "id": "52a79968",
   "metadata": {},
   "outputs": [
    {
     "data": {
      "text/plain": [
       "str"
      ]
     },
     "execution_count": 39,
     "metadata": {},
     "output_type": "execute_result"
    }
   ],
   "source": [
    "type(lst[1])"
   ]
  },
  {
   "cell_type": "code",
   "execution_count": 40,
   "id": "293d2986",
   "metadata": {},
   "outputs": [],
   "source": [
    "lst[1] = 'Paquita'"
   ]
  },
  {
   "cell_type": "code",
   "execution_count": 41,
   "id": "fd8af947",
   "metadata": {},
   "outputs": [
    {
     "data": {
      "text/plain": [
       "['ana', 'Paquita', 1, 2.0, True, None]"
      ]
     },
     "execution_count": 41,
     "metadata": {},
     "output_type": "execute_result"
    }
   ],
   "source": [
    "lst"
   ]
  },
  {
   "cell_type": "markdown",
   "id": "134e78f6",
   "metadata": {},
   "source": [
    "#### Método join()"
   ]
  },
  {
   "cell_type": "markdown",
   "id": "b9490eb1",
   "metadata": {},
   "source": [
    "El método join() sirve para transformar una lista en una cadena de caracteres."
   ]
  },
  {
   "cell_type": "code",
   "execution_count": 42,
   "id": "130a918e",
   "metadata": {},
   "outputs": [
    {
     "ename": "TypeError",
     "evalue": "sequence item 2: expected str instance, int found",
     "output_type": "error",
     "traceback": [
      "\u001b[1;31m---------------------------------------------------------------------------\u001b[0m",
      "\u001b[1;31mTypeError\u001b[0m                                 Traceback (most recent call last)",
      "\u001b[1;32m~\\AppData\\Local\\Temp/ipykernel_26968/635718503.py\u001b[0m in \u001b[0;36m<module>\u001b[1;34m\u001b[0m\n\u001b[1;32m----> 1\u001b[1;33m \u001b[1;34m' '\u001b[0m\u001b[1;33m.\u001b[0m\u001b[0mjoin\u001b[0m\u001b[1;33m(\u001b[0m\u001b[0mlst\u001b[0m\u001b[1;33m)\u001b[0m\u001b[1;33m\u001b[0m\u001b[1;33m\u001b[0m\u001b[0m\n\u001b[0m",
      "\u001b[1;31mTypeError\u001b[0m: sequence item 2: expected str instance, int found"
     ]
    }
   ],
   "source": [
    "' '.join(lst)"
   ]
  },
  {
   "cell_type": "markdown",
   "id": "f1729e1e",
   "metadata": {},
   "source": [
    "Como veís para poder transformar la lista en una cadena de caracteres todos los elementos deben de compartir el mismo tipo de dato"
   ]
  },
  {
   "cell_type": "code",
   "execution_count": 43,
   "id": "7bc6272b",
   "metadata": {},
   "outputs": [
    {
     "name": "stdout",
     "output_type": "stream",
     "text": [
      "Hola clase buenos días como estais ?\n",
      "Hola++clase++buenos++días++como++estais++?\n",
      "Hola-->clase-->buenos-->días-->como-->estais-->?\n",
      "Hola>--<clase>--<buenos>--<días>--<como>--<estais>--<?\n"
     ]
    }
   ],
   "source": [
    "lst_2 = ['Hola', 'clase', 'buenos', 'días', 'como', 'estais', '?']\n",
    "\n",
    "print(' '.join(lst_2))\n",
    "print('++'.join(lst_2))\n",
    "print('-->'.join(lst_2))\n",
    "print('>--<'.join(lst_2))"
   ]
  },
  {
   "cell_type": "markdown",
   "id": "f2691dcc",
   "metadata": {},
   "source": [
    "#### Método len()"
   ]
  },
  {
   "cell_type": "markdown",
   "id": "abf28ad5",
   "metadata": {},
   "source": [
    "Al igual que en las cadenas de caracteres el método len() nos devuelve la cantidad de elementos que contiene la lista."
   ]
  },
  {
   "cell_type": "code",
   "execution_count": 44,
   "id": "ac9113b9",
   "metadata": {},
   "outputs": [
    {
     "data": {
      "text/plain": [
       "6"
      ]
     },
     "execution_count": 44,
     "metadata": {},
     "output_type": "execute_result"
    }
   ],
   "source": [
    "len(lst)"
   ]
  },
  {
   "cell_type": "markdown",
   "id": "b0144dfd",
   "metadata": {},
   "source": [
    "#### Método sort()"
   ]
  },
  {
   "cell_type": "markdown",
   "id": "a461daac",
   "metadata": {},
   "source": [
    "El método sort() sirve para ordenar una lista, todos los elementos de la lista deben tener el mismo tipo de dato, sino sort() nos devolverá un error, por defecto ordena la lista en orden ascendente, si queremos que lo haga en orden descendente deberemos de pasarle el parámetro reverse = True"
   ]
  },
  {
   "cell_type": "code",
   "execution_count": 45,
   "id": "1ba80754",
   "metadata": {},
   "outputs": [],
   "source": [
    "lst_1 = [3, 4, 7, 1, 5, 8, 9, 1]"
   ]
  },
  {
   "cell_type": "code",
   "execution_count": 46,
   "id": "fa661c4e",
   "metadata": {},
   "outputs": [
    {
     "data": {
      "text/plain": [
       "[1, 1, 3, 4, 5, 7, 8, 9]"
      ]
     },
     "execution_count": 46,
     "metadata": {},
     "output_type": "execute_result"
    }
   ],
   "source": [
    "lst_1.sort()\n",
    "lst_1"
   ]
  },
  {
   "cell_type": "code",
   "execution_count": 47,
   "id": "fe2d5d73",
   "metadata": {},
   "outputs": [
    {
     "data": {
      "text/plain": [
       "[1, 1, 3, 4, 5, 7, 8, 9]"
      ]
     },
     "execution_count": 47,
     "metadata": {},
     "output_type": "execute_result"
    }
   ],
   "source": [
    "lst_1"
   ]
  },
  {
   "cell_type": "code",
   "execution_count": 48,
   "id": "c74870ea",
   "metadata": {},
   "outputs": [
    {
     "name": "stdout",
     "output_type": "stream",
     "text": [
      "['?', 'Hola', 'buenos', 'clase', 'como', 'días', 'estais']\n"
     ]
    }
   ],
   "source": [
    "lst_2.sort()\n",
    "print(lst_2)"
   ]
  },
  {
   "cell_type": "markdown",
   "id": "6978a5e2",
   "metadata": {},
   "source": [
    "#### Métodos append() e insert()"
   ]
  },
  {
   "cell_type": "markdown",
   "id": "c311e354",
   "metadata": {},
   "source": [
    "Ambos métodos sirven para añadir elementos nuevos a una lista ya existente, la diferencia entre ambos es que append introduce el nuevo elemento al final de la lista y el método insert() recibe como parámetro la posición en la que queremos introducir el elemento en la lista"
   ]
  },
  {
   "cell_type": "code",
   "execution_count": 49,
   "id": "4f5ab883",
   "metadata": {},
   "outputs": [],
   "source": [
    "lst_2.append('Nuevo elemento')\n",
    "lst_2.insert(0,'al inicio') # primero deberemos pasarle el índice y luego el elemento que queremos añadir"
   ]
  },
  {
   "cell_type": "code",
   "execution_count": 50,
   "id": "c3a6c642",
   "metadata": {},
   "outputs": [
    {
     "data": {
      "text/plain": [
       "['al inicio',\n",
       " '?',\n",
       " 'Hola',\n",
       " 'buenos',\n",
       " 'clase',\n",
       " 'como',\n",
       " 'días',\n",
       " 'estais',\n",
       " 'Nuevo elemento']"
      ]
     },
     "execution_count": 50,
     "metadata": {},
     "output_type": "execute_result"
    }
   ],
   "source": [
    "lst_2"
   ]
  },
  {
   "cell_type": "code",
   "execution_count": null,
   "id": "d689a518",
   "metadata": {},
   "outputs": [],
   "source": []
  },
  {
   "cell_type": "markdown",
   "id": "a011b596",
   "metadata": {},
   "source": [
    "#### Método pop() & remove()"
   ]
  },
  {
   "cell_type": "markdown",
   "id": "1e391c7d",
   "metadata": {},
   "source": [
    "El método pop() devuelve el elemento cuyo índice le pasamos como parámetro y lo elimina de la lista, si no le pasamos níngún parámetro toma por defecto el último elemento de la lista "
   ]
  },
  {
   "cell_type": "code",
   "execution_count": 51,
   "id": "34becffe",
   "metadata": {},
   "outputs": [
    {
     "data": {
      "text/plain": [
       "'Nuevo elemento'"
      ]
     },
     "execution_count": 51,
     "metadata": {},
     "output_type": "execute_result"
    }
   ],
   "source": [
    "lst_2.pop()"
   ]
  },
  {
   "cell_type": "code",
   "execution_count": 52,
   "id": "2f6132f2",
   "metadata": {},
   "outputs": [
    {
     "data": {
      "text/plain": [
       "['al inicio', '?', 'Hola', 'buenos', 'clase', 'como', 'días', 'estais']"
      ]
     },
     "execution_count": 52,
     "metadata": {},
     "output_type": "execute_result"
    }
   ],
   "source": [
    "lst_2"
   ]
  },
  {
   "cell_type": "code",
   "execution_count": 53,
   "id": "6e265ed1",
   "metadata": {},
   "outputs": [
    {
     "data": {
      "text/plain": [
       "'al inicio'"
      ]
     },
     "execution_count": 53,
     "metadata": {},
     "output_type": "execute_result"
    }
   ],
   "source": [
    "lst_2.pop(0)"
   ]
  },
  {
   "cell_type": "code",
   "execution_count": 54,
   "id": "b39bccee",
   "metadata": {},
   "outputs": [],
   "source": [
    "lst_2.remove('Hola')"
   ]
  },
  {
   "cell_type": "code",
   "execution_count": 55,
   "id": "7ca9bdc9",
   "metadata": {},
   "outputs": [
    {
     "data": {
      "text/plain": [
       "['?', 'buenos', 'clase', 'como', 'días', 'estais']"
      ]
     },
     "execution_count": 55,
     "metadata": {},
     "output_type": "execute_result"
    }
   ],
   "source": [
    "lst_2"
   ]
  },
  {
   "cell_type": "markdown",
   "id": "dc290167",
   "metadata": {},
   "source": [
    "#### Slicing"
   ]
  },
  {
   "cell_type": "markdown",
   "id": "cf8231f6",
   "metadata": {},
   "source": [
    "El slicing es una técnica de python muy utilizada para recorrer listas o cadenas de caracteres (ya que a todos los efectos para python una cadena de caracteres es una lista), slicing tiene tres parámetros de entrada que son:\n",
    "\n",
    "    start : Por defecto siempre tendrá valor 0\n",
    "    stop : Por defecto siempre será el último valor de la lista '-1'\n",
    "    step : Por defecto 1, que es el valor del salto que hace el slicing cuando recorre la lista"
   ]
  },
  {
   "cell_type": "code",
   "execution_count": 56,
   "id": "8fd4176d",
   "metadata": {},
   "outputs": [
    {
     "data": {
      "text/plain": [
       "['ana', 'Paquita', 1, 2.0, True, None]"
      ]
     },
     "execution_count": 56,
     "metadata": {},
     "output_type": "execute_result"
    }
   ],
   "source": [
    "lst"
   ]
  },
  {
   "cell_type": "code",
   "execution_count": 57,
   "id": "801b0bb6",
   "metadata": {},
   "outputs": [
    {
     "data": {
      "text/plain": [
       "['ana', 1, True]"
      ]
     },
     "execution_count": 57,
     "metadata": {},
     "output_type": "execute_result"
    }
   ],
   "source": [
    "lst[0:-1:2]"
   ]
  },
  {
   "cell_type": "code",
   "execution_count": 58,
   "id": "cde4f993",
   "metadata": {},
   "outputs": [
    {
     "data": {
      "text/plain": [
       "['Paquita', 2.0]"
      ]
     },
     "execution_count": 58,
     "metadata": {},
     "output_type": "execute_result"
    }
   ],
   "source": [
    "lst[1:-1:2]"
   ]
  },
  {
   "cell_type": "code",
   "execution_count": 59,
   "id": "4c5e1f02",
   "metadata": {},
   "outputs": [
    {
     "data": {
      "text/plain": [
       "['?', 'buenos', 'clase', 'como', 'días', 'estais']"
      ]
     },
     "execution_count": 59,
     "metadata": {},
     "output_type": "execute_result"
    }
   ],
   "source": [
    "lst_2"
   ]
  },
  {
   "cell_type": "code",
   "execution_count": 60,
   "id": "88686d05",
   "metadata": {},
   "outputs": [
    {
     "data": {
      "text/plain": [
       "['estais', 'días', 'como', 'clase', 'buenos', '?']"
      ]
     },
     "execution_count": 60,
     "metadata": {},
     "output_type": "execute_result"
    }
   ],
   "source": [
    "lst_2[::-1]"
   ]
  },
  {
   "cell_type": "code",
   "execution_count": 61,
   "id": "b2dc446e",
   "metadata": {},
   "outputs": [
    {
     "data": {
      "text/plain": [
       "['?', 'buenos', 'clase', 'como', 'días', 'estais']"
      ]
     },
     "execution_count": 61,
     "metadata": {},
     "output_type": "execute_result"
    }
   ],
   "source": [
    "lst_2"
   ]
  },
  {
   "cell_type": "markdown",
   "id": "beac1333",
   "metadata": {},
   "source": [
    "### Tuplas (tuple) "
   ]
  },
  {
   "cell_type": "markdown",
   "id": "d5156784",
   "metadata": {},
   "source": [
    "Las tuplas son una estructura similar a las listas con una peculiaridad, son inmutables, esto quiere decir que no podemos alterarlas una vez creadas, podemos acceder a sus índices y recorrerlas como si fueran una lista, pero no podemos eliminar ni añadir elementos a ellas, o alterar su orden.\n",
    "\n",
    "Para inicializar una tupla crearemos una variable y añadiremos los elementos entre ().\n",
    "\n",
    "    tup = ('Ana', 'Pedro')"
   ]
  },
  {
   "cell_type": "code",
   "execution_count": 62,
   "id": "046fc835",
   "metadata": {},
   "outputs": [],
   "source": [
    "tup = ('Ana', 'Pedro')"
   ]
  },
  {
   "cell_type": "code",
   "execution_count": 63,
   "id": "d2029bcc",
   "metadata": {},
   "outputs": [
    {
     "data": {
      "text/plain": [
       "tuple"
      ]
     },
     "execution_count": 63,
     "metadata": {},
     "output_type": "execute_result"
    }
   ],
   "source": [
    "type(tup)"
   ]
  },
  {
   "cell_type": "code",
   "execution_count": 64,
   "id": "132e1a23",
   "metadata": {},
   "outputs": [
    {
     "data": {
      "text/plain": [
       "'Pedro'"
      ]
     },
     "execution_count": 64,
     "metadata": {},
     "output_type": "execute_result"
    }
   ],
   "source": [
    "tup[1]"
   ]
  },
  {
   "cell_type": "code",
   "execution_count": 65,
   "id": "8f347c55",
   "metadata": {},
   "outputs": [
    {
     "ename": "TypeError",
     "evalue": "'tuple' object does not support item assignment",
     "output_type": "error",
     "traceback": [
      "\u001b[1;31m---------------------------------------------------------------------------\u001b[0m",
      "\u001b[1;31mTypeError\u001b[0m                                 Traceback (most recent call last)",
      "\u001b[1;32m~\\AppData\\Local\\Temp/ipykernel_26968/1861294333.py\u001b[0m in \u001b[0;36m<module>\u001b[1;34m\u001b[0m\n\u001b[1;32m----> 1\u001b[1;33m \u001b[0mtup\u001b[0m\u001b[1;33m[\u001b[0m\u001b[1;36m1\u001b[0m\u001b[1;33m]\u001b[0m\u001b[1;33m=\u001b[0m\u001b[1;34m'Paquita'\u001b[0m\u001b[1;33m\u001b[0m\u001b[1;33m\u001b[0m\u001b[0m\n\u001b[0m",
      "\u001b[1;31mTypeError\u001b[0m: 'tuple' object does not support item assignment"
     ]
    }
   ],
   "source": [
    "tup[1]='Paquita'"
   ]
  },
  {
   "cell_type": "code",
   "execution_count": 66,
   "id": "52119772",
   "metadata": {},
   "outputs": [],
   "source": [
    "tup = list(tup)"
   ]
  },
  {
   "cell_type": "code",
   "execution_count": 67,
   "id": "fa00b83a",
   "metadata": {},
   "outputs": [
    {
     "data": {
      "text/plain": [
       "list"
      ]
     },
     "execution_count": 67,
     "metadata": {},
     "output_type": "execute_result"
    }
   ],
   "source": [
    "type(tup)"
   ]
  },
  {
   "cell_type": "code",
   "execution_count": 68,
   "id": "d332acc3",
   "metadata": {},
   "outputs": [],
   "source": [
    "tup[1]='Paquita'"
   ]
  },
  {
   "cell_type": "code",
   "execution_count": 69,
   "id": "1ebfded2",
   "metadata": {},
   "outputs": [
    {
     "data": {
      "text/plain": [
       "tuple"
      ]
     },
     "execution_count": 69,
     "metadata": {},
     "output_type": "execute_result"
    }
   ],
   "source": [
    "tup = tuple(tup)\n",
    "type(tup)"
   ]
  },
  {
   "cell_type": "markdown",
   "id": "13b55ed0",
   "metadata": {},
   "source": [
    "### Sets "
   ]
  },
  {
   "cell_type": "markdown",
   "id": "46aae291",
   "metadata": {},
   "source": [
    "Los Sets son otra estructura de datos compuesta de python que tienen la particularidad de que cada elemento dentro de ella debe de ser único, si al generar el set introducimos datos repetidos automáticamente python eliminara esos datos repetidos, y se quedará con cada elemento único.\n",
    "\n",
    "\n",
    "s = {'1','1',1,1,1,3,2,2,2,2,2,'2','2','1',1,2,2,'2'}"
   ]
  },
  {
   "cell_type": "code",
   "execution_count": 73,
   "id": "8bbf5fa7",
   "metadata": {},
   "outputs": [],
   "source": [
    "s = {'1','1',1,1,1,3,2,2,2,2,1.5,3.6, 2,'2','2','1',1,2,2,'2'}"
   ]
  },
  {
   "cell_type": "code",
   "execution_count": 74,
   "id": "ec857630",
   "metadata": {},
   "outputs": [
    {
     "data": {
      "text/plain": [
       "set"
      ]
     },
     "execution_count": 74,
     "metadata": {},
     "output_type": "execute_result"
    }
   ],
   "source": [
    "type(s)"
   ]
  },
  {
   "cell_type": "code",
   "execution_count": 75,
   "id": "f55992b3",
   "metadata": {},
   "outputs": [
    {
     "name": "stdout",
     "output_type": "stream",
     "text": [
      "{1, 2, 3.6, 3, 1.5, '1', '2'}\n"
     ]
    }
   ],
   "source": [
    "print(s)"
   ]
  },
  {
   "cell_type": "code",
   "execution_count": 76,
   "id": "cb8ecc97",
   "metadata": {},
   "outputs": [
    {
     "name": "stdout",
     "output_type": "stream",
     "text": [
      "1\n",
      "2\n",
      "3.6\n",
      "3\n",
      "1.5\n",
      "1\n",
      "2\n"
     ]
    }
   ],
   "source": [
    "for i in s:\n",
    "    print(i)"
   ]
  },
  {
   "cell_type": "markdown",
   "id": "5ca18aef",
   "metadata": {},
   "source": [
    "### Diccionarios (dict)"
   ]
  },
  {
   "cell_type": "markdown",
   "id": "48998d14",
   "metadata": {},
   "source": [
    "Los diccionarios son estructuras de datos muy utilizadas en python se caracterizan porque cada elemento está codificado en formato de clave valor, tienen la peculiaridad de que la clave debe de ser única, y los valores pueden ser cualquier tipo de dato, por lo que podemos encontrarnos con diccionarios con claves cuyo valor sea otro diccionario, una lista, una tupla, etc.\n",
    "\n",
    "    dictio = {'Clave':'Valor',\n",
    "              'Clave2': [1,2,3,5],\n",
    "              'Clave3': {'subclave': 1,\n",
    "                          'subclave2': (2,'Ana')},\n",
    "              'Clave4': {1,2,3}\n",
    "    }"
   ]
  },
  {
   "cell_type": "code",
   "execution_count": 77,
   "id": "b191f3cb",
   "metadata": {},
   "outputs": [],
   "source": [
    "dictio = {'Clave':'Valor',\n",
    "          'Clave2': [1,2,3,5],\n",
    "          'Clave3': {'subclave': 1,\n",
    "                      'subclave2': (2,'Ana')},\n",
    "          'Clave4': {1,2,3}\n",
    "}"
   ]
  },
  {
   "cell_type": "code",
   "execution_count": 78,
   "id": "e2f93485",
   "metadata": {},
   "outputs": [
    {
     "data": {
      "text/plain": [
       "dict"
      ]
     },
     "execution_count": 78,
     "metadata": {},
     "output_type": "execute_result"
    }
   ],
   "source": [
    "type(dictio)"
   ]
  },
  {
   "cell_type": "code",
   "execution_count": 79,
   "id": "3b74e97e",
   "metadata": {},
   "outputs": [
    {
     "data": {
      "text/plain": [
       "[1, 2, 3, 5]"
      ]
     },
     "execution_count": 79,
     "metadata": {},
     "output_type": "execute_result"
    }
   ],
   "source": [
    "dictio['Clave2']"
   ]
  },
  {
   "cell_type": "code",
   "execution_count": 80,
   "id": "38750c33",
   "metadata": {},
   "outputs": [
    {
     "data": {
      "text/plain": [
       "{'subclave': 1, 'subclave2': (2, 'Ana')}"
      ]
     },
     "execution_count": 80,
     "metadata": {},
     "output_type": "execute_result"
    }
   ],
   "source": [
    "dictio['Clave3']"
   ]
  },
  {
   "cell_type": "code",
   "execution_count": 81,
   "id": "b9d0e521",
   "metadata": {},
   "outputs": [
    {
     "data": {
      "text/plain": [
       "(2, 'Ana')"
      ]
     },
     "execution_count": 81,
     "metadata": {},
     "output_type": "execute_result"
    }
   ],
   "source": [
    "dictio['Clave3']['subclave2']"
   ]
  },
  {
   "cell_type": "code",
   "execution_count": 82,
   "id": "6470c2c9",
   "metadata": {},
   "outputs": [
    {
     "data": {
      "text/plain": [
       "'Ana'"
      ]
     },
     "execution_count": 82,
     "metadata": {},
     "output_type": "execute_result"
    }
   ],
   "source": [
    "dictio['Clave3']['subclave2'][1]"
   ]
  },
  {
   "cell_type": "code",
   "execution_count": 83,
   "id": "a04e92fa",
   "metadata": {},
   "outputs": [
    {
     "data": {
      "text/plain": [
       "{'Clave': 'Valor',\n",
       " 'Clave2': [1, 2, 3, 5],\n",
       " 'Clave3': {'subclave': 1, 'subclave2': (2, 'Ana')},\n",
       " 'Clave4': {1, 2, 3},\n",
       " 'Clave5': 'Clave añadida por kike'}"
      ]
     },
     "execution_count": 83,
     "metadata": {},
     "output_type": "execute_result"
    }
   ],
   "source": [
    "dictio['Clave5'] = 'Clave añadida por kike'\n",
    "dictio"
   ]
  },
  {
   "cell_type": "code",
   "execution_count": 84,
   "id": "6dd402e5",
   "metadata": {},
   "outputs": [
    {
     "ename": "KeyError",
     "evalue": "1",
     "output_type": "error",
     "traceback": [
      "\u001b[1;31m---------------------------------------------------------------------------\u001b[0m",
      "\u001b[1;31mKeyError\u001b[0m                                  Traceback (most recent call last)",
      "\u001b[1;32m~\\AppData\\Local\\Temp/ipykernel_26968/3938734307.py\u001b[0m in \u001b[0;36m<module>\u001b[1;34m\u001b[0m\n\u001b[1;32m----> 1\u001b[1;33m \u001b[0mdictio\u001b[0m\u001b[1;33m[\u001b[0m\u001b[1;36m1\u001b[0m\u001b[1;33m]\u001b[0m\u001b[1;33m\u001b[0m\u001b[1;33m\u001b[0m\u001b[0m\n\u001b[0m",
      "\u001b[1;31mKeyError\u001b[0m: 1"
     ]
    }
   ],
   "source": [
    "dictio[1]"
   ]
  },
  {
   "cell_type": "code",
   "execution_count": 85,
   "id": "671ce1dc",
   "metadata": {},
   "outputs": [],
   "source": [
    "dictio['clave_nueva'] = {1:'hola',\n",
    "                        2:'nueva',\n",
    "                        3: 'clave'}"
   ]
  },
  {
   "cell_type": "code",
   "execution_count": 86,
   "id": "19823587",
   "metadata": {},
   "outputs": [
    {
     "data": {
      "text/plain": [
       "{'Clave': 'Valor',\n",
       " 'Clave2': [1, 2, 3, 5],\n",
       " 'Clave3': {'subclave': 1, 'subclave2': (2, 'Ana')},\n",
       " 'Clave4': {1, 2, 3},\n",
       " 'Clave5': 'Clave añadida por kike',\n",
       " 'clave_nueva': {1: 'hola', 2: 'nueva', 3: 'clave'}}"
      ]
     },
     "execution_count": 86,
     "metadata": {},
     "output_type": "execute_result"
    }
   ],
   "source": [
    "dictio"
   ]
  },
  {
   "cell_type": "code",
   "execution_count": 87,
   "id": "2495df38",
   "metadata": {},
   "outputs": [
    {
     "data": {
      "text/plain": [
       "dict_keys(['Clave', 'Clave2', 'Clave3', 'Clave4', 'Clave5', 'clave_nueva'])"
      ]
     },
     "execution_count": 87,
     "metadata": {},
     "output_type": "execute_result"
    }
   ],
   "source": [
    "dictio.keys()"
   ]
  },
  {
   "cell_type": "markdown",
   "id": "2446b1b9",
   "metadata": {},
   "source": [
    "Si queremos acceder a los elementos de la la lista creada con dictio.keys() tendremos que transformar dictio.keys() en una lista"
   ]
  },
  {
   "cell_type": "code",
   "execution_count": 88,
   "id": "d7b980ae",
   "metadata": {},
   "outputs": [
    {
     "data": {
      "text/plain": [
       "['Clave', 'Clave2', 'Clave3', 'Clave4', 'Clave5', 'clave_nueva']"
      ]
     },
     "execution_count": 88,
     "metadata": {},
     "output_type": "execute_result"
    }
   ],
   "source": [
    "list(dictio.keys())"
   ]
  },
  {
   "cell_type": "code",
   "execution_count": 89,
   "id": "bafdcaa0",
   "metadata": {},
   "outputs": [
    {
     "data": {
      "text/plain": [
       "dict_values(['Valor', [1, 2, 3, 5], {'subclave': 1, 'subclave2': (2, 'Ana')}, {1, 2, 3}, 'Clave añadida por kike', {1: 'hola', 2: 'nueva', 3: 'clave'}])"
      ]
     },
     "execution_count": 89,
     "metadata": {},
     "output_type": "execute_result"
    }
   ],
   "source": [
    "dictio.values()"
   ]
  },
  {
   "cell_type": "code",
   "execution_count": 90,
   "id": "1d7496c2",
   "metadata": {},
   "outputs": [
    {
     "data": {
      "text/plain": [
       "dict_items([('Clave', 'Valor'), ('Clave2', [1, 2, 3, 5]), ('Clave3', {'subclave': 1, 'subclave2': (2, 'Ana')}), ('Clave4', {1, 2, 3}), ('Clave5', 'Clave añadida por kike'), ('clave_nueva', {1: 'hola', 2: 'nueva', 3: 'clave'})])"
      ]
     },
     "execution_count": 90,
     "metadata": {},
     "output_type": "execute_result"
    }
   ],
   "source": [
    "dictio.items()"
   ]
  },
  {
   "cell_type": "markdown",
   "id": "c19d6328",
   "metadata": {},
   "source": [
    "## Bucles"
   ]
  },
  {
   "cell_type": "markdown",
   "id": "88c1d504",
   "metadata": {},
   "source": [
    "Los bucles son métodos de python que se utilizan para realizar una acción o ejecutar un bloque de código de manera recurrente sin tener que volver a escribir esa misma acción o bloque de código por cada vez que queramos ejecutarlo.\n",
    "\n",
    "Tip: Si vés repetida la misma línea de código una y otra vez de forma seguida es posible que puedas refactorizar esa parte del código e introducir un bucle en el ;)\n",
    "\n",
    "Existen dos tipos de bucles en python, que son el bucle for y el bucle while:\n",
    "\n",
    "El bucle for se ejecutará un cierto número de veces, las que nosotros le digamos\n",
    "El bucle while se ejecutará infinitamente hasta que se cumpla la condición que nosotros le pasemos para que pare\n",
    "\n",
    "!!OJO¡¡ Cuidado con los bucles while 1 XDDD"
   ]
  },
  {
   "cell_type": "markdown",
   "id": "25140a76",
   "metadata": {},
   "source": [
    "### Bucle For"
   ]
  },
  {
   "cell_type": "markdown",
   "id": "b1827e32",
   "metadata": {},
   "source": [
    "#### Por elemento"
   ]
  },
  {
   "cell_type": "code",
   "execution_count": 91,
   "id": "6852baf5",
   "metadata": {},
   "outputs": [
    {
     "name": "stdout",
     "output_type": "stream",
     "text": [
      "ana\n",
      "Paquita\n",
      "1\n",
      "2.0\n",
      "True\n",
      "None\n"
     ]
    }
   ],
   "source": [
    "for e in lst:\n",
    "    print(e)"
   ]
  },
  {
   "cell_type": "code",
   "execution_count": 92,
   "id": "f193c176",
   "metadata": {},
   "outputs": [
    {
     "name": "stdout",
     "output_type": "stream",
     "text": [
      "ana\n",
      "Paquita\n",
      "1\n",
      "2.0\n"
     ]
    }
   ],
   "source": [
    "for e in lst[:-2]:\n",
    "    print(e)"
   ]
  },
  {
   "cell_type": "markdown",
   "id": "0a7a638d",
   "metadata": {},
   "source": [
    "#### Por índices"
   ]
  },
  {
   "cell_type": "code",
   "execution_count": 94,
   "id": "151f3d85",
   "metadata": {},
   "outputs": [
    {
     "name": "stdout",
     "output_type": "stream",
     "text": [
      "indice 0\n",
      "elemento ?\n",
      "indice 1\n",
      "elemento buenos\n",
      "indice 2\n",
      "elemento clase\n",
      "indice 3\n",
      "elemento como\n",
      "indice 4\n",
      "elemento días\n",
      "indice 5\n",
      "elemento estais\n"
     ]
    }
   ],
   "source": [
    "for i in range(len(lst_2)):\n",
    "    print('indice',i)\n",
    "    print('elemento',lst_2[i])"
   ]
  },
  {
   "cell_type": "markdown",
   "id": "d8bf6088",
   "metadata": {},
   "source": [
    "#### Por elemento e índice"
   ]
  },
  {
   "cell_type": "code",
   "execution_count": 95,
   "id": "e10712d3",
   "metadata": {},
   "outputs": [
    {
     "name": "stdout",
     "output_type": "stream",
     "text": [
      "Al índice 0 le correspondel el elemento ?\n",
      "Al índice 1 le correspondel el elemento buenos\n",
      "Al índice 2 le correspondel el elemento clase\n",
      "Al índice 3 le correspondel el elemento como\n",
      "Al índice 4 le correspondel el elemento días\n",
      "Al índice 5 le correspondel el elemento estais\n"
     ]
    }
   ],
   "source": [
    "for i,e in enumerate(lst_2):\n",
    "    print(f'Al índice {i} le correspondel el elemento {e}')"
   ]
  },
  {
   "cell_type": "code",
   "execution_count": 96,
   "id": "4554e507",
   "metadata": {},
   "outputs": [
    {
     "name": "stdout",
     "output_type": "stream",
     "text": [
      "0\n",
      "1\n",
      "2\n",
      "3\n",
      "4\n"
     ]
    }
   ],
   "source": [
    "for i in range(10):\n",
    "    if i < 5:\n",
    "        print(i)\n",
    "    else:\n",
    "        break"
   ]
  },
  {
   "cell_type": "code",
   "execution_count": 97,
   "id": "d69f0a1f",
   "metadata": {},
   "outputs": [
    {
     "data": {
      "text/plain": [
       "5"
      ]
     },
     "execution_count": 97,
     "metadata": {},
     "output_type": "execute_result"
    }
   ],
   "source": [
    "i"
   ]
  },
  {
   "cell_type": "markdown",
   "id": "a0ed4e6e",
   "metadata": {},
   "source": [
    "### Bucle while"
   ]
  },
  {
   "cell_type": "code",
   "execution_count": 100,
   "id": "c85a9331",
   "metadata": {},
   "outputs": [
    {
     "name": "stdout",
     "output_type": "stream",
     "text": [
      "Empieza la cuenta 0\n",
      "Empieza la cuenta 1\n",
      "Empieza la cuenta 2\n",
      "Empieza la cuenta 3\n",
      "Empieza la cuenta 4\n",
      "Empieza la cuenta 5\n",
      "Empieza la cuenta 6\n",
      "Empieza la cuenta 7\n",
      "Empieza la cuenta 8\n",
      "Empieza la cuenta 9\n",
      "Empieza la cuenta 10\n"
     ]
    }
   ],
   "source": [
    "i = 0\n",
    "while i <= 10:\n",
    "    print(f'Empieza la cuenta {i}')\n",
    "    i += 1"
   ]
  },
  {
   "cell_type": "code",
   "execution_count": 101,
   "id": "9058d4e6",
   "metadata": {},
   "outputs": [
    {
     "data": {
      "text/plain": [
       "11"
      ]
     },
     "execution_count": 101,
     "metadata": {},
     "output_type": "execute_result"
    }
   ],
   "source": [
    "i"
   ]
  },
  {
   "cell_type": "markdown",
   "id": "77136dfc",
   "metadata": {},
   "source": [
    "Cuidado con olvidar el la condición para parar el bucle o podemos acabar haciendo un bucle infinito."
   ]
  },
  {
   "cell_type": "markdown",
   "id": "cdfc1bf0",
   "metadata": {},
   "source": [
    "## Estructuras de control"
   ]
  },
  {
   "cell_type": "markdown",
   "id": "8a1b9555",
   "metadata": {},
   "source": [
    "Las estructuras de control son bloques de código que introducimos en un programa para que ejecute cierta parte del código si se cumplen una o varias condiciones, la estructura es la siguiente:\n",
    "\n",
    "    Iniciamos el condicional con la palabra reservada if seguida de la condición.\n",
    "    Podemos incluir otra condición con la palabra reservada elif.\n",
    "    Para finalizar podemos incluir la palabra else, no es necesario incluirla pero siempre son buenas prácticas incluir un else siempre que iniciemos un bloque if."
   ]
  },
  {
   "cell_type": "code",
   "execution_count": 103,
   "id": "cb9b8b27",
   "metadata": {},
   "outputs": [
    {
     "name": "stdout",
     "output_type": "stream",
     "text": [
      "Numéro par\n",
      "1\n",
      "Numéro par\n",
      "3\n",
      "Numéro par\n",
      "5\n",
      "Numéro par\n",
      "7\n",
      "Numéro par\n",
      "9\n",
      "Numéro par\n"
     ]
    }
   ],
   "source": [
    "for i in range(11):\n",
    "    if i%2: # esto es lo mismo que poner i%2 == 1, True == 1\n",
    "        print(i)\n",
    "    else:\n",
    "        print('Numéro par')"
   ]
  },
  {
   "cell_type": "code",
   "execution_count": 104,
   "id": "63963c26",
   "metadata": {},
   "outputs": [
    {
     "name": "stdout",
     "output_type": "stream",
     "text": [
      "Divisible entre 2 y 3\n",
      "Numéro impar\n",
      "2  Divisible por 2\n",
      "3 Divisible entre 3\n",
      "4  Divisible por 2\n",
      "Numéro impar\n",
      "Divisible entre 2 y 3\n",
      "Numéro impar\n",
      "8  Divisible por 2\n",
      "9 Divisible entre 3\n",
      "10  Divisible por 2\n"
     ]
    }
   ],
   "source": [
    "for i in range(11):\n",
    "    \n",
    "    if i%2 == 0 and i%3 == 0:\n",
    "        print('Divisible entre 2 y 3')\n",
    "    \n",
    "    elif i%2== 0: # esto es lo mismo que poner i%2 == 1, True == 1\n",
    "        print(i,' Divisible por 2')\n",
    "    elif i%3 ==0:\n",
    "        print(f'{i} Divisible entre 3')\n",
    "    else:\n",
    "        print('Numéro impar')"
   ]
  },
  {
   "cell_type": "markdown",
   "id": "aaaf6942",
   "metadata": {},
   "source": [
    "## Manejo de Errores"
   ]
  },
  {
   "cell_type": "markdown",
   "id": "022c0223",
   "metadata": {},
   "source": [
    "El manejo de errores es un área que todo desarrollador debe conocer ya que evitará posibles problemas que pueda causar el usuario al manejar el software que hemos programado, en python la sintaxis para el manejo o control de errores es de la siguiente manera:\n",
    "\n",
    "    try: #iniciamos el bloque que puede ocasionar el error\n",
    "        bloque de código que queremos probar\n",
    "    except TipodeError que queremos controlar si lo conocemos: # le indicamos al programa que hacer en caso de que ocurra el error\n",
    "        raise ValueError # lanzamos el error para que se muestre por pantalla\n",
    "        \n",
    "        o podemos imprimir un mensaje avisando al usuario\n",
    "        \n",
    "        print('ha ocurrido un error del tipo ....')\n",
    "        \n",
    "        o\n",
    "        \n",
    "        pass # si queremos que continue ejecutandose el código pase lo que pase (No recomendado)\n",
    "        \n",
    "    finally:\n",
    "        Este bloque no es necesario pero si lo incluimos siempre se va a ejecutar se produzca o no el error"
   ]
  },
  {
   "cell_type": "code",
   "execution_count": 105,
   "id": "8dbcf06f",
   "metadata": {},
   "outputs": [
    {
     "name": "stdout",
     "output_type": "stream",
     "text": [
      "ana no se puede dividir entre 2\n",
      "Esto se imprime siempre\n",
      "Paquita no se puede dividir entre 2\n",
      "Esto se imprime siempre\n",
      "0.5\n",
      "Esto se imprime siempre\n",
      "1.0\n",
      "Esto se imprime siempre\n",
      "0.5\n",
      "Esto se imprime siempre\n",
      "None no se puede dividir entre 2\n",
      "Esto se imprime siempre\n"
     ]
    }
   ],
   "source": [
    "for e in lst:\n",
    "    try:\n",
    "        print(e/2)\n",
    "    except TypeError:\n",
    "        print(f'{e} no se puede dividir entre 2')\n",
    "       \n",
    "    finally: # no es obligatorio que esté y siempre se ejecuta\n",
    "        print('Esto se imprime siempre')"
   ]
  },
  {
   "cell_type": "code",
   "execution_count": 106,
   "id": "9fed2b76",
   "metadata": {
    "scrolled": true
   },
   "outputs": [
    {
     "name": "stdout",
     "output_type": "stream",
     "text": [
      "ana no se puede dividir entre 2\n",
      "Esto se imprime siempre\n"
     ]
    },
    {
     "ename": "TypeError",
     "evalue": "<class 'str'> no se puede dividir por un <class 'int'>",
     "output_type": "error",
     "traceback": [
      "\u001b[1;31m---------------------------------------------------------------------------\u001b[0m",
      "\u001b[1;31mTypeError\u001b[0m                                 Traceback (most recent call last)",
      "\u001b[1;32m~\\AppData\\Local\\Temp/ipykernel_26968/2763987177.py\u001b[0m in \u001b[0;36m<module>\u001b[1;34m\u001b[0m\n\u001b[0;32m      2\u001b[0m     \u001b[1;32mtry\u001b[0m\u001b[1;33m:\u001b[0m\u001b[1;33m\u001b[0m\u001b[1;33m\u001b[0m\u001b[0m\n\u001b[1;32m----> 3\u001b[1;33m         \u001b[0mprint\u001b[0m\u001b[1;33m(\u001b[0m\u001b[0me\u001b[0m\u001b[1;33m/\u001b[0m\u001b[1;36m2\u001b[0m\u001b[1;33m)\u001b[0m\u001b[1;33m\u001b[0m\u001b[1;33m\u001b[0m\u001b[0m\n\u001b[0m\u001b[0;32m      4\u001b[0m     \u001b[1;32mexcept\u001b[0m \u001b[0mTypeError\u001b[0m\u001b[1;33m:\u001b[0m\u001b[1;33m\u001b[0m\u001b[1;33m\u001b[0m\u001b[0m\n",
      "\u001b[1;31mTypeError\u001b[0m: unsupported operand type(s) for /: 'str' and 'int'",
      "\nDuring handling of the above exception, another exception occurred:\n",
      "\u001b[1;31mTypeError\u001b[0m                                 Traceback (most recent call last)",
      "\u001b[1;32m~\\AppData\\Local\\Temp/ipykernel_26968/2763987177.py\u001b[0m in \u001b[0;36m<module>\u001b[1;34m\u001b[0m\n\u001b[0;32m      4\u001b[0m     \u001b[1;32mexcept\u001b[0m \u001b[0mTypeError\u001b[0m\u001b[1;33m:\u001b[0m\u001b[1;33m\u001b[0m\u001b[1;33m\u001b[0m\u001b[0m\n\u001b[0;32m      5\u001b[0m         \u001b[0mprint\u001b[0m\u001b[1;33m(\u001b[0m\u001b[1;34mf'{e} no se puede dividir entre 2'\u001b[0m\u001b[1;33m)\u001b[0m\u001b[1;33m\u001b[0m\u001b[1;33m\u001b[0m\u001b[0m\n\u001b[1;32m----> 6\u001b[1;33m         \u001b[1;32mraise\u001b[0m \u001b[0mTypeError\u001b[0m \u001b[1;33m(\u001b[0m\u001b[1;34mf'{type(e)} no se puede dividir por un {type(2)}'\u001b[0m\u001b[1;33m)\u001b[0m\u001b[1;33m\u001b[0m\u001b[1;33m\u001b[0m\u001b[0m\n\u001b[0m\u001b[0;32m      7\u001b[0m     \u001b[1;32mfinally\u001b[0m\u001b[1;33m:\u001b[0m\u001b[1;33m\u001b[0m\u001b[1;33m\u001b[0m\u001b[0m\n\u001b[0;32m      8\u001b[0m         \u001b[0mprint\u001b[0m\u001b[1;33m(\u001b[0m\u001b[1;34m'Esto se imprime siempre'\u001b[0m\u001b[1;33m)\u001b[0m\u001b[1;33m\u001b[0m\u001b[1;33m\u001b[0m\u001b[0m\n",
      "\u001b[1;31mTypeError\u001b[0m: <class 'str'> no se puede dividir por un <class 'int'>"
     ]
    }
   ],
   "source": [
    "for e in lst:\n",
    "    try:\n",
    "        print(e/2)\n",
    "    except TypeError:\n",
    "        print(f'{e} no se puede dividir entre 2')\n",
    "        raise TypeError (f'{type(e)} no se puede dividir por un {type(2)}')\n",
    "    finally:\n",
    "        print('Esto se imprime siempre')"
   ]
  },
  {
   "cell_type": "code",
   "execution_count": null,
   "id": "d04b07c6",
   "metadata": {},
   "outputs": [],
   "source": []
  }
 ],
 "metadata": {
  "kernelspec": {
   "display_name": "Python 3 (ipykernel)",
   "language": "python",
   "name": "python3"
  },
  "language_info": {
   "codemirror_mode": {
    "name": "ipython",
    "version": 3
   },
   "file_extension": ".py",
   "mimetype": "text/x-python",
   "name": "python",
   "nbconvert_exporter": "python",
   "pygments_lexer": "ipython3",
   "version": "3.9.7"
  }
 },
 "nbformat": 4,
 "nbformat_minor": 5
}
