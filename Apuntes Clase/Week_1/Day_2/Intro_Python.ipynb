{
 "cells": [
  {
   "cell_type": "markdown",
   "id": "bb9c25ff",
   "metadata": {},
   "source": [
    "# Introducción a Python\n",
    "\n",
    "https://docs.python.org/3/\n",
    "\n",
    "![python](../../images/python.png)\n",
    "\n",
    "$$$$\n",
    "\n",
    "Python es un lenguaje de programación interpretado cuya filosofía hace hincapié en la legibilidad de su código. Se trata de un lenguaje de programación multiparadigma, ya que soporta parcialmente la orientación a objetos, programación imperativa y, en menor medida, programación funcional. Es un lenguaje interpretado, dinámico y multiplataforma.\n",
    "\n",
    "Es administrado por la Python Software Foundation. Posee una licencia de código abierto, denominada Python Software Foundation License."
   ]
  },
  {
   "cell_type": "code",
   "execution_count": null,
   "id": "7ab208d1",
   "metadata": {},
   "outputs": [],
   "source": [
    "import this"
   ]
  },
  {
   "cell_type": "markdown",
   "id": "3bb5ec53",
   "metadata": {},
   "source": [
    "```python\n",
    "Bonito es mejor que feo.\n",
    "Explícito es mejor que implícito.\n",
    "Simple es mejor que complejo.\n",
    "Complejo es mejor que complicado.\n",
    "Plano es mejor que anidado.\n",
    "Disperso es mejor que denso.\n",
    "La legibilidad cuenta.\n",
    "Los casos especiales no son tan especiales como para romper las reglas.\n",
    "Aunque la practicidad gana a la pureza.\n",
    "Los errores nunca deben pasar en silencio.\n",
    "A menos que se silencien explícitamente.\n",
    "Ante la ambigüedad, rechaza la tentación de suponer.\n",
    "Debe haber una -y preferiblemente sólo una- forma obvia de hacerlo.\n",
    "Aunque esa manera puede no ser obvia al principio, a menos que seas holandés.\n",
    "Ahora es mejor que nunca.\n",
    "Aunque nunca es a menudo mejor que *ahora mismo*.\n",
    "Si la implementación es difícil de explicar, es una mala idea.\n",
    "Si la implementación es fácil de explicar, puede ser una buena idea.\n",
    "Los espacios de nombres son una gran idea, ¡hagamos más de ellos!\n",
    "```"
   ]
  },
  {
   "cell_type": "markdown",
   "id": "f3c597ff",
   "metadata": {},
   "source": [
    "**Tabla de contenidos:**\n",
    "\n",
    "    1  Numeric Data\n",
    "        1.1  Números enteros (integer)\n",
    "        1.2  Números reales (float)\n",
    "        1.3  Números complejos (complex)\n",
    "    2  Categoric Data\n",
    "        2.1 Cadenas de Caracteres (strings)\n",
    "    3  Booleanos\n",
    "    4  Valores nulos (None)\n",
    "    5  Estructuras de Datos compuestos:\n",
    "        5.1  Listas\n",
    "        5.2  Tuplas\n",
    "        5.3  Conjuntos (set)\n",
    "        5.4  Diccionarios \n",
    "    6  Bucles\n",
    "        6.1 For\n",
    "        6.2 While\n",
    "    7  Estructuras de control\n",
    "    8  Manejo de errores\n",
    "        \n",
    "    "
   ]
  },
  {
   "cell_type": "markdown",
   "id": "b6880d9d",
   "metadata": {},
   "source": [
    "## Numeric Data"
   ]
  },
  {
   "cell_type": "markdown",
   "id": "39bb27cf",
   "metadata": {},
   "source": [
    "### Integers (Números enteros)"
   ]
  },
  {
   "cell_type": "code",
   "execution_count": null,
   "id": "1a21830b",
   "metadata": {},
   "outputs": [],
   "source": [
    "num = 3"
   ]
  },
  {
   "cell_type": "code",
   "execution_count": null,
   "id": "31e770c1",
   "metadata": {},
   "outputs": [],
   "source": [
    "type(num)"
   ]
  },
  {
   "cell_type": "markdown",
   "id": "6496c023",
   "metadata": {},
   "source": [
    "### Floats (Números reales)"
   ]
  },
  {
   "cell_type": "code",
   "execution_count": null,
   "id": "2af0ce4b",
   "metadata": {},
   "outputs": [],
   "source": [
    "ft = 3.5"
   ]
  },
  {
   "cell_type": "code",
   "execution_count": null,
   "id": "41ee7a60",
   "metadata": {},
   "outputs": [],
   "source": [
    "type(ft)"
   ]
  },
  {
   "cell_type": "markdown",
   "id": "cc04e966",
   "metadata": {},
   "source": [
    "### Complex (Números complejos)"
   ]
  },
  {
   "cell_type": "code",
   "execution_count": null,
   "id": "08714277",
   "metadata": {},
   "outputs": [],
   "source": [
    "cmpx = 4j+2"
   ]
  },
  {
   "cell_type": "code",
   "execution_count": null,
   "id": "2ad36733",
   "metadata": {},
   "outputs": [],
   "source": [
    "type(cmpx)"
   ]
  },
  {
   "cell_type": "markdown",
   "id": "1b835373",
   "metadata": {},
   "source": [
    "## Categoric Data "
   ]
  },
  {
   "cell_type": "markdown",
   "id": "58fbda39",
   "metadata": {},
   "source": [
    "### Strings (Cadenas de caracteres)"
   ]
  },
  {
   "cell_type": "code",
   "execution_count": null,
   "id": "6e401cf3",
   "metadata": {},
   "outputs": [],
   "source": [
    "saludo = 'Buenos días clase'"
   ]
  },
  {
   "cell_type": "code",
   "execution_count": null,
   "id": "a9855658",
   "metadata": {},
   "outputs": [],
   "source": [
    "type(saludo)"
   ]
  },
  {
   "cell_type": "markdown",
   "id": "862d9b14",
   "metadata": {},
   "source": [
    "#### Método len()"
   ]
  },
  {
   "cell_type": "markdown",
   "id": "7fef7772",
   "metadata": {},
   "source": [
    "El método len() se usa para conocer la longitud de la cadena"
   ]
  },
  {
   "cell_type": "code",
   "execution_count": null,
   "id": "a90a23f1",
   "metadata": {},
   "outputs": [],
   "source": [
    "len(saludo)"
   ]
  },
  {
   "cell_type": "markdown",
   "id": "19775e3b",
   "metadata": {},
   "source": [
    "#### Método split()"
   ]
  },
  {
   "cell_type": "markdown",
   "id": "903910d8",
   "metadata": {},
   "source": [
    "El método split toma la cadena de caracteres y la rompe cada vez que encuentre el caracter que le hemos pasado como parámetro, transformando la cadena de caracteres en una lista."
   ]
  },
  {
   "cell_type": "code",
   "execution_count": null,
   "id": "fc157cb8",
   "metadata": {},
   "outputs": [],
   "source": [
    "saludo.split()"
   ]
  },
  {
   "cell_type": "code",
   "execution_count": null,
   "id": "ec996427",
   "metadata": {},
   "outputs": [],
   "source": [
    "saludo.split('s')"
   ]
  },
  {
   "cell_type": "markdown",
   "id": "f8fb7d45",
   "metadata": {},
   "source": [
    "#### Método strip()"
   ]
  },
  {
   "cell_type": "markdown",
   "id": "ee66d894",
   "metadata": {},
   "source": [
    "El método strip elimina los espacios en blanco que contiene una cadena de carateres tanto a la izquierda como a la derecha, tiene dos variantes que son rstrip() y lstrip(), que eliminan únicamente los espacios en blanco a la derecha (rstrip) o a la izquierda (lstrip)"
   ]
  },
  {
   "cell_type": "code",
   "execution_count": null,
   "id": "4b4f4678",
   "metadata": {},
   "outputs": [],
   "source": [
    "saludo_con_espacios = '     Buenos días   clase       '"
   ]
  },
  {
   "cell_type": "code",
   "execution_count": null,
   "id": "b95e1da6",
   "metadata": {},
   "outputs": [],
   "source": [
    "saludo_con_espacios.strip()"
   ]
  },
  {
   "cell_type": "code",
   "execution_count": null,
   "id": "a898a1ad",
   "metadata": {},
   "outputs": [],
   "source": [
    "saludo_con_espacios.rstrip()"
   ]
  },
  {
   "cell_type": "code",
   "execution_count": null,
   "id": "16765013",
   "metadata": {},
   "outputs": [],
   "source": [
    "saludo_con_espacios.lstrip()"
   ]
  },
  {
   "cell_type": "markdown",
   "id": "db23ea81",
   "metadata": {},
   "source": [
    "#### Método replace()"
   ]
  },
  {
   "cell_type": "markdown",
   "id": "783dbb23",
   "metadata": {},
   "source": [
    "El método replace() sirve para sustituir un caracter o una sub-cadena de caracteres dentro de una cadena de caracteres."
   ]
  },
  {
   "cell_type": "code",
   "execution_count": null,
   "id": "2c068bef",
   "metadata": {},
   "outputs": [],
   "source": [
    "saludo"
   ]
  },
  {
   "cell_type": "code",
   "execution_count": null,
   "id": "40045c7c",
   "metadata": {},
   "outputs": [],
   "source": [
    "saludo.replace('clase','gentecilla')"
   ]
  },
  {
   "cell_type": "markdown",
   "id": "1b4a27f9",
   "metadata": {},
   "source": [
    "## Booleans "
   ]
  },
  {
   "cell_type": "code",
   "execution_count": null,
   "id": "c851c7bc",
   "metadata": {},
   "outputs": [],
   "source": [
    "type(True), type(False)"
   ]
  },
  {
   "cell_type": "code",
   "execution_count": null,
   "id": "dc7d47bf",
   "metadata": {},
   "outputs": [],
   "source": [
    "True == 0"
   ]
  },
  {
   "cell_type": "code",
   "execution_count": null,
   "id": "0fb9a959",
   "metadata": {},
   "outputs": [],
   "source": [
    "False == 0"
   ]
  },
  {
   "cell_type": "code",
   "execution_count": null,
   "id": "0e778008",
   "metadata": {},
   "outputs": [],
   "source": [
    "True == 1"
   ]
  },
  {
   "cell_type": "code",
   "execution_count": null,
   "id": "3bfff24a",
   "metadata": {},
   "outputs": [],
   "source": [
    "True == 2"
   ]
  },
  {
   "cell_type": "markdown",
   "id": "bb429f95",
   "metadata": {},
   "source": [
    "## Nulls (valores nulos)"
   ]
  },
  {
   "cell_type": "code",
   "execution_count": null,
   "id": "1c09fcef",
   "metadata": {},
   "outputs": [],
   "source": [
    "type(None)"
   ]
  },
  {
   "cell_type": "markdown",
   "id": "8054650f",
   "metadata": {},
   "source": [
    "## Estructuras de Datos"
   ]
  },
  {
   "cell_type": "markdown",
   "id": "aaa6e32a",
   "metadata": {},
   "source": [
    "### Listas (list)"
   ]
  },
  {
   "cell_type": "markdown",
   "id": "03890a29",
   "metadata": {},
   "source": [
    "Las listas son estructuras de datos compuestas, python al ser un lenguage de bajo tipado permite guardar diferentes tipos de datos dentro de una lista.\n",
    "Para acceder a los elementos de una lista lo haremos a través de su índice, en python los índices comienzan el número cero, por lo que para acceder al primer elemento de una lista deberíamos de usar el 0 en vez del 1.\n",
    "\n",
    "Para inicializar una lista nueva deberemos de crear una variable nueva y usar los [] dentro de los cuales le pasaremos los elementos que contendrá nuestra lista:\n",
    "\n",
    "    lst = ['ana', 'Pedro', 1, 2.0, True, None]\n",
    "\n",
    "Siendo 'i' un número cualquiera dentro del rango de longitud de una lista para acceder a cada elemento de la lista deberíamos de escribir la siguiente sentencia:\n",
    "    \n",
    "    lst[i]\n",
    "    \n",
    "    Tomando como ejemplo la lista anterior y dando a i el valor de 1:\n",
    "    \n",
    "    print(lst[1])\n",
    "    'Pedro'"
   ]
  },
  {
   "cell_type": "code",
   "execution_count": null,
   "id": "12d3903e",
   "metadata": {},
   "outputs": [],
   "source": [
    "lst = ['ana', 'Pedro', 1, 2.0, True, None]"
   ]
  },
  {
   "cell_type": "code",
   "execution_count": null,
   "id": "d42ebf2b",
   "metadata": {},
   "outputs": [],
   "source": [
    "lst[1]"
   ]
  },
  {
   "cell_type": "code",
   "execution_count": null,
   "id": "d02e854a",
   "metadata": {},
   "outputs": [],
   "source": [
    "type(lst)"
   ]
  },
  {
   "cell_type": "markdown",
   "id": "134e78f6",
   "metadata": {},
   "source": [
    "#### Método join()"
   ]
  },
  {
   "cell_type": "markdown",
   "id": "b9490eb1",
   "metadata": {},
   "source": [
    "El método join() sirve para transformar una lista en una cadena de caracteres."
   ]
  },
  {
   "cell_type": "code",
   "execution_count": null,
   "id": "130a918e",
   "metadata": {},
   "outputs": [],
   "source": [
    "' '.join(lst)"
   ]
  },
  {
   "cell_type": "markdown",
   "id": "f1729e1e",
   "metadata": {},
   "source": [
    "Como veís para poder transformar la lista en una cadena de caracteres todos los elementos deben de compartir el mismo tipo de dato"
   ]
  },
  {
   "cell_type": "code",
   "execution_count": null,
   "id": "7bc6272b",
   "metadata": {},
   "outputs": [],
   "source": [
    "lst_2 = ['Hola', 'clase', 'buenos', 'días', 'como', 'estais', '?']\n",
    "\n",
    "print(' '.join(lst_2))\n",
    "print('++'.join(lst_2))\n",
    "print('-->'.join(lst_2))\n",
    "print('>--<'.join(lst_2))"
   ]
  },
  {
   "cell_type": "markdown",
   "id": "f2691dcc",
   "metadata": {},
   "source": [
    "#### Método len()"
   ]
  },
  {
   "cell_type": "markdown",
   "id": "abf28ad5",
   "metadata": {},
   "source": [
    "Al igual que en las cadenas de caracteres el método len() nos devuelve la cantidad de elementos que contiene la lista."
   ]
  },
  {
   "cell_type": "code",
   "execution_count": null,
   "id": "ac9113b9",
   "metadata": {},
   "outputs": [],
   "source": [
    "len(lst)"
   ]
  },
  {
   "cell_type": "markdown",
   "id": "b0144dfd",
   "metadata": {},
   "source": [
    "#### Método sort()"
   ]
  },
  {
   "cell_type": "markdown",
   "id": "a461daac",
   "metadata": {},
   "source": [
    "El método sort() sirve para ordenar una lista, todos los elementos de la lista deben tener el mismo tipo de dato, sino sort() nos devolverá un error, por defecto ordena la lista en orden ascendente, si queremos que lo haga en orden descendente deberemos de pasarle el parámetro reverse = True"
   ]
  },
  {
   "cell_type": "code",
   "execution_count": null,
   "id": "fa661c4e",
   "metadata": {},
   "outputs": [],
   "source": [
    "lst_1.sort()"
   ]
  },
  {
   "cell_type": "code",
   "execution_count": null,
   "id": "c74870ea",
   "metadata": {},
   "outputs": [],
   "source": [
    "lst_2.sort()\n",
    "print(lst_2)"
   ]
  },
  {
   "cell_type": "markdown",
   "id": "6978a5e2",
   "metadata": {},
   "source": [
    "#### Métodos append() e insert()"
   ]
  },
  {
   "cell_type": "markdown",
   "id": "c311e354",
   "metadata": {},
   "source": [
    "Ambos métodos sirven para añadir elementos nuevos a una lista ya existente, la diferencia entre ambos es que append introduce el nuevo elemento al final de la lista y el método insert() recibe como parámetro la posición en la que queremos introducir el elemento en la lista"
   ]
  },
  {
   "cell_type": "code",
   "execution_count": null,
   "id": "4f5ab883",
   "metadata": {},
   "outputs": [],
   "source": [
    "lst_2.append('Nuevo elemento')\n",
    "lst_2.insert(0,'al inicio') # primero deberemos pasarle el índice y luego el elemento que queremos añadir"
   ]
  },
  {
   "cell_type": "code",
   "execution_count": null,
   "id": "c3a6c642",
   "metadata": {},
   "outputs": [],
   "source": [
    "lst_2"
   ]
  },
  {
   "cell_type": "markdown",
   "id": "a011b596",
   "metadata": {},
   "source": [
    "#### Método pop()"
   ]
  },
  {
   "cell_type": "markdown",
   "id": "1e391c7d",
   "metadata": {},
   "source": [
    "El método pop() devuelve el elemento cuyo índice le pasamos como parámetro y lo elimina de la lista, si no le pasamos níngún parámetro toma por defecto el último elemento de la lista "
   ]
  },
  {
   "cell_type": "code",
   "execution_count": null,
   "id": "34becffe",
   "metadata": {},
   "outputs": [],
   "source": [
    "lst_2.pop()"
   ]
  },
  {
   "cell_type": "code",
   "execution_count": null,
   "id": "6e265ed1",
   "metadata": {},
   "outputs": [],
   "source": [
    "lst_2.pop(0)"
   ]
  },
  {
   "cell_type": "markdown",
   "id": "dc290167",
   "metadata": {},
   "source": [
    "#### Slicing"
   ]
  },
  {
   "cell_type": "markdown",
   "id": "cf8231f6",
   "metadata": {},
   "source": [
    "El slicing es una técnica de python muy utilizada para recorrer listas o cadenas de caracteres (ya que a todos los efectos para python una cadena de caracteres es una lista), slicing tiene tres parámetros de entrada que son:\n",
    "\n",
    "    start : Por defecto siempre tendrá valor 0\n",
    "    stop : Por defecto siempre será el último valor de la lista '-1'\n",
    "    step : Por defecto 1, que es el valor del salto que hace el slicing cuando recorre la lista"
   ]
  },
  {
   "cell_type": "code",
   "execution_count": null,
   "id": "801b0bb6",
   "metadata": {},
   "outputs": [],
   "source": [
    "lst[0:-1:2]"
   ]
  },
  {
   "cell_type": "code",
   "execution_count": null,
   "id": "cde4f993",
   "metadata": {},
   "outputs": [],
   "source": [
    "lst_2[1:-1:2]"
   ]
  },
  {
   "cell_type": "code",
   "execution_count": null,
   "id": "88686d05",
   "metadata": {},
   "outputs": [],
   "source": [
    "lst_2[::-1]"
   ]
  },
  {
   "cell_type": "markdown",
   "id": "beac1333",
   "metadata": {},
   "source": [
    "### Tuplas (tuple) "
   ]
  },
  {
   "cell_type": "markdown",
   "id": "d5156784",
   "metadata": {},
   "source": [
    "Las tuplas son una estructura similar a las listas con una peculiaridad, son inmutables, esto quiere decir que no podemos alterarlas una vez creadas, podemos acceder a sus índices y recorrerlas como si fueran una lista, pero no podemos eliminar ni añadir elementos a ellas, o alterar su orden.\n",
    "\n",
    "Para inicializar una tupla crearemos una variable y añadiremos los elementos entre ().\n",
    "\n",
    "    tup = ('Ana', 'Pedro')"
   ]
  },
  {
   "cell_type": "code",
   "execution_count": null,
   "id": "046fc835",
   "metadata": {},
   "outputs": [],
   "source": [
    "tup = ('Ana', 'Pedro')"
   ]
  },
  {
   "cell_type": "code",
   "execution_count": null,
   "id": "d2029bcc",
   "metadata": {},
   "outputs": [],
   "source": [
    "type(tup)"
   ]
  },
  {
   "cell_type": "markdown",
   "id": "13b55ed0",
   "metadata": {},
   "source": [
    "### Sets "
   ]
  },
  {
   "cell_type": "markdown",
   "id": "46aae291",
   "metadata": {},
   "source": [
    "Los Sets son otra estructura de datos compuesta de python que tienen la particularidad de que cada elemento dentro de ella debe de ser único, si al generar el set introducimos datos repetidos automáticamente python eliminara esos datos repetidos, y se quedará con cada elemento único.\n",
    "\n",
    "\n",
    "s = {'1','1',1,1,1,3,2,2,2,2,2,'2','2','1',1,2,2,'2'}"
   ]
  },
  {
   "cell_type": "code",
   "execution_count": null,
   "id": "8bbf5fa7",
   "metadata": {},
   "outputs": [],
   "source": [
    "s = {'1','1',1,1,1,3,2,2,2,2,2,'2','2','1',1,2,2,'2'}"
   ]
  },
  {
   "cell_type": "code",
   "execution_count": null,
   "id": "ec857630",
   "metadata": {},
   "outputs": [],
   "source": [
    "type(s)"
   ]
  },
  {
   "cell_type": "code",
   "execution_count": null,
   "id": "f55992b3",
   "metadata": {},
   "outputs": [],
   "source": [
    "print(s)"
   ]
  },
  {
   "cell_type": "markdown",
   "id": "5ca18aef",
   "metadata": {},
   "source": [
    "### Diccionarios (dict)"
   ]
  },
  {
   "cell_type": "markdown",
   "id": "48998d14",
   "metadata": {},
   "source": [
    "Los diccionarios son estructuras de datos muy utilizadas en python se caracterizan porque cada elemento está codificado en formato de clave valor, tienen la peculiaridad de que la clave debe de ser única, y los valores pueden ser cualquier tipo de dato, por lo que podemos encontrarnos con diccionarios con claves cuyo valor sea otro diccionario, una lista, una tupla, etc.\n",
    "\n",
    "    dictio = {'Clave':'Valor',\n",
    "              'Clave2': [1,2,3,5],\n",
    "              'Clave3': {'subclave': 1,\n",
    "                          'subclave2': (2,'Ana')},\n",
    "              'Clave4': {1,2,3}\n",
    "    }"
   ]
  },
  {
   "cell_type": "code",
   "execution_count": null,
   "id": "b191f3cb",
   "metadata": {},
   "outputs": [],
   "source": [
    "dictio = {'Clave':'Valor',\n",
    "          'Clave2': [1,2,3,5],\n",
    "          'Clave3': {'subclave': 1,\n",
    "                      'subclave2': (2,'Ana')},\n",
    "          'Clave4': {1,2,3}\n",
    "}"
   ]
  },
  {
   "cell_type": "code",
   "execution_count": null,
   "id": "e2f93485",
   "metadata": {},
   "outputs": [],
   "source": [
    "type(dictio)"
   ]
  },
  {
   "cell_type": "code",
   "execution_count": null,
   "id": "3b74e97e",
   "metadata": {},
   "outputs": [],
   "source": [
    "dictio['Clave2']"
   ]
  },
  {
   "cell_type": "code",
   "execution_count": null,
   "id": "38750c33",
   "metadata": {},
   "outputs": [],
   "source": [
    "dictio['Clave3']"
   ]
  },
  {
   "cell_type": "code",
   "execution_count": null,
   "id": "671ce1dc",
   "metadata": {},
   "outputs": [],
   "source": [
    "dictio['clave_nueva'] = {1:'hola',\n",
    "                        2:'nueva',\n",
    "                        3: 'clave'}"
   ]
  },
  {
   "cell_type": "code",
   "execution_count": null,
   "id": "19823587",
   "metadata": {},
   "outputs": [],
   "source": [
    "dictio"
   ]
  },
  {
   "cell_type": "markdown",
   "id": "c19d6328",
   "metadata": {},
   "source": [
    "## Bucles"
   ]
  },
  {
   "cell_type": "markdown",
   "id": "5ac49685",
   "metadata": {},
   "source": [
    "Los bucles son métodos de python que se utilizan para realizar una acción o ejecutar un bloque de código de manera recurrente sin tener que volver a escribir esa misma acción o bloque de código por cada vez que queramos ejecutarlo.\n",
    "\n",
    "    Tip: Si vés repetida la misma línea de código una y otra vez de forma seguida es posible que puedas refactorizar esa parte del código e introducir un bucle en el ;)\n",
    "    \n",
    "Existen dos tipos de bucles en python, que son el bucle for y el bucle while:\n",
    "\n",
    "    El bucle for se ejecutará un cierto número de veces, las que nosotros le digamos\n",
    "    El bucle while se ejecutará infinitamente hasta que se cumpla la condición que nosotros le pasemos para que pare\n",
    "    \n",
    "    !!OJO¡¡ Cuidado con los bucles while 1 XDDD"
   ]
  },
  {
   "cell_type": "markdown",
   "id": "25140a76",
   "metadata": {},
   "source": [
    "### Bucle For"
   ]
  },
  {
   "cell_type": "markdown",
   "id": "b1827e32",
   "metadata": {},
   "source": [
    "#### Por elemento"
   ]
  },
  {
   "cell_type": "code",
   "execution_count": null,
   "id": "6852baf5",
   "metadata": {},
   "outputs": [],
   "source": [
    "for e in lst:\n",
    "    print(e)"
   ]
  },
  {
   "cell_type": "code",
   "execution_count": null,
   "id": "f193c176",
   "metadata": {},
   "outputs": [],
   "source": [
    "for e in lst[:-2]:\n",
    "    print(e)"
   ]
  },
  {
   "cell_type": "markdown",
   "id": "0a7a638d",
   "metadata": {},
   "source": [
    "#### Por índices"
   ]
  },
  {
   "cell_type": "code",
   "execution_count": null,
   "id": "151f3d85",
   "metadata": {},
   "outputs": [],
   "source": [
    "for i in range(len(lst_2)):\n",
    "    print(i)\n",
    "    print(lst_2[i])"
   ]
  },
  {
   "cell_type": "markdown",
   "id": "d8bf6088",
   "metadata": {},
   "source": [
    "#### Por elemento e índice"
   ]
  },
  {
   "cell_type": "code",
   "execution_count": null,
   "id": "e10712d3",
   "metadata": {},
   "outputs": [],
   "source": [
    "for i,e in enumerate(lst_2):\n",
    "    print(f'Al índice {i} le correspondel el elemento {e}')"
   ]
  },
  {
   "cell_type": "markdown",
   "id": "a0ed4e6e",
   "metadata": {},
   "source": [
    "### Bucle while"
   ]
  },
  {
   "cell_type": "code",
   "execution_count": null,
   "id": "c85a9331",
   "metadata": {},
   "outputs": [],
   "source": [
    "i = 0\n",
    "while i < 10:\n",
    "    print(f'Empieza la cuenta {i}')\n",
    "    i += 1"
   ]
  },
  {
   "cell_type": "markdown",
   "id": "77136dfc",
   "metadata": {},
   "source": [
    "Cuidado con olvidar el la condición para parar el bucle o podemos acabar haciendo un bucle infinito."
   ]
  },
  {
   "cell_type": "markdown",
   "id": "cdfc1bf0",
   "metadata": {},
   "source": [
    "## Estructuras de control"
   ]
  },
  {
   "cell_type": "markdown",
   "id": "8a1b9555",
   "metadata": {},
   "source": [
    "Las estructuras de control son bloques de código que introducimos en un programa para que ejecute cierta parte del código si se cumplen una o varias condiciones, la estructura es la siguiente:\n",
    "\n",
    "    Iniciamos el condicional con la palabra reservada if seguida de la condición.\n",
    "    Podemos incluir otra condición con la palabra reservada elif.\n",
    "    Para finalizar podemos incluir la palabra else, no es necesario incluirla pero siempre son buenas prácticas incluir un else siempre que iniciemos un bloque if."
   ]
  },
  {
   "cell_type": "code",
   "execution_count": null,
   "id": "cb9b8b27",
   "metadata": {},
   "outputs": [],
   "source": [
    "for i in range(11):\n",
    "    if i%2: # esto es lo mismo que poner i%2 == 1, True == 1\n",
    "        print(i)\n",
    "    else:\n",
    "        print('Numéro par')"
   ]
  },
  {
   "cell_type": "code",
   "execution_count": null,
   "id": "63963c26",
   "metadata": {},
   "outputs": [],
   "source": [
    "for i in range(11):\n",
    "    \n",
    "    if i%2 == 0 and i%3 == 0:\n",
    "        print('Divisible entre 2 y 3')\n",
    "    \n",
    "    elif i%2== 0: # esto es lo mismo que poner i%2 == 1, True == 1\n",
    "        print(i)\n",
    "    \n",
    "    else:\n",
    "        print('Numéro impar')"
   ]
  },
  {
   "cell_type": "markdown",
   "id": "aaaf6942",
   "metadata": {},
   "source": [
    "## Manejo de Errores"
   ]
  },
  {
   "cell_type": "markdown",
   "id": "022c0223",
   "metadata": {},
   "source": [
    "El manejo de errores es un área que todo desarrollador debe conocer ya que evitará posibles problemas que pueda causar el usuario al manejar el software que hemos programado, en python la sintaxis para el manejo o control de errores es de la siguiente manera:\n",
    "\n",
    "    try: #iniciamos el bloque que puede ocasionar el error\n",
    "        bloque de código que queremos probar\n",
    "    except TipodeError que queremos controlar si lo conocemos: # le indicamos al programa que hacer en caso de que ocurra el error\n",
    "        raise ValueError # lanzamos el error para que se muestre por pantalla\n",
    "        \n",
    "        o podemos imprimir un mensaje avisando al usuario\n",
    "        \n",
    "        print('ha ocurrido un error del tipo ....')\n",
    "        \n",
    "        o\n",
    "        \n",
    "        pass # si queremos que continue ejecutandose el código pase lo que pase (No recomendado)\n",
    "        \n",
    "    finally:\n",
    "        Este bloque no es necesario pero si lo incluimos siempre se va a ejecutar se produzca o no el error"
   ]
  },
  {
   "cell_type": "code",
   "execution_count": null,
   "id": "8dbcf06f",
   "metadata": {},
   "outputs": [],
   "source": [
    "for e in lst:\n",
    "    try:\n",
    "        print(e/2)\n",
    "    except TypeError:\n",
    "        print(f'{e} no se puede dividir entre 2')\n",
    "       \n",
    "    finally:\n",
    "        print('Esto se imprime siempre')"
   ]
  },
  {
   "cell_type": "code",
   "execution_count": null,
   "id": "9fed2b76",
   "metadata": {
    "scrolled": true
   },
   "outputs": [],
   "source": [
    "for e in lst:\n",
    "    try:\n",
    "        print(e/2)\n",
    "    except TypeError:\n",
    "        print(f'{e} no se puede dividir entre 2')\n",
    "        raise TypeError (f'{type(e)} no se puede dividir por un {type(2)}')\n",
    "    finally:\n",
    "        print('Esto se imprime siempre')"
   ]
  },
  {
   "cell_type": "code",
   "execution_count": null,
   "id": "d04b07c6",
   "metadata": {},
   "outputs": [],
   "source": []
  }
 ],
 "metadata": {
  "kernelspec": {
   "display_name": "Python 3 (ipykernel)",
   "language": "python",
   "name": "python3"
  },
  "language_info": {
   "codemirror_mode": {
    "name": "ipython",
    "version": 3
   },
   "file_extension": ".py",
   "mimetype": "text/x-python",
   "name": "python",
   "nbconvert_exporter": "python",
   "pygments_lexer": "ipython3",
   "version": "3.9.12"
  }
 },
 "nbformat": 4,
 "nbformat_minor": 5
}
