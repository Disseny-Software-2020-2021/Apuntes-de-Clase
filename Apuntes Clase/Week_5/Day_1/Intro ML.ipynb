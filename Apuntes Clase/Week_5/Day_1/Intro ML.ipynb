{
 "cells": [
  {
   "cell_type": "markdown",
   "id": "43f714ab-4c10-4b2e-b69a-656c8d9eeaa9",
   "metadata": {},
   "source": [
    "# 5.1 - Intro Machine Learning - Aprendizaje Supervisado - Regresion\n",
    "\n",
    "![venn_ml](../../images/venn_ml.png)\n",
    "\n",
    "![ext_sklearn](../../images/ext_sklearn.jpeg)\n",
    "\n",
    "![sklearn](../../images/sklearn.png)"
   ]
  },
  {
   "cell_type": "markdown",
   "id": "ce817f03-6864-42f9-8943-79f14db5bb11",
   "metadata": {},
   "source": [
    "### WorkFlow\n",
    "\n",
    "\n",
    "1. [Obtener datos](#1.-Obtener-Datos)\n",
    "2. [Definir objetivo](#2.-Definir-Objetivo)\n",
    "3. [Limpieza de datos (unidades, outliers, one-hot, etc..)(**)](#3.-Limpieza-de-Datos)\n",
    "4. [Definir modelo (regresión, clasificación, ...)](#4.-Modelo)\n",
    "5. [Entrenar (hiperparámetros, validación, ...) (**)](#5.-Entrenamiento)\n",
    "6. [Predecir (testear)](#6.-Predicción)\n",
    "7. [Evaluación](#7.-Evaluación)\n",
    "8. [Si hay mucho error volver a (**)](#WorkFlow)\n"
   ]
  },
  {
   "cell_type": "markdown",
   "id": "e5796fb4-eb3e-4076-b2ac-2429e3b063f5",
   "metadata": {},
   "source": [
    "Lo primero como siempre importamos nuestras librerías"
   ]
  },
  {
   "cell_type": "code",
   "execution_count": 1,
   "id": "ce5e1e2a-c3dd-40c4-ae77-100995931b23",
   "metadata": {},
   "outputs": [],
   "source": [
    "import warnings\n",
    "warnings.filterwarnings('ignore')\n",
    "\n",
    "import pandas as pd\n",
    "import numpy as np\n",
    "\n",
    "import pylab as plt\n",
    "import seaborn as sns\n",
    "\n",
    "%matplotlib inline"
   ]
  },
  {
   "cell_type": "markdown",
   "id": "e49dda82-b4ff-4b18-8ac9-e9ccd7ed58fd",
   "metadata": {},
   "source": [
    "Para este ejemplo vamos a trabajar con un dataset sobre diamantes, la idea es predecir el precio de un diamante en base a sus características"
   ]
  },
  {
   "cell_type": "markdown",
   "id": "3f111c79-b3b5-43cc-ba03-fb8c389d219d",
   "metadata": {},
   "source": [
    "### 1. Obtener Datos\n",
    "\n",
    "**explicacion:**\n",
    "    \n",
    "+ carat:\tpeso del diamante (quilates)\n",
    "\n",
    "+ cut:\tcalidad del corte (Fair, Ideal, Good, Very Good, Premium)\n",
    "\n",
    "+ color: color (D (mejor) a J (peor))\n",
    "\n",
    "+ clarity: claridad (I1 (peor), SI2, SI1, VS2, VS1, VVS2, VVS1, IF (mejor)) \n",
    "\n",
    "+ table: ancho del corte superior del diamante\n",
    "\n",
    "+ x: largo en mm\n",
    "\n",
    "+ y: ancho en mm\n",
    "\n",
    "+ z: alto en mm\n",
    "\n",
    "+ depth:\t2*z/(x+y)\n",
    "\n",
    "+ price:\tprecio en dolares USA\n",
    "\n",
    "\n",
    "![dia](../../images/dia.jpg)"
   ]
  },
  {
   "cell_type": "code",
   "execution_count": 2,
   "id": "a76e71d6-8fed-4f36-a62d-ef9cae651f96",
   "metadata": {},
   "outputs": [
    {
     "data": {
      "text/html": [
       "<div>\n",
       "<style scoped>\n",
       "    .dataframe tbody tr th:only-of-type {\n",
       "        vertical-align: middle;\n",
       "    }\n",
       "\n",
       "    .dataframe tbody tr th {\n",
       "        vertical-align: top;\n",
       "    }\n",
       "\n",
       "    .dataframe thead th {\n",
       "        text-align: right;\n",
       "    }\n",
       "</style>\n",
       "<table border=\"1\" class=\"dataframe\">\n",
       "  <thead>\n",
       "    <tr style=\"text-align: right;\">\n",
       "      <th></th>\n",
       "      <th>carat</th>\n",
       "      <th>cut</th>\n",
       "      <th>color</th>\n",
       "      <th>clarity</th>\n",
       "      <th>depth</th>\n",
       "      <th>table</th>\n",
       "      <th>price</th>\n",
       "      <th>x</th>\n",
       "      <th>y</th>\n",
       "      <th>z</th>\n",
       "    </tr>\n",
       "  </thead>\n",
       "  <tbody>\n",
       "    <tr>\n",
       "      <th>0</th>\n",
       "      <td>1.21</td>\n",
       "      <td>Premium</td>\n",
       "      <td>J</td>\n",
       "      <td>VS2</td>\n",
       "      <td>62.4</td>\n",
       "      <td>58.0</td>\n",
       "      <td>4268</td>\n",
       "      <td>6.83</td>\n",
       "      <td>6.79</td>\n",
       "      <td>4.25</td>\n",
       "    </tr>\n",
       "    <tr>\n",
       "      <th>1</th>\n",
       "      <td>0.32</td>\n",
       "      <td>Very Good</td>\n",
       "      <td>H</td>\n",
       "      <td>VS2</td>\n",
       "      <td>63.0</td>\n",
       "      <td>57.0</td>\n",
       "      <td>505</td>\n",
       "      <td>4.35</td>\n",
       "      <td>4.38</td>\n",
       "      <td>2.75</td>\n",
       "    </tr>\n",
       "    <tr>\n",
       "      <th>2</th>\n",
       "      <td>0.71</td>\n",
       "      <td>Fair</td>\n",
       "      <td>G</td>\n",
       "      <td>VS1</td>\n",
       "      <td>65.5</td>\n",
       "      <td>55.0</td>\n",
       "      <td>2686</td>\n",
       "      <td>5.62</td>\n",
       "      <td>5.53</td>\n",
       "      <td>3.65</td>\n",
       "    </tr>\n",
       "    <tr>\n",
       "      <th>3</th>\n",
       "      <td>0.41</td>\n",
       "      <td>Good</td>\n",
       "      <td>D</td>\n",
       "      <td>SI1</td>\n",
       "      <td>63.8</td>\n",
       "      <td>56.0</td>\n",
       "      <td>738</td>\n",
       "      <td>4.68</td>\n",
       "      <td>4.72</td>\n",
       "      <td>3.00</td>\n",
       "    </tr>\n",
       "    <tr>\n",
       "      <th>4</th>\n",
       "      <td>1.02</td>\n",
       "      <td>Ideal</td>\n",
       "      <td>G</td>\n",
       "      <td>SI1</td>\n",
       "      <td>60.5</td>\n",
       "      <td>59.0</td>\n",
       "      <td>4882</td>\n",
       "      <td>6.55</td>\n",
       "      <td>6.51</td>\n",
       "      <td>3.95</td>\n",
       "    </tr>\n",
       "  </tbody>\n",
       "</table>\n",
       "</div>"
      ],
      "text/plain": [
       "   carat        cut color clarity  depth  table  price     x     y     z\n",
       "0   1.21    Premium     J     VS2   62.4   58.0   4268  6.83  6.79  4.25\n",
       "1   0.32  Very Good     H     VS2   63.0   57.0    505  4.35  4.38  2.75\n",
       "2   0.71       Fair     G     VS1   65.5   55.0   2686  5.62  5.53  3.65\n",
       "3   0.41       Good     D     SI1   63.8   56.0    738  4.68  4.72  3.00\n",
       "4   1.02      Ideal     G     SI1   60.5   59.0   4882  6.55  6.51  3.95"
      ]
     },
     "execution_count": 2,
     "metadata": {},
     "output_type": "execute_result"
    }
   ],
   "source": [
    "df=pd.read_csv('../../../data/diamonds.csv')\n",
    "\n",
    "df.head()"
   ]
  },
  {
   "cell_type": "markdown",
   "id": "32832fbc-926b-4e66-be47-bc6f8f998141",
   "metadata": {},
   "source": [
    "Vamos ver como es la calidad de nuestros datos"
   ]
  },
  {
   "cell_type": "code",
   "execution_count": 3,
   "id": "91e31a54-d152-4dee-a9d4-259f29c1f7c1",
   "metadata": {},
   "outputs": [
    {
     "name": "stdout",
     "output_type": "stream",
     "text": [
      "<class 'pandas.core.frame.DataFrame'>\n",
      "RangeIndex: 40455 entries, 0 to 40454\n",
      "Data columns (total 10 columns):\n",
      " #   Column   Non-Null Count  Dtype  \n",
      "---  ------   --------------  -----  \n",
      " 0   carat    40455 non-null  float64\n",
      " 1   cut      40455 non-null  object \n",
      " 2   color    40455 non-null  object \n",
      " 3   clarity  40455 non-null  object \n",
      " 4   depth    40455 non-null  float64\n",
      " 5   table    40455 non-null  float64\n",
      " 6   price    40455 non-null  int64  \n",
      " 7   x        40455 non-null  float64\n",
      " 8   y        40455 non-null  float64\n",
      " 9   z        40455 non-null  float64\n",
      "dtypes: float64(6), int64(1), object(3)\n",
      "memory usage: 3.1+ MB\n"
     ]
    }
   ],
   "source": [
    "df.info()"
   ]
  },
  {
   "cell_type": "markdown",
   "id": "2dda68f5-7dd2-425e-af26-735b1a41d008",
   "metadata": {},
   "source": [
    "### 2. Definir nuestro objetivo\n",
    "\n",
    "Como hemos dicho al principio nuestro objetivo es tratar de predecir el precio de un diamante en base a sus caracteristicas, carat, corte, color, clarity, etc..."
   ]
  },
  {
   "cell_type": "markdown",
   "id": "155b0c63-02f5-42e1-b020-e38b15bde982",
   "metadata": {},
   "source": [
    "### 3. Limpieza de Datos\n",
    "\n",
    "El proceso de limpieza es el habitual:\n",
    "\n",
    "+ Valores nulos\n",
    "+ Datos inconsistentes \n",
    "+ Datos duplicados...\n",
    "\n",
    "Todo esto implica realizar también un **EDA**. Además de eso, es necesario arreglar los datos, proceso llamado `data wrangling`. Este proceso consiste en preparar los datos de manera adecuada para que el modelo de machine learning \"entienda\" los datos de manera óptima. Por ejemplo, los datos de corte, color y claridad son datos categóricos que están en formato string, habrá que cambiar estos datos para alimentar al modelo, las máquinas solo entienden de números 🤣.\n",
    "\n",
    "Este proceso no es solo necesario sino fundamental. **Todo está en los datos.**"
   ]
  },
  {
   "cell_type": "code",
   "execution_count": 4,
   "id": "0f2ee76b-c513-4d86-9939-28d82c6963dc",
   "metadata": {},
   "outputs": [
    {
     "name": "stdout",
     "output_type": "stream",
     "text": [
      "<class 'pandas.core.frame.DataFrame'>\n",
      "RangeIndex: 40455 entries, 0 to 40454\n",
      "Data columns (total 10 columns):\n",
      " #   Column   Non-Null Count  Dtype  \n",
      "---  ------   --------------  -----  \n",
      " 0   carat    40455 non-null  float64\n",
      " 1   cut      40455 non-null  object \n",
      " 2   color    40455 non-null  object \n",
      " 3   clarity  40455 non-null  object \n",
      " 4   depth    40455 non-null  float64\n",
      " 5   table    40455 non-null  float64\n",
      " 6   price    40455 non-null  int64  \n",
      " 7   x        40455 non-null  float64\n",
      " 8   y        40455 non-null  float64\n",
      " 9   z        40455 non-null  float64\n",
      "dtypes: float64(6), int64(1), object(3)\n",
      "memory usage: 9.2 MB\n"
     ]
    }
   ],
   "source": [
    "df.info(memory_usage='deep')"
   ]
  },
  {
   "cell_type": "markdown",
   "id": "a5e3a278-b5b7-4964-88dd-1b6cf4292d45",
   "metadata": {},
   "source": [
    "En principio nuestros datos parece que no contienen datos nulos, por lo que podemos avanzar al siguiente paso, en el caso de que si hubiera contenido datos nulos, deberíamos de haber explorado las columnas que contenían estos datos y decir como tratar esos valores nulos."
   ]
  },
  {
   "cell_type": "code",
   "execution_count": 5,
   "id": "0ad0c3eb-6219-4ffb-b78c-f1e7fed79f56",
   "metadata": {},
   "outputs": [
    {
     "data": {
      "text/html": [
       "<div>\n",
       "<style scoped>\n",
       "    .dataframe tbody tr th:only-of-type {\n",
       "        vertical-align: middle;\n",
       "    }\n",
       "\n",
       "    .dataframe tbody tr th {\n",
       "        vertical-align: top;\n",
       "    }\n",
       "\n",
       "    .dataframe thead th {\n",
       "        text-align: right;\n",
       "    }\n",
       "</style>\n",
       "<table border=\"1\" class=\"dataframe\">\n",
       "  <thead>\n",
       "    <tr style=\"text-align: right;\">\n",
       "      <th></th>\n",
       "      <th>count</th>\n",
       "      <th>unique</th>\n",
       "      <th>top</th>\n",
       "      <th>freq</th>\n",
       "      <th>mean</th>\n",
       "      <th>std</th>\n",
       "      <th>min</th>\n",
       "      <th>25%</th>\n",
       "      <th>50%</th>\n",
       "      <th>75%</th>\n",
       "      <th>max</th>\n",
       "    </tr>\n",
       "  </thead>\n",
       "  <tbody>\n",
       "    <tr>\n",
       "      <th>carat</th>\n",
       "      <td>40455.0</td>\n",
       "      <td>NaN</td>\n",
       "      <td>NaN</td>\n",
       "      <td>NaN</td>\n",
       "      <td>0.797706</td>\n",
       "      <td>0.475544</td>\n",
       "      <td>0.2</td>\n",
       "      <td>0.4</td>\n",
       "      <td>0.7</td>\n",
       "      <td>1.04</td>\n",
       "      <td>4.5</td>\n",
       "    </tr>\n",
       "    <tr>\n",
       "      <th>cut</th>\n",
       "      <td>40455</td>\n",
       "      <td>5</td>\n",
       "      <td>Ideal</td>\n",
       "      <td>16220</td>\n",
       "      <td>NaN</td>\n",
       "      <td>NaN</td>\n",
       "      <td>NaN</td>\n",
       "      <td>NaN</td>\n",
       "      <td>NaN</td>\n",
       "      <td>NaN</td>\n",
       "      <td>NaN</td>\n",
       "    </tr>\n",
       "    <tr>\n",
       "      <th>color</th>\n",
       "      <td>40455</td>\n",
       "      <td>7</td>\n",
       "      <td>G</td>\n",
       "      <td>8455</td>\n",
       "      <td>NaN</td>\n",
       "      <td>NaN</td>\n",
       "      <td>NaN</td>\n",
       "      <td>NaN</td>\n",
       "      <td>NaN</td>\n",
       "      <td>NaN</td>\n",
       "      <td>NaN</td>\n",
       "    </tr>\n",
       "    <tr>\n",
       "      <th>clarity</th>\n",
       "      <td>40455</td>\n",
       "      <td>8</td>\n",
       "      <td>SI1</td>\n",
       "      <td>9749</td>\n",
       "      <td>NaN</td>\n",
       "      <td>NaN</td>\n",
       "      <td>NaN</td>\n",
       "      <td>NaN</td>\n",
       "      <td>NaN</td>\n",
       "      <td>NaN</td>\n",
       "      <td>NaN</td>\n",
       "    </tr>\n",
       "    <tr>\n",
       "      <th>depth</th>\n",
       "      <td>40455.0</td>\n",
       "      <td>NaN</td>\n",
       "      <td>NaN</td>\n",
       "      <td>NaN</td>\n",
       "      <td>61.752841</td>\n",
       "      <td>1.431725</td>\n",
       "      <td>43.0</td>\n",
       "      <td>61.0</td>\n",
       "      <td>61.8</td>\n",
       "      <td>62.5</td>\n",
       "      <td>79.0</td>\n",
       "    </tr>\n",
       "    <tr>\n",
       "      <th>table</th>\n",
       "      <td>40455.0</td>\n",
       "      <td>NaN</td>\n",
       "      <td>NaN</td>\n",
       "      <td>NaN</td>\n",
       "      <td>57.446133</td>\n",
       "      <td>2.233535</td>\n",
       "      <td>43.0</td>\n",
       "      <td>56.0</td>\n",
       "      <td>57.0</td>\n",
       "      <td>59.0</td>\n",
       "      <td>95.0</td>\n",
       "    </tr>\n",
       "    <tr>\n",
       "      <th>price</th>\n",
       "      <td>40455.0</td>\n",
       "      <td>NaN</td>\n",
       "      <td>NaN</td>\n",
       "      <td>NaN</td>\n",
       "      <td>3928.444469</td>\n",
       "      <td>3992.416147</td>\n",
       "      <td>326.0</td>\n",
       "      <td>945.0</td>\n",
       "      <td>2397.0</td>\n",
       "      <td>5331.0</td>\n",
       "      <td>18823.0</td>\n",
       "    </tr>\n",
       "    <tr>\n",
       "      <th>x</th>\n",
       "      <td>40455.0</td>\n",
       "      <td>NaN</td>\n",
       "      <td>NaN</td>\n",
       "      <td>NaN</td>\n",
       "      <td>5.729392</td>\n",
       "      <td>1.124453</td>\n",
       "      <td>0.0</td>\n",
       "      <td>4.71</td>\n",
       "      <td>5.69</td>\n",
       "      <td>6.54</td>\n",
       "      <td>10.23</td>\n",
       "    </tr>\n",
       "    <tr>\n",
       "      <th>y</th>\n",
       "      <td>40455.0</td>\n",
       "      <td>NaN</td>\n",
       "      <td>NaN</td>\n",
       "      <td>NaN</td>\n",
       "      <td>5.732819</td>\n",
       "      <td>1.14665</td>\n",
       "      <td>0.0</td>\n",
       "      <td>4.72</td>\n",
       "      <td>5.71</td>\n",
       "      <td>6.54</td>\n",
       "      <td>58.9</td>\n",
       "    </tr>\n",
       "    <tr>\n",
       "      <th>z</th>\n",
       "      <td>40455.0</td>\n",
       "      <td>NaN</td>\n",
       "      <td>NaN</td>\n",
       "      <td>NaN</td>\n",
       "      <td>3.537154</td>\n",
       "      <td>0.697062</td>\n",
       "      <td>0.0</td>\n",
       "      <td>2.91</td>\n",
       "      <td>3.52</td>\n",
       "      <td>4.035</td>\n",
       "      <td>8.06</td>\n",
       "    </tr>\n",
       "  </tbody>\n",
       "</table>\n",
       "</div>"
      ],
      "text/plain": [
       "           count unique    top   freq         mean          std    min    25%  \\\n",
       "carat    40455.0    NaN    NaN    NaN     0.797706     0.475544    0.2    0.4   \n",
       "cut        40455      5  Ideal  16220          NaN          NaN    NaN    NaN   \n",
       "color      40455      7      G   8455          NaN          NaN    NaN    NaN   \n",
       "clarity    40455      8    SI1   9749          NaN          NaN    NaN    NaN   \n",
       "depth    40455.0    NaN    NaN    NaN    61.752841     1.431725   43.0   61.0   \n",
       "table    40455.0    NaN    NaN    NaN    57.446133     2.233535   43.0   56.0   \n",
       "price    40455.0    NaN    NaN    NaN  3928.444469  3992.416147  326.0  945.0   \n",
       "x        40455.0    NaN    NaN    NaN     5.729392     1.124453    0.0   4.71   \n",
       "y        40455.0    NaN    NaN    NaN     5.732819      1.14665    0.0   4.72   \n",
       "z        40455.0    NaN    NaN    NaN     3.537154     0.697062    0.0   2.91   \n",
       "\n",
       "            50%     75%      max  \n",
       "carat       0.7    1.04      4.5  \n",
       "cut         NaN     NaN      NaN  \n",
       "color       NaN     NaN      NaN  \n",
       "clarity     NaN     NaN      NaN  \n",
       "depth      61.8    62.5     79.0  \n",
       "table      57.0    59.0     95.0  \n",
       "price    2397.0  5331.0  18823.0  \n",
       "x          5.69    6.54    10.23  \n",
       "y          5.71    6.54     58.9  \n",
       "z          3.52   4.035     8.06  "
      ]
     },
     "execution_count": 5,
     "metadata": {},
     "output_type": "execute_result"
    }
   ],
   "source": [
    "df.describe(include='all').T"
   ]
  },
  {
   "cell_type": "markdown",
   "id": "1d4f5111-44fa-4bef-a72a-43fb857f0d14",
   "metadata": {},
   "source": [
    "El parámetro include 'all' del método describe nos muestra todos los datos estadísticos de nuestras columnas, incluyendo las categóricas que en su caso nos devuelve parámetros tales como el conteo, el número de valores únicos por categoría, la moda y su frecuencia."
   ]
  },
  {
   "cell_type": "markdown",
   "id": "a7766109-f636-47bc-9a1c-d4480c293005",
   "metadata": {},
   "source": [
    "Ahora vamos a imprimir nuestra matriz de correlación para comprobar si hay colinealidad entre las variables de nuestro dataset"
   ]
  },
  {
   "cell_type": "code",
   "execution_count": 6,
   "id": "bca6ef1a-8068-4b1e-8bca-25d450b253c3",
   "metadata": {},
   "outputs": [
    {
     "data": {
      "image/png": "[encoded data removed]",
      "text/plain": [
       "<Figure size 1080x720 with 2 Axes>"
      ]
     },
     "metadata": {
      "needs_background": "light"
     },
     "output_type": "display_data"
    }
   ],
   "source": [
    "plt.figure(figsize=(15, 10))\n",
    "\n",
    "sns.set(style='white')\n",
    "\n",
    "mask=np.triu(np.ones_like(df.corr(), dtype=bool))\n",
    "\n",
    "cmap=sns.diverging_palette(0, 10, as_cmap=True)\n",
    "\n",
    "\n",
    "sns.heatmap(df.corr(),\n",
    "           mask=mask,\n",
    "          cmap=cmap,\n",
    "          center=0,\n",
    "          square=True,\n",
    "          annot=True,\n",
    "          linewidths=0.5,\n",
    "          cbar_kws={'shrink': 0.5});"
   ]
  },
  {
   "cell_type": "code",
   "execution_count": 7,
   "id": "f98fa697-411a-4f3a-81c4-baf75173967e",
   "metadata": {},
   "outputs": [
    {
     "data": {
      "image/png": "[encoded data removed]",
      "text/plain": [
       "<Figure size 1080x720 with 49 Axes>"
      ]
     },
     "metadata": {},
     "output_type": "display_data"
    }
   ],
   "source": [
    "pd.plotting.scatter_matrix(df, figsize=(15, 10), alpha=0.2);"
   ]
  },
  {
   "cell_type": "markdown",
   "id": "304b8154-86d6-413c-89b6-86e1bd676f1a",
   "metadata": {},
   "source": [
    "Vamos a ver alguna de las columnas en particular"
   ]
  },
  {
   "cell_type": "code",
   "execution_count": 8,
   "id": "320ae6fc-dbf2-42a6-82e7-18da66fd02a5",
   "metadata": {},
   "outputs": [
    {
     "data": {
      "image/png": "[encoded data removed]",
      "text/plain": [
       "<Figure size 1080x720 with 1 Axes>"
      ]
     },
     "metadata": {},
     "output_type": "display_data"
    }
   ],
   "source": [
    "plt.figure(figsize=(15,10))\n",
    "\n",
    "plt.scatter(df.price, df.carat)\n",
    "\n",
    "plt.ylabel('carat')\n",
    "plt.xlabel('price');"
   ]
  },
  {
   "cell_type": "markdown",
   "id": "bed5ec56-90bf-40b0-a5a6-5cfa014157ae",
   "metadata": {},
   "source": [
    "Al comparar precio y quilates vemos que hay cierta relación lineal, a más quilates mayor precio, aunque también podemos observar varios grupos en los que seguramente entre otro tipo de caracteristica que ayude a predecir su precio"
   ]
  },
  {
   "cell_type": "markdown",
   "id": "5579a3d0-b255-43ca-979c-c313022e374f",
   "metadata": {},
   "source": [
    "Vamos a tratar de transformar esta variable para ver si podemos eliminar esa dependecia de otras caracteristicas para tratar de encontrar si hay o no relación lineal entre ambas, para ello podemos usar la transformación de box-cot.\n",
    "Las transformaciones de Box y Cox son una familia de transformaciones potenciales usadas en estadística para corregir sesgos en la distribución de errores, para corregir varianzas desiguales (para diferentes valores de la variable predictora) y principalmente para corregir la no linealidad en la relación (mejorar correlación entre las variables). "
   ]
  },
  {
   "cell_type": "markdown",
   "id": "b7d7f6e0-f9ed-432d-a615-f8b684a79884",
   "metadata": {},
   "source": [
    "[Documentación](https://docs.scipy.org/doc/scipy/reference/generated/scipy.stats.boxcox.html) Libería Scipy\n",
    "\n",
    "[Wikipedia](https://es.wikipedia.org/wiki/Transformaci%C3%B3n_Box-Cox) Transformación de Box y Cox"
   ]
  },
  {
   "cell_type": "code",
   "execution_count": 9,
   "id": "33062167-7a73-4e46-a6d3-5cc5a642160f",
   "metadata": {},
   "outputs": [],
   "source": [
    "from scipy.stats import boxcox"
   ]
  },
  {
   "cell_type": "code",
   "execution_count": 10,
   "id": "02f371d5-6abd-4a99-b249-6c8ab54f2a4a",
   "metadata": {},
   "outputs": [
    {
     "data": {
      "image/png": "[encoded data removed]",
      "text/plain": [
       "<Figure size 1080x720 with 1 Axes>"
      ]
     },
     "metadata": {},
     "output_type": "display_data"
    }
   ],
   "source": [
    "plt.figure(figsize=(15,10))\n",
    "\n",
    "\n",
    "carat_boxcox=boxcox(df.carat, lmbda=2.618033) #este lambda es un valor aleatorio la idea sería ir haciendo experimentos\n",
    "\n",
    "plt.scatter(df.price, carat_boxcox)\n",
    "plt.xlabel('price')\n",
    "plt.ylabel('carat_boxcox');"
   ]
  },
  {
   "cell_type": "markdown",
   "id": "9c006c57-3b88-4ce6-99ef-2189bf8fd0e2",
   "metadata": {
    "tags": []
   },
   "source": [
    "## Reflexión : ¿Cómo podemos asegurarnos de que de verdad son diamantes?\n",
    "\n",
    "1 carat es igual a 200mg de diamante.\n",
    "\n",
    "Densidad del diamante es 2,26 gm/cm3"
   ]
  },
  {
   "cell_type": "markdown",
   "id": "1db556ef-5da1-4f6d-a833-6fc17eb63391",
   "metadata": {},
   "source": [
    "Con estos datos vamos a tratar de ver si todos los elementos que tenemos en nuestro dataset son diamantes o no, para ello vamos a realizar una copia de nuestros datos y vamos a añadirle una serie de nuevas columnas"
   ]
  },
  {
   "cell_type": "code",
   "execution_count": 11,
   "id": "cadf3c3a-f8ad-4d51-833d-8e647fdec758",
   "metadata": {},
   "outputs": [
    {
     "data": {
      "text/html": [
       "<div>\n",
       "<style scoped>\n",
       "    .dataframe tbody tr th:only-of-type {\n",
       "        vertical-align: middle;\n",
       "    }\n",
       "\n",
       "    .dataframe tbody tr th {\n",
       "        vertical-align: top;\n",
       "    }\n",
       "\n",
       "    .dataframe thead th {\n",
       "        text-align: right;\n",
       "    }\n",
       "</style>\n",
       "<table border=\"1\" class=\"dataframe\">\n",
       "  <thead>\n",
       "    <tr style=\"text-align: right;\">\n",
       "      <th></th>\n",
       "      <th>carat</th>\n",
       "      <th>cut</th>\n",
       "      <th>color</th>\n",
       "      <th>clarity</th>\n",
       "      <th>depth</th>\n",
       "      <th>table</th>\n",
       "      <th>price</th>\n",
       "      <th>x</th>\n",
       "      <th>y</th>\n",
       "      <th>z</th>\n",
       "      <th>gr</th>\n",
       "      <th>vol</th>\n",
       "      <th>density</th>\n",
       "    </tr>\n",
       "  </thead>\n",
       "  <tbody>\n",
       "    <tr>\n",
       "      <th>0</th>\n",
       "      <td>1.21</td>\n",
       "      <td>Premium</td>\n",
       "      <td>J</td>\n",
       "      <td>VS2</td>\n",
       "      <td>62.4</td>\n",
       "      <td>58.0</td>\n",
       "      <td>4268</td>\n",
       "      <td>6.83</td>\n",
       "      <td>6.79</td>\n",
       "      <td>4.25</td>\n",
       "      <td>0.242</td>\n",
       "      <td>0.078839</td>\n",
       "      <td>3.069559</td>\n",
       "    </tr>\n",
       "    <tr>\n",
       "      <th>1</th>\n",
       "      <td>0.32</td>\n",
       "      <td>Very Good</td>\n",
       "      <td>H</td>\n",
       "      <td>VS2</td>\n",
       "      <td>63.0</td>\n",
       "      <td>57.0</td>\n",
       "      <td>505</td>\n",
       "      <td>4.35</td>\n",
       "      <td>4.38</td>\n",
       "      <td>2.75</td>\n",
       "      <td>0.064</td>\n",
       "      <td>0.020958</td>\n",
       "      <td>3.053683</td>\n",
       "    </tr>\n",
       "    <tr>\n",
       "      <th>2</th>\n",
       "      <td>0.71</td>\n",
       "      <td>Fair</td>\n",
       "      <td>G</td>\n",
       "      <td>VS1</td>\n",
       "      <td>65.5</td>\n",
       "      <td>55.0</td>\n",
       "      <td>2686</td>\n",
       "      <td>5.62</td>\n",
       "      <td>5.53</td>\n",
       "      <td>3.65</td>\n",
       "      <td>0.142</td>\n",
       "      <td>0.045375</td>\n",
       "      <td>3.129493</td>\n",
       "    </tr>\n",
       "    <tr>\n",
       "      <th>3</th>\n",
       "      <td>0.41</td>\n",
       "      <td>Good</td>\n",
       "      <td>D</td>\n",
       "      <td>SI1</td>\n",
       "      <td>63.8</td>\n",
       "      <td>56.0</td>\n",
       "      <td>738</td>\n",
       "      <td>4.68</td>\n",
       "      <td>4.72</td>\n",
       "      <td>3.00</td>\n",
       "      <td>0.082</td>\n",
       "      <td>0.026508</td>\n",
       "      <td>3.093462</td>\n",
       "    </tr>\n",
       "    <tr>\n",
       "      <th>4</th>\n",
       "      <td>1.02</td>\n",
       "      <td>Ideal</td>\n",
       "      <td>G</td>\n",
       "      <td>SI1</td>\n",
       "      <td>60.5</td>\n",
       "      <td>59.0</td>\n",
       "      <td>4882</td>\n",
       "      <td>6.55</td>\n",
       "      <td>6.51</td>\n",
       "      <td>3.95</td>\n",
       "      <td>0.204</td>\n",
       "      <td>0.067372</td>\n",
       "      <td>3.027965</td>\n",
       "    </tr>\n",
       "  </tbody>\n",
       "</table>\n",
       "</div>"
      ],
      "text/plain": [
       "   carat        cut color clarity  depth  table  price     x     y     z  \\\n",
       "0   1.21    Premium     J     VS2   62.4   58.0   4268  6.83  6.79  4.25   \n",
       "1   0.32  Very Good     H     VS2   63.0   57.0    505  4.35  4.38  2.75   \n",
       "2   0.71       Fair     G     VS1   65.5   55.0   2686  5.62  5.53  3.65   \n",
       "3   0.41       Good     D     SI1   63.8   56.0    738  4.68  4.72  3.00   \n",
       "4   1.02      Ideal     G     SI1   60.5   59.0   4882  6.55  6.51  3.95   \n",
       "\n",
       "      gr       vol   density  \n",
       "0  0.242  0.078839  3.069559  \n",
       "1  0.064  0.020958  3.053683  \n",
       "2  0.142  0.045375  3.129493  \n",
       "3  0.082  0.026508  3.093462  \n",
       "4  0.204  0.067372  3.027965  "
      ]
     },
     "execution_count": 11,
     "metadata": {},
     "output_type": "execute_result"
    }
   ],
   "source": [
    "df2=df.copy()\n",
    "\n",
    "df2['gr'] = 0.2 * df2.carat # obtenemos el peso del diamante a partir de los quilates\n",
    "\n",
    "df2['vol']=df2.x * df2.y * df2.z / 2.5 / 1000 # obtenemos el volumen aproximando\n",
    "\n",
    "df2['density']= df2.gr / df2.vol # obtenemos la densidad aproximada a partir de su peso y volumen\n",
    "\n",
    "df2.head()"
   ]
  },
  {
   "cell_type": "code",
   "execution_count": 12,
   "id": "acbf2e2c-c48b-497e-85ea-9e4bb85e3984",
   "metadata": {},
   "outputs": [
    {
     "data": {
      "text/html": [
       "<div>\n",
       "<style scoped>\n",
       "    .dataframe tbody tr th:only-of-type {\n",
       "        vertical-align: middle;\n",
       "    }\n",
       "\n",
       "    .dataframe tbody tr th {\n",
       "        vertical-align: top;\n",
       "    }\n",
       "\n",
       "    .dataframe thead th {\n",
       "        text-align: right;\n",
       "    }\n",
       "</style>\n",
       "<table border=\"1\" class=\"dataframe\">\n",
       "  <thead>\n",
       "    <tr style=\"text-align: right;\">\n",
       "      <th></th>\n",
       "      <th>count</th>\n",
       "      <th>mean</th>\n",
       "      <th>std</th>\n",
       "      <th>min</th>\n",
       "      <th>25%</th>\n",
       "      <th>50%</th>\n",
       "      <th>75%</th>\n",
       "      <th>max</th>\n",
       "    </tr>\n",
       "  </thead>\n",
       "  <tbody>\n",
       "    <tr>\n",
       "      <th>carat</th>\n",
       "      <td>40455.0</td>\n",
       "      <td>0.797706</td>\n",
       "      <td>0.475544</td>\n",
       "      <td>0.200000</td>\n",
       "      <td>0.400000</td>\n",
       "      <td>0.700000</td>\n",
       "      <td>1.040000</td>\n",
       "      <td>4.500000e+00</td>\n",
       "    </tr>\n",
       "    <tr>\n",
       "      <th>depth</th>\n",
       "      <td>40455.0</td>\n",
       "      <td>61.752841</td>\n",
       "      <td>1.431725</td>\n",
       "      <td>43.000000</td>\n",
       "      <td>61.000000</td>\n",
       "      <td>61.800000</td>\n",
       "      <td>62.500000</td>\n",
       "      <td>7.900000e+01</td>\n",
       "    </tr>\n",
       "    <tr>\n",
       "      <th>table</th>\n",
       "      <td>40455.0</td>\n",
       "      <td>57.446133</td>\n",
       "      <td>2.233535</td>\n",
       "      <td>43.000000</td>\n",
       "      <td>56.000000</td>\n",
       "      <td>57.000000</td>\n",
       "      <td>59.000000</td>\n",
       "      <td>9.500000e+01</td>\n",
       "    </tr>\n",
       "    <tr>\n",
       "      <th>price</th>\n",
       "      <td>40455.0</td>\n",
       "      <td>3928.444469</td>\n",
       "      <td>3992.416147</td>\n",
       "      <td>326.000000</td>\n",
       "      <td>945.000000</td>\n",
       "      <td>2397.000000</td>\n",
       "      <td>5331.000000</td>\n",
       "      <td>1.882300e+04</td>\n",
       "    </tr>\n",
       "    <tr>\n",
       "      <th>x</th>\n",
       "      <td>40455.0</td>\n",
       "      <td>5.729392</td>\n",
       "      <td>1.124453</td>\n",
       "      <td>0.000000</td>\n",
       "      <td>4.710000</td>\n",
       "      <td>5.690000</td>\n",
       "      <td>6.540000</td>\n",
       "      <td>1.023000e+01</td>\n",
       "    </tr>\n",
       "    <tr>\n",
       "      <th>y</th>\n",
       "      <td>40455.0</td>\n",
       "      <td>5.732819</td>\n",
       "      <td>1.146650</td>\n",
       "      <td>0.000000</td>\n",
       "      <td>4.720000</td>\n",
       "      <td>5.710000</td>\n",
       "      <td>6.540000</td>\n",
       "      <td>5.890000e+01</td>\n",
       "    </tr>\n",
       "    <tr>\n",
       "      <th>z</th>\n",
       "      <td>40455.0</td>\n",
       "      <td>3.537154</td>\n",
       "      <td>0.697062</td>\n",
       "      <td>0.000000</td>\n",
       "      <td>2.910000</td>\n",
       "      <td>3.520000</td>\n",
       "      <td>4.035000</td>\n",
       "      <td>8.060000e+00</td>\n",
       "    </tr>\n",
       "    <tr>\n",
       "      <th>gr</th>\n",
       "      <td>40455.0</td>\n",
       "      <td>0.159541</td>\n",
       "      <td>0.095109</td>\n",
       "      <td>0.040000</td>\n",
       "      <td>0.080000</td>\n",
       "      <td>0.140000</td>\n",
       "      <td>0.208000</td>\n",
       "      <td>9.000000e-01</td>\n",
       "    </tr>\n",
       "    <tr>\n",
       "      <th>vol</th>\n",
       "      <td>40455.0</td>\n",
       "      <td>0.051921</td>\n",
       "      <td>0.031562</td>\n",
       "      <td>0.000000</td>\n",
       "      <td>0.025956</td>\n",
       "      <td>0.045876</td>\n",
       "      <td>0.068338</td>\n",
       "      <td>1.536239e+00</td>\n",
       "    </tr>\n",
       "    <tr>\n",
       "      <th>density</th>\n",
       "      <td>40455.0</td>\n",
       "      <td>inf</td>\n",
       "      <td>NaN</td>\n",
       "      <td>0.260376</td>\n",
       "      <td>3.023931</td>\n",
       "      <td>3.058436</td>\n",
       "      <td>3.095017</td>\n",
       "      <td>inf</td>\n",
       "    </tr>\n",
       "  </tbody>\n",
       "</table>\n",
       "</div>"
      ],
      "text/plain": [
       "           count         mean          std         min         25%  \\\n",
       "carat    40455.0     0.797706     0.475544    0.200000    0.400000   \n",
       "depth    40455.0    61.752841     1.431725   43.000000   61.000000   \n",
       "table    40455.0    57.446133     2.233535   43.000000   56.000000   \n",
       "price    40455.0  3928.444469  3992.416147  326.000000  945.000000   \n",
       "x        40455.0     5.729392     1.124453    0.000000    4.710000   \n",
       "y        40455.0     5.732819     1.146650    0.000000    4.720000   \n",
       "z        40455.0     3.537154     0.697062    0.000000    2.910000   \n",
       "gr       40455.0     0.159541     0.095109    0.040000    0.080000   \n",
       "vol      40455.0     0.051921     0.031562    0.000000    0.025956   \n",
       "density  40455.0          inf          NaN    0.260376    3.023931   \n",
       "\n",
       "                 50%          75%           max  \n",
       "carat       0.700000     1.040000  4.500000e+00  \n",
       "depth      61.800000    62.500000  7.900000e+01  \n",
       "table      57.000000    59.000000  9.500000e+01  \n",
       "price    2397.000000  5331.000000  1.882300e+04  \n",
       "x           5.690000     6.540000  1.023000e+01  \n",
       "y           5.710000     6.540000  5.890000e+01  \n",
       "z           3.520000     4.035000  8.060000e+00  \n",
       "gr          0.140000     0.208000  9.000000e-01  \n",
       "vol         0.045876     0.068338  1.536239e+00  \n",
       "density     3.058436     3.095017           inf  "
      ]
     },
     "execution_count": 12,
     "metadata": {},
     "output_type": "execute_result"
    }
   ],
   "source": [
    "df2.describe().T"
   ]
  },
  {
   "cell_type": "markdown",
   "id": "347b0263-dde4-4f00-ac6d-c859e67898d6",
   "metadata": {},
   "source": [
    "Vemos que la densidad en algunos casos se nos sale de los calculos normales, esto nos está indicando que algunos de los datos que tenemos no son diamantes"
   ]
  },
  {
   "cell_type": "code",
   "execution_count": 13,
   "id": "679905c8-6892-4a23-a562-f5cc9a6f85e7",
   "metadata": {},
   "outputs": [
    {
     "data": {
      "text/plain": [
       "(27, 13)"
      ]
     },
     "execution_count": 13,
     "metadata": {},
     "output_type": "execute_result"
    }
   ],
   "source": [
    "df2[df2.density > 3.9].shape"
   ]
  },
  {
   "cell_type": "markdown",
   "id": "5c3f4001-eb91-4f7f-9646-4917e8e505d0",
   "metadata": {},
   "source": [
    "Nos basamos en la densidad del diamante que es 3,5, pero dado que nuestro calculo del volumen ha sido una aproximación vamos a dar un margen, con estos datos vemos que hay 27 registros que están por encima de 3.9 y por debajo de 2.9, posiblemente sean lo que se denominan diamantes sintéticos, que se usan en la industria de semiconductores"
   ]
  },
  {
   "cell_type": "markdown",
   "id": "430f6410-372c-4f2d-b132-f05807a2bf04",
   "metadata": {},
   "source": [
    "Por ello si queremos realmente predecir el precio de un diamante como tal este tipo de datos debemos excluirlos porque pueden introducir sesgos en nuestros modelos."
   ]
  },
  {
   "cell_type": "code",
   "execution_count": 14,
   "id": "673f6260-1ae5-4385-97f7-21ba8ea3442a",
   "metadata": {},
   "outputs": [
    {
     "data": {
      "text/plain": [
       "(56, 13)"
      ]
     },
     "execution_count": 14,
     "metadata": {},
     "output_type": "execute_result"
    }
   ],
   "source": [
    "df2[df2.density < 2.9].shape"
   ]
  },
  {
   "cell_type": "code",
   "execution_count": 15,
   "id": "9f58649d-be3a-404e-9cfe-95027e4d7ada",
   "metadata": {},
   "outputs": [],
   "source": [
    "diamonts = df2[(df2.density>2.9)&(df2.density<3.9)]"
   ]
  },
  {
   "cell_type": "markdown",
   "id": "c98b19b8-3c70-4507-a86c-2d25711da754",
   "metadata": {},
   "source": [
    "Una vez tenemos las transformaciones que necesitabamos vamos a pasar a la preparación de los datos para entrenar nuestro modelo, cabe decir que si queremos realizar nuestro experimentos de forma óptima deberíamos de hacer este proceso por separado y de forma independiente para cada uno de nuestros modelos ya que dependiendo del algoritmo que vayamos a entrenar una transformación de datos puede mejorar o empeorar su desempeño."
   ]
  },
  {
   "cell_type": "markdown",
   "id": "65dbb0e1-ecf5-4a6d-8adf-102a23cbc647",
   "metadata": {},
   "source": [
    "Lo primero que debemos hacer es dividir nuestro set de datos en datos de entrenamiento y datos de test, esto lo hacemos para poder probar el desempeño de nuestro modelo con datos que no conoce, y así comprobar la eficacia del mismo cuando recibamos datos nuevos y queramos predecir el precio de un nuevo diamante, con la salvedad de que en nuestros datos de test si tenemos precio por lo que con el podemos evaluar como se está desviando."
   ]
  },
  {
   "cell_type": "markdown",
   "id": "b48cf4ba-df55-4169-9a43-d5fba3bd8187",
   "metadata": {},
   "source": [
    "## Separación de datos.\n",
    "\n",
    "![X_y_tts](../../images/X_y_tts.png)\n",
    "\n",
    "Antes de transformar definitivamente nada, vamos a separar los datos en X e y. y será la columna objetivo, es decir, el precio. La columna objetivo nunca se toca, nunca se transforma en ningún sentido. X serán el resto de columnas, la características con las que realizaremos nuestras predicciones.\n",
    "\n",
    "**0 arreglar datos**"
   ]
  },
  {
   "cell_type": "markdown",
   "id": "f77e873e-b811-4ad4-a7ba-e6a7d036a118",
   "metadata": {},
   "source": [
    "Antes de dividir nuestros datos vamos ver cuales de nuestras variables tienen una mayor correlación con nuestra variable dependiente, esto nos puede ayudar a la hora de elegir que variables escoger para entrenar a nuestro modelo, para ello utilizaremos la matriz de correlación"
   ]
  },
  {
   "cell_type": "code",
   "execution_count": 16,
   "id": "1c5c450d-cb94-4e89-a828-7bea563216ad",
   "metadata": {},
   "outputs": [
    {
     "data": {
      "image/png": "[encoded data removed]",
      "text/plain": [
       "<Figure size 1080x720 with 2 Axes>"
      ]
     },
     "metadata": {},
     "output_type": "display_data"
    }
   ],
   "source": [
    "plt.figure(figsize=(15, 10))\n",
    "\n",
    "sns.set(style='white')\n",
    "\n",
    "mask=np.triu(np.ones_like(diamonts.corr(), dtype=bool))\n",
    "\n",
    "cmap=sns.diverging_palette(0, 10, as_cmap=True)\n",
    "\n",
    "\n",
    "sns.heatmap(diamonts.corr(),\n",
    "           mask=mask,\n",
    "          cmap=cmap,\n",
    "          center=0,\n",
    "          square=True,\n",
    "          annot=True,\n",
    "          linewidths=0.5,\n",
    "          cbar_kws={'shrink': 0.5});"
   ]
  },
  {
   "cell_type": "markdown",
   "id": "22771c67-d52c-434f-b87f-f65ec1498b53",
   "metadata": {},
   "source": [
    "A simple vista podemos observar que 'depth','table' y 'density' tiene una correlacción muy baja con nuestra variable dependiente por lo que son candidatas a ser excluidas de nuestro set de entrenamiento, pero de momento vamos a dejarlas."
   ]
  },
  {
   "cell_type": "markdown",
   "id": "e09bb9e5-26ec-401c-8b9f-0fdfb435355d",
   "metadata": {},
   "source": [
    "El primer paso es separar los datos de entrenamiento de nuestro variable objetivo o variable dependiente"
   ]
  },
  {
   "cell_type": "code",
   "execution_count": 17,
   "id": "df572aa7-1aa0-4a20-83ca-53c970571374",
   "metadata": {},
   "outputs": [
    {
     "data": {
      "text/html": [
       "<div>\n",
       "<style scoped>\n",
       "    .dataframe tbody tr th:only-of-type {\n",
       "        vertical-align: middle;\n",
       "    }\n",
       "\n",
       "    .dataframe tbody tr th {\n",
       "        vertical-align: top;\n",
       "    }\n",
       "\n",
       "    .dataframe thead th {\n",
       "        text-align: right;\n",
       "    }\n",
       "</style>\n",
       "<table border=\"1\" class=\"dataframe\">\n",
       "  <thead>\n",
       "    <tr style=\"text-align: right;\">\n",
       "      <th></th>\n",
       "      <th>carat</th>\n",
       "      <th>cut</th>\n",
       "      <th>color</th>\n",
       "      <th>clarity</th>\n",
       "      <th>depth</th>\n",
       "      <th>table</th>\n",
       "      <th>x</th>\n",
       "      <th>y</th>\n",
       "      <th>z</th>\n",
       "      <th>gr</th>\n",
       "      <th>vol</th>\n",
       "      <th>density</th>\n",
       "    </tr>\n",
       "  </thead>\n",
       "  <tbody>\n",
       "    <tr>\n",
       "      <th>0</th>\n",
       "      <td>1.21</td>\n",
       "      <td>Premium</td>\n",
       "      <td>J</td>\n",
       "      <td>VS2</td>\n",
       "      <td>62.4</td>\n",
       "      <td>58.0</td>\n",
       "      <td>6.83</td>\n",
       "      <td>6.79</td>\n",
       "      <td>4.25</td>\n",
       "      <td>0.242</td>\n",
       "      <td>0.078839</td>\n",
       "      <td>3.069559</td>\n",
       "    </tr>\n",
       "    <tr>\n",
       "      <th>1</th>\n",
       "      <td>0.32</td>\n",
       "      <td>Very Good</td>\n",
       "      <td>H</td>\n",
       "      <td>VS2</td>\n",
       "      <td>63.0</td>\n",
       "      <td>57.0</td>\n",
       "      <td>4.35</td>\n",
       "      <td>4.38</td>\n",
       "      <td>2.75</td>\n",
       "      <td>0.064</td>\n",
       "      <td>0.020958</td>\n",
       "      <td>3.053683</td>\n",
       "    </tr>\n",
       "    <tr>\n",
       "      <th>2</th>\n",
       "      <td>0.71</td>\n",
       "      <td>Fair</td>\n",
       "      <td>G</td>\n",
       "      <td>VS1</td>\n",
       "      <td>65.5</td>\n",
       "      <td>55.0</td>\n",
       "      <td>5.62</td>\n",
       "      <td>5.53</td>\n",
       "      <td>3.65</td>\n",
       "      <td>0.142</td>\n",
       "      <td>0.045375</td>\n",
       "      <td>3.129493</td>\n",
       "    </tr>\n",
       "    <tr>\n",
       "      <th>3</th>\n",
       "      <td>0.41</td>\n",
       "      <td>Good</td>\n",
       "      <td>D</td>\n",
       "      <td>SI1</td>\n",
       "      <td>63.8</td>\n",
       "      <td>56.0</td>\n",
       "      <td>4.68</td>\n",
       "      <td>4.72</td>\n",
       "      <td>3.00</td>\n",
       "      <td>0.082</td>\n",
       "      <td>0.026508</td>\n",
       "      <td>3.093462</td>\n",
       "    </tr>\n",
       "    <tr>\n",
       "      <th>4</th>\n",
       "      <td>1.02</td>\n",
       "      <td>Ideal</td>\n",
       "      <td>G</td>\n",
       "      <td>SI1</td>\n",
       "      <td>60.5</td>\n",
       "      <td>59.0</td>\n",
       "      <td>6.55</td>\n",
       "      <td>6.51</td>\n",
       "      <td>3.95</td>\n",
       "      <td>0.204</td>\n",
       "      <td>0.067372</td>\n",
       "      <td>3.027965</td>\n",
       "    </tr>\n",
       "  </tbody>\n",
       "</table>\n",
       "</div>"
      ],
      "text/plain": [
       "   carat        cut color clarity  depth  table     x     y     z     gr  \\\n",
       "0   1.21    Premium     J     VS2   62.4   58.0  6.83  6.79  4.25  0.242   \n",
       "1   0.32  Very Good     H     VS2   63.0   57.0  4.35  4.38  2.75  0.064   \n",
       "2   0.71       Fair     G     VS1   65.5   55.0  5.62  5.53  3.65  0.142   \n",
       "3   0.41       Good     D     SI1   63.8   56.0  4.68  4.72  3.00  0.082   \n",
       "4   1.02      Ideal     G     SI1   60.5   59.0  6.55  6.51  3.95  0.204   \n",
       "\n",
       "        vol   density  \n",
       "0  0.078839  3.069559  \n",
       "1  0.020958  3.053683  \n",
       "2  0.045375  3.129493  \n",
       "3  0.026508  3.093462  \n",
       "4  0.067372  3.027965  "
      ]
     },
     "execution_count": 17,
     "metadata": {},
     "output_type": "execute_result"
    }
   ],
   "source": [
    "X = diamonts.drop('price', axis=1)\n",
    "\n",
    "y = diamonts.price\n",
    "\n",
    "X.head()"
   ]
  },
  {
   "cell_type": "markdown",
   "id": "87aecafe-d842-4e5a-9257-7c4b844dab0a",
   "metadata": {},
   "source": [
    "Vamos a usar la transformación de box-cot"
   ]
  },
  {
   "cell_type": "code",
   "execution_count": 18,
   "id": "c0fc4efb-3f3b-4f18-85a8-e48c61785511",
   "metadata": {
    "tags": []
   },
   "outputs": [],
   "source": [
    "X.carat=boxcox(X.carat, lmbda=2.618033)"
   ]
  },
  {
   "cell_type": "markdown",
   "id": "d9869812-c7cc-46a8-ac6e-f794af3b461b",
   "metadata": {},
   "source": [
    "Ahora volvemos a ejecutar la matriz de correlación pero en este caso buscamos ver la colinealidad de nuestras variables de entrenamiento entre ellas, ya que si tienen una correlación alta es un indicativo de colinealidad."
   ]
  },
  {
   "cell_type": "code",
   "execution_count": 19,
   "id": "d10dd76a-9d79-45d6-b3ff-338a55ddf575",
   "metadata": {},
   "outputs": [
    {
     "data": {
      "image/png": "[encoded data removed]",
      "text/plain": [
       "<Figure size 1080x720 with 2 Axes>"
      ]
     },
     "metadata": {},
     "output_type": "display_data"
    }
   ],
   "source": [
    "plt.figure(figsize=(15, 10))\n",
    "\n",
    "sns.set(style='white')\n",
    "\n",
    "mask=np.triu(np.ones_like(X.corr(), dtype=bool))\n",
    "\n",
    "cmap=sns.diverging_palette(0, 10, as_cmap=True)\n",
    "\n",
    "\n",
    "sns.heatmap(X.corr(),\n",
    "           mask=mask,\n",
    "          cmap=cmap,\n",
    "          center=0,\n",
    "          square=True,\n",
    "          annot=True,\n",
    "          linewidths=0.5,\n",
    "          cbar_kws={'shrink': 0.5});"
   ]
  },
  {
   "cell_type": "markdown",
   "id": "f4144ad8-460f-49c7-ab82-047060853db2",
   "metadata": {},
   "source": [
    "Table tiene correlación negativa respecto a 'depth' y puede introducir ruido en nuestro modelo por lo que vamos a prescindir de ella"
   ]
  },
  {
   "cell_type": "code",
   "execution_count": 20,
   "id": "d64b529e-b62d-446c-a49b-7a26e3a504de",
   "metadata": {},
   "outputs": [
    {
     "data": {
      "text/html": [
       "<div>\n",
       "<style scoped>\n",
       "    .dataframe tbody tr th:only-of-type {\n",
       "        vertical-align: middle;\n",
       "    }\n",
       "\n",
       "    .dataframe tbody tr th {\n",
       "        vertical-align: top;\n",
       "    }\n",
       "\n",
       "    .dataframe thead th {\n",
       "        text-align: right;\n",
       "    }\n",
       "</style>\n",
       "<table border=\"1\" class=\"dataframe\">\n",
       "  <thead>\n",
       "    <tr style=\"text-align: right;\">\n",
       "      <th></th>\n",
       "      <th>carat</th>\n",
       "      <th>cut</th>\n",
       "      <th>color</th>\n",
       "      <th>clarity</th>\n",
       "      <th>depth</th>\n",
       "      <th>x</th>\n",
       "      <th>y</th>\n",
       "      <th>z</th>\n",
       "      <th>gr</th>\n",
       "      <th>vol</th>\n",
       "      <th>density</th>\n",
       "    </tr>\n",
       "  </thead>\n",
       "  <tbody>\n",
       "    <tr>\n",
       "      <th>0</th>\n",
       "      <td>0.247192</td>\n",
       "      <td>Premium</td>\n",
       "      <td>J</td>\n",
       "      <td>VS2</td>\n",
       "      <td>62.4</td>\n",
       "      <td>6.83</td>\n",
       "      <td>6.79</td>\n",
       "      <td>4.25</td>\n",
       "      <td>0.242</td>\n",
       "      <td>0.078839</td>\n",
       "      <td>3.069559</td>\n",
       "    </tr>\n",
       "    <tr>\n",
       "      <th>1</th>\n",
       "      <td>-0.362625</td>\n",
       "      <td>Very Good</td>\n",
       "      <td>H</td>\n",
       "      <td>VS2</td>\n",
       "      <td>63.0</td>\n",
       "      <td>4.35</td>\n",
       "      <td>4.38</td>\n",
       "      <td>2.75</td>\n",
       "      <td>0.064</td>\n",
       "      <td>0.020958</td>\n",
       "      <td>3.053683</td>\n",
       "    </tr>\n",
       "    <tr>\n",
       "      <th>2</th>\n",
       "      <td>-0.226149</td>\n",
       "      <td>Fair</td>\n",
       "      <td>G</td>\n",
       "      <td>VS1</td>\n",
       "      <td>65.5</td>\n",
       "      <td>5.62</td>\n",
       "      <td>5.53</td>\n",
       "      <td>3.65</td>\n",
       "      <td>0.142</td>\n",
       "      <td>0.045375</td>\n",
       "      <td>3.129493</td>\n",
       "    </tr>\n",
       "    <tr>\n",
       "      <th>3</th>\n",
       "      <td>-0.344959</td>\n",
       "      <td>Good</td>\n",
       "      <td>D</td>\n",
       "      <td>SI1</td>\n",
       "      <td>63.8</td>\n",
       "      <td>4.68</td>\n",
       "      <td>4.72</td>\n",
       "      <td>3.00</td>\n",
       "      <td>0.082</td>\n",
       "      <td>0.026508</td>\n",
       "      <td>3.093462</td>\n",
       "    </tr>\n",
       "    <tr>\n",
       "      <th>4</th>\n",
       "      <td>0.020325</td>\n",
       "      <td>Ideal</td>\n",
       "      <td>G</td>\n",
       "      <td>SI1</td>\n",
       "      <td>60.5</td>\n",
       "      <td>6.55</td>\n",
       "      <td>6.51</td>\n",
       "      <td>3.95</td>\n",
       "      <td>0.204</td>\n",
       "      <td>0.067372</td>\n",
       "      <td>3.027965</td>\n",
       "    </tr>\n",
       "  </tbody>\n",
       "</table>\n",
       "</div>"
      ],
      "text/plain": [
       "      carat        cut color clarity  depth     x     y     z     gr  \\\n",
       "0  0.247192    Premium     J     VS2   62.4  6.83  6.79  4.25  0.242   \n",
       "1 -0.362625  Very Good     H     VS2   63.0  4.35  4.38  2.75  0.064   \n",
       "2 -0.226149       Fair     G     VS1   65.5  5.62  5.53  3.65  0.142   \n",
       "3 -0.344959       Good     D     SI1   63.8  4.68  4.72  3.00  0.082   \n",
       "4  0.020325      Ideal     G     SI1   60.5  6.55  6.51  3.95  0.204   \n",
       "\n",
       "        vol   density  \n",
       "0  0.078839  3.069559  \n",
       "1  0.020958  3.053683  \n",
       "2  0.045375  3.129493  \n",
       "3  0.026508  3.093462  \n",
       "4  0.067372  3.027965  "
      ]
     },
     "execution_count": 20,
     "metadata": {},
     "output_type": "execute_result"
    }
   ],
   "source": [
    "X=X.drop('table', axis=1)\n",
    "\n",
    "X.head()"
   ]
  },
  {
   "cell_type": "markdown",
   "id": "4862532c-75ff-41bd-9e3d-fd8273ba36a5",
   "metadata": {},
   "source": [
    "Antes de continuar vemos que tenemos también columnas categóricas por lo que debemos de transformalas para que podamos incluirlas en nuestro análisis de correlación."
   ]
  },
  {
   "cell_type": "markdown",
   "id": "59b98978-7d1c-4dfd-9944-a11e82850251",
   "metadata": {},
   "source": [
    "**Tenemos diferentes métodos para transformar variables categóricas a númericas**\n",
    "    \n",
    "    + Generar variables dummies: Consiste en tomar cada uno de los valores únicos de nuestra columna y generar una columna nueva por cada uno de estos valores y transformalar a  binomial, es decir si la variable pertenece a ese valor o no, asignando 1 si lo es y 0 sino lo es.\n",
    "    + Label encoder: Básicamente es asignar un valor númerico a cada una de las categorías de nuestra columna."
   ]
  },
  {
   "cell_type": "code",
   "execution_count": 21,
   "id": "91846496-cd3a-428b-88c9-5688e695dbbf",
   "metadata": {},
   "outputs": [
    {
     "data": {
      "text/html": [
       "<div>\n",
       "<style scoped>\n",
       "    .dataframe tbody tr th:only-of-type {\n",
       "        vertical-align: middle;\n",
       "    }\n",
       "\n",
       "    .dataframe tbody tr th {\n",
       "        vertical-align: top;\n",
       "    }\n",
       "\n",
       "    .dataframe thead th {\n",
       "        text-align: right;\n",
       "    }\n",
       "</style>\n",
       "<table border=\"1\" class=\"dataframe\">\n",
       "  <thead>\n",
       "    <tr style=\"text-align: right;\">\n",
       "      <th></th>\n",
       "      <th>carat</th>\n",
       "      <th>depth</th>\n",
       "      <th>x</th>\n",
       "      <th>y</th>\n",
       "      <th>z</th>\n",
       "      <th>gr</th>\n",
       "      <th>vol</th>\n",
       "      <th>density</th>\n",
       "      <th>cut_Fair</th>\n",
       "      <th>cut_Good</th>\n",
       "      <th>...</th>\n",
       "      <th>color_I</th>\n",
       "      <th>color_J</th>\n",
       "      <th>clarity_I1</th>\n",
       "      <th>clarity_IF</th>\n",
       "      <th>clarity_SI1</th>\n",
       "      <th>clarity_SI2</th>\n",
       "      <th>clarity_VS1</th>\n",
       "      <th>clarity_VS2</th>\n",
       "      <th>clarity_VVS1</th>\n",
       "      <th>clarity_VVS2</th>\n",
       "    </tr>\n",
       "  </thead>\n",
       "  <tbody>\n",
       "    <tr>\n",
       "      <th>0</th>\n",
       "      <td>0.247192</td>\n",
       "      <td>62.4</td>\n",
       "      <td>6.83</td>\n",
       "      <td>6.79</td>\n",
       "      <td>4.25</td>\n",
       "      <td>0.242</td>\n",
       "      <td>0.078839</td>\n",
       "      <td>3.069559</td>\n",
       "      <td>0</td>\n",
       "      <td>0</td>\n",
       "      <td>...</td>\n",
       "      <td>0</td>\n",
       "      <td>1</td>\n",
       "      <td>0</td>\n",
       "      <td>0</td>\n",
       "      <td>0</td>\n",
       "      <td>0</td>\n",
       "      <td>0</td>\n",
       "      <td>1</td>\n",
       "      <td>0</td>\n",
       "      <td>0</td>\n",
       "    </tr>\n",
       "    <tr>\n",
       "      <th>1</th>\n",
       "      <td>-0.362625</td>\n",
       "      <td>63.0</td>\n",
       "      <td>4.35</td>\n",
       "      <td>4.38</td>\n",
       "      <td>2.75</td>\n",
       "      <td>0.064</td>\n",
       "      <td>0.020958</td>\n",
       "      <td>3.053683</td>\n",
       "      <td>0</td>\n",
       "      <td>0</td>\n",
       "      <td>...</td>\n",
       "      <td>0</td>\n",
       "      <td>0</td>\n",
       "      <td>0</td>\n",
       "      <td>0</td>\n",
       "      <td>0</td>\n",
       "      <td>0</td>\n",
       "      <td>0</td>\n",
       "      <td>1</td>\n",
       "      <td>0</td>\n",
       "      <td>0</td>\n",
       "    </tr>\n",
       "    <tr>\n",
       "      <th>2</th>\n",
       "      <td>-0.226149</td>\n",
       "      <td>65.5</td>\n",
       "      <td>5.62</td>\n",
       "      <td>5.53</td>\n",
       "      <td>3.65</td>\n",
       "      <td>0.142</td>\n",
       "      <td>0.045375</td>\n",
       "      <td>3.129493</td>\n",
       "      <td>1</td>\n",
       "      <td>0</td>\n",
       "      <td>...</td>\n",
       "      <td>0</td>\n",
       "      <td>0</td>\n",
       "      <td>0</td>\n",
       "      <td>0</td>\n",
       "      <td>0</td>\n",
       "      <td>0</td>\n",
       "      <td>1</td>\n",
       "      <td>0</td>\n",
       "      <td>0</td>\n",
       "      <td>0</td>\n",
       "    </tr>\n",
       "    <tr>\n",
       "      <th>3</th>\n",
       "      <td>-0.344959</td>\n",
       "      <td>63.8</td>\n",
       "      <td>4.68</td>\n",
       "      <td>4.72</td>\n",
       "      <td>3.00</td>\n",
       "      <td>0.082</td>\n",
       "      <td>0.026508</td>\n",
       "      <td>3.093462</td>\n",
       "      <td>0</td>\n",
       "      <td>1</td>\n",
       "      <td>...</td>\n",
       "      <td>0</td>\n",
       "      <td>0</td>\n",
       "      <td>0</td>\n",
       "      <td>0</td>\n",
       "      <td>1</td>\n",
       "      <td>0</td>\n",
       "      <td>0</td>\n",
       "      <td>0</td>\n",
       "      <td>0</td>\n",
       "      <td>0</td>\n",
       "    </tr>\n",
       "    <tr>\n",
       "      <th>4</th>\n",
       "      <td>0.020325</td>\n",
       "      <td>60.5</td>\n",
       "      <td>6.55</td>\n",
       "      <td>6.51</td>\n",
       "      <td>3.95</td>\n",
       "      <td>0.204</td>\n",
       "      <td>0.067372</td>\n",
       "      <td>3.027965</td>\n",
       "      <td>0</td>\n",
       "      <td>0</td>\n",
       "      <td>...</td>\n",
       "      <td>0</td>\n",
       "      <td>0</td>\n",
       "      <td>0</td>\n",
       "      <td>0</td>\n",
       "      <td>1</td>\n",
       "      <td>0</td>\n",
       "      <td>0</td>\n",
       "      <td>0</td>\n",
       "      <td>0</td>\n",
       "      <td>0</td>\n",
       "    </tr>\n",
       "  </tbody>\n",
       "</table>\n",
       "<p>5 rows × 28 columns</p>\n",
       "</div>"
      ],
      "text/plain": [
       "      carat  depth     x     y     z     gr       vol   density  cut_Fair  \\\n",
       "0  0.247192   62.4  6.83  6.79  4.25  0.242  0.078839  3.069559         0   \n",
       "1 -0.362625   63.0  4.35  4.38  2.75  0.064  0.020958  3.053683         0   \n",
       "2 -0.226149   65.5  5.62  5.53  3.65  0.142  0.045375  3.129493         1   \n",
       "3 -0.344959   63.8  4.68  4.72  3.00  0.082  0.026508  3.093462         0   \n",
       "4  0.020325   60.5  6.55  6.51  3.95  0.204  0.067372  3.027965         0   \n",
       "\n",
       "   cut_Good  ...  color_I  color_J  clarity_I1  clarity_IF  clarity_SI1  \\\n",
       "0         0  ...        0        1           0           0            0   \n",
       "1         0  ...        0        0           0           0            0   \n",
       "2         0  ...        0        0           0           0            0   \n",
       "3         1  ...        0        0           0           0            1   \n",
       "4         0  ...        0        0           0           0            1   \n",
       "\n",
       "   clarity_SI2  clarity_VS1  clarity_VS2  clarity_VVS1  clarity_VVS2  \n",
       "0            0            0            1             0             0  \n",
       "1            0            0            1             0             0  \n",
       "2            0            1            0             0             0  \n",
       "3            0            0            0             0             0  \n",
       "4            0            0            0             0             0  \n",
       "\n",
       "[5 rows x 28 columns]"
      ]
     },
     "execution_count": 21,
     "metadata": {},
     "output_type": "execute_result"
    }
   ],
   "source": [
    "X_dum=pd.get_dummies(X, columns=['cut', 'color', 'clarity'])   # drop_first=True, por defecto es False \n",
    "\n",
    "X_dum.head()"
   ]
  },
  {
   "cell_type": "markdown",
   "id": "811144ac-00d0-4bc9-90de-094b43c3d217",
   "metadata": {},
   "source": [
    "Hay que ser cauto con este tipo de transformación porque en el caso de que una de las columnas tenga un número elevado de categorías estaremos añadiendo muchas dimensiones a nuestros datos, con lo que aumentará su coste computacional"
   ]
  },
  {
   "cell_type": "markdown",
   "id": "8403b6c4-dabd-43a2-b54a-c02649710996",
   "metadata": {},
   "source": [
    "**Label Enconder**"
   ]
  },
  {
   "cell_type": "code",
   "execution_count": 22,
   "id": "a43268bb-7c9b-4f78-9730-e04b5ab5e0ba",
   "metadata": {},
   "outputs": [],
   "source": [
    "#%!pip install scikit-learn"
   ]
  },
  {
   "cell_type": "code",
   "execution_count": 23,
   "id": "3ceffae6-10ed-4ec0-969d-a89041a0cfe6",
   "metadata": {},
   "outputs": [],
   "source": [
    "from sklearn.preprocessing import LabelEncoder"
   ]
  },
  {
   "cell_type": "code",
   "execution_count": 24,
   "id": "4cfaeec8-4b21-4418-b2fd-51b28a94bc48",
   "metadata": {},
   "outputs": [],
   "source": [
    "X_Enc = X.copy()"
   ]
  },
  {
   "cell_type": "code",
   "execution_count": 25,
   "id": "aabf385b-3e3a-44c1-b9da-1a3ea228103f",
   "metadata": {
    "tags": []
   },
   "outputs": [],
   "source": [
    "X_Enc.cut = LabelEncoder().fit_transform(X_Enc.cut)\n",
    "X_Enc.color = LabelEncoder().fit_transform(X_Enc.color)\n",
    "X_Enc.clarity = LabelEncoder().fit_transform(X_Enc.clarity)"
   ]
  },
  {
   "cell_type": "code",
   "execution_count": 26,
   "id": "fb8e2f25-b671-425f-a32f-00ac40cff15b",
   "metadata": {},
   "outputs": [
    {
     "data": {
      "text/html": [
       "<div>\n",
       "<style scoped>\n",
       "    .dataframe tbody tr th:only-of-type {\n",
       "        vertical-align: middle;\n",
       "    }\n",
       "\n",
       "    .dataframe tbody tr th {\n",
       "        vertical-align: top;\n",
       "    }\n",
       "\n",
       "    .dataframe thead th {\n",
       "        text-align: right;\n",
       "    }\n",
       "</style>\n",
       "<table border=\"1\" class=\"dataframe\">\n",
       "  <thead>\n",
       "    <tr style=\"text-align: right;\">\n",
       "      <th></th>\n",
       "      <th>carat</th>\n",
       "      <th>cut</th>\n",
       "      <th>color</th>\n",
       "      <th>clarity</th>\n",
       "      <th>depth</th>\n",
       "      <th>x</th>\n",
       "      <th>y</th>\n",
       "      <th>z</th>\n",
       "      <th>gr</th>\n",
       "      <th>vol</th>\n",
       "      <th>density</th>\n",
       "    </tr>\n",
       "  </thead>\n",
       "  <tbody>\n",
       "    <tr>\n",
       "      <th>0</th>\n",
       "      <td>0.247192</td>\n",
       "      <td>3</td>\n",
       "      <td>6</td>\n",
       "      <td>5</td>\n",
       "      <td>62.4</td>\n",
       "      <td>6.83</td>\n",
       "      <td>6.79</td>\n",
       "      <td>4.25</td>\n",
       "      <td>0.242</td>\n",
       "      <td>0.078839</td>\n",
       "      <td>3.069559</td>\n",
       "    </tr>\n",
       "    <tr>\n",
       "      <th>1</th>\n",
       "      <td>-0.362625</td>\n",
       "      <td>4</td>\n",
       "      <td>4</td>\n",
       "      <td>5</td>\n",
       "      <td>63.0</td>\n",
       "      <td>4.35</td>\n",
       "      <td>4.38</td>\n",
       "      <td>2.75</td>\n",
       "      <td>0.064</td>\n",
       "      <td>0.020958</td>\n",
       "      <td>3.053683</td>\n",
       "    </tr>\n",
       "    <tr>\n",
       "      <th>2</th>\n",
       "      <td>-0.226149</td>\n",
       "      <td>0</td>\n",
       "      <td>3</td>\n",
       "      <td>4</td>\n",
       "      <td>65.5</td>\n",
       "      <td>5.62</td>\n",
       "      <td>5.53</td>\n",
       "      <td>3.65</td>\n",
       "      <td>0.142</td>\n",
       "      <td>0.045375</td>\n",
       "      <td>3.129493</td>\n",
       "    </tr>\n",
       "    <tr>\n",
       "      <th>3</th>\n",
       "      <td>-0.344959</td>\n",
       "      <td>1</td>\n",
       "      <td>0</td>\n",
       "      <td>2</td>\n",
       "      <td>63.8</td>\n",
       "      <td>4.68</td>\n",
       "      <td>4.72</td>\n",
       "      <td>3.00</td>\n",
       "      <td>0.082</td>\n",
       "      <td>0.026508</td>\n",
       "      <td>3.093462</td>\n",
       "    </tr>\n",
       "    <tr>\n",
       "      <th>4</th>\n",
       "      <td>0.020325</td>\n",
       "      <td>2</td>\n",
       "      <td>3</td>\n",
       "      <td>2</td>\n",
       "      <td>60.5</td>\n",
       "      <td>6.55</td>\n",
       "      <td>6.51</td>\n",
       "      <td>3.95</td>\n",
       "      <td>0.204</td>\n",
       "      <td>0.067372</td>\n",
       "      <td>3.027965</td>\n",
       "    </tr>\n",
       "  </tbody>\n",
       "</table>\n",
       "</div>"
      ],
      "text/plain": [
       "      carat  cut  color  clarity  depth     x     y     z     gr       vol  \\\n",
       "0  0.247192    3      6        5   62.4  6.83  6.79  4.25  0.242  0.078839   \n",
       "1 -0.362625    4      4        5   63.0  4.35  4.38  2.75  0.064  0.020958   \n",
       "2 -0.226149    0      3        4   65.5  5.62  5.53  3.65  0.142  0.045375   \n",
       "3 -0.344959    1      0        2   63.8  4.68  4.72  3.00  0.082  0.026508   \n",
       "4  0.020325    2      3        2   60.5  6.55  6.51  3.95  0.204  0.067372   \n",
       "\n",
       "    density  \n",
       "0  3.069559  \n",
       "1  3.053683  \n",
       "2  3.129493  \n",
       "3  3.093462  \n",
       "4  3.027965  "
      ]
     },
     "execution_count": 26,
     "metadata": {},
     "output_type": "execute_result"
    }
   ],
   "source": [
    "X_Enc.head()"
   ]
  },
  {
   "cell_type": "code",
   "execution_count": 27,
   "id": "6419f979-19e2-4bef-b5dc-4f94612f9f3f",
   "metadata": {},
   "outputs": [
    {
     "data": {
      "image/png": "[encoded data removed]",
      "text/plain": [
       "<Figure size 432x288 with 1 Axes>"
      ]
     },
     "metadata": {},
     "output_type": "display_data"
    }
   ],
   "source": [
    "sns.barplot(df.groupby('color').mean().index, \n",
    "            df.groupby('color').mean().price);"
   ]
  },
  {
   "cell_type": "markdown",
   "id": "3939fc45-14bf-4d16-b354-cd666381be15",
   "metadata": {},
   "source": [
    "Cuidado con esto porque con esta transformación el modelo puede interpretar que cuando el color tiene una calificación de 'D' es menor, pero si investigamos un poco veremos que el 'D' es el rango más alto de color por lo que debería de ser al revés.\n",
    "\n",
    "[Color de los diamantes](https://www.tiffany.es/engagement/the-tiffany-guide-to-diamonds/color/)"
   ]
  },
  {
   "cell_type": "code",
   "execution_count": 28,
   "id": "487e7789-1b09-4bf4-bbfb-16a35c17bdcd",
   "metadata": {},
   "outputs": [
    {
     "data": {
      "text/html": [
       "<div>\n",
       "<style scoped>\n",
       "    .dataframe tbody tr th:only-of-type {\n",
       "        vertical-align: middle;\n",
       "    }\n",
       "\n",
       "    .dataframe tbody tr th {\n",
       "        vertical-align: top;\n",
       "    }\n",
       "\n",
       "    .dataframe thead th {\n",
       "        text-align: right;\n",
       "    }\n",
       "</style>\n",
       "<table border=\"1\" class=\"dataframe\">\n",
       "  <thead>\n",
       "    <tr style=\"text-align: right;\">\n",
       "      <th></th>\n",
       "      <th>carat</th>\n",
       "      <th>cut</th>\n",
       "      <th>color</th>\n",
       "      <th>clarity</th>\n",
       "      <th>depth</th>\n",
       "      <th>x</th>\n",
       "      <th>y</th>\n",
       "      <th>z</th>\n",
       "      <th>gr</th>\n",
       "      <th>vol</th>\n",
       "      <th>density</th>\n",
       "    </tr>\n",
       "  </thead>\n",
       "  <tbody>\n",
       "    <tr>\n",
       "      <th>0</th>\n",
       "      <td>0.247192</td>\n",
       "      <td>Premium</td>\n",
       "      <td>1</td>\n",
       "      <td>VS2</td>\n",
       "      <td>62.4</td>\n",
       "      <td>6.83</td>\n",
       "      <td>6.79</td>\n",
       "      <td>4.25</td>\n",
       "      <td>0.242</td>\n",
       "      <td>0.078839</td>\n",
       "      <td>3.069559</td>\n",
       "    </tr>\n",
       "    <tr>\n",
       "      <th>1</th>\n",
       "      <td>-0.362625</td>\n",
       "      <td>Very Good</td>\n",
       "      <td>5</td>\n",
       "      <td>VS2</td>\n",
       "      <td>63.0</td>\n",
       "      <td>4.35</td>\n",
       "      <td>4.38</td>\n",
       "      <td>2.75</td>\n",
       "      <td>0.064</td>\n",
       "      <td>0.020958</td>\n",
       "      <td>3.053683</td>\n",
       "    </tr>\n",
       "    <tr>\n",
       "      <th>2</th>\n",
       "      <td>-0.226149</td>\n",
       "      <td>Fair</td>\n",
       "      <td>15</td>\n",
       "      <td>VS1</td>\n",
       "      <td>65.5</td>\n",
       "      <td>5.62</td>\n",
       "      <td>5.53</td>\n",
       "      <td>3.65</td>\n",
       "      <td>0.142</td>\n",
       "      <td>0.045375</td>\n",
       "      <td>3.129493</td>\n",
       "    </tr>\n",
       "    <tr>\n",
       "      <th>3</th>\n",
       "      <td>-0.344959</td>\n",
       "      <td>Good</td>\n",
       "      <td>45</td>\n",
       "      <td>SI1</td>\n",
       "      <td>63.8</td>\n",
       "      <td>4.68</td>\n",
       "      <td>4.72</td>\n",
       "      <td>3.00</td>\n",
       "      <td>0.082</td>\n",
       "      <td>0.026508</td>\n",
       "      <td>3.093462</td>\n",
       "    </tr>\n",
       "    <tr>\n",
       "      <th>4</th>\n",
       "      <td>0.020325</td>\n",
       "      <td>Ideal</td>\n",
       "      <td>15</td>\n",
       "      <td>SI1</td>\n",
       "      <td>60.5</td>\n",
       "      <td>6.55</td>\n",
       "      <td>6.51</td>\n",
       "      <td>3.95</td>\n",
       "      <td>0.204</td>\n",
       "      <td>0.067372</td>\n",
       "      <td>3.027965</td>\n",
       "    </tr>\n",
       "  </tbody>\n",
       "</table>\n",
       "</div>"
      ],
      "text/plain": [
       "      carat        cut  color clarity  depth     x     y     z     gr  \\\n",
       "0  0.247192    Premium      1     VS2   62.4  6.83  6.79  4.25  0.242   \n",
       "1 -0.362625  Very Good      5     VS2   63.0  4.35  4.38  2.75  0.064   \n",
       "2 -0.226149       Fair     15     VS1   65.5  5.62  5.53  3.65  0.142   \n",
       "3 -0.344959       Good     45     SI1   63.8  4.68  4.72  3.00  0.082   \n",
       "4  0.020325      Ideal     15     SI1   60.5  6.55  6.51  3.95  0.204   \n",
       "\n",
       "        vol   density  \n",
       "0  0.078839  3.069559  \n",
       "1  0.020958  3.053683  \n",
       "2  0.045375  3.129493  \n",
       "3  0.026508  3.093462  \n",
       "4  0.067372  3.027965  "
      ]
     },
     "execution_count": 28,
     "metadata": {},
     "output_type": "execute_result"
    }
   ],
   "source": [
    "# label encoder custom\n",
    "\n",
    "color={'J': 1, 'I': 2, 'H': 5, 'G':15, 'F': 25, 'E': 30, 'D':45}  # aqui es donde entra el conocimiento experto\n",
    "\n",
    "\n",
    "def cambio_color(x):   #esto es la lambda\n",
    "    return color[x]    # x es una key del diccionario color, color[x] es el value\n",
    "\n",
    "#X.color=X.color.apply(cambio_color)\n",
    "\n",
    "X.color=X.color.apply(lambda x: color[x])\n",
    "\n",
    "X.head()"
   ]
  },
  {
   "cell_type": "code",
   "execution_count": 29,
   "id": "816ce56f-7b52-4ea1-bd0e-a04ab15d5e28",
   "metadata": {},
   "outputs": [
    {
     "data": {
      "text/html": [
       "<div>\n",
       "<style scoped>\n",
       "    .dataframe tbody tr th:only-of-type {\n",
       "        vertical-align: middle;\n",
       "    }\n",
       "\n",
       "    .dataframe tbody tr th {\n",
       "        vertical-align: top;\n",
       "    }\n",
       "\n",
       "    .dataframe thead th {\n",
       "        text-align: right;\n",
       "    }\n",
       "</style>\n",
       "<table border=\"1\" class=\"dataframe\">\n",
       "  <thead>\n",
       "    <tr style=\"text-align: right;\">\n",
       "      <th></th>\n",
       "      <th>carat</th>\n",
       "      <th>cut</th>\n",
       "      <th>color</th>\n",
       "      <th>clarity</th>\n",
       "      <th>depth</th>\n",
       "      <th>x</th>\n",
       "      <th>y</th>\n",
       "      <th>z</th>\n",
       "      <th>gr</th>\n",
       "      <th>vol</th>\n",
       "      <th>density</th>\n",
       "    </tr>\n",
       "  </thead>\n",
       "  <tbody>\n",
       "    <tr>\n",
       "      <th>0</th>\n",
       "      <td>0.247192</td>\n",
       "      <td>3</td>\n",
       "      <td>1</td>\n",
       "      <td>5</td>\n",
       "      <td>62.4</td>\n",
       "      <td>6.83</td>\n",
       "      <td>6.79</td>\n",
       "      <td>4.25</td>\n",
       "      <td>0.242</td>\n",
       "      <td>0.078839</td>\n",
       "      <td>3.069559</td>\n",
       "    </tr>\n",
       "    <tr>\n",
       "      <th>1</th>\n",
       "      <td>-0.362625</td>\n",
       "      <td>4</td>\n",
       "      <td>5</td>\n",
       "      <td>5</td>\n",
       "      <td>63.0</td>\n",
       "      <td>4.35</td>\n",
       "      <td>4.38</td>\n",
       "      <td>2.75</td>\n",
       "      <td>0.064</td>\n",
       "      <td>0.020958</td>\n",
       "      <td>3.053683</td>\n",
       "    </tr>\n",
       "    <tr>\n",
       "      <th>2</th>\n",
       "      <td>-0.226149</td>\n",
       "      <td>0</td>\n",
       "      <td>15</td>\n",
       "      <td>4</td>\n",
       "      <td>65.5</td>\n",
       "      <td>5.62</td>\n",
       "      <td>5.53</td>\n",
       "      <td>3.65</td>\n",
       "      <td>0.142</td>\n",
       "      <td>0.045375</td>\n",
       "      <td>3.129493</td>\n",
       "    </tr>\n",
       "    <tr>\n",
       "      <th>3</th>\n",
       "      <td>-0.344959</td>\n",
       "      <td>1</td>\n",
       "      <td>45</td>\n",
       "      <td>2</td>\n",
       "      <td>63.8</td>\n",
       "      <td>4.68</td>\n",
       "      <td>4.72</td>\n",
       "      <td>3.00</td>\n",
       "      <td>0.082</td>\n",
       "      <td>0.026508</td>\n",
       "      <td>3.093462</td>\n",
       "    </tr>\n",
       "    <tr>\n",
       "      <th>4</th>\n",
       "      <td>0.020325</td>\n",
       "      <td>2</td>\n",
       "      <td>15</td>\n",
       "      <td>2</td>\n",
       "      <td>60.5</td>\n",
       "      <td>6.55</td>\n",
       "      <td>6.51</td>\n",
       "      <td>3.95</td>\n",
       "      <td>0.204</td>\n",
       "      <td>0.067372</td>\n",
       "      <td>3.027965</td>\n",
       "    </tr>\n",
       "  </tbody>\n",
       "</table>\n",
       "</div>"
      ],
      "text/plain": [
       "      carat  cut  color  clarity  depth     x     y     z     gr       vol  \\\n",
       "0  0.247192    3      1        5   62.4  6.83  6.79  4.25  0.242  0.078839   \n",
       "1 -0.362625    4      5        5   63.0  4.35  4.38  2.75  0.064  0.020958   \n",
       "2 -0.226149    0     15        4   65.5  5.62  5.53  3.65  0.142  0.045375   \n",
       "3 -0.344959    1     45        2   63.8  4.68  4.72  3.00  0.082  0.026508   \n",
       "4  0.020325    2     15        2   60.5  6.55  6.51  3.95  0.204  0.067372   \n",
       "\n",
       "    density  \n",
       "0  3.069559  \n",
       "1  3.053683  \n",
       "2  3.129493  \n",
       "3  3.093462  \n",
       "4  3.027965  "
      ]
     },
     "execution_count": 29,
     "metadata": {},
     "output_type": "execute_result"
    }
   ],
   "source": [
    "X.cut = LabelEncoder().fit_transform(X.cut)\n",
    "X.clarity = LabelEncoder().fit_transform(X.clarity)\n",
    "\n",
    "X.head()"
   ]
  },
  {
   "cell_type": "code",
   "execution_count": 30,
   "id": "25ce3935-dd35-4afb-8f2f-31fdd5685927",
   "metadata": {},
   "outputs": [
    {
     "data": {
      "image/png": "[encoded data removed]",
      "text/plain": [
       "<Figure size 1080x720 with 2 Axes>"
      ]
     },
     "metadata": {},
     "output_type": "display_data"
    }
   ],
   "source": [
    "plt.figure(figsize=(15, 10))\n",
    "\n",
    "sns.set(style='white')\n",
    "\n",
    "mask=np.triu(np.ones_like(X.corr(), dtype=bool))\n",
    "\n",
    "cmap=sns.diverging_palette(0, 10, as_cmap=True)\n",
    "\n",
    "\n",
    "sns.heatmap(X.corr(),\n",
    "           mask=mask,\n",
    "          cmap=cmap,\n",
    "          center=0,\n",
    "          square=True,\n",
    "          annot=True,\n",
    "          linewidths=0.5,\n",
    "          cbar_kws={'shrink': 0.5});"
   ]
  },
  {
   "cell_type": "code",
   "execution_count": 31,
   "id": "cad284c0-e1fd-4623-a299-f1a12d477d30",
   "metadata": {},
   "outputs": [
    {
     "data": {
      "text/html": [
       "<div>\n",
       "<style scoped>\n",
       "    .dataframe tbody tr th:only-of-type {\n",
       "        vertical-align: middle;\n",
       "    }\n",
       "\n",
       "    .dataframe tbody tr th {\n",
       "        vertical-align: top;\n",
       "    }\n",
       "\n",
       "    .dataframe thead th {\n",
       "        text-align: right;\n",
       "    }\n",
       "</style>\n",
       "<table border=\"1\" class=\"dataframe\">\n",
       "  <thead>\n",
       "    <tr style=\"text-align: right;\">\n",
       "      <th></th>\n",
       "      <th>carat</th>\n",
       "      <th>cut</th>\n",
       "      <th>color</th>\n",
       "      <th>depth</th>\n",
       "      <th>density</th>\n",
       "    </tr>\n",
       "  </thead>\n",
       "  <tbody>\n",
       "    <tr>\n",
       "      <th>0</th>\n",
       "      <td>0.247192</td>\n",
       "      <td>3</td>\n",
       "      <td>1</td>\n",
       "      <td>62.4</td>\n",
       "      <td>3.069559</td>\n",
       "    </tr>\n",
       "    <tr>\n",
       "      <th>1</th>\n",
       "      <td>-0.362625</td>\n",
       "      <td>4</td>\n",
       "      <td>5</td>\n",
       "      <td>63.0</td>\n",
       "      <td>3.053683</td>\n",
       "    </tr>\n",
       "    <tr>\n",
       "      <th>2</th>\n",
       "      <td>-0.226149</td>\n",
       "      <td>0</td>\n",
       "      <td>15</td>\n",
       "      <td>65.5</td>\n",
       "      <td>3.129493</td>\n",
       "    </tr>\n",
       "    <tr>\n",
       "      <th>3</th>\n",
       "      <td>-0.344959</td>\n",
       "      <td>1</td>\n",
       "      <td>45</td>\n",
       "      <td>63.8</td>\n",
       "      <td>3.093462</td>\n",
       "    </tr>\n",
       "    <tr>\n",
       "      <th>4</th>\n",
       "      <td>0.020325</td>\n",
       "      <td>2</td>\n",
       "      <td>15</td>\n",
       "      <td>60.5</td>\n",
       "      <td>3.027965</td>\n",
       "    </tr>\n",
       "  </tbody>\n",
       "</table>\n",
       "</div>"
      ],
      "text/plain": [
       "      carat  cut  color  depth   density\n",
       "0  0.247192    3      1   62.4  3.069559\n",
       "1 -0.362625    4      5   63.0  3.053683\n",
       "2 -0.226149    0     15   65.5  3.129493\n",
       "3 -0.344959    1     45   63.8  3.093462\n",
       "4  0.020325    2     15   60.5  3.027965"
      ]
     },
     "execution_count": 31,
     "metadata": {},
     "output_type": "execute_result"
    }
   ],
   "source": [
    "X = X[['carat', 'cut', 'color', 'depth', 'density']]\n",
    "\n",
    "X.head()"
   ]
  },
  {
   "cell_type": "markdown",
   "id": "9daf5f2f-afbe-485a-9fa0-6d56afa771ac",
   "metadata": {},
   "source": [
    "Una vez que nos hemos decantado por estas variables ahora sí vamos a dividir nuestro set de datos en entrenamiento y test, para ello utilizamemos el método train_test_split de la libería scikit-learn"
   ]
  },
  {
   "cell_type": "code",
   "execution_count": 32,
   "id": "2f8e4220-dfbb-46e4-9bee-3dd2c225bfdb",
   "metadata": {},
   "outputs": [
    {
     "data": {
      "text/plain": [
       "((32297, 5), (8075, 5), (32297,), (8075,))"
      ]
     },
     "execution_count": 32,
     "metadata": {},
     "output_type": "execute_result"
    }
   ],
   "source": [
    "from sklearn.model_selection import train_test_split # el alias es cosa mia\n",
    "\n",
    "X_train, X_test, y_train, y_test = train_test_split(X, y, train_size=0.8, test_size=0.2, random_state=22)\n",
    "\n",
    "X_train.shape, X_test.shape, y_train.shape, y_test.shape"
   ]
  },
  {
   "cell_type": "markdown",
   "id": "187b0a74-b1ea-4194-b7f8-5d0f8561d7ec",
   "metadata": {},
   "source": [
    "Si nos fijamos vemos que la escala de nuestros datos no es la misma en todas las columnas, en ocasiones y dependiendo del modelo esto no relevante, pero es bueno tenerlo en cuenta, por lo que sería bueno hacer varios experimentos para ver como es el desempeño de nuestro modelo.\n",
    "Existen varios modelos de escalado de datos, vamos a centrarnos en dos principalmente:\n",
    "\n",
    "    + Standar scaler: Esta transfomación realiza la siguiente operación "
   ]
  },
  {
   "cell_type": "markdown",
   "id": "3e43a0d0-6830-4304-8c5b-23b0799eb190",
   "metadata": {},
   "source": [
    "$$\\alpha =\\frac{ ({x}-\\mu)}{\\sigma}$$"
   ]
  },
  {
   "cell_type": "markdown",
   "id": "cd195b2e-06ba-48fe-8a4f-da701576bdbb",
   "metadata": {},
   "source": [
    "    + Min - Max scaler:"
   ]
  },
  {
   "cell_type": "markdown",
   "id": "22d54862-319e-436e-9313-4c36b5c5fb75",
   "metadata": {},
   "source": [
    "$$\\alpha =\\frac{ ({x}-\\min)}{{\\max}-{\\min}}$$"
   ]
  },
  {
   "cell_type": "code",
   "execution_count": 33,
   "id": "9d389efc-66a2-45c0-828f-dd59401f47f0",
   "metadata": {},
   "outputs": [],
   "source": [
    "from sklearn.preprocessing import StandardScaler, MinMaxScaler"
   ]
  },
  {
   "cell_type": "code",
   "execution_count": 34,
   "id": "518127af-b29f-49c0-bf83-34090fe7837c",
   "metadata": {},
   "outputs": [],
   "source": [
    "sc = StandardScaler().fit(X_train)\n",
    "mm = MinMaxScaler().fit(X_train)"
   ]
  },
  {
   "cell_type": "markdown",
   "id": "df905157-2838-4c6e-9193-2303dd15bd1b",
   "metadata": {},
   "source": [
    "Ahora con ellos podemos transformar nuestros set de datos y probarlos por separa para ver con cual de los dos funciona mejor, es importante realizar el ajuste del scaler únicamente con los datos train, con la intención de dar a nuestro modelo la menor información sobre los datos de test para que nuestro experimento sea lo más veraz posible"
   ]
  },
  {
   "cell_type": "code",
   "execution_count": 35,
   "id": "fdf36589-ac17-40b9-bb2e-06bfb2e863ab",
   "metadata": {},
   "outputs": [
    {
     "data": {
      "text/plain": [
       "((32297, 5), (32297, 5))"
      ]
     },
     "execution_count": 35,
     "metadata": {},
     "output_type": "execute_result"
    }
   ],
   "source": [
    "X_train_sc = sc.transform(X_train)\n",
    "X_test_sc = sc.transform(X_test)\n",
    "X_train_mm = mm.transform(X_train)\n",
    "X_test_mm = mm.transform(X_test)\n",
    "\n",
    "X_train_sc.shape, X_train_mm.shape"
   ]
  },
  {
   "cell_type": "code",
   "execution_count": 36,
   "id": "45f7767b-3079-4f9f-8c40-f45e60878e7d",
   "metadata": {},
   "outputs": [
    {
     "data": {
      "text/plain": [
       "(32297, 5)"
      ]
     },
     "execution_count": 36,
     "metadata": {},
     "output_type": "execute_result"
    }
   ],
   "source": [
    "X_train_sc.shape"
   ]
  },
  {
   "cell_type": "markdown",
   "id": "4f77fe6c-9992-43bc-90d5-d58a4b3524be",
   "metadata": {},
   "source": [
    "### 4. Elección de modelo"
   ]
  },
  {
   "cell_type": "markdown",
   "id": "d6e64ff8-b64e-4673-a2d0-b87ce6931fc2",
   "metadata": {},
   "source": [
    "Llegados a este punto y en base a la definición de nuestro objetivo tendremos que decantarnos por la elección de un modelo y sus hiperparámetros. Como hablamos al principio de este capítulo tenemos dos grandes grupos según la problemática que se nos plantee.\n",
    "\n",
    "    + Modelos de regresión. Para predecir un número (Caso que nos ocupa)\n",
    "    + Modelos de clasificación. Para predecir una clase"
   ]
  },
  {
   "cell_type": "markdown",
   "id": "d9edd074-ee5c-4dc7-801a-e1aa4e5fc324",
   "metadata": {},
   "source": [
    "### 5. Entrenamiento de Modelos"
   ]
  },
  {
   "cell_type": "markdown",
   "id": "823cbc30-3227-483b-a446-25fc319c7b1b",
   "metadata": {},
   "source": [
    "Una vez que ya tenemos nuestros datos transfomados y escalados podemos proceder a entrenar nuestro modelo, para una primera aproximación vamos a decantarnos por el modelo más sencillo que es una regresión lineal"
   ]
  },
  {
   "cell_type": "code",
   "execution_count": 37,
   "id": "b4daa168-b4d6-4ecc-b3f5-b6cb8db26a65",
   "metadata": {},
   "outputs": [],
   "source": [
    "from sklearn.linear_model import LinearRegression"
   ]
  },
  {
   "cell_type": "markdown",
   "id": "03fcf072-fa75-4e32-be57-59e2183a80a9",
   "metadata": {},
   "source": [
    "Vamos a generar tres modelos uno para cada uno de nuestros set de datos, uno para los que están sin estandarizar, otro para los datos de Standar Scaler y otro para los de Min-Max Scaler"
   ]
  },
  {
   "cell_type": "code",
   "execution_count": 38,
   "id": "c4fd5cf7-2554-40e8-9a71-36997332d781",
   "metadata": {},
   "outputs": [],
   "source": [
    "ln = LinearRegression()\n",
    "ln_sc = LinearRegression()\n",
    "ln_mm = LinearRegression()"
   ]
  },
  {
   "cell_type": "code",
   "execution_count": 39,
   "id": "34926d52-b67c-4a99-914d-a1992474848d",
   "metadata": {},
   "outputs": [
    {
     "data": {
      "text/html": [
       "<style>#sk-container-id-1 {color: black;background-color: white;}#sk-container-id-1 pre{padding: 0;}#sk-container-id-1 div.sk-toggleable {background-color: white;}#sk-container-id-1 label.sk-toggleable__label {cursor: pointer;display: block;width: 100%;margin-bottom: 0;padding: 0.3em;box-sizing: border-box;text-align: center;}#sk-container-id-1 label.sk-toggleable__label-arrow:before {content: \"▸\";float: left;margin-right: 0.25em;color: #696969;}#sk-container-id-1 label.sk-toggleable__label-arrow:hover:before {color: black;}#sk-container-id-1 div.sk-estimator:hover label.sk-toggleable__label-arrow:before {color: black;}#sk-container-id-1 div.sk-toggleable__content {max-height: 0;max-width: 0;overflow: hidden;text-align: left;background-color: #f0f8ff;}#sk-container-id-1 div.sk-toggleable__content pre {margin: 0.2em;color: black;border-radius: 0.25em;background-color: #f0f8ff;}#sk-container-id-1 input.sk-toggleable__control:checked~div.sk-toggleable__content {max-height: 200px;max-width: 100%;overflow: auto;}#sk-container-id-1 input.sk-toggleable__control:checked~label.sk-toggleable__label-arrow:before {content: \"▾\";}#sk-container-id-1 div.sk-estimator input.sk-toggleable__control:checked~label.sk-toggleable__label {background-color: #d4ebff;}#sk-container-id-1 div.sk-label input.sk-toggleable__control:checked~label.sk-toggleable__label {background-color: #d4ebff;}#sk-container-id-1 input.sk-hidden--visually {border: 0;clip: rect(1px 1px 1px 1px);clip: rect(1px, 1px, 1px, 1px);height: 1px;margin: -1px;overflow: hidden;padding: 0;position: absolute;width: 1px;}#sk-container-id-1 div.sk-estimator {font-family: monospace;background-color: #f0f8ff;border: 1px dotted black;border-radius: 0.25em;box-sizing: border-box;margin-bottom: 0.5em;}#sk-container-id-1 div.sk-estimator:hover {background-color: #d4ebff;}#sk-container-id-1 div.sk-parallel-item::after {content: \"\";width: 100%;border-bottom: 1px solid gray;flex-grow: 1;}#sk-container-id-1 div.sk-label:hover label.sk-toggleable__label {background-color: #d4ebff;}#sk-container-id-1 div.sk-serial::before {content: \"\";position: absolute;border-left: 1px solid gray;box-sizing: border-box;top: 0;bottom: 0;left: 50%;z-index: 0;}#sk-container-id-1 div.sk-serial {display: flex;flex-direction: column;align-items: center;background-color: white;padding-right: 0.2em;padding-left: 0.2em;position: relative;}#sk-container-id-1 div.sk-item {position: relative;z-index: 1;}#sk-container-id-1 div.sk-parallel {display: flex;align-items: stretch;justify-content: center;background-color: white;position: relative;}#sk-container-id-1 div.sk-item::before, #sk-container-id-1 div.sk-parallel-item::before {content: \"\";position: absolute;border-left: 1px solid gray;box-sizing: border-box;top: 0;bottom: 0;left: 50%;z-index: -1;}#sk-container-id-1 div.sk-parallel-item {display: flex;flex-direction: column;z-index: 1;position: relative;background-color: white;}#sk-container-id-1 div.sk-parallel-item:first-child::after {align-self: flex-end;width: 50%;}#sk-container-id-1 div.sk-parallel-item:last-child::after {align-self: flex-start;width: 50%;}#sk-container-id-1 div.sk-parallel-item:only-child::after {width: 0;}#sk-container-id-1 div.sk-dashed-wrapped {border: 1px dashed gray;margin: 0 0.4em 0.5em 0.4em;box-sizing: border-box;padding-bottom: 0.4em;background-color: white;}#sk-container-id-1 div.sk-label label {font-family: monospace;font-weight: bold;display: inline-block;line-height: 1.2em;}#sk-container-id-1 div.sk-label-container {text-align: center;}#sk-container-id-1 div.sk-container {/* jupyter's `normalize.less` sets `[hidden] { display: none; }` but bootstrap.min.css set `[hidden] { display: none !important; }` so we also need the `!important` here to be able to override the default hidden behavior on the sphinx rendered scikit-learn.org. See: https://github.com/scikit-learn/scikit-learn/issues/21755 */display: inline-block !important;position: relative;}#sk-container-id-1 div.sk-text-repr-fallback {display: none;}</style><div id=\"sk-container-id-1\" class=\"sk-top-container\"><div class=\"sk-text-repr-fallback\"><pre>LinearRegression()</pre><b>In a Jupyter environment, please rerun this cell to show the HTML representation or trust the notebook. <br />On GitHub, the HTML representation is unable to render, please try loading this page with nbviewer.org.</b></div><div class=\"sk-container\" hidden><div class=\"sk-item\"><div class=\"sk-estimator sk-toggleable\"><input class=\"sk-toggleable__control sk-hidden--visually\" id=\"sk-estimator-id-1\" type=\"checkbox\" checked><label for=\"sk-estimator-id-1\" class=\"sk-toggleable__label sk-toggleable__label-arrow\">LinearRegression</label><div class=\"sk-toggleable__content\"><pre>LinearRegression()</pre></div></div></div></div></div>"
      ],
      "text/plain": [
       "LinearRegression()"
      ]
     },
     "execution_count": 39,
     "metadata": {},
     "output_type": "execute_result"
    }
   ],
   "source": [
    "ln.fit(X_train, y_train)\n",
    "ln_sc.fit(X_train_sc,y_train)\n",
    "ln_mm.fit(X_train_mm,y_train)"
   ]
  },
  {
   "cell_type": "markdown",
   "id": "814d45f7-d0b1-43bd-b31d-ed9674a5227c",
   "metadata": {},
   "source": [
    "### 6. Predicciones"
   ]
  },
  {
   "cell_type": "code",
   "execution_count": 40,
   "id": "da41db90-14ac-4645-b2c6-694fb1b7fd99",
   "metadata": {},
   "outputs": [],
   "source": [
    "preds =ln.predict(X_test)\n",
    "preds_sc =ln_sc.predict(X_test_sc)\n",
    "preds_mm = ln_mm.predict(X_test_mm)"
   ]
  },
  {
   "cell_type": "code",
   "execution_count": 41,
   "id": "2bc474e4-4e64-4980-82db-46121bb441b9",
   "metadata": {},
   "outputs": [
    {
     "data": {
      "text/plain": [
       "array([16168.59135581,  2437.83878671,  2258.15545178,  5664.37923025,\n",
       "        8230.45531482,  3653.69496727,  4066.31412469,  1839.77603713,\n",
       "        8809.35162251,  2392.8058233 ])"
      ]
     },
     "execution_count": 41,
     "metadata": {},
     "output_type": "execute_result"
    }
   ],
   "source": [
    "preds[:10]"
   ]
  },
  {
   "cell_type": "code",
   "execution_count": 42,
   "id": "ce002568-4936-47da-8047-f3da3c6f160f",
   "metadata": {},
   "outputs": [
    {
     "data": {
      "text/plain": [
       "array([16168.59135581,  2437.83878671,  2258.15545178,  5664.37923025,\n",
       "        8230.45531482,  3653.69496727,  4066.31412469,  1839.77603713,\n",
       "        8809.35162251,  2392.8058233 ])"
      ]
     },
     "execution_count": 42,
     "metadata": {},
     "output_type": "execute_result"
    }
   ],
   "source": [
    "preds_sc[:10]"
   ]
  },
  {
   "cell_type": "code",
   "execution_count": 45,
   "id": "4a021676-f95c-4645-a16a-5b60e642aca1",
   "metadata": {},
   "outputs": [
    {
     "data": {
      "text/plain": [
       "array([16168.59135581,  2437.83878671,  2258.15545178,  5664.37923025,\n",
       "        8230.45531482,  3653.69496727,  4066.31412469,  1839.77603713,\n",
       "        8809.35162251,  2392.8058233 ])"
      ]
     },
     "execution_count": 45,
     "metadata": {},
     "output_type": "execute_result"
    }
   ],
   "source": [
    "preds_mm[:10]"
   ]
  },
  {
   "cell_type": "markdown",
   "id": "79c3e563-0248-423e-af58-fb61f5871adf",
   "metadata": {},
   "source": [
    "### 7. Evaluacion"
   ]
  },
  {
   "cell_type": "code",
   "execution_count": 64,
   "id": "e1808895-0932-4388-8da2-863d34214b0e",
   "metadata": {},
   "outputs": [
    {
     "data": {
      "text/plain": [
       "(0.7031174777339552, 0.703117477733955, 0.703117477733955)"
      ]
     },
     "execution_count": 64,
     "metadata": {},
     "output_type": "execute_result"
    }
   ],
   "source": [
    "ln.score(X_train, y_train), ln_sc.score(X_train_sc, y_train), ln_mm.score(X_train_mm, y_train)"
   ]
  },
  {
   "cell_type": "code",
   "execution_count": 65,
   "id": "9efe530b-7175-4914-b664-ac28b272b1e4",
   "metadata": {
    "tags": []
   },
   "outputs": [
    {
     "data": {
      "text/plain": [
       "(0.6505655591101658, 0.6505655591101652, 0.6505655591101654)"
      ]
     },
     "execution_count": 65,
     "metadata": {},
     "output_type": "execute_result"
    }
   ],
   "source": [
    "ln.score(X_test, y_test), ln_sc.score(X_test_sc, y_test), ln_mm.score(X_test_mm, y_test)"
   ]
  },
  {
   "cell_type": "code",
   "execution_count": 47,
   "id": "4abbfd30-d577-4eaf-b849-8e5f7a61fcd8",
   "metadata": {},
   "outputs": [],
   "source": [
    "from sklearn.metrics import mean_squared_error as mse"
   ]
  },
  {
   "cell_type": "code",
   "execution_count": 67,
   "id": "2e25e68e-3ca9-4756-979b-c36b2378750c",
   "metadata": {},
   "outputs": [
    {
     "data": {
      "text/plain": [
       "2177.8217175075383"
      ]
     },
     "execution_count": 67,
     "metadata": {},
     "output_type": "execute_result"
    }
   ],
   "source": [
    "mse(y_train, ln.predict(X_train), squared=False)"
   ]
  },
  {
   "cell_type": "code",
   "execution_count": 48,
   "id": "6abe579e-f41e-438e-97c8-f36b5ca783e9",
   "metadata": {
    "tags": []
   },
   "outputs": [
    {
     "data": {
      "text/plain": [
       "2339.953331045755"
      ]
     },
     "execution_count": 48,
     "metadata": {},
     "output_type": "execute_result"
    }
   ],
   "source": [
    "mse(y_test, preds, squared=False)"
   ]
  },
  {
   "cell_type": "markdown",
   "id": "c1e81012-b15e-4854-84b0-f33ccec311cb",
   "metadata": {},
   "source": [
    "### 8. Otros modelos"
   ]
  },
  {
   "cell_type": "code",
   "execution_count": 49,
   "id": "00c20e67-97dc-406d-8784-eaa3179d341c",
   "metadata": {},
   "outputs": [],
   "source": [
    "from sklearn.ensemble import RandomForestRegressor"
   ]
  },
  {
   "cell_type": "code",
   "execution_count": 59,
   "id": "ea546b5e-214b-4ec3-87b0-97d9cf78c7c6",
   "metadata": {},
   "outputs": [],
   "source": [
    "rf = RandomForestRegressor()\n",
    "rf_sc = RandomForestRegressor()\n",
    "rf_mm = RandomForestRegressor()"
   ]
  },
  {
   "cell_type": "code",
   "execution_count": 60,
   "id": "ab8c9606-e5a1-4f4a-9ea7-99582ed39d45",
   "metadata": {},
   "outputs": [
    {
     "data": {
      "text/html": [
       "<style>#sk-container-id-3 {color: black;background-color: white;}#sk-container-id-3 pre{padding: 0;}#sk-container-id-3 div.sk-toggleable {background-color: white;}#sk-container-id-3 label.sk-toggleable__label {cursor: pointer;display: block;width: 100%;margin-bottom: 0;padding: 0.3em;box-sizing: border-box;text-align: center;}#sk-container-id-3 label.sk-toggleable__label-arrow:before {content: \"▸\";float: left;margin-right: 0.25em;color: #696969;}#sk-container-id-3 label.sk-toggleable__label-arrow:hover:before {color: black;}#sk-container-id-3 div.sk-estimator:hover label.sk-toggleable__label-arrow:before {color: black;}#sk-container-id-3 div.sk-toggleable__content {max-height: 0;max-width: 0;overflow: hidden;text-align: left;background-color: #f0f8ff;}#sk-container-id-3 div.sk-toggleable__content pre {margin: 0.2em;color: black;border-radius: 0.25em;background-color: #f0f8ff;}#sk-container-id-3 input.sk-toggleable__control:checked~div.sk-toggleable__content {max-height: 200px;max-width: 100%;overflow: auto;}#sk-container-id-3 input.sk-toggleable__control:checked~label.sk-toggleable__label-arrow:before {content: \"▾\";}#sk-container-id-3 div.sk-estimator input.sk-toggleable__control:checked~label.sk-toggleable__label {background-color: #d4ebff;}#sk-container-id-3 div.sk-label input.sk-toggleable__control:checked~label.sk-toggleable__label {background-color: #d4ebff;}#sk-container-id-3 input.sk-hidden--visually {border: 0;clip: rect(1px 1px 1px 1px);clip: rect(1px, 1px, 1px, 1px);height: 1px;margin: -1px;overflow: hidden;padding: 0;position: absolute;width: 1px;}#sk-container-id-3 div.sk-estimator {font-family: monospace;background-color: #f0f8ff;border: 1px dotted black;border-radius: 0.25em;box-sizing: border-box;margin-bottom: 0.5em;}#sk-container-id-3 div.sk-estimator:hover {background-color: #d4ebff;}#sk-container-id-3 div.sk-parallel-item::after {content: \"\";width: 100%;border-bottom: 1px solid gray;flex-grow: 1;}#sk-container-id-3 div.sk-label:hover label.sk-toggleable__label {background-color: #d4ebff;}#sk-container-id-3 div.sk-serial::before {content: \"\";position: absolute;border-left: 1px solid gray;box-sizing: border-box;top: 0;bottom: 0;left: 50%;z-index: 0;}#sk-container-id-3 div.sk-serial {display: flex;flex-direction: column;align-items: center;background-color: white;padding-right: 0.2em;padding-left: 0.2em;position: relative;}#sk-container-id-3 div.sk-item {position: relative;z-index: 1;}#sk-container-id-3 div.sk-parallel {display: flex;align-items: stretch;justify-content: center;background-color: white;position: relative;}#sk-container-id-3 div.sk-item::before, #sk-container-id-3 div.sk-parallel-item::before {content: \"\";position: absolute;border-left: 1px solid gray;box-sizing: border-box;top: 0;bottom: 0;left: 50%;z-index: -1;}#sk-container-id-3 div.sk-parallel-item {display: flex;flex-direction: column;z-index: 1;position: relative;background-color: white;}#sk-container-id-3 div.sk-parallel-item:first-child::after {align-self: flex-end;width: 50%;}#sk-container-id-3 div.sk-parallel-item:last-child::after {align-self: flex-start;width: 50%;}#sk-container-id-3 div.sk-parallel-item:only-child::after {width: 0;}#sk-container-id-3 div.sk-dashed-wrapped {border: 1px dashed gray;margin: 0 0.4em 0.5em 0.4em;box-sizing: border-box;padding-bottom: 0.4em;background-color: white;}#sk-container-id-3 div.sk-label label {font-family: monospace;font-weight: bold;display: inline-block;line-height: 1.2em;}#sk-container-id-3 div.sk-label-container {text-align: center;}#sk-container-id-3 div.sk-container {/* jupyter's `normalize.less` sets `[hidden] { display: none; }` but bootstrap.min.css set `[hidden] { display: none !important; }` so we also need the `!important` here to be able to override the default hidden behavior on the sphinx rendered scikit-learn.org. See: https://github.com/scikit-learn/scikit-learn/issues/21755 */display: inline-block !important;position: relative;}#sk-container-id-3 div.sk-text-repr-fallback {display: none;}</style><div id=\"sk-container-id-3\" class=\"sk-top-container\"><div class=\"sk-text-repr-fallback\"><pre>RandomForestRegressor()</pre><b>In a Jupyter environment, please rerun this cell to show the HTML representation or trust the notebook. <br />On GitHub, the HTML representation is unable to render, please try loading this page with nbviewer.org.</b></div><div class=\"sk-container\" hidden><div class=\"sk-item\"><div class=\"sk-estimator sk-toggleable\"><input class=\"sk-toggleable__control sk-hidden--visually\" id=\"sk-estimator-id-3\" type=\"checkbox\" checked><label for=\"sk-estimator-id-3\" class=\"sk-toggleable__label sk-toggleable__label-arrow\">RandomForestRegressor</label><div class=\"sk-toggleable__content\"><pre>RandomForestRegressor()</pre></div></div></div></div></div>"
      ],
      "text/plain": [
       "RandomForestRegressor()"
      ]
     },
     "execution_count": 60,
     "metadata": {},
     "output_type": "execute_result"
    }
   ],
   "source": [
    "rf.fit(X_train, y_train)\n",
    "rf_sc.fit(X_train_sc, y_train)\n",
    "rf_mm.fit(X_train_mm, y_train)"
   ]
  },
  {
   "cell_type": "code",
   "execution_count": 54,
   "id": "4fc03f86-3592-4713-af3c-77191af20a1d",
   "metadata": {},
   "outputs": [
    {
     "data": {
      "text/plain": [
       "array([13853.9       ,  1451.22609524,   698.48      , ...,\n",
       "        4263.56      ,  1686.33583333,  6650.95566667])"
      ]
     },
     "execution_count": 54,
     "metadata": {},
     "output_type": "execute_result"
    }
   ],
   "source": [
    "rf.predict(X_test)"
   ]
  },
  {
   "cell_type": "code",
   "execution_count": 62,
   "id": "5471bddd-5f02-4238-9795-29c8e7c6008d",
   "metadata": {},
   "outputs": [
    {
     "data": {
      "text/plain": [
       "(0.9879272079881799, 0.9878240355726214, 0.9878660421896832)"
      ]
     },
     "execution_count": 62,
     "metadata": {},
     "output_type": "execute_result"
    }
   ],
   "source": [
    "rf.score(X_train, y_train), rf_sc.score(X_train_sc, y_train), rf_mm.score(X_train_mm, y_train)"
   ]
  },
  {
   "cell_type": "code",
   "execution_count": 61,
   "id": "e1463a5d-a8e4-40f0-a897-3095380db1e9",
   "metadata": {},
   "outputs": [
    {
     "data": {
      "text/plain": [
       "(0.9159667636311799, 0.9152892448769518, 0.9157586595167349)"
      ]
     },
     "execution_count": 61,
     "metadata": {},
     "output_type": "execute_result"
    }
   ],
   "source": [
    "rf.score(X_test, y_test), rf_sc.score(X_test_sc, y_test), rf_mm.score(X_test_mm, y_test)"
   ]
  },
  {
   "cell_type": "code",
   "execution_count": 63,
   "id": "60039b0a-a569-4711-b43e-603a1239e76e",
   "metadata": {},
   "outputs": [
    {
     "data": {
      "text/plain": [
       "439.17121617213405"
      ]
     },
     "execution_count": 63,
     "metadata": {},
     "output_type": "execute_result"
    }
   ],
   "source": [
    "mse(y_train, rf.predict(X_train), squared=False)"
   ]
  },
  {
   "cell_type": "code",
   "execution_count": 58,
   "id": "8af31b62-61c5-444a-9692-295837ead4d5",
   "metadata": {},
   "outputs": [
    {
     "data": {
      "text/plain": [
       "1146.7918171150147"
      ]
     },
     "execution_count": 58,
     "metadata": {},
     "output_type": "execute_result"
    }
   ],
   "source": [
    "mse(y_test, rf.predict(X_test), squared=False)"
   ]
  },
  {
   "cell_type": "code",
   "execution_count": null,
   "id": "27c60d93-104f-4004-a50a-335968e302b8",
   "metadata": {},
   "outputs": [],
   "source": []
  }
 ],
 "metadata": {
  "kernelspec": {
   "display_name": "Python 3 (ipykernel)",
   "language": "python",
   "name": "python3"
  },
  "language_info": {
   "codemirror_mode": {
    "name": "ipython",
    "version": 3
   },
   "file_extension": ".py",
   "mimetype": "text/x-python",
   "name": "python",
   "nbconvert_exporter": "python",
   "pygments_lexer": "ipython3",
   "version": "3.9.7"
  }
 },
 "nbformat": 4,
 "nbformat_minor": 5
}
