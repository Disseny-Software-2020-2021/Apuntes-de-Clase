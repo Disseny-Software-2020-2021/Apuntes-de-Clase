{
 "cells": [
  {
   "cell_type": "markdown",
   "id": "16496a62-a870-4562-91ce-aa3e7b09eefe",
   "metadata": {},
   "source": [
    "## 5.2 Modelos de Regresión"
   ]
  },
  {
   "cell_type": "markdown",
   "id": "107f04dc-63fd-4921-9c36-a02dd26fb3c6",
   "metadata": {},
   "source": [
    "En esta clase vamos a centrarnos en los modelos de regresión, como explicamos en la clase anterior los modelos de regresión son aquellos modelos en los que su objetivo es predecir el valor de una variable numérica.\n",
    "\n",
    "Nos centraremos en el modelo de regresión mas simple que es la regresión y posteriormente veremos algún modelo más complejo."
   ]
  },
  {
   "cell_type": "markdown",
   "id": "2d3cd61b-f957-48fb-909a-03a0d6f260be",
   "metadata": {},
   "source": [
    "### 1. Regresión lineal"
   ]
  },
  {
   "cell_type": "markdown",
   "id": "a08be7ba-e982-4da9-9b82-da19caa08ba5",
   "metadata": {},
   "source": [
    "Para poder aplicar una regresión lineal a nuestros datos se han de tener algunas suposiciones previas:\n",
    "\n",
    "+ Exogeneidad débil (predictores libres de error)\n",
    "+ Linealidad\n",
    "+ Homocedasticidad: La homocedasticidad es una característica de un modelo de regresión lineal que implica que la varianza de los errores es constante a lo largo del tiempo.\n",
    "+ Independencia de los errores\n",
    "+ Falta de colinealidad (independencia lineal)\n",
    "\n",
    "$$y=\\beta_0+\\beta_1x_1+\\beta_2x_2+\\beta_3x_3+\\ldots+\\beta_nx_n+\\epsilon$$\n",
    "\n",
    "El objetivo de la regresion lineal es obtener los $\\beta$:\n",
    "+ Algebraicamente:\n",
    "\n",
    "$$\\vec{\\beta} = (X^{T}X)^{-1}X^{T}y$$\n",
    "\n",
    "+ Minimos cuadrados\n",
    "\n",
    "$$MSE = \\frac{1}{n} \\sum_{i=1}^{n} (y-\\hat{y})^{2}$$\n",
    "\n",
    "Ejemplo)\n",
    "\n",
    "$y = \\beta_0 + \\beta_1x_1 + \\epsilon$\n",
    "\n",
    "Entonces, derivando MSE e igualando a 0:\n",
    "\n",
    "$\\beta_0 = \\frac{\\sum y - \\beta_1\\sum x}{n} = \\bar{y} - \\beta_1\\bar{x}$\n",
    "\n",
    "$\\beta_1=\\frac{\\sum (x-\\hat{x})(y-\\hat{y})}{\\sum (x-\\hat{x})}$"
   ]
  },
  {
   "cell_type": "markdown",
   "id": "f0ea90ff-b834-41f5-9177-3491fc5a7646",
   "metadata": {},
   "source": [
    "Vamos a ver esto en forma de código, para ello importamos las librerías necesarias"
   ]
  },
  {
   "cell_type": "code",
   "execution_count": null,
   "id": "6d131134-4e78-4e69-9122-9668d6fc8b52",
   "metadata": {},
   "outputs": [],
   "source": [
    "#!pip install -U statsmodels #para actualizar la librería de statsmodels"
   ]
  },
  {
   "cell_type": "code",
   "execution_count": null,
   "id": "0f396e05-a2de-4dde-ab9e-8d2ca36848b6",
   "metadata": {
    "tags": []
   },
   "outputs": [],
   "source": [
    "import pandas as pd \n",
    "import numpy as np\n",
    "\n",
    "from sklearn.datasets import load_boston\n",
    "from sklearn.model_selection import train_test_split\n",
    "from sklearn.preprocessing import StandardScaler\n",
    "\n",
    "from sklearn.linear_model import LinearRegression\n",
    "from sklearn.linear_model import Lasso\n",
    "from sklearn.linear_model import Ridge\n",
    "from sklearn.linear_model import ElasticNet\n",
    "\n",
    "from statsmodels.api import add_constant, OLS\n",
    "from statsmodels.formula.api import ols\n",
    "\n",
    "import pylab as plt\n",
    "import seaborn as sns\n",
    "\n",
    "%matplotlib inline\n",
    "\n",
    "import warnings\n",
    "warnings.filterwarnings('ignore')"
   ]
  },
  {
   "cell_type": "markdown",
   "id": "4a59cd15-491b-4d4b-89d1-b553eb6aaa4d",
   "metadata": {},
   "source": [
    "**Regularización**"
   ]
  },
  {
   "cell_type": "markdown",
   "id": "9d20cbeb-25a1-4573-9a40-142dfb2a1e8a",
   "metadata": {},
   "source": [
    "Vamos a ver que es cada una de las librerías que hemos importado, cada una de ellas son diferentes métodos de regularización de una regresión lineal."
   ]
  },
  {
   "cell_type": "markdown",
   "id": "e24b3a9b-4640-4931-bb84-e5ec8e85eeac",
   "metadata": {},
   "source": [
    "**Función de Coste o de Pérdida (J)** = Función a minimizar\n",
    "\n",
    "En el caso de la regresión lineal: \n",
    "$$J=MSE$$\n",
    "\n",
    "\n",
    "La regularización es una medida/penalización de la complejidad del modelo. Se añade un término a J que depende del tipo de regularización:\n",
    "\n",
    "$$J = MSE + \\alpha · T$$\n",
    "\n",
    "\n",
    "+ Lasso (L1, norma 1):\n",
    "\n",
    "$$T=\\frac{1}{n}\\sum_{i}  |\\beta_i|$$\n",
    "\n",
    "Muy útil si se sospecha que hay características irrelevantes. Se favorece $\\beta \\approx 0$\n",
    "\n",
    "+ Ridge (L2):\n",
    "\n",
    "$$T=\\frac{1}{2n}\\sum_{i}  \\beta_{i}^{2}$$\n",
    "\n",
    "Muy útil si se sospecha que existe correlación entre las características, minimiza esa correlación. Funciona mejor si todas son relevantes.\n",
    "\n",
    "+ ElasticNet (L1+L2):\n",
    "\n",
    "$$T=r·L1 + (1-r)·L2$$\n",
    "\n",
    "Se usa cuando hay muchas características."
   ]
  },
  {
   "cell_type": "markdown",
   "id": "4740de1b-683c-490f-835a-659253c81e9a",
   "metadata": {},
   "source": [
    "Vamos a cargar unos datos procedentes de las bases de datos que contiene sklearn y vamos a aplicale los diferentes modelos de regresión que hemos visto."
   ]
  },
  {
   "cell_type": "markdown",
   "id": "f9ad80eb-f407-4dd9-b9da-752504fc9173",
   "metadata": {},
   "source": [
    "#### 1.1 Cargamos los datos"
   ]
  },
  {
   "cell_type": "code",
   "execution_count": null,
   "id": "ddf3ceb0-dd54-420d-87de-1cc3740519e4",
   "metadata": {},
   "outputs": [],
   "source": [
    "boston=load_boston()"
   ]
  },
  {
   "cell_type": "code",
   "execution_count": null,
   "id": "8879e431-0d38-47b4-b6f2-f5543f9e497e",
   "metadata": {},
   "outputs": [],
   "source": [
    "boston"
   ]
  },
  {
   "cell_type": "code",
   "execution_count": null,
   "id": "1ce9d074-44b5-42bd-a4de-705824bed2f2",
   "metadata": {},
   "outputs": [],
   "source": [
    "print(boston['DESCR'])"
   ]
  },
  {
   "cell_type": "code",
   "execution_count": null,
   "id": "41d51a99-947e-4cbf-9fff-ee848d5e4e53",
   "metadata": {},
   "outputs": [],
   "source": [
    "df=pd.DataFrame(boston.data, columns=boston.feature_names)\n",
    "\n",
    "df['price']=boston.target\n",
    "\n",
    "df.head()"
   ]
  },
  {
   "cell_type": "markdown",
   "id": "cf53b7ee-baf3-4c1e-9cc4-9517bb18779c",
   "metadata": {},
   "source": [
    "#### 1.2 Exploración de los datos"
   ]
  },
  {
   "cell_type": "markdown",
   "id": "c0a05e2a-229c-4a60-8f29-18d5e6a20445",
   "metadata": {},
   "source": [
    "##### Búsqueda de valores nulos"
   ]
  },
  {
   "cell_type": "code",
   "execution_count": null,
   "id": "b3b58ce7-9a5f-4a79-9368-4cca1b0bbc3c",
   "metadata": {
    "tags": []
   },
   "outputs": [],
   "source": [
    "df.info()"
   ]
  },
  {
   "cell_type": "markdown",
   "id": "de852557-34bb-4c3f-b311-549a54c88400",
   "metadata": {},
   "source": [
    "##### Descripción estadística de los datos"
   ]
  },
  {
   "cell_type": "code",
   "execution_count": null,
   "id": "8e67a4ca-aa1e-41b9-b8e4-ccf5485fcb13",
   "metadata": {},
   "outputs": [],
   "source": [
    "df.describe().T"
   ]
  },
  {
   "cell_type": "markdown",
   "id": "01c5c00d-c7bb-4c8f-af02-5e6f133d7e25",
   "metadata": {},
   "source": [
    "#### 1.3 Análisis de correlación y elección de variables"
   ]
  },
  {
   "cell_type": "code",
   "execution_count": null,
   "id": "413fe1bf-2f83-4953-b8aa-4e48b46ee360",
   "metadata": {},
   "outputs": [],
   "source": [
    "plt.figure(figsize=(15, 10))\n",
    "\n",
    "sns.set(style='white')\n",
    "\n",
    "mask=np.triu(np.ones_like(df.corr(), dtype=bool))\n",
    "\n",
    "cmap=sns.diverging_palette(0, 10, as_cmap=True)\n",
    "\n",
    "\n",
    "sns.heatmap(df.corr(),\n",
    "           mask=mask,\n",
    "          cmap=cmap,\n",
    "          center=0,\n",
    "          square=True,\n",
    "          annot=True,\n",
    "          linewidths=0.5,\n",
    "          cbar_kws={'shrink': 0.5});"
   ]
  },
  {
   "cell_type": "markdown",
   "id": "e7968a14-c4d5-474b-83da-d764e56a1e3e",
   "metadata": {},
   "source": [
    "Con ayuda de la librería de statsmodels y la técnica de ols (mínimos cuadrados) podemos ver la importancia de cada una de las variables independientes de nuestros datos respecto a la variable dependiente"
   ]
  },
  {
   "cell_type": "markdown",
   "id": "be697d3a-f8fb-4682-98ac-aa97587d354b",
   "metadata": {},
   "source": [
    "Vamos a crear una función que recibe como parámetros la variable dependiente(y) y la variable independiente(x)"
   ]
  },
  {
   "cell_type": "code",
   "execution_count": null,
   "id": "259fe0a1-6af9-4c52-8299-034064a7ef6e",
   "metadata": {},
   "outputs": [],
   "source": [
    "def plot_regression_model(x,y):\n",
    "    \n",
    "    x_const = add_constant(x) # add a constant to the model\n",
    "    \n",
    "    modelo = OLS(y, x_const).fit() # fit the model\n",
    "    \n",
    "    pred = modelo.predict(x_const) # make predictions\n",
    "    \n",
    "    print(modelo.summary());\n",
    "    try:\n",
    "        const = modelo.params[0] # create a variable with the value of the constant given by the summary\n",
    "        coef = modelo.params[1] # create a variable with the value of the coef given by the summary\n",
    "\n",
    "        x_l=np.linspace(x.min(), x.max(), 50) \n",
    "        y_l= coef*x_l + const # function of the line\n",
    "\n",
    "        plt.figure(figsize=(10, 10));\n",
    "\n",
    "        # plot the line\n",
    "        plt.plot(x_l, y_l, label=f'{x.name} vs {y.name}={coef}*{x.name}+{const}');\n",
    "\n",
    "        # data\n",
    "        plt.scatter(x, y, marker='x', c='g', label=f'{x.name} vs {y.name}');\n",
    "\n",
    "        plt.title('Regresion lineal')\n",
    "        plt.xlabel(f'{x.name}')\n",
    "        plt.ylabel(f'{y.name}')\n",
    "        plt.legend()\n",
    "        plt.show();\n",
    "        return modelo\n",
    "    except:\n",
    "        print('No se puede imprimir la recta de regresión para modelos multivariable')\n",
    "        plt.show();\n",
    "        return modelo"
   ]
  },
  {
   "cell_type": "markdown",
   "id": "73d61c92-d304-436b-8375-18839ed96056",
   "metadata": {},
   "source": [
    "Separamos nuestras variables independientes de nuestra variable dependiente"
   ]
  },
  {
   "cell_type": "code",
   "execution_count": null,
   "id": "fd9b5892-cf05-4da7-a4cd-254cec889596",
   "metadata": {},
   "outputs": [],
   "source": [
    "X=df.drop('price', axis=1)\n",
    "\n",
    "y=df.price"
   ]
  },
  {
   "cell_type": "code",
   "execution_count": null,
   "id": "d1376826-8622-484b-a3a9-79eb097930c4",
   "metadata": {},
   "outputs": [],
   "source": [
    "for c in X:\n",
    "    plot_regression_model(X[c], y)"
   ]
  },
  {
   "cell_type": "markdown",
   "id": "9151f04f-960d-45b3-b905-8d7d9ea00102",
   "metadata": {},
   "source": [
    "Como podemos ver predecir el precio de una casa a través de una regresión lineal con una única variable es bastante complicado, vamos a ver como se comportaría de forma multivariable"
   ]
  },
  {
   "cell_type": "code",
   "execution_count": null,
   "id": "6d96d123-975e-4d3c-85c5-4148b3903ece",
   "metadata": {},
   "outputs": [],
   "source": [
    "multi = plot_regression_model(X,y)"
   ]
  },
  {
   "cell_type": "markdown",
   "id": "eeb1eac8-f4a5-491d-a6a3-588de14038e9",
   "metadata": {},
   "source": [
    "Si nos fijamos hay algunas variables en el summary en el que la columna P nos indica 0, está P se está refiendo al pvalue, este valor no indica el estadístico de la variable independiente respecto de la dependiente, cuando más cercano a 0 esté nos indica que la variable es dependiente la una de la otra.\n",
    "Esto se basa en el testeo de hipótesis, para ello determinamos nuestra hipótesis inicial que es que las variables son independientes y establecemos un intervalo de confianza sobre el que apoyar nuestra hipótesis, normalmente es del 95%, esto quiere decir que si el pvalue es menor de 0.05 podremos descartar nuestra hipótesis inicial y determinar con un intervalo de confianza del 95% que la variable dependiente realmente depende de la independiente"
   ]
  },
  {
   "cell_type": "markdown",
   "id": "9ce97c6d-ccee-49f5-b423-1f41d2c9c92b",
   "metadata": {},
   "source": [
    "Y los betas (pesos) de nuestra ecuación correspondería a la columna coef. Así quedaría la ecuación de cada una de las rectas de regresión"
   ]
  },
  {
   "cell_type": "markdown",
   "id": "1e724c77-cbc8-4ae2-90df-673408fdb343",
   "metadata": {},
   "source": [
    "$$ y = coef * x + const $$"
   ]
  },
  {
   "cell_type": "markdown",
   "id": "8527ab4b-5f0e-40ce-8e0b-c57373cbe0ac",
   "metadata": {},
   "source": [
    "Del mismo modo prodríamos obtener estos valores con la librería de sklearn"
   ]
  },
  {
   "cell_type": "code",
   "execution_count": null,
   "id": "0d1612c5-2c76-4188-a0dd-d611cc6b08a6",
   "metadata": {},
   "outputs": [],
   "source": [
    "ln = LinearRegression()"
   ]
  },
  {
   "cell_type": "code",
   "execution_count": null,
   "id": "cdea902a-1e19-4fdd-8f8d-e29d8828e8e8",
   "metadata": {},
   "outputs": [],
   "source": [
    "ln.fit(X,y)"
   ]
  },
  {
   "cell_type": "markdown",
   "id": "9675a448-8faf-4fb3-ae21-a8f283c0f47c",
   "metadata": {},
   "source": [
    "Coeficientes"
   ]
  },
  {
   "cell_type": "code",
   "execution_count": null,
   "id": "80de85ce-919c-476e-9c10-276ff9165f48",
   "metadata": {},
   "outputs": [],
   "source": [
    "ln.coef_"
   ]
  },
  {
   "cell_type": "code",
   "execution_count": null,
   "id": "fdc3f0e3-d7b1-40fc-b74c-b2c72c2748cb",
   "metadata": {},
   "outputs": [],
   "source": [
    "dict(zip(X.columns, ln.coef_))"
   ]
  },
  {
   "cell_type": "markdown",
   "id": "bba10068-99e2-45df-9d67-d72e4a921b6d",
   "metadata": {},
   "source": [
    "Ordenada en el origen"
   ]
  },
  {
   "cell_type": "code",
   "execution_count": null,
   "id": "57813c61-9f9b-479c-93c4-701684df5fb4",
   "metadata": {},
   "outputs": [],
   "source": [
    "ln.intercept_"
   ]
  },
  {
   "cell_type": "markdown",
   "id": "3b24d273-f76b-449e-a675-3e1dc4b39183",
   "metadata": {},
   "source": [
    "Una vez elegidas nuestras variables podemos pasar a realizar el train_test_split para después standarizar nuestros datos y entrenar nuestro modelo"
   ]
  },
  {
   "cell_type": "code",
   "execution_count": null,
   "id": "a1134b67-7b1d-4a29-a65e-3c966bd8db1a",
   "metadata": {},
   "outputs": [],
   "source": [
    "X = X.drop(['INDUS', 'AGE'], axis=1)"
   ]
  },
  {
   "cell_type": "markdown",
   "id": "9d74706d-70cf-4f1f-b076-b389a060fe11",
   "metadata": {},
   "source": [
    "#### 1.4 Train test split y estandarización"
   ]
  },
  {
   "cell_type": "code",
   "execution_count": null,
   "id": "56a2a1a9-c44d-4d74-a611-3c2fc0f4fd90",
   "metadata": {},
   "outputs": [],
   "source": [
    "X_train ,X_test, y_train, y_test = train_test_split(X,y, random_state=42, test_size=.2)"
   ]
  },
  {
   "cell_type": "code",
   "execution_count": null,
   "id": "4cb8d8ce-8a95-40a9-b5a8-a117c443f4cb",
   "metadata": {},
   "outputs": [],
   "source": [
    "X_train.shape, X_test.shape, y_train.shape, y_test.shape"
   ]
  },
  {
   "cell_type": "code",
   "execution_count": null,
   "id": "3823c254-58f8-429c-819c-363ee7e55f34",
   "metadata": {},
   "outputs": [],
   "source": [
    "sc = StandardScaler().fit(X_train)"
   ]
  },
  {
   "cell_type": "code",
   "execution_count": null,
   "id": "db0fa213-1090-4232-bc62-bc8769386162",
   "metadata": {},
   "outputs": [],
   "source": [
    "X_train_sc = sc.transform(X_train)\n",
    "X_test_sc = sc.transform(X_test)"
   ]
  },
  {
   "cell_type": "markdown",
   "id": "b155cee3-c230-4af4-a928-25f5524401f9",
   "metadata": {},
   "source": [
    "#### 1.5 Entrenamiento de modelos"
   ]
  },
  {
   "cell_type": "markdown",
   "id": "594f3f9b-5339-4ee5-9ea3-3c52463defed",
   "metadata": {},
   "source": [
    "Primero declaramos los modelos"
   ]
  },
  {
   "cell_type": "code",
   "execution_count": null,
   "id": "e06e867a-696f-4e02-8788-08fdf27f8284",
   "metadata": {},
   "outputs": [],
   "source": [
    "linreg=LinearRegression()\n",
    "lasso=Lasso() # Favorece si nuestras betas son próximas a 0 L1\n",
    "ridge=Ridge() # Favorece cuando hay sospechas de correlación entre caracteristicas L2\n",
    "elastic=ElasticNet() # Mezcla de las anteriores, funciona bien cuando hay muchas características (L1+L2)"
   ]
  },
  {
   "cell_type": "markdown",
   "id": "e3b1e19d-9d73-437e-8420-743bb06881cc",
   "metadata": {},
   "source": [
    "Entrenamos los modelos"
   ]
  },
  {
   "cell_type": "code",
   "execution_count": null,
   "id": "95cca4ef-520d-43d8-acdf-2b98da3aa776",
   "metadata": {},
   "outputs": [],
   "source": [
    "linreg.fit(X_train_sc, y_train)\n",
    "lasso.fit(X_train_sc, y_train)\n",
    "ridge.fit(X_train_sc, y_train)\n",
    "elastic.fit(X_train_sc, y_train)"
   ]
  },
  {
   "cell_type": "markdown",
   "id": "e2e0ff1d-285c-4e8d-82cd-625cdfbeeb71",
   "metadata": {},
   "source": [
    "#### 1.6 Evaluación de modelos"
   ]
  },
  {
   "cell_type": "markdown",
   "id": "03bfc150-369a-4a27-9199-f531d79a3261",
   "metadata": {},
   "source": [
    "##### **MSE**"
   ]
  },
  {
   "cell_type": "markdown",
   "id": "0f194558-f657-4857-bb7a-ea8fa2fa4807",
   "metadata": {},
   "source": [
    "$$MSE = \\frac{1}{n}\\sum_{i=1}^{n}(y_i-\\hat{y}_i)^{2}$$\n",
    "\n",
    "\n",
    "pertenece al intervalo [0, +$\\infty$)"
   ]
  },
  {
   "cell_type": "code",
   "execution_count": null,
   "id": "2db8f4d4-efc6-42ed-9327-8c3fd5e3fdaa",
   "metadata": {},
   "outputs": [],
   "source": [
    "y.describe()"
   ]
  },
  {
   "cell_type": "code",
   "execution_count": null,
   "id": "51c02a5d-d0ab-4869-aaa9-598ab6b7a0d8",
   "metadata": {},
   "outputs": [],
   "source": [
    "from sklearn.metrics import mean_squared_error as mse\n",
    "\n",
    "print(f' MSE linreg en train: {mse(y_train, linreg.predict(X_train_sc))}\\n')\n",
    "print(f' MSE linreg en test: {mse(y_test, linreg.predict(X_test_sc))}\\n')\n",
    "print(f' MSE lasso en train: {mse(y_train, lasso.predict(X_train_sc))}\\n')\n",
    "print(f' MSE lasso en test: {mse(y_test, lasso.predict(X_test_sc))}\\n')\n",
    "print(f' MSE ridge en train: {mse(y_train, ridge.predict(X_train_sc))}\\n')\n",
    "print(f' MSE ridge en test: {mse(y_test, ridge.predict(X_test_sc))}\\n')\n",
    "print(f' MSE ElasticNet en train: {mse(y_train, elastic.predict(X_train_sc))}\\n')\n",
    "print(f' MSE ElasticNet en test: {mse(y_test, elastic.predict(X_test_sc))}\\n')"
   ]
  },
  {
   "cell_type": "markdown",
   "id": "ba54d302-0225-4379-ae26-423b5cf64357",
   "metadata": {},
   "source": [
    "##### **RMSE**"
   ]
  },
  {
   "cell_type": "markdown",
   "id": "9818a63b-1b16-4e87-9b02-496cee114183",
   "metadata": {},
   "source": [
    "\n",
    "\n",
    "$$RMSE = \\sqrt{\\frac{1}{n}\\sum_{i=1}^{n}(y_i-\\hat{y}_i)^{2}}$$\n",
    "\n",
    "\n",
    "pertenece al intervalo [0, +$\\infty$)"
   ]
  },
  {
   "cell_type": "code",
   "execution_count": null,
   "id": "2ad8f95d-860a-4142-9634-ba511cda6790",
   "metadata": {},
   "outputs": [],
   "source": [
    "print(f' RMSE linreg en train: {mse(y_train, linreg.predict(X_train_sc), squared=False)}\\n')\n",
    "print(f' RMSE linreg en test: {mse(y_test, linreg.predict(X_test_sc), squared=False)}\\n')\n",
    "print(f' RMSE lasso en train: {mse(y_train, lasso.predict(X_train_sc), squared=False)}\\n')\n",
    "print(f' RMSE lasso en test: {mse(y_test, lasso.predict(X_test_sc), squared=False)}\\n')\n",
    "print(f' RMSE ridge en train: {mse(y_train, ridge.predict(X_train_sc), squared=False)}\\n')\n",
    "print(f' RMSE ridge en test: {mse(y_test, ridge.predict(X_test_sc), squared=False)}\\n')\n",
    "print(f' RMSE ElasticNet en train: {mse(y_train, elastic.predict(X_train_sc), squared=False)}\\n')\n",
    "print(f' RMSE ElasticNet en test: {mse(y_test, elastic.predict(X_test_sc), squared=False)}\\n')"
   ]
  },
  {
   "cell_type": "markdown",
   "id": "57e7aa2a-b03e-4711-8951-e755a7516399",
   "metadata": {},
   "source": [
    "##### **MAE**"
   ]
  },
  {
   "cell_type": "markdown",
   "id": "68e2df77-45ae-43fe-9fee-a47475e626d9",
   "metadata": {},
   "source": [
    "$$MAE = \\frac{1}{n}\\sum_{i=1}^{n}|y_i-\\hat{y}_i|$$\n",
    "\n",
    "\n",
    "pertenece al intervalo [0, +$\\infty$)"
   ]
  },
  {
   "cell_type": "code",
   "execution_count": null,
   "id": "c6757376-eb9f-457f-90aa-ca3bb093a6cb",
   "metadata": {},
   "outputs": [],
   "source": [
    "from sklearn.metrics import mean_absolute_error as mae\n",
    "\n",
    "print(f' MAE linreg en train: {mae(y_train, linreg.predict(X_train_sc))}\\n')\n",
    "print(f' MAE linreg en test: {mae(y_test, linreg.predict(X_test_sc))}\\n')\n",
    "print(f' MAE lasso en train: {mae(y_train, lasso.predict(X_train_sc))}\\n')\n",
    "print(f' MAE lasso en test: {mae(y_test, lasso.predict(X_test_sc))}\\n')\n",
    "print(f' MAE ridge en train: {mae(y_train, ridge.predict(X_train_sc))}\\n')\n",
    "print(f' MAE ridge en test: {mae(y_test, ridge.predict(X_test_sc))}\\n')\n",
    "print(f' MAE ElasticNet en train: {mae(y_train, elastic.predict(X_train_sc))}\\n')\n",
    "print(f' MAE ElasticNet en test: {mae(y_test, elastic.predict(X_test_sc))}\\n')"
   ]
  },
  {
   "cell_type": "markdown",
   "id": "3ad16195-3f6d-438e-a401-8984cdd5fcf4",
   "metadata": {},
   "source": [
    "##### **R2 score**"
   ]
  },
  {
   "cell_type": "markdown",
   "id": "a49b9eb7-acf7-49c7-a3bf-951602eb7e9c",
   "metadata": {},
   "source": [
    "$$R2 = 1 - \\frac{\\sum_{i=1}^{n}(y_i-\\hat{y}_i)^{2}}{\\sum_{i=1}^{n}(y_i-\\bar{y})^{2}}$$\n",
    "\n",
    "pertenecen al intervalo (-$\\infty$, 1]"
   ]
  },
  {
   "cell_type": "code",
   "execution_count": null,
   "id": "47ee3ead-1c96-4e33-a8e3-985bb0294e7b",
   "metadata": {},
   "outputs": [],
   "source": [
    "print(f' R2 linreg en train: {linreg.score(X_train_sc, y_train)}\\n')\n",
    "print(f' R2 linreg en test: {linreg.score(X_test_sc, y_test)}\\n')\n",
    "print(f' R2 lasso en train: {lasso.score(X_train_sc, y_train)}\\n')\n",
    "print(f' R2 lasso en test: {lasso.score(X_test_sc, y_test)}\\n')\n",
    "print(f' R2 ridge en train: {ridge.score(X_train_sc, y_train)}\\n')\n",
    "print(f' R2 ridge en test: {ridge.score(X_test_sc, y_test)}\\n')\n",
    "print(f' R2 ElasticNet en train: {elastic.score(X_train_sc, y_train)}\\n')\n",
    "print(f' R2 ElasticNet en test: {elastic.score(X_test_sc, y_test)}\\n')"
   ]
  },
  {
   "cell_type": "markdown",
   "id": "3e3c2772-d8b0-47b8-bf88-3c6984525293",
   "metadata": {},
   "source": [
    "### 2. Otros Modelos"
   ]
  },
  {
   "cell_type": "markdown",
   "id": "01492537-4e0b-480d-bc1b-e8a8c5d7f9e1",
   "metadata": {},
   "source": [
    "#### 2.1 Decission Tree Regressor"
   ]
  },
  {
   "cell_type": "code",
   "execution_count": null,
   "id": "999b2869-acd9-4128-9698-f48fccfd6876",
   "metadata": {},
   "outputs": [],
   "source": [
    "from sklearn.tree import DecisionTreeRegressor, plot_tree\n",
    "dt = DecisionTreeRegressor(criterion='squared_error')"
   ]
  },
  {
   "cell_type": "code",
   "execution_count": null,
   "id": "8abf326f-b2b7-44c5-928f-97fbc2130b5b",
   "metadata": {},
   "outputs": [],
   "source": [
    "dt.fit(X_train, y_train)"
   ]
  },
  {
   "cell_type": "code",
   "execution_count": null,
   "id": "50cf771f-98cd-464d-9675-e8744493f9b3",
   "metadata": {},
   "outputs": [],
   "source": [
    "plt.figure(figsize=(50, 100))\n",
    "plot_tree(dt, fontsize=10);"
   ]
  },
  {
   "cell_type": "code",
   "execution_count": null,
   "id": "13755e65-6019-4abf-a472-e5793d8b2ff4",
   "metadata": {},
   "outputs": [],
   "source": [
    "dt.score(X_train, y_train), dt.score(X_test, y_test)"
   ]
  },
  {
   "cell_type": "code",
   "execution_count": null,
   "id": "1a71aded-379d-4035-9dbd-44710c6ffb4d",
   "metadata": {},
   "outputs": [],
   "source": [
    "mse(y_train, dt.predict(X_train)), mse(y_test, dt.predict(X_test)) "
   ]
  },
  {
   "cell_type": "code",
   "execution_count": null,
   "id": "7f257f81-3d09-4c1e-bb41-49cbdff05c39",
   "metadata": {},
   "outputs": [],
   "source": [
    "mse(y_train, dt.predict(X_train), squared=False), mse(y_test, dt.predict(X_test), squared=False) "
   ]
  },
  {
   "cell_type": "markdown",
   "id": "e6ad34f6-4295-4d1d-bd6d-9ac5aeacc104",
   "metadata": {},
   "source": [
    "#### 2.2 Random Forest Regressor"
   ]
  },
  {
   "cell_type": "code",
   "execution_count": null,
   "id": "27b5cab9-1b0b-4a12-bde3-49f9b83c667f",
   "metadata": {},
   "outputs": [],
   "source": [
    "from sklearn.ensemble import RandomForestRegressor"
   ]
  },
  {
   "cell_type": "code",
   "execution_count": null,
   "id": "c56c3eef-e456-474e-acd9-7beb09a7852e",
   "metadata": {},
   "outputs": [],
   "source": [
    "rf = RandomForestRegressor()"
   ]
  },
  {
   "cell_type": "code",
   "execution_count": null,
   "id": "0fa24af3-ad80-42cc-b3de-620d8446871b",
   "metadata": {},
   "outputs": [],
   "source": [
    "rf.fit(X_train, y_train)"
   ]
  },
  {
   "cell_type": "code",
   "execution_count": null,
   "id": "2cec9f54-95ba-4c0c-a621-125a7e4ff950",
   "metadata": {},
   "outputs": [],
   "source": [
    "rf.score(X_train, y_train), rf.score(X_test, y_test)"
   ]
  },
  {
   "cell_type": "code",
   "execution_count": null,
   "id": "3a4b578d-694e-48d4-8691-61fca5f62bb0",
   "metadata": {},
   "outputs": [],
   "source": [
    "mse(y_train, rf.predict(X_train)), mse(y_test, rf.predict(X_test)) "
   ]
  },
  {
   "cell_type": "code",
   "execution_count": null,
   "id": "c922c246-6a4d-488a-8510-f3d07cb31541",
   "metadata": {},
   "outputs": [],
   "source": [
    "mse(y_train, rf.predict(X_train), squared=False), mse(y_test, rf.predict(X_test), squared=False) "
   ]
  },
  {
   "cell_type": "markdown",
   "id": "fc2bf484-20a9-4d45-9510-0423758cca82",
   "metadata": {},
   "source": [
    "#### 2.3 SVR"
   ]
  },
  {
   "cell_type": "code",
   "execution_count": null,
   "id": "71a43c01-b223-4032-89bd-ce917cccb624",
   "metadata": {},
   "outputs": [],
   "source": [
    "from sklearn.svm import SVR"
   ]
  },
  {
   "cell_type": "code",
   "execution_count": null,
   "id": "cc47f967-8c27-47ee-86b9-2738583a6199",
   "metadata": {},
   "outputs": [],
   "source": [
    "svr = SVR()"
   ]
  },
  {
   "cell_type": "code",
   "execution_count": null,
   "id": "8ea9e26f-aa3d-407a-8a56-2276ee63cfec",
   "metadata": {},
   "outputs": [],
   "source": [
    "svr.fit(X_train, y_train)"
   ]
  },
  {
   "cell_type": "code",
   "execution_count": null,
   "id": "ab6193e8-ceef-4deb-a3f0-9e22c481600f",
   "metadata": {},
   "outputs": [],
   "source": [
    "svr.score(X_train, y_train), svr.score(X_test, y_test)"
   ]
  },
  {
   "cell_type": "code",
   "execution_count": null,
   "id": "f191a980-9945-4300-931e-3da36a7071ba",
   "metadata": {},
   "outputs": [],
   "source": [
    "mse(y_train, svr.predict(X_train)), mse(y_test, svr.predict(X_test)) "
   ]
  },
  {
   "cell_type": "code",
   "execution_count": null,
   "id": "42e5911b-34df-45a3-bfaa-f2ddbf99a959",
   "metadata": {},
   "outputs": [],
   "source": [
    "mse(y_train, svr.predict(X_train), squared=False), mse(y_test, svr.predict(X_test), squared=False) "
   ]
  },
  {
   "cell_type": "code",
   "execution_count": null,
   "id": "5c862180-61e5-4c83-be77-3fb291e9cc6a",
   "metadata": {},
   "outputs": [],
   "source": []
  }
 ],
 "metadata": {
  "kernelspec": {
   "display_name": "Python 3 (ipykernel)",
   "language": "python",
   "name": "python3"
  },
  "language_info": {
   "codemirror_mode": {
    "name": "ipython",
    "version": 3
   },
   "file_extension": ".py",
   "mimetype": "text/x-python",
   "name": "python",
   "nbconvert_exporter": "python",
   "pygments_lexer": "ipython3",
   "version": "3.9.7"
  }
 },
 "nbformat": 4,
 "nbformat_minor": 5
}
