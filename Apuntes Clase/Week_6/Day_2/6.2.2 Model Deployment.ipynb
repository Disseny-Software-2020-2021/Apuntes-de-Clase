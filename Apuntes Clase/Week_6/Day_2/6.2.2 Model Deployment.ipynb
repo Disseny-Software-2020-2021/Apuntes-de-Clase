{
 "cells": [
  {
   "cell_type": "markdown",
   "id": "c7ee5df6-a6c0-48a7-b596-aa15901c15bc",
   "metadata": {},
   "source": [
    "# 6.2.2 Despliegue de modelos"
   ]
  },
  {
   "cell_type": "markdown",
   "id": "4b10e931-852c-4894-8d71-395d37609f79",
   "metadata": {},
   "source": [
    "Cuando hablamos de despliegue de modelos o puesta en producción nos estamos refieriendo no solo a la creación y validación de un modelo, sino de mantenerlo activo en un servidor y reentrenarlo cuando tengamos datos nuevos para que el cliente tenga la información lo más actualizada posible y pueda aplicarlo de la forma más segura posible, por lo tanto estamos aplicando una nueva etapa a nuestro trabajo como Científicos o Analistas de Datos. "
   ]
  },
  {
   "cell_type": "markdown",
   "id": "bb907639-84e8-47a2-a626-6b0cd686eba7",
   "metadata": {},
   "source": [
    "![MLOPS](https://cdn.analyticsvidhya.com/wp-content/uploads/2020/11/results___11_0.png)"
   ]
  },
  {
   "cell_type": "markdown",
   "id": "a63297c4-6f9a-4190-a64a-6ff929979458",
   "metadata": {},
   "source": [
    "Como siempre lo primero que debemos hacer es importar las libreías necesarias para poder realizar nuestro trabajo"
   ]
  },
  {
   "cell_type": "code",
   "execution_count": null,
   "id": "58894d21-a2de-46fe-9704-832661d329b1",
   "metadata": {},
   "outputs": [],
   "source": [
    "import pandas as pd\n",
    "import numpy as np\n",
    "import seaborn as sns\n",
    "import matplotlib.pyplot as plt\n",
    "import pickle\n",
    "\n",
    "from tqdm import tqdm\n",
    "\n",
    "from sklearn.preprocessing import MinMaxScaler\n",
    "from imblearn.over_sampling import SMOTE\n",
    "from sklearn.model_selection import train_test_split\n",
    "from sklearn.datasets import load_breast_cancer as cancer\n",
    "\n",
    "from sklearn.ensemble import RandomForestClassifier\n",
    "from sklearn.linear_model import LogisticRegression\n",
    "\n",
    "from sklearn.metrics import f1_score, confusion_matrix, accuracy_score, precision_score, recall_score\n",
    "\n"
   ]
  },
  {
   "cell_type": "markdown",
   "id": "3a1b66e6-915b-459d-9520-19956e886815",
   "metadata": {},
   "source": [
    "## Carga de Datos y selección de características"
   ]
  },
  {
   "cell_type": "markdown",
   "id": "db5b9e9f-4d66-4c65-9d79-94aa9a472972",
   "metadata": {},
   "source": [
    "En este caso tenemos datos sobre la detección de Cancer de Mama"
   ]
  },
  {
   "cell_type": "code",
   "execution_count": null,
   "id": "06ac140e-0283-426e-b763-ae5d793e0c63",
   "metadata": {},
   "outputs": [],
   "source": [
    "data = cancer()"
   ]
  },
  {
   "cell_type": "code",
   "execution_count": null,
   "id": "443aaf5d-908e-48f9-a32b-67b8bfaf6224",
   "metadata": {},
   "outputs": [],
   "source": [
    "print(data.DESCR)"
   ]
  },
  {
   "cell_type": "code",
   "execution_count": null,
   "id": "4acf56b2-d9c2-43e4-9370-266d639f8d7e",
   "metadata": {},
   "outputs": [],
   "source": [
    "df = pd.DataFrame(data.data, columns=data.feature_names)"
   ]
  },
  {
   "cell_type": "code",
   "execution_count": null,
   "id": "43bc1595-913f-4c0c-9e90-17489544d515",
   "metadata": {},
   "outputs": [],
   "source": [
    "y = pd.DataFrame(data.target, columns=['Target'])"
   ]
  },
  {
   "cell_type": "code",
   "execution_count": null,
   "id": "1b292178-cf19-4816-99bf-78a86ca336de",
   "metadata": {},
   "outputs": [],
   "source": [
    "df.shape, y.shape"
   ]
  },
  {
   "cell_type": "code",
   "execution_count": null,
   "id": "f682d9d8-ebd2-4410-a729-b58c5ffc71a5",
   "metadata": {},
   "outputs": [],
   "source": [
    "df.describe().T"
   ]
  },
  {
   "cell_type": "code",
   "execution_count": null,
   "id": "58fb8e29-2d9b-4548-8a73-a2a8bc5ddd9b",
   "metadata": {},
   "outputs": [],
   "source": [
    "plt.figure(figsize=(12,8))\n",
    "sns.scatterplot(data = df, x='mean radius', y='mean symmetry', hue=y.Target);\n",
    "plt.title(f' 0={data.target_names[0]}, 1={data.target_names[1]}');"
   ]
  },
  {
   "cell_type": "code",
   "execution_count": null,
   "id": "c0100117-9851-4b49-8317-9edc1c81688d",
   "metadata": {},
   "outputs": [],
   "source": [
    "plt.figure(figsize=(12,8))\n",
    "sns.countplot(data = y, x='Target')\n",
    "plt.title(f' 0={data.target_names[0]}, 1={data.target_names[1]}');"
   ]
  },
  {
   "cell_type": "markdown",
   "id": "63aba4fc-ec5d-4639-bb55-fa58b6704efe",
   "metadata": {},
   "source": [
    "Como podemos observar únicamente con dos variables podríamos hacer un clasificador con un un acierto previsiblemente alto, la elección de estas caracteristicas no ha sido aleatoria, se debe al estudio y al conocimiento del problema, es conocido que cuanto mayor sea el radio de un tumor y cuanto más asimétrico sea, mayor es la probabilidad de que este sea de caracter maligno.\n",
    "Pero con la intención de mejorar la precisión del modelo vamos ha seleccionar algunas variables más como son la textura y su compacticidad, ya que son indicadores de si el tumor puede estar encapsulado o no, otro indicador que nos ayudará a identificar la posibilidad de que sea maligno o no."
   ]
  },
  {
   "cell_type": "markdown",
   "id": "5c70bc27-73be-4918-94cb-f700b3cb4d57",
   "metadata": {},
   "source": [
    "## Train test split"
   ]
  },
  {
   "cell_type": "code",
   "execution_count": null,
   "id": "932d5bab-61c3-4151-8ca7-bc3dbd17ead4",
   "metadata": {},
   "outputs": [],
   "source": [
    "X = df[['mean radius','mean symmetry', 'mean compactness','mean texture']]\n",
    "y = y.Target"
   ]
  },
  {
   "cell_type": "code",
   "execution_count": null,
   "id": "57436a70-d90c-4d96-9e14-541aec936505",
   "metadata": {},
   "outputs": [],
   "source": [
    "X_train, X_test, y_train, y_test = train_test_split(X,y, random_state=42, test_size=.2, stratify=y)"
   ]
  },
  {
   "cell_type": "markdown",
   "id": "3f94e209-5095-46fa-92bf-93b56e162516",
   "metadata": {},
   "source": [
    "## Balanceo de clases"
   ]
  },
  {
   "cell_type": "code",
   "execution_count": null,
   "id": "077d5566-d937-428b-a300-1b66ae6aab26",
   "metadata": {},
   "outputs": [],
   "source": [
    "smote = SMOTE()"
   ]
  },
  {
   "cell_type": "code",
   "execution_count": null,
   "id": "5021a354-580d-411c-9f0e-e0939d5f837c",
   "metadata": {},
   "outputs": [],
   "source": [
    "X_train, y_train = smote.fit_resample(X_train, y_train)"
   ]
  },
  {
   "cell_type": "markdown",
   "id": "8d1e727c-f290-4ba3-b181-f3903ee091c1",
   "metadata": {},
   "source": [
    "## Escalado de los datos (normalización)"
   ]
  },
  {
   "cell_type": "code",
   "execution_count": null,
   "id": "d734aacd-ed99-4ed3-b6e7-612d3e0774cb",
   "metadata": {},
   "outputs": [],
   "source": [
    "mm = MinMaxScaler().fit(X_train)"
   ]
  },
  {
   "cell_type": "markdown",
   "id": "fe971b16-336b-42c3-8ec3-b03d1fc6e039",
   "metadata": {},
   "source": [
    "Debemos recordar aplicar el entreno de nuestro escaler y de SMOTE solo sobre el set de entrenamiento, para mantener a nuestro modelo lejos del set de validación y esté libre de posibles sesgos."
   ]
  },
  {
   "cell_type": "code",
   "execution_count": null,
   "id": "33d99c44-a1e4-4172-a392-78a9ea5579ab",
   "metadata": {},
   "outputs": [],
   "source": [
    "X_train = mm.transform(X_train)\n",
    "X_test = mm. transform(X_test)"
   ]
  },
  {
   "cell_type": "markdown",
   "id": "01e91364-a386-43c9-8c33-dc02f48c5117",
   "metadata": {},
   "source": [
    "## Entrenamiento de modelos"
   ]
  },
  {
   "cell_type": "code",
   "execution_count": null,
   "id": "9fa8d4df-8a22-4bb6-aaee-50697eccdde9",
   "metadata": {},
   "outputs": [],
   "source": [
    "lr = LogisticRegression(max_iter=2000)\n",
    "rf = RandomForestClassifier()\n",
    "\n",
    "models = [lr, rf]"
   ]
  },
  {
   "cell_type": "code",
   "execution_count": null,
   "id": "b432a4dc-8a1d-42a4-8e33-a6af37a15a6d",
   "metadata": {},
   "outputs": [],
   "source": [
    "res = {}\n",
    "for model in models:\n",
    "    name = str(model).split('(')[0]\n",
    "    \n",
    "    model.fit(X_train, y_train)\n",
    "    \n",
    "    preds = model.predict(X_train)\n",
    "    preds_test = model.predict(X_test)\n",
    "    \n",
    "    acc = accuracy_score(y_train, preds)\n",
    "    rec = recall_score(y_train, preds)\n",
    "    prec = precision_score(y_train, preds)\n",
    "    f1 = f1_score(y_train, preds)\n",
    "    \n",
    "    acc_t = accuracy_score(y_test, preds_test)\n",
    "    rec_t = recall_score(y_test, preds_test)\n",
    "    prec_t = precision_score(y_test, preds_test)\n",
    "    f1_t = f1_score(y_test, preds_test)\n",
    "    \n",
    "    res[name]={'Accuracy Train': acc,\n",
    "               'Recall Tain': rec,\n",
    "               'Precision Train': prec,\n",
    "               'f1 Train': f1,\n",
    "               'Accuracy Test': acc_t,\n",
    "               'Recall Test': rec_t,\n",
    "               'Precision Test': prec_t,\n",
    "               'f1 test': f1_t}\n",
    "    \n",
    "    print(res[name])\n",
    "    \n",
    "    plt.figure(figsize=(12,8))\n",
    "    sns.heatmap(confusion_matrix(y_test, preds_test), annot=True)\n",
    "    plt.title(f'Confusion Matrix {name} Test')"
   ]
  },
  {
   "cell_type": "code",
   "execution_count": null,
   "id": "d925da75-2bfa-47d8-9d26-c9cad11a066f",
   "metadata": {},
   "outputs": [],
   "source": [
    "pd.DataFrame(res)"
   ]
  },
  {
   "cell_type": "markdown",
   "id": "c9fd2741-e425-4683-a233-a65363c3dc29",
   "metadata": {},
   "source": [
    "Una vez tenemos nuestro ajustado podemos importarlo para poder exportarlo a nuestro entorno de producción, para ello usaremos la librería pickle que no permite exportar objetos de python y poder importarlos en diferentes entornos de producción."
   ]
  },
  {
   "cell_type": "code",
   "execution_count": null,
   "id": "7c5abb92-2022-4851-9d19-83d7380133d3",
   "metadata": {},
   "outputs": [],
   "source": [
    "pickle.dump(lr, open('src/logisticregression.pkl', 'wb'))\n",
    "pickle.dump(mm, open('src/scaler.pkl', 'wb'))"
   ]
  },
  {
   "cell_type": "code",
   "execution_count": null,
   "id": "0d11b9b1-aad9-4d69-b7ac-a064e58337d3",
   "metadata": {},
   "outputs": [],
   "source": []
  }
 ],
 "metadata": {
  "kernelspec": {
   "display_name": "Python 3 (ipykernel)",
   "language": "python",
   "name": "python3"
  },
  "language_info": {
   "codemirror_mode": {
    "name": "ipython",
    "version": 3
   },
   "file_extension": ".py",
   "mimetype": "text/x-python",
   "name": "python",
   "nbconvert_exporter": "python",
   "pygments_lexer": "ipython3",
   "version": "3.9.7"
  }
 },
 "nbformat": 4,
 "nbformat_minor": 5
}
