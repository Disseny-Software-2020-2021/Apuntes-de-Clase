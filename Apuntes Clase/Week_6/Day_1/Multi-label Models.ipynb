{
 "cells": [
  {
   "cell_type": "markdown",
   "id": "684c84df-b5c1-4987-aed0-0af4ac3a09c4",
   "metadata": {},
   "source": [
    "# Clasificación multi-etiqueta\n",
    "\n",
    "![mlr](../../images/mlr.png)\n",
    "\n",
    "\n",
    "![telecom](../../images/telecom.jpeg)"
   ]
  },
  {
   "cell_type": "code",
   "execution_count": null,
   "id": "b83d6e69-3b66-4252-89a3-3763597754b1",
   "metadata": {},
   "outputs": [],
   "source": [
    "import pandas as pd                                # panel data, for handling dataframes\n",
    "pd.set_option('display.max_columns', None)         # show all columns of the dataframe\n",
    "\n",
    "import numpy as np                                 # numerical python, linear algebra library\n",
    "\n",
    "import pylab as plt                                # plotting library\n",
    "import seaborn as sns                              # plotting library\n",
    "sns.set(style='white')                             # seaborn style\n",
    "\n",
    "\n",
    "from sklearn.linear_model import LogisticRegression, SGDClassifier # logistic regression model & Gradient Descent                  \n",
    "from sklearn.preprocessing import MinMaxScaler               # standarized\n",
    "from sklearn.preprocessing import LabelEncoder\n",
    "from sklearn.ensemble import RandomForestClassifier\n",
    "from xgboost import XGBClassifier\n",
    "\n",
    "from sklearn.metrics import f1_score, confusion_matrix\n",
    "\n",
    "from sklearn.model_selection import train_test_split as tts    # split data into train and test sets"
   ]
  },
  {
   "cell_type": "markdown",
   "id": "ec89940a-d8df-477e-afad-1703fb881ec3",
   "metadata": {},
   "source": [
    "## Cargar Datos"
   ]
  },
  {
   "cell_type": "code",
   "execution_count": null,
   "id": "c93946de-e418-46cc-a686-17527b541d38",
   "metadata": {},
   "outputs": [],
   "source": [
    "df=pd.read_csv('../../../data/churn.csv')\n",
    "\n",
    "df.head()"
   ]
  },
  {
   "cell_type": "code",
   "execution_count": null,
   "id": "dc42efb6-a5d4-44ae-871e-a713a073d167",
   "metadata": {},
   "outputs": [],
   "source": [
    "df.Contract.value_counts()"
   ]
  },
  {
   "cell_type": "code",
   "execution_count": null,
   "id": "41e2fe74-c05c-4bd6-bb84-60074c571a45",
   "metadata": {},
   "outputs": [],
   "source": [
    "(df.Contract.value_counts()/len(df)).plot.bar(color=['b', 'r', 'g'],    \n",
    "                                           figsize=(10, 6),\n",
    "                                           title='Contract type',\n",
    "                                           rot=0,\n",
    "                                           fontsize=12);"
   ]
  },
  {
   "cell_type": "markdown",
   "id": "afefe32b-7df4-4140-ab83-ca09c436f151",
   "metadata": {},
   "source": [
    "## Transformacion"
   ]
  },
  {
   "cell_type": "code",
   "execution_count": null,
   "id": "8d9e5ebb-42a0-42b3-96d9-7a6e61d808cb",
   "metadata": {},
   "outputs": [],
   "source": [
    "data_num=pd.DataFrame(MinMaxScaler().fit_transform(df._get_numeric_data()),  # standardize numeric columns\n",
    "                      columns=df._get_numeric_data().columns)\n",
    "\n",
    "data_obj=df.select_dtypes(include='object').drop('customerID',axis=1)  # get categoric columns\n",
    "\n",
    "\n",
    "data=pd.concat([data_num, data_obj], axis=1)   # concatenate both dataframes"
   ]
  },
  {
   "cell_type": "code",
   "execution_count": null,
   "id": "7b79e95e-29f6-4e88-8c2e-ba8363497238",
   "metadata": {},
   "outputs": [],
   "source": [
    "# En esta ocasión utilizaremos One Hot Encoder o dummies\n",
    "\n",
    "dum = pd.get_dummies(data_obj.drop(['Contract'], axis=1))"
   ]
  },
  {
   "cell_type": "code",
   "execution_count": null,
   "id": "0e1757ce-93ee-4944-9ed1-a39f0bbefbb2",
   "metadata": {},
   "outputs": [],
   "source": [
    "data=pd.concat([data_num, dum, data_obj.Contract], axis=1) "
   ]
  },
  {
   "cell_type": "code",
   "execution_count": null,
   "id": "28161fb8-fd61-4da3-9270-28449c943a31",
   "metadata": {},
   "outputs": [],
   "source": [
    "data.head()"
   ]
  },
  {
   "cell_type": "code",
   "execution_count": null,
   "id": "8d0ccba1-c03c-47b1-a95f-f5678504f29e",
   "metadata": {},
   "outputs": [],
   "source": [
    "#Tendremos que codificar también nuestra variable dependiente\n",
    "le = LabelEncoder()\n",
    "\n",
    "data.Contract = le.fit_transform(data.Contract)\n",
    "\n",
    "data.head()"
   ]
  },
  {
   "cell_type": "code",
   "execution_count": null,
   "id": "f2ebed71-b217-4496-b954-bb1cf6c352cb",
   "metadata": {},
   "outputs": [],
   "source": [
    "(data.Contract.value_counts()/len(data)).plot.bar(color=['b', 'r', 'g'],    \n",
    "                                           figsize=(10, 6),\n",
    "                                           title='Contract type',\n",
    "                                           rot=0,\n",
    "                                           fontsize=12);"
   ]
  },
  {
   "cell_type": "markdown",
   "id": "b5f0729c-42d9-4a88-8949-d68aa18a3bf6",
   "metadata": {},
   "source": [
    "## Modelado"
   ]
  },
  {
   "cell_type": "code",
   "execution_count": null,
   "id": "bb16d932-2ce4-4b97-9fd9-5b0eaa6d5608",
   "metadata": {},
   "outputs": [],
   "source": [
    "X=data.drop(['Contract', 'ChurnBinary'], axis=1)   \n",
    "# all data except target and ChurnBinary because it`s the same than Churn\n",
    "\n",
    "y=data.Contract               \n",
    "# target data"
   ]
  },
  {
   "cell_type": "code",
   "execution_count": null,
   "id": "316775de-e6c2-4170-9b80-4e006418014d",
   "metadata": {},
   "outputs": [],
   "source": [
    "X_train, X_test, y_train, y_test=tts(X, y, random_state=42, stratify=y)"
   ]
  },
  {
   "cell_type": "code",
   "execution_count": null,
   "id": "620c309a-187e-4c15-9833-2647f9dbab30",
   "metadata": {},
   "outputs": [],
   "source": [
    "lr=LogisticRegression(max_iter=2000)\n",
    "rf = RandomForestClassifier()\n",
    "gd = SGDClassifier()\n",
    "xgb = XGBClassifier()\n",
    "\n",
    "lr.fit(X_train, y_train)\n",
    "rf.fit(X_train, y_train)\n",
    "gd.fit(X_train, y_train)\n",
    "xgb.fit(X_train, y_train)\n",
    "\n",
    "models = [lr, rf, gd, xgb]"
   ]
  },
  {
   "cell_type": "code",
   "execution_count": null,
   "id": "2cdaeb4a-35aa-4f7f-8b5d-e9e2b517d2b0",
   "metadata": {},
   "outputs": [],
   "source": [
    "res = {}\n",
    "for model in models:\n",
    "    name = str(model).split('(')[0]\n",
    "    print(f'Entrenando {name} .....\\n')\n",
    "    model.fit(X_train, y_train)\n",
    "    print(f'{name} Entrenado \\n')\n",
    "    print(f'Realizando predicciones .... \\n')\n",
    "    pred = model.predict(X_train)\n",
    "    pred_test = model.predict(X_test)\n",
    "    print(f'Evaluando {name} .....\\n')\n",
    "    f1 = f1_score(y_train, pred, average='macro')\n",
    "    f1_test = f1_score(y_test, pred_test,average='macro')\n",
    "    cm = confusion_matrix(y_train, pred)\n",
    "    cm_test = confusion_matrix(y_test, pred_test)\n",
    "    \n",
    "    res[name]={'f1_train': f1,\n",
    "               'f1_test': f1_test}\n",
    "    \n",
    "    print(f'Resultados {name} \\n')\n",
    "    \n",
    "    print(res[name])\n",
    "    \n",
    "    plt.figure(figsize=(12,8))\n",
    "    sns.heatmap(cm, annot=True)\n",
    "    plt.title(f'{name} Confusion Matrix Train')\n",
    "    plt.show();\n",
    "    plt.figure(figsize=(12,8))\n",
    "    sns.heatmap(cm_test, annot=True)\n",
    "    plt.title(f'{name} Confusion Matrix Trest')\n",
    "    plt.show();\n",
    "    "
   ]
  },
  {
   "cell_type": "code",
   "execution_count": null,
   "id": "7e2c2f2a-30be-4807-9d04-d107644385f7",
   "metadata": {},
   "outputs": [],
   "source": [
    "pd.DataFrame(res)"
   ]
  },
  {
   "cell_type": "code",
   "execution_count": null,
   "id": "e1f625ef-9ef9-4a5b-8d20-94a3db286e4a",
   "metadata": {},
   "outputs": [],
   "source": []
  }
 ],
 "metadata": {
  "kernelspec": {
   "display_name": "Python 3 (ipykernel)",
   "language": "python",
   "name": "python3"
  },
  "language_info": {
   "codemirror_mode": {
    "name": "ipython",
    "version": 3
   },
   "file_extension": ".py",
   "mimetype": "text/x-python",
   "name": "python",
   "nbconvert_exporter": "python",
   "pygments_lexer": "ipython3",
   "version": "3.9.7"
  }
 },
 "nbformat": 4,
 "nbformat_minor": 5
}
