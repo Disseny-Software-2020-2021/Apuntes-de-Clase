{
 "cells": [
  {
   "cell_type": "markdown",
   "id": "f7daf5f4",
   "metadata": {},
   "source": [
    "# Programacion orientada a objetos (OPP)\n",
    "\n",
    "![oop](./../../images/oop.png)\n",
    "\n",
    "La programación orientada a objetos tiene otra filosofía diferente que la programación funcional. En realidad python es orientado a objetos, cada vez que se declara una variable como una lista o una string, se esta llamando a esa clase. Para verlo tan solo hace falta escribir ` help`"
   ]
  },
  {
   "cell_type": "markdown",
   "id": "1ad2bb19",
   "metadata": {},
   "source": [
    "Se devuelve una descripción de ambas clases.\n",
    "\n",
    "El mayor cambio en el paradigma es que ahora los datos no son inmutables, como eran en la programación funcional, datos y funciones están encapsulados en un objeto (la clase). Cada llamada a la clase (instancia) es un objeto nuevo.\n",
    "\n",
    "![objetos](./../../images/objetos.png)"
   ]
  },
  {
   "cell_type": "markdown",
   "id": "6f4aeab0",
   "metadata": {},
   "source": [
    "### Nomenclatura\n",
    "- Objeto (Object)\n",
    "    - también instancia (instance)\n",
    "    - es una entidad individual\n",
    "- Atributos (Attributes)\n",
    "    - características dadas al objeto\n",
    "    - usualmente se refiere a los datos\n",
    "- Métodos (Methods)\n",
    "    - son las funciones que pertenecen a cada objeto\n",
    "- Clase (Class)\n",
    "    - también conocido como tipo (type)\n",
    "    - es el molde, el esquema, la forma genérica para crear objetos (instancias) con la mismas características\n",
    "    \n",
    "**En python, a los atributos se accede con la sintaxis objeto.atributo y a los métodos con objeto.metodo().**"
   ]
  },
  {
   "cell_type": "markdown",
   "id": "cb3c708f",
   "metadata": {},
   "source": [
    "## Diferencias entre programación funcional y OOP"
   ]
  },
  {
   "cell_type": "markdown",
   "id": "ab323d8c",
   "metadata": {},
   "source": [
    "### Programación funcional"
   ]
  },
  {
   "cell_type": "markdown",
   "id": "dd7a8c5c",
   "metadata": {},
   "source": [
    "**Primero vamos a ver como programariamos un mando con el método de programación funcional**"
   ]
  },
  {
   "cell_type": "code",
   "execution_count": null,
   "id": "8f480b18",
   "metadata": {},
   "outputs": [],
   "source": [
    "mando = {'color': 'blanco',\n",
    "        'dimensiones': [10, 5, 6],\n",
    "        'inalambrico': True,\n",
    "        'recargable': True,\n",
    "        'botones': ['POWER', 'UP', 'DOWN'],\n",
    "        'baterias': [{'tipo': 'AAA', 'carga': 40},\n",
    "                    {'tipo': 'AAA', 'carga': 60},\n",
    "                    {'tipo': 'AAA', 'carga': 80}]\n",
    "        }"
   ]
  },
  {
   "cell_type": "code",
   "execution_count": null,
   "id": "0c32e78b",
   "metadata": {},
   "outputs": [],
   "source": [
    "type(mando)"
   ]
  },
  {
   "cell_type": "code",
   "execution_count": null,
   "id": "90c0a740",
   "metadata": {},
   "outputs": [],
   "source": [
    "mando['baterias'][2]['carga']"
   ]
  },
  {
   "cell_type": "code",
   "execution_count": null,
   "id": "50e4f466",
   "metadata": {},
   "outputs": [],
   "source": [
    "mando['botones'][2]"
   ]
  },
  {
   "cell_type": "markdown",
   "id": "ea436c9e",
   "metadata": {},
   "source": [
    "**Vamos a añadir funcionalidad a nuestro mando.**"
   ]
  },
  {
   "cell_type": "code",
   "execution_count": null,
   "id": "f288f6b4",
   "metadata": {},
   "outputs": [],
   "source": [
    "def funciona(m):\n",
    "    if len(m['baterias'])!=3 : return False\n",
    "    \n",
    "    for b in m['baterias']:\n",
    "        if b['carga']==0:\n",
    "            return False\n",
    "    return True\n",
    "\n",
    "def recargar(m):\n",
    "    if m['recargable']:\n",
    "        for b in m['baterias']:\n",
    "            b['carga']= 100 #sobreescribimos de la carga\n",
    "    \n",
    "    return m\n",
    "\n",
    "def encender(m):\n",
    "    \n",
    "    if funciona(m):\n",
    "        for btn in m['botones']:\n",
    "            if btn=='POWER':\n",
    "                return True\n",
    "    \n",
    "    return False"
   ]
  },
  {
   "cell_type": "code",
   "execution_count": null,
   "id": "8295df21",
   "metadata": {},
   "outputs": [],
   "source": [
    "type(mando)"
   ]
  },
  {
   "cell_type": "code",
   "execution_count": null,
   "id": "9b297aca",
   "metadata": {},
   "outputs": [],
   "source": [
    "type(funciona)"
   ]
  },
  {
   "cell_type": "code",
   "execution_count": null,
   "id": "9802c201",
   "metadata": {},
   "outputs": [],
   "source": [
    "encender(mando)"
   ]
  },
  {
   "cell_type": "code",
   "execution_count": null,
   "id": "134334db",
   "metadata": {},
   "outputs": [],
   "source": [
    "print(mando)"
   ]
  },
  {
   "cell_type": "code",
   "execution_count": null,
   "id": "cc45464e",
   "metadata": {},
   "outputs": [],
   "source": [
    "recargar(mando)"
   ]
  },
  {
   "cell_type": "code",
   "execution_count": null,
   "id": "92df674a",
   "metadata": {},
   "outputs": [],
   "source": [
    "mando"
   ]
  },
  {
   "cell_type": "markdown",
   "id": "136f2e3b",
   "metadata": {},
   "source": [
    "### Programación orientada a objetos"
   ]
  },
  {
   "cell_type": "markdown",
   "id": "aaa48fdd",
   "metadata": {},
   "source": [
    "**Ahora vamos a ver como haríamos el mismo mando pero con el método de programación orientada a objetos**"
   ]
  },
  {
   "cell_type": "code",
   "execution_count": null,
   "id": "13ebdadb",
   "metadata": {},
   "outputs": [],
   "source": [
    "class Mando: #Primero iniciamos nuestra clase\n",
    "    \n",
    "    def __init__(self, color='blanco', dimensiones=[10, 5 , 2], con_pilas=True): # metodo construstor\n",
    "        \n",
    "        #atributos\n",
    "        self.dimensiones = dimensiones\n",
    "        self.inalambrico = True\n",
    "        self.recargable = True\n",
    "        self.botones = ['P', 'U', 'D']\n",
    "        self.color = color\n",
    "        \n",
    "        if con_pilas == True:\n",
    "            self.baterias=[{'tipo': 'AAA', 'carga': 40},\n",
    "                          {'tipo': 'AAA', 'carga': 60}]\n",
    "        else:\n",
    "            self.baterias = []\n",
    "    \n",
    "    #métodos\n",
    "    def funciona(self):\n",
    "        \n",
    "        if len(self.baterias)!= 2: return False\n",
    "        \n",
    "        for b in self.baterias:\n",
    "            if b['carga'] == 0:\n",
    "                return False\n",
    "        \n",
    "        return True\n",
    "    \n",
    "    def recargar(self):\n",
    "        \n",
    "        if self.recargable:\n",
    "            for b in self.baterias:\n",
    "                b['carga']=100\n",
    "    \n",
    "    \n",
    "    def pon_pila(self, carga=0):\n",
    "        self.baterias.append({'tipo':'AAA', 'carga': carga})"
   ]
  },
  {
   "cell_type": "markdown",
   "id": "1db2f3bf",
   "metadata": {},
   "source": [
    "Para iniciar un objeto generamos una variable nueva y llamamos a nuestra clase pasandole los argumentos mínimos necesarios para poder generarlo."
   ]
  },
  {
   "cell_type": "code",
   "execution_count": null,
   "id": "ba5221b4",
   "metadata": {},
   "outputs": [],
   "source": [
    "help(Mando)"
   ]
  },
  {
   "cell_type": "code",
   "execution_count": null,
   "id": "fccee9ef",
   "metadata": {},
   "outputs": [],
   "source": [
    "m = Mando()\n",
    "\n",
    "m.__dict__"
   ]
  },
  {
   "cell_type": "code",
   "execution_count": null,
   "id": "7164b881",
   "metadata": {},
   "outputs": [],
   "source": [
    "m1 = Mando('negro', [15,7,8])"
   ]
  },
  {
   "cell_type": "code",
   "execution_count": null,
   "id": "07000e3a",
   "metadata": {},
   "outputs": [],
   "source": [
    "m1.__dict__"
   ]
  },
  {
   "cell_type": "markdown",
   "id": "cef075d3",
   "metadata": {},
   "source": [
    "Una vez generado nuestro objeto ya poodemos acceder a sus atributos y usar sus métodos."
   ]
  },
  {
   "cell_type": "code",
   "execution_count": null,
   "id": "9f079aac",
   "metadata": {},
   "outputs": [],
   "source": [
    "m1.botones"
   ]
  },
  {
   "cell_type": "code",
   "execution_count": null,
   "id": "68305c3f",
   "metadata": {},
   "outputs": [],
   "source": [
    "m1.recargable"
   ]
  },
  {
   "cell_type": "code",
   "execution_count": null,
   "id": "59652b3e",
   "metadata": {},
   "outputs": [],
   "source": [
    "m1.funciona()"
   ]
  },
  {
   "cell_type": "markdown",
   "id": "8604ecf2",
   "metadata": {},
   "source": [
    "**Una de las ventajas que tiene el OPP es la herencia**"
   ]
  },
  {
   "cell_type": "markdown",
   "id": "a9a2ab3d",
   "metadata": {},
   "source": [
    "### Herencia"
   ]
  },
  {
   "cell_type": "code",
   "execution_count": null,
   "id": "56fc51d8",
   "metadata": {},
   "outputs": [],
   "source": [
    "import random"
   ]
  },
  {
   "cell_type": "markdown",
   "id": "583a3eb6",
   "metadata": {},
   "source": [
    "**Para comenzar vamos a crear una clase padre o superclase de la generaremos nuestras clases hijas**"
   ]
  },
  {
   "cell_type": "code",
   "execution_count": null,
   "id": "67380c96",
   "metadata": {},
   "outputs": [],
   "source": [
    "class Card:\n",
    "    \n",
    "    def __init__(self, name:str, card_type:str, team:str, nationality:str, position:str, ova:int):\n",
    "        self.name = name\n",
    "        self.card_type = card_type\n",
    "        self.team = team\n",
    "        self.nationality = nationality\n",
    "        self.position = position\n",
    "        self.ova = ova\n",
    "    \n",
    "    def create_card_features(self):\n",
    "        \n",
    "        if self.position == 'GK':\n",
    "            features = {'Goalkepping': random.randint(self.ova-20,self.ova),\n",
    "                        'Penalties': random.randint(self.ova-20,self.ova),\n",
    "                        'Reactions': random.randint(self.ova-20,self.ova),\n",
    "                        'Speed': random.randint(self.ova-30,self.ova),\n",
    "                        'Defending': random.randint(self.ova-30,self.ova),\n",
    "                        'Attacking': random.randint(self.ova-30,self.ova)}\n",
    "        else:\n",
    "            features = {'Attacking' : random.randint(self.ova-30,self.ova),\n",
    "                        'Speed': random.randint(self.ova-30,self.ova),\n",
    "                        'Pace': random.randint(self.ova-30,self.ova),\n",
    "                        'Dribbling': random.randint(self.ova-30,self.ova),\n",
    "                        'Defending': random.randint(self.ova-30,self.ova),\n",
    "                        'Mentality': random.randint(self.ova-30,self.ova)}\n",
    "        \n",
    "        return {'Name': self.name,\n",
    "                'Card_Type': self.card_type,\n",
    "                'Team': self.team,\n",
    "                'Nationality': self.nationality,\n",
    "                'Position': self.position,\n",
    "                'OVA': self.ova,\n",
    "                'Features': features}\n",
    "        "
   ]
  },
  {
   "cell_type": "code",
   "execution_count": null,
   "id": "6d6ad56f",
   "metadata": {},
   "outputs": [],
   "source": [
    "c1 = Card('Messi', 'Gold', 'PSG', 'Argentina', 'ST', 91)"
   ]
  },
  {
   "cell_type": "code",
   "execution_count": null,
   "id": "8febcac3",
   "metadata": {},
   "outputs": [],
   "source": [
    "c1.__dict__"
   ]
  },
  {
   "cell_type": "code",
   "execution_count": null,
   "id": "11f7a7e4",
   "metadata": {},
   "outputs": [],
   "source": [
    "c1.create_card_features()"
   ]
  },
  {
   "cell_type": "code",
   "execution_count": null,
   "id": "6be4d9f0",
   "metadata": {},
   "outputs": [],
   "source": [
    "c1_features = c1.create_card_features()"
   ]
  },
  {
   "cell_type": "code",
   "execution_count": null,
   "id": "bcc66a53",
   "metadata": {},
   "outputs": [],
   "source": [
    "type(c1_features)"
   ]
  },
  {
   "cell_type": "markdown",
   "id": "656ced27",
   "metadata": {},
   "source": [
    "**Ahora vamos a generar una clase hija que herede las caracteristicas de la clase principal y a la que añadiremos nuevas funcionalidades**"
   ]
  },
  {
   "cell_type": "code",
   "execution_count": null,
   "id": "df7c2a9f",
   "metadata": {},
   "outputs": [],
   "source": [
    "class Toty_Card(Card):\n",
    "    \n",
    "    def __init__(self, name:str, card_type:str, team:str, nationality:str, position:str, ova:int):\n",
    "        \n",
    "        super().__init__(name, card_type, team, nationality, position, ova) #necesario para poder instanciar nuestra clase\n",
    "        self.ova = ova+5\n",
    "        \n",
    "    def create_card_features(self):\n",
    "        \n",
    "        if self.position == 'GK':\n",
    "            features = {'Goalkepping': random.randint(self.ova-10,self.ova),\n",
    "                        'Penalties': random.randint(self.ova-10,self.ova),\n",
    "                        'Reactions': random.randint(self.ova-10,self.ova),\n",
    "                        'Speed': random.randint(self.ova-10,self.ova),\n",
    "                        'Defending': random.randint(self.ova-10,self.ova),\n",
    "                        'Attacking': random.randint(self.ova-10,self.ova)}\n",
    "        else:\n",
    "            features = {'Attacking' : random.randint(self.ova-10,self.ova),\n",
    "                        'Speed': random.randint(self.ova-10,self.ova),\n",
    "                        'Pace': random.randint(self.ova-10,self.ova),\n",
    "                        'Dribbling': random.randint(self.ova-10,self.ova),\n",
    "                        'Defending': random.randint(self.ova-10,self.ova),\n",
    "                        'Mentality': random.randint(self.ova-10,self.ova)}\n",
    "        \n",
    "        return {'Name': self.name,\n",
    "                'Card_Type': self.card_type,\n",
    "                'Team': self.team,\n",
    "                'Nationality': self.nationality,\n",
    "                'Position': self.position,\n",
    "                'OVA': self.ova,\n",
    "                'Features': features}"
   ]
  },
  {
   "cell_type": "code",
   "execution_count": null,
   "id": "67f37311",
   "metadata": {},
   "outputs": [],
   "source": [
    "class Legend_Card(Card):\n",
    "    \n",
    "    def __init__(self, name:str, card_type:str, team:str, nationality:str, position:str, ova:int):\n",
    "        \n",
    "        super().__init__(name, card_type, team, nationality, position, ova) # hereda los atributos de la clase padre\n",
    "        \n",
    "        self.ova = ova+random.randint(5,10) # añadimos las nuevas caracteristicas de nuestro objeto\n",
    "        \n",
    "    def create_card_features(self):\n",
    "        \n",
    "        if self.position == 'GK':\n",
    "            features = {'Goalkepping': random.randint(self.ova-5,self.ova+5),\n",
    "                        'Penalties': random.randint(self.ova-5,self.ova+5),\n",
    "                        'Reactions': random.randint(self.ova-5,self.ova+5),\n",
    "                        'Speed': random.randint(self.ova-5,self.ova+5),\n",
    "                        'Defending': random.randint(self.ova-5,self.ova+5),\n",
    "                        'Attacking': random.randint(self.ova-5,self.ova+5)}\n",
    "        else:\n",
    "            features = {'Attacking' : random.randint(self.ova-5,self.ova+5),\n",
    "                        'Speed': random.randint(self.ova-5,self.ova+5),\n",
    "                        'Pace': random.randint(self.ova-5,self.ova+5),\n",
    "                        'Dribbling': random.randint(self.ova-5,self.ova+5),\n",
    "                        'Defending': random.randint(self.ova-5,self.ova+5),\n",
    "                        'Mentality': random.randint(self.ova-5,self.ova+5)}\n",
    "        \n",
    "        return {'Name': self.name,\n",
    "                'Card_Type': self.card_type,\n",
    "                'Team': self.team,\n",
    "                'Nationality': self.nationality,\n",
    "                'Position': self.position,\n",
    "                'OVA': self.ova,\n",
    "                'Features': features}"
   ]
  },
  {
   "cell_type": "code",
   "execution_count": null,
   "id": "fc2ea47c",
   "metadata": {},
   "outputs": [],
   "source": [
    "c2 = Legend_Card(name='Messi', card_type='Legend', team='PSG', nationality='Argentina', position='ST', ova=91 )"
   ]
  },
  {
   "cell_type": "code",
   "execution_count": null,
   "id": "e4168083",
   "metadata": {},
   "outputs": [],
   "source": [
    "c2.create_card_features()"
   ]
  },
  {
   "cell_type": "markdown",
   "id": "4016b76b",
   "metadata": {},
   "source": [
    "**Desde una clase podemos llamar a otras clases y usarlas para generar objetos nuevos**"
   ]
  },
  {
   "cell_type": "code",
   "execution_count": null,
   "id": "68936aff",
   "metadata": {},
   "outputs": [],
   "source": [
    "import time"
   ]
  },
  {
   "cell_type": "code",
   "execution_count": null,
   "id": "c54af71f",
   "metadata": {},
   "outputs": [],
   "source": [
    "class Package:\n",
    "    def __init__(self):\n",
    "        self.cards = []\n",
    "    \n",
    "    def addcard(self, Card):\n",
    "        self.cards.append(Card.create_card_features())\n",
    "    \n",
    "    def open_pack(self):\n",
    "        for i,c in enumerate(self.cards):\n",
    "            print(f'Carta numero {i+1}\\n')\n",
    "            for k,v in c.items():\n",
    "                print(f'{k}: {v}')\n",
    "            print('\\n-----------\\n')\n",
    "            time.sleep(2)\n",
    "        "
   ]
  },
  {
   "cell_type": "code",
   "execution_count": null,
   "id": "8d4a5b25",
   "metadata": {},
   "outputs": [],
   "source": [
    "#Vamos a generar un sobre de cartas\n",
    "pack = Package() # Primer generamos nuestro objeto sobre\n",
    "for i in range(6):\n",
    "    prob = random.randint(0,100) # esto me devuelve una probabilidad\n",
    "    # genero una lista con nombres para que me escoja un nombre al azar\n",
    "    name = random.choice(['Messi', 'Pele', 'Cristiano Ronaldo', 'Maradona', 'Zidane', 'Lewandosky', 'Courtois', 'Buffon'])\n",
    "    # genero una lista de equipos para que escoja uno al azar\n",
    "    team = random.choice(['Real Madrid', 'FC Barcelona', 'PSG', 'Bayern München', 'Santos', 'Feyenoord'])\n",
    "    # lo mismo con nacionalidad y position\n",
    "    nationality = random.choice(['Portugal', 'Argentina', 'Poland', 'Brazil', 'France'])\n",
    "    position = random.choice(['GK','DF','MD','ST'])\n",
    "    \n",
    "    if prob < 55:\n",
    "        ova = random.randint(prob-5, prob+10)\n",
    "        type_of_card = 'Bronze'\n",
    "        prob_esp = random.randint(0,100)\n",
    "        if prob_esp < 80:\n",
    "            card = Card(name=name, card_type=type_of_card, team=team, nationality=nationality, position=position, ova=ova)\n",
    "        elif 80 <= prob_esp < 90:\n",
    "            type_of_card = 'TOTY'\n",
    "            card = Toty_Card(name=name, card_type=type_of_card, team=team, nationality=nationality, position=position, ova=ova)\n",
    "        else:\n",
    "            type_of_card = 'Legend'\n",
    "            card = Legend_Card(name=name, card_type=type_of_card, team=team, nationality=nationality, position=position, ova=ova)\n",
    "    elif 56 <= prob < 75:\n",
    "        ova = random.randint(prob-5, prob+10)\n",
    "        type_of_card = 'Silver'\n",
    "        prob_esp = random.randint(0,100)\n",
    "        if prob_esp < 70:\n",
    "            card = Card(name=name, card_type=type_of_card, team=team, nationality=nationality, position=position, ova=ova)\n",
    "        elif 70 <= prob_esp < 90:\n",
    "            type_of_card = 'TOTY'\n",
    "            card = Toty_Card(name=name, card_type=type_of_card, team=team, nationality=nationality, position=position, ova=ova)\n",
    "        else:\n",
    "            type_of_card = 'Legend'\n",
    "            card = Legend_Card(name=name, card_type=type_of_card, team=team, nationality=nationality, position=position, ova=ova)\n",
    "    else:\n",
    "        ova = random.randint(prob-5, prob+10)\n",
    "        type_of_card = 'Gold'\n",
    "        prob_esp = random.randint(0,100)\n",
    "        if prob_esp < 65:\n",
    "            card = Card(name=name, card_type=type_of_card, team=team, nationality=nationality, position=position, ova=ova)\n",
    "        elif 65 <= prob_esp < 85:\n",
    "            type_of_card = 'TOTY'\n",
    "            card = Toty_Card(name=name, card_type=type_of_card, team=team, nationality=nationality, position=position, ova=ova)\n",
    "        else:\n",
    "            type_of_card = 'Legend'\n",
    "            card = Legend_Card(name=name, card_type=type_of_card, team=team, nationality=nationality, position=position, ova=ova)\n",
    "    \n",
    "    pack.addcard(card)"
   ]
  },
  {
   "cell_type": "code",
   "execution_count": null,
   "id": "5b996d1c",
   "metadata": {},
   "outputs": [],
   "source": [
    "pack.__dict__"
   ]
  },
  {
   "cell_type": "code",
   "execution_count": null,
   "id": "febfca31",
   "metadata": {},
   "outputs": [],
   "source": [
    "pack.open_pack()"
   ]
  },
  {
   "cell_type": "code",
   "execution_count": null,
   "id": "f759fc9c",
   "metadata": {},
   "outputs": [],
   "source": [
    "pack.cards[0]"
   ]
  },
  {
   "cell_type": "code",
   "execution_count": null,
   "id": "6a193b80",
   "metadata": {},
   "outputs": [],
   "source": []
  }
 ],
 "metadata": {
  "kernelspec": {
   "display_name": "IronHack",
   "language": "python",
   "name": "ironhack"
  },
  "language_info": {
   "codemirror_mode": {
    "name": "ipython",
    "version": 3
   },
   "file_extension": ".py",
   "mimetype": "text/x-python",
   "name": "python",
   "nbconvert_exporter": "python",
   "pygments_lexer": "ipython3",
   "version": "3.9.12"
  }
 },
 "nbformat": 4,
 "nbformat_minor": 5
}
