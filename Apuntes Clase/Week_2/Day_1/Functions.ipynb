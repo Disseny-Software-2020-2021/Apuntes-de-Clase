{
 "cells": [
  {
   "cell_type": "markdown",
   "id": "c0700d99",
   "metadata": {},
   "source": [
    "# 2.1- Funciones\n",
    "\n",
    "![funciones](../../images/funciones.jpg)"
   ]
  },
  {
   "cell_type": "markdown",
   "id": "490ae7ea",
   "metadata": {},
   "source": [
    "Una función es un bloque de código con un nombre asociado, que recibe cero o más argumentos como entrada, sigue una secuencia de sentencias, la cuales ejecuta una operación deseada y devuelve un valor y/o realiza una tarea, este bloque puede ser llamados cuando se necesite.\n",
    "\n",
    "El uso de funciones es un componente muy importante del paradigma de la programación llamada estructurada, y tiene varias ventajas:\n",
    "- modularización: permite segmentar un programa complejo en una serie de partes o módulos más simples, facilitando así la programación y el depurado.\n",
    "- reutilización: permite reutilizar una misma función en distintos programas."
   ]
  },
  {
   "cell_type": "markdown",
   "id": "35e84ae2",
   "metadata": {},
   "source": [
    "# Tabla contenidos:\n",
    "\n",
    "+ Funciones propias de python (built-in functions)\n",
    "+ Funciones custom\n",
    "* Funciones Lambda"
   ]
  },
  {
   "cell_type": "markdown",
   "id": "706718a9",
   "metadata": {},
   "source": [
    "## Funciones propias de python (built-in functions)\n",
    "\n",
    "https://docs.python.org/3/library/functions.html\n",
    "\n",
    "Estas funciones están definidas dentro de python. Para usarlas simplemente hay que invocarlas."
   ]
  },
  {
   "cell_type": "code",
   "execution_count": 1,
   "id": "74016039",
   "metadata": {},
   "outputs": [
    {
     "name": "stdout",
     "output_type": "stream",
     "text": [
      "hola\n"
     ]
    }
   ],
   "source": [
    "print('hola')"
   ]
  },
  {
   "cell_type": "code",
   "execution_count": 3,
   "id": "dfcfa4ad",
   "metadata": {},
   "outputs": [],
   "source": [
    "#help(print)"
   ]
  },
  {
   "cell_type": "code",
   "execution_count": 4,
   "id": "65a54141",
   "metadata": {},
   "outputs": [
    {
     "data": {
      "text/plain": [
       "6"
      ]
     },
     "execution_count": 4,
     "metadata": {},
     "output_type": "execute_result"
    }
   ],
   "source": [
    "len([1,2,3,4,5,6])"
   ]
  },
  {
   "cell_type": "code",
   "execution_count": 5,
   "id": "2e2b31ab",
   "metadata": {},
   "outputs": [
    {
     "data": {
      "text/plain": [
       "765476"
      ]
     },
     "execution_count": 5,
     "metadata": {},
     "output_type": "execute_result"
    }
   ],
   "source": [
    "max([11,34,456,76,234,765,664,2345,745645,235434,765476,23453,7457,245,74567,2345,3456])"
   ]
  },
  {
   "cell_type": "code",
   "execution_count": 6,
   "id": "524e3fa7",
   "metadata": {},
   "outputs": [
    {
     "data": {
      "text/plain": [
       "11"
      ]
     },
     "execution_count": 6,
     "metadata": {},
     "output_type": "execute_result"
    }
   ],
   "source": [
    "min([11,34,456,76,234,765,664,2345,745645,235434,765476,23453,7457,245,74567,2345,3456])"
   ]
  },
  {
   "cell_type": "code",
   "execution_count": 7,
   "id": "1451aecb",
   "metadata": {},
   "outputs": [
    {
     "data": {
      "text/plain": [
       "[11,\n",
       " 34,\n",
       " 76,\n",
       " 234,\n",
       " 245,\n",
       " 456,\n",
       " 664,\n",
       " 765,\n",
       " 2345,\n",
       " 2345,\n",
       " 3456,\n",
       " 7457,\n",
       " 23453,\n",
       " 74567,\n",
       " 235434,\n",
       " 745645,\n",
       " 765476]"
      ]
     },
     "execution_count": 7,
     "metadata": {},
     "output_type": "execute_result"
    }
   ],
   "source": [
    "sorted([11,34,456,76,234,765,664,2345,745645,235434,765476,23453,7457,245,74567,2345,3456])"
   ]
  },
  {
   "cell_type": "code",
   "execution_count": 8,
   "id": "048b84eb",
   "metadata": {},
   "outputs": [
    {
     "data": {
      "text/plain": [
       "[765476,\n",
       " 745645,\n",
       " 235434,\n",
       " 74567,\n",
       " 23453,\n",
       " 7457,\n",
       " 3456,\n",
       " 2345,\n",
       " 2345,\n",
       " 765,\n",
       " 664,\n",
       " 456,\n",
       " 245,\n",
       " 234,\n",
       " 76,\n",
       " 34,\n",
       " 11]"
      ]
     },
     "execution_count": 8,
     "metadata": {},
     "output_type": "execute_result"
    }
   ],
   "source": [
    "sorted([11,34,456,76,234,765,664,2345,745645,235434,765476,23453,7457,245,74567,2345,3456], reverse=True)"
   ]
  },
  {
   "cell_type": "code",
   "execution_count": null,
   "id": "00e0cd96",
   "metadata": {},
   "outputs": [],
   "source": [
    "help(sorted)"
   ]
  },
  {
   "cell_type": "markdown",
   "id": "150fd1b9",
   "metadata": {},
   "source": [
    "## Funciones custom\n",
    "\n",
    "Funciones creadas por nosotros con un objetivo. \n",
    "\n",
    "**Consejo:** Las funciones realizan acciones, por eso se recomienda que sus nombres sean verbos.\n",
    "\n",
    "\n",
    "**Estructura:**"
   ]
  },
  {
   "cell_type": "markdown",
   "id": "27f0e8b9",
   "metadata": {},
   "source": [
    "```python\n",
    "def nombre_funcion(argumentos de entrada):\n",
    "    # los dos puntos y la indentacion implican estar en la funcion\n",
    "    realiza acciones\n",
    "    return () # devuelve cierto valor\n",
    "```"
   ]
  },
  {
   "cell_type": "markdown",
   "id": "ef5788c1",
   "metadata": {},
   "source": [
    "```python\n",
    "\n",
    "lst = ['Ana', 'Pedro']\n",
    "lst[i]\n",
    "print(lst)\n",
    "```"
   ]
  },
  {
   "cell_type": "code",
   "execution_count": 9,
   "id": "2664223b",
   "metadata": {},
   "outputs": [],
   "source": [
    "def sumar(x,y):\n",
    "    \n",
    "    return x + y"
   ]
  },
  {
   "cell_type": "code",
   "execution_count": 10,
   "id": "8a8cb71e",
   "metadata": {},
   "outputs": [
    {
     "data": {
      "text/plain": [
       "11"
      ]
     },
     "execution_count": 10,
     "metadata": {},
     "output_type": "execute_result"
    }
   ],
   "source": [
    "sumar(5,6)"
   ]
  },
  {
   "cell_type": "code",
   "execution_count": 11,
   "id": "3b03b4d6",
   "metadata": {},
   "outputs": [],
   "source": [
    "def sumar_2(a, b, c):\n",
    "    \n",
    "    res = []\n",
    "    \n",
    "    suma = sumar(a,b)\n",
    "    \n",
    "    for i in range (c):\n",
    "        print(i)\n",
    "        print(c**i*suma)\n",
    "        res.append(c**i*suma)\n",
    "        \n",
    "    return res, sum(res)"
   ]
  },
  {
   "cell_type": "code",
   "execution_count": 12,
   "id": "469aeee8",
   "metadata": {},
   "outputs": [
    {
     "name": "stdout",
     "output_type": "stream",
     "text": [
      "0\n",
      "9\n",
      "1\n",
      "27\n",
      "2\n",
      "81\n"
     ]
    },
    {
     "data": {
      "text/plain": [
       "([9, 27, 81], 117)"
      ]
     },
     "execution_count": 12,
     "metadata": {},
     "output_type": "execute_result"
    }
   ],
   "source": [
    "sumar_2(4,5,3)"
   ]
  },
  {
   "cell_type": "code",
   "execution_count": 14,
   "id": "7e4abd62",
   "metadata": {},
   "outputs": [
    {
     "name": "stdout",
     "output_type": "stream",
     "text": [
      "0\n",
      "9\n",
      "1\n",
      "27\n",
      "2\n",
      "81\n"
     ]
    }
   ],
   "source": [
    "res, sum_res = sumar_2(4,5,3)"
   ]
  },
  {
   "cell_type": "code",
   "execution_count": 15,
   "id": "d1471b18",
   "metadata": {},
   "outputs": [
    {
     "data": {
      "text/plain": [
       "[9, 27, 81]"
      ]
     },
     "execution_count": 15,
     "metadata": {},
     "output_type": "execute_result"
    }
   ],
   "source": [
    "res"
   ]
  },
  {
   "cell_type": "code",
   "execution_count": 16,
   "id": "f6ae20a0",
   "metadata": {},
   "outputs": [
    {
     "data": {
      "text/plain": [
       "117"
      ]
     },
     "execution_count": 16,
     "metadata": {},
     "output_type": "execute_result"
    }
   ],
   "source": [
    "sum_res"
   ]
  },
  {
   "cell_type": "code",
   "execution_count": 17,
   "id": "89cdf551",
   "metadata": {},
   "outputs": [],
   "source": [
    "#pep8\n",
    "\n",
    "def elevar_al_cuadrado(x: int, verbose: bool) -> int: # ElevarAlCuadrado\n",
    "    \n",
    "    '''\n",
    "        Función para elevar un número al cuadrado\n",
    "        \n",
    "        Params:\n",
    "        x: Recibe un int como argumento.\n",
    "        verbose: Valor booleano para imprimir mensaje\n",
    "        \n",
    "        Return:\n",
    "        \n",
    "        x elevado al cuadrado\n",
    "        \n",
    "    \n",
    "    '''\n",
    "    if verbose == True:\n",
    "        print(f'Has pasado el número {x}')\n",
    "    return x**2"
   ]
  },
  {
   "cell_type": "code",
   "execution_count": 18,
   "id": "840acfb2",
   "metadata": {},
   "outputs": [
    {
     "name": "stdout",
     "output_type": "stream",
     "text": [
      "Help on function elevar_al_cuadrado in module __main__:\n",
      "\n",
      "elevar_al_cuadrado(x: int, verbose: bool) -> int\n",
      "    Función para elevar un número al cuadrado\n",
      "    \n",
      "    Params:\n",
      "    x: Recibe un int como argumento.\n",
      "    verbose: Valor booleano para imprimir mensaje\n",
      "    \n",
      "    Return:\n",
      "    \n",
      "    x elevado al cuadrado\n",
      "\n"
     ]
    }
   ],
   "source": [
    "help(elevar_al_cuadrado)"
   ]
  },
  {
   "cell_type": "code",
   "execution_count": 19,
   "id": "a89f3865",
   "metadata": {},
   "outputs": [
    {
     "ename": "TypeError",
     "evalue": "elevar_al_cuadrado() missing 1 required positional argument: 'verbose'",
     "output_type": "error",
     "traceback": [
      "\u001b[1;31m---------------------------------------------------------------------------\u001b[0m",
      "\u001b[1;31mTypeError\u001b[0m                                 Traceback (most recent call last)",
      "Input \u001b[1;32mIn [19]\u001b[0m, in \u001b[0;36m<cell line: 1>\u001b[1;34m()\u001b[0m\n\u001b[1;32m----> 1\u001b[0m \u001b[43melevar_al_cuadrado\u001b[49m\u001b[43m(\u001b[49m\u001b[38;5;241;43m4\u001b[39;49m\u001b[43m)\u001b[49m\n",
      "\u001b[1;31mTypeError\u001b[0m: elevar_al_cuadrado() missing 1 required positional argument: 'verbose'"
     ]
    }
   ],
   "source": [
    "elevar_al_cuadrado(4)"
   ]
  },
  {
   "cell_type": "code",
   "execution_count": 20,
   "id": "174f9176",
   "metadata": {},
   "outputs": [
    {
     "name": "stdout",
     "output_type": "stream",
     "text": [
      "Has pasado el número 4\n"
     ]
    },
    {
     "data": {
      "text/plain": [
       "16"
      ]
     },
     "execution_count": 20,
     "metadata": {},
     "output_type": "execute_result"
    }
   ],
   "source": [
    "elevar_al_cuadrado(4, True)"
   ]
  },
  {
   "cell_type": "code",
   "execution_count": 21,
   "id": "6f2e3ef1",
   "metadata": {},
   "outputs": [
    {
     "data": {
      "text/plain": [
       "16"
      ]
     },
     "execution_count": 21,
     "metadata": {},
     "output_type": "execute_result"
    }
   ],
   "source": [
    "elevar_al_cuadrado(4, False)"
   ]
  },
  {
   "cell_type": "code",
   "execution_count": 22,
   "id": "ede54c13",
   "metadata": {},
   "outputs": [
    {
     "name": "stdout",
     "output_type": "stream",
     "text": [
      "Has pasado el número 2\n",
      "2 al cuadrado es 4\n",
      "Has pasado el número 3\n",
      "3 al cuadrado es 9\n",
      "Has pasado el número 4\n",
      "4 al cuadrado es 16\n",
      "Has pasado el número 5\n",
      "5 al cuadrado es 25\n",
      "Has pasado el número 6\n",
      "6 al cuadrado es 36\n",
      "Has pasado el número 7\n",
      "7 al cuadrado es 49\n",
      "Has pasado el número 8\n",
      "8 al cuadrado es 64\n",
      "Has pasado el número 9\n",
      "9 al cuadrado es 81\n"
     ]
    }
   ],
   "source": [
    "for i in range(2,10):\n",
    "    print(f'{i} al cuadrado es {elevar_al_cuadrado(i, True)}')"
   ]
  },
  {
   "cell_type": "code",
   "execution_count": 23,
   "id": "8e87b6f7",
   "metadata": {},
   "outputs": [],
   "source": [
    "import random\n",
    "\n",
    "def player(nombre:str, type_of_card:str):\n",
    "    '''\n",
    "    Función que nos genera un jugador\n",
    "    \n",
    "    Params:\n",
    "    nombre = Nombre del jugador\n",
    "    type_of_card = Tipo de carta que queremos generar\n",
    "    \n",
    "    Return:\n",
    "     Diccionario con los parámetros de la carta del jugador\n",
    "    '''\n",
    "    \n",
    "    pos = random.choice(['PT','DF','MD','DL'])\n",
    "    if type_of_card == 'TOTY':\n",
    "        med = random.randint(85,100)\n",
    "    elif type_of_card == 'LEGENDS':\n",
    "        med = random.randint(95,100)\n",
    "    else:\n",
    "        med = random.randint(75,90)\n",
    "    team = random.choice(['Real Madrid', 'FC Barcelona', 'Bayern München', 'Manchester City', 'PSG', 'Juventus'])\n",
    "    nac = random.choice(['Spain', 'England', 'Brazil', 'Argentina', 'France','Portugal', 'Italy'])\n",
    "    \n",
    "    p = {'Name':nombre,\n",
    "        'Mean': med,\n",
    "        'Team':team,\n",
    "        'Position': pos,\n",
    "        'Nacionality': nac,\n",
    "        'Type of card': type_of_card}\n",
    "    \n",
    "    return p"
   ]
  },
  {
   "cell_type": "code",
   "execution_count": 24,
   "id": "b5e75426",
   "metadata": {},
   "outputs": [
    {
     "ename": "NameError",
     "evalue": "name 'pos' is not defined",
     "output_type": "error",
     "traceback": [
      "\u001b[1;31m---------------------------------------------------------------------------\u001b[0m",
      "\u001b[1;31mNameError\u001b[0m                                 Traceback (most recent call last)",
      "Input \u001b[1;32mIn [24]\u001b[0m, in \u001b[0;36m<cell line: 1>\u001b[1;34m()\u001b[0m\n\u001b[1;32m----> 1\u001b[0m \u001b[43mpos\u001b[49m\n",
      "\u001b[1;31mNameError\u001b[0m: name 'pos' is not defined"
     ]
    }
   ],
   "source": [
    "pos"
   ]
  },
  {
   "cell_type": "code",
   "execution_count": 25,
   "id": "02ad25eb",
   "metadata": {},
   "outputs": [
    {
     "name": "stdout",
     "output_type": "stream",
     "text": [
      "Help on function player in module __main__:\n",
      "\n",
      "player(nombre: str, type_of_card: str)\n",
      "    Función que nos genera un jugador\n",
      "    \n",
      "    Params:\n",
      "    nombre = Nombre del jugador\n",
      "    type_of_card = Tipo de carta que queremos generar\n",
      "    \n",
      "    Return:\n",
      "     Diccionario con los parámetros de la carta del jugador\n",
      "\n"
     ]
    }
   ],
   "source": [
    "help(player)"
   ]
  },
  {
   "cell_type": "code",
   "execution_count": null,
   "id": "dbaacaff",
   "metadata": {},
   "outputs": [],
   "source": [
    "pos"
   ]
  },
  {
   "cell_type": "code",
   "execution_count": 26,
   "id": "d339a320",
   "metadata": {},
   "outputs": [
    {
     "data": {
      "text/plain": [
       "{'Name': 'Messi',\n",
       " 'Mean': 85,\n",
       " 'Team': 'Bayern München',\n",
       " 'Position': 'DL',\n",
       " 'Nacionality': 'Italy',\n",
       " 'Type of card': 'TOTY'}"
      ]
     },
     "execution_count": 26,
     "metadata": {},
     "output_type": "execute_result"
    }
   ],
   "source": [
    "player('Messi', 'TOTY')"
   ]
  },
  {
   "cell_type": "code",
   "execution_count": 27,
   "id": "db5aac4a",
   "metadata": {},
   "outputs": [
    {
     "name": "stdout",
     "output_type": "stream",
     "text": [
      "{'Name': 'Van Basten', 'Mean': 89, 'Team': 'FC Barcelona', 'Position': 'MD', 'Nacionality': 'Portugal', 'Type of card': 'SILVER'}\n",
      "{'Name': 'Mark Lenders', 'Mean': 86, 'Team': 'Manchester City', 'Position': 'DF', 'Nacionality': 'Italy', 'Type of card': 'SILVER'}\n",
      "{'Name': 'Oliver Atom', 'Mean': 81, 'Team': 'PSG', 'Position': 'MD', 'Nacionality': 'England', 'Type of card': 'SILVER'}\n",
      "{'Name': 'Koke', 'Mean': 86, 'Team': 'Real Madrid', 'Position': 'DF', 'Nacionality': 'Spain', 'Type of card': 'TOTY'}\n",
      "{'Name': 'Pogba', 'Mean': 86, 'Team': 'Manchester City', 'Position': 'PT', 'Nacionality': 'England', 'Type of card': 'SILVER'}\n"
     ]
    }
   ],
   "source": [
    "for i in range(5):\n",
    "    card = random.choice(['TOTY', 'LEGENDS', 'GOLD', 'SILVER', 'BRONZE'])\n",
    "    name = random.choice(['Messi', 'Cristiano Ronaldo', 'Evra', 'Pogba', 'Vinicius Jr.', 'Benzema', 'Canales', 'Isco',\n",
    "                         'Gavi', 'Pedri', 'Ter Stegen', 'Joao Felix', 'Morata', 'Koke', 'Pau Torres', 'Maradona', 'Pelé',\n",
    "                         'Matthaüs', 'Muller', 'Mbappe', 'Neymar', 'Halland', 'Pirlo', 'Van Basten', 'Del Piero', 'Nakamura',\n",
    "                         'Oliver Atom', 'Benji Price', 'Mark Lenders', 'Julian Ross'])\n",
    "    print(player(name, card))"
   ]
  },
  {
   "cell_type": "markdown",
   "id": "8e80b019",
   "metadata": {},
   "source": [
    "**Argumentos por defecto**"
   ]
  },
  {
   "cell_type": "code",
   "execution_count": 28,
   "id": "98c40c08",
   "metadata": {},
   "outputs": [],
   "source": [
    "def sumar_3(a,b,c=8):\n",
    "    \n",
    "    return a + b +1/c"
   ]
  },
  {
   "cell_type": "code",
   "execution_count": 29,
   "id": "4e96f783",
   "metadata": {},
   "outputs": [
    {
     "data": {
      "text/plain": [
       "9.125"
      ]
     },
     "execution_count": 29,
     "metadata": {},
     "output_type": "execute_result"
    }
   ],
   "source": [
    "sumar_3(4,5)"
   ]
  },
  {
   "cell_type": "code",
   "execution_count": 30,
   "id": "a927fbd9",
   "metadata": {},
   "outputs": [
    {
     "ename": "ZeroDivisionError",
     "evalue": "division by zero",
     "output_type": "error",
     "traceback": [
      "\u001b[1;31m---------------------------------------------------------------------------\u001b[0m",
      "\u001b[1;31mZeroDivisionError\u001b[0m                         Traceback (most recent call last)",
      "Input \u001b[1;32mIn [30]\u001b[0m, in \u001b[0;36m<cell line: 1>\u001b[1;34m()\u001b[0m\n\u001b[1;32m----> 1\u001b[0m \u001b[43msumar_3\u001b[49m\u001b[43m(\u001b[49m\u001b[38;5;241;43m3\u001b[39;49m\u001b[43m,\u001b[49m\u001b[38;5;241;43m4\u001b[39;49m\u001b[43m,\u001b[49m\u001b[38;5;241;43m0\u001b[39;49m\u001b[43m)\u001b[49m\n",
      "Input \u001b[1;32mIn [28]\u001b[0m, in \u001b[0;36msumar_3\u001b[1;34m(a, b, c)\u001b[0m\n\u001b[0;32m      1\u001b[0m \u001b[38;5;28;01mdef\u001b[39;00m \u001b[38;5;21msumar_3\u001b[39m(a,b,c\u001b[38;5;241m=\u001b[39m\u001b[38;5;241m8\u001b[39m):\n\u001b[1;32m----> 3\u001b[0m     \u001b[38;5;28;01mreturn\u001b[39;00m a \u001b[38;5;241m+\u001b[39m b \u001b[38;5;241m+\u001b[39m\u001b[38;5;241;43m1\u001b[39;49m\u001b[38;5;241;43m/\u001b[39;49m\u001b[43mc\u001b[49m\n",
      "\u001b[1;31mZeroDivisionError\u001b[0m: division by zero"
     ]
    }
   ],
   "source": [
    "sumar_3(3,4,0)"
   ]
  },
  {
   "cell_type": "code",
   "execution_count": 34,
   "id": "ff837dd4",
   "metadata": {},
   "outputs": [],
   "source": [
    "def sumar_4(a, b, c=8):\n",
    "    try:\n",
    "        return a + b + 1/c\n",
    "    except ZeroDivisionError:\n",
    "        while c==0:\n",
    "            print('oye majo que estas diviendo por 0')\n",
    "            c=int(input('Introduce un valor distinto de 0 campeón:'))\n",
    "        return a + b + 1/c"
   ]
  },
  {
   "cell_type": "code",
   "execution_count": 35,
   "id": "5ac276a7",
   "metadata": {},
   "outputs": [
    {
     "name": "stdout",
     "output_type": "stream",
     "text": [
      "oye majo que estas diviendo por 0\n",
      "Introduce un valor distinto de 0 campeón:0\n",
      "oye majo que estas diviendo por 0\n",
      "Introduce un valor distinto de 0 campeón:0\n",
      "oye majo que estas diviendo por 0\n",
      "Introduce un valor distinto de 0 campeón:0\n",
      "oye majo que estas diviendo por 0\n",
      "Introduce un valor distinto de 0 campeón:2\n"
     ]
    },
    {
     "data": {
      "text/plain": [
       "7.5"
      ]
     },
     "execution_count": 35,
     "metadata": {},
     "output_type": "execute_result"
    }
   ],
   "source": [
    "sumar_4(3,4,0)"
   ]
  },
  {
   "cell_type": "code",
   "execution_count": 36,
   "id": "5646bce5",
   "metadata": {},
   "outputs": [
    {
     "name": "stdout",
     "output_type": "stream",
     "text": [
      "oye majo que estas diviendo por 0\n",
      "Introduce un valor distinto de 0 campeón:3\n"
     ]
    },
    {
     "data": {
      "text/plain": [
       "7.333333333333333"
      ]
     },
     "execution_count": 36,
     "metadata": {},
     "output_type": "execute_result"
    }
   ],
   "source": [
    "sumar_4(3,4,0)"
   ]
  },
  {
   "cell_type": "markdown",
   "id": "f335c366",
   "metadata": {},
   "source": [
    "**Argumentos posicionales y argumentos clave-valor (args, kwargs)**"
   ]
  },
  {
   "cell_type": "code",
   "execution_count": 37,
   "id": "722e09f1",
   "metadata": {},
   "outputs": [],
   "source": [
    "def sumar(a,b):\n",
    "    return a+b"
   ]
  },
  {
   "cell_type": "code",
   "execution_count": 38,
   "id": "630a8812",
   "metadata": {},
   "outputs": [
    {
     "ename": "TypeError",
     "evalue": "sumar() takes 2 positional arguments but 3 were given",
     "output_type": "error",
     "traceback": [
      "\u001b[1;31m---------------------------------------------------------------------------\u001b[0m",
      "\u001b[1;31mTypeError\u001b[0m                                 Traceback (most recent call last)",
      "Input \u001b[1;32mIn [38]\u001b[0m, in \u001b[0;36m<cell line: 1>\u001b[1;34m()\u001b[0m\n\u001b[1;32m----> 1\u001b[0m \u001b[43msumar\u001b[49m\u001b[43m(\u001b[49m\u001b[38;5;241;43m1\u001b[39;49m\u001b[43m,\u001b[49m\u001b[38;5;241;43m2\u001b[39;49m\u001b[43m,\u001b[49m\u001b[38;5;241;43m3\u001b[39;49m\u001b[43m)\u001b[49m\n",
      "\u001b[1;31mTypeError\u001b[0m: sumar() takes 2 positional arguments but 3 were given"
     ]
    }
   ],
   "source": [
    "sumar(1,2,3)"
   ]
  },
  {
   "cell_type": "code",
   "execution_count": 40,
   "id": "ece27dd3",
   "metadata": {},
   "outputs": [],
   "source": [
    "def sumar(*args):\n",
    "    \n",
    "    if len(args)<10:\n",
    "        print(args)\n",
    "    \n",
    "    res= 0\n",
    "    \n",
    "    for e in args:\n",
    "        \n",
    "        res += e\n",
    "    \n",
    "    return res"
   ]
  },
  {
   "cell_type": "code",
   "execution_count": 42,
   "id": "92847341",
   "metadata": {},
   "outputs": [
    {
     "data": {
      "text/plain": [
       "2216"
      ]
     },
     "execution_count": 42,
     "metadata": {},
     "output_type": "execute_result"
    }
   ],
   "source": [
    "sumar(2,4,5,7,3,2,34,657,465,345,645,2,45)"
   ]
  },
  {
   "cell_type": "markdown",
   "id": "167fd07a",
   "metadata": {},
   "source": [
    "Al programar una función que acepte como paramatro de entrada todos los argumentos que queramos, le estamos pidiendo que internamente nuestra función genere una lista con todos los argumentos que le hemos pasado y vaya iterando por ellos y los seleccione uno a uno"
   ]
  },
  {
   "cell_type": "code",
   "execution_count": 44,
   "id": "02cc7fca",
   "metadata": {},
   "outputs": [],
   "source": [
    "def saludar(nombre, lang='es', colega=True):\n",
    "    \n",
    "    s= ''\n",
    "    \n",
    "    if colega:\n",
    "        s= 'colegaa que pasaaah!!!'\n",
    "    if lang == 'es':\n",
    "        print('Hola {}, {}'.format(nombre, s))\n",
    "        print('Hola {}, {}'.format(s, nombre))\n",
    "        print(f'Hola {nombre}, {s}') # es lo mismo que lo de arriba\n",
    "    else:\n",
    "        print('Hello {} buddy'.format(nombre))"
   ]
  },
  {
   "cell_type": "code",
   "execution_count": 45,
   "id": "cf4eacd7",
   "metadata": {},
   "outputs": [
    {
     "name": "stdout",
     "output_type": "stream",
     "text": [
      "Hola kike, colegaa que pasaaah!!!\n",
      "Hola colegaa que pasaaah!!!, kike\n",
      "Hola kike, colegaa que pasaaah!!!\n"
     ]
    }
   ],
   "source": [
    "saludar('kike')"
   ]
  },
  {
   "cell_type": "code",
   "execution_count": 46,
   "id": "0b36f1a2",
   "metadata": {},
   "outputs": [
    {
     "name": "stdout",
     "output_type": "stream",
     "text": [
      "Hello kike buddy\n"
     ]
    }
   ],
   "source": [
    "saludar('kike', 'jp')"
   ]
  },
  {
   "cell_type": "code",
   "execution_count": 47,
   "id": "767895c8",
   "metadata": {},
   "outputs": [
    {
     "name": "stdout",
     "output_type": "stream",
     "text": [
      "Hola kike, \n",
      "Hola , kike\n",
      "Hola kike, \n"
     ]
    }
   ],
   "source": [
    "saludar('kike', 'es', False)"
   ]
  },
  {
   "cell_type": "code",
   "execution_count": 49,
   "id": "437de045",
   "metadata": {},
   "outputs": [],
   "source": [
    "def saludo_a_clase(*args, lang='es', colega=True):\n",
    "    for e in args:\n",
    "        saludar(e, lang, colega)"
   ]
  },
  {
   "cell_type": "code",
   "execution_count": 50,
   "id": "291c4c3e",
   "metadata": {},
   "outputs": [
    {
     "name": "stdout",
     "output_type": "stream",
     "text": [
      "Hola ['Ana', 'David', 'Javier', 'Esperanza', 'Lucias'], colegaa que pasaaah!!!\n",
      "Hola colegaa que pasaaah!!!, ['Ana', 'David', 'Javier', 'Esperanza', 'Lucias']\n",
      "Hola ['Ana', 'David', 'Javier', 'Esperanza', 'Lucias'], colegaa que pasaaah!!!\n"
     ]
    }
   ],
   "source": [
    "saludo_a_clase(['Ana', 'David', 'Javier','Esperanza', 'Lucias'])"
   ]
  },
  {
   "cell_type": "code",
   "execution_count": 51,
   "id": "ceeddf3a",
   "metadata": {},
   "outputs": [
    {
     "name": "stdout",
     "output_type": "stream",
     "text": [
      "Hola Ana, colegaa que pasaaah!!!\n",
      "Hola colegaa que pasaaah!!!, Ana\n",
      "Hola Ana, colegaa que pasaaah!!!\n",
      "Hola David, colegaa que pasaaah!!!\n",
      "Hola colegaa que pasaaah!!!, David\n",
      "Hola David, colegaa que pasaaah!!!\n",
      "Hola Javier, colegaa que pasaaah!!!\n",
      "Hola colegaa que pasaaah!!!, Javier\n",
      "Hola Javier, colegaa que pasaaah!!!\n",
      "Hola Esperanza, colegaa que pasaaah!!!\n",
      "Hola colegaa que pasaaah!!!, Esperanza\n",
      "Hola Esperanza, colegaa que pasaaah!!!\n",
      "Hola Lucias, colegaa que pasaaah!!!\n",
      "Hola colegaa que pasaaah!!!, Lucias\n",
      "Hola Lucias, colegaa que pasaaah!!!\n"
     ]
    }
   ],
   "source": [
    "saludo_a_clase('Ana', 'David', 'Javier','Esperanza', 'Lucias')"
   ]
  },
  {
   "cell_type": "markdown",
   "id": "596b123d",
   "metadata": {},
   "source": [
    "El símbolo `**` quiere decir que coja los elementos de uno en uno sabiendo que tiene la estructura clave-valor como en un diccionario."
   ]
  },
  {
   "cell_type": "code",
   "execution_count": 52,
   "id": "a525435b",
   "metadata": {},
   "outputs": [],
   "source": [
    "nombres = ['Ana', 'David', 'Javier','Esperanza', 'Lucias']\n",
    "\n",
    "config = {'lang': 'en', 'colega':False}"
   ]
  },
  {
   "cell_type": "code",
   "execution_count": 53,
   "id": "850819b1",
   "metadata": {},
   "outputs": [
    {
     "name": "stdout",
     "output_type": "stream",
     "text": [
      "Hello Ana buddy\n",
      "Hello David buddy\n",
      "Hello Javier buddy\n",
      "Hello Esperanza buddy\n",
      "Hello Lucias buddy\n"
     ]
    }
   ],
   "source": [
    "saludo_a_clase(*nombres, **config)"
   ]
  },
  {
   "cell_type": "code",
   "execution_count": 54,
   "id": "f9a2d217",
   "metadata": {},
   "outputs": [],
   "source": [
    "def func(*args, **kwargs):\n",
    "    print(args)\n",
    "    print(kwargs)"
   ]
  },
  {
   "cell_type": "code",
   "execution_count": 55,
   "id": "65d063c5",
   "metadata": {},
   "outputs": [
    {
     "name": "stdout",
     "output_type": "stream",
     "text": [
      "(1, 2, 3)\n",
      "{'lang': 'en', 'colega': False}\n"
     ]
    }
   ],
   "source": [
    "func(*[1,2,3], **config)"
   ]
  },
  {
   "cell_type": "markdown",
   "id": "2c44f049",
   "metadata": {},
   "source": [
    "## Funciones Lambda"
   ]
  },
  {
   "cell_type": "markdown",
   "id": "1a90d573",
   "metadata": {},
   "source": [
    "**Definición de Lambda**\n",
    "\n",
    "En Python, una función Lambda se refiere a una pequeña función anónima. Las llamamos “funciones anónimas” porque técnicamente carecen de nombre.\n",
    "\n",
    "Al contrario que una función normal, no la definimos con la palabra clave estándar def que utilizamos en python. En su lugar, las funciones Lambda se definen como una línea que ejecuta una sola expresión. Este tipo de funciones pueden tomar cualquier número de argumentos, pero solo pueden tener una expresión.\n",
    "\n",
    "Una de las utilidades principales de las funciones Lambda es la optimización de memoria, no guardando la función una vez utilizada.\n",
    "\n",
    "**Sintaxis de la función Lambda**\n",
    "```python\n",
    "lambda parámetro_1, parámetro_2: action(parámetro_1, parámetro_2)\n",
    "```\n",
    "\n",
    "También puede tener valores por defecto:\n",
    "\n",
    "```python\n",
    "lambda parámetro_1, parámetro_2='valor_por_defecto': action(parámetro_1, parámetro_2)\n",
    "```\n",
    "\n",
    "O más general:\n",
    "\n",
    "```python\n",
    "lambda *args,**kwargs: acción(*args,**kwargs)"
   ]
  },
  {
   "cell_type": "markdown",
   "id": "c5570d0d",
   "metadata": {},
   "source": [
    "**Ejemplos:**\n",
    "\n",
    "Supongamos primero una función sencilla:"
   ]
  },
  {
   "cell_type": "code",
   "execution_count": 56,
   "id": "2567cb58",
   "metadata": {},
   "outputs": [],
   "source": [
    "def sumar (a,b):\n",
    "    return a+b"
   ]
  },
  {
   "cell_type": "code",
   "execution_count": 57,
   "id": "11a3d8d7",
   "metadata": {},
   "outputs": [
    {
     "data": {
      "text/plain": [
       "<function __main__.sumar(a, b)>"
      ]
     },
     "execution_count": 57,
     "metadata": {},
     "output_type": "execute_result"
    }
   ],
   "source": [
    "sumar"
   ]
  },
  {
   "cell_type": "code",
   "execution_count": 58,
   "id": "156b6c4e",
   "metadata": {},
   "outputs": [
    {
     "data": {
      "text/plain": [
       "7"
      ]
     },
     "execution_count": 58,
     "metadata": {},
     "output_type": "execute_result"
    }
   ],
   "source": [
    "sumar(3,4)"
   ]
  },
  {
   "cell_type": "code",
   "execution_count": 59,
   "id": "bd00024c",
   "metadata": {},
   "outputs": [
    {
     "data": {
      "text/plain": [
       "<function __main__.<lambda>(a, b)>"
      ]
     },
     "execution_count": 59,
     "metadata": {},
     "output_type": "execute_result"
    }
   ],
   "source": [
    "# con lambda\n",
    "\n",
    "lambda a,b : a+b"
   ]
  },
  {
   "cell_type": "code",
   "execution_count": 60,
   "id": "758f2383",
   "metadata": {},
   "outputs": [
    {
     "data": {
      "text/plain": [
       "7"
      ]
     },
     "execution_count": 60,
     "metadata": {},
     "output_type": "execute_result"
    }
   ],
   "source": [
    "(lambda a,b : a+b)(3,4)"
   ]
  },
  {
   "cell_type": "markdown",
   "id": "90512606",
   "metadata": {},
   "source": [
    "Siempre que queramos podremos transformar una función lambda en una función custom"
   ]
  },
  {
   "cell_type": "code",
   "execution_count": 61,
   "id": "8cb8e8f2",
   "metadata": {},
   "outputs": [],
   "source": [
    "sumar_lambda = lambda a,b : a+b"
   ]
  },
  {
   "cell_type": "code",
   "execution_count": 62,
   "id": "3496d84c",
   "metadata": {},
   "outputs": [
    {
     "data": {
      "text/plain": [
       "7"
      ]
     },
     "execution_count": 62,
     "metadata": {},
     "output_type": "execute_result"
    }
   ],
   "source": [
    "sumar_lambda(3,4)"
   ]
  },
  {
   "cell_type": "markdown",
   "id": "057e00a3",
   "metadata": {},
   "source": [
    "Al igual que el resto de funciones las funciones lambda también pueden recibir argumentos por defecto"
   ]
  },
  {
   "cell_type": "code",
   "execution_count": 63,
   "id": "dea77027",
   "metadata": {},
   "outputs": [],
   "source": [
    "def sumar_10(a, b=10):\n",
    "    return a + b"
   ]
  },
  {
   "cell_type": "code",
   "execution_count": 64,
   "id": "5372d060",
   "metadata": {},
   "outputs": [
    {
     "data": {
      "text/plain": [
       "12"
      ]
     },
     "execution_count": 64,
     "metadata": {},
     "output_type": "execute_result"
    }
   ],
   "source": [
    "sumar_10(2)"
   ]
  },
  {
   "cell_type": "code",
   "execution_count": 65,
   "id": "03a0700d",
   "metadata": {},
   "outputs": [
    {
     "data": {
      "text/plain": [
       "12"
      ]
     },
     "execution_count": 65,
     "metadata": {},
     "output_type": "execute_result"
    }
   ],
   "source": [
    "(lambda a, b=10: a+b)(2)"
   ]
  },
  {
   "cell_type": "code",
   "execution_count": 66,
   "id": "7b0a1d90",
   "metadata": {},
   "outputs": [
    {
     "data": {
      "text/plain": [
       "17"
      ]
     },
     "execution_count": 66,
     "metadata": {},
     "output_type": "execute_result"
    }
   ],
   "source": [
    "(lambda a, b=10: a+b)(2, 15)"
   ]
  },
  {
   "cell_type": "code",
   "execution_count": 67,
   "id": "b0a59ab3",
   "metadata": {},
   "outputs": [
    {
     "name": "stdout",
     "output_type": "stream",
     "text": [
      "Help on function <lambda> in module __main__:\n",
      "\n",
      "<lambda> lambda a, b\n",
      "\n"
     ]
    }
   ],
   "source": [
    "help(lambda a,b : a+b)"
   ]
  },
  {
   "cell_type": "markdown",
   "id": "47685fd2",
   "metadata": {},
   "source": [
    "### Un ejemplo un poco más complicado 🏃‍♂️🏃‍♀️👺"
   ]
  },
  {
   "cell_type": "code",
   "execution_count": 70,
   "id": "c8e1fc2c",
   "metadata": {},
   "outputs": [],
   "source": [
    "def filtrar(*lst):\n",
    "    \n",
    "    res = []\n",
    "    \n",
    "    for e in lst:\n",
    "        print(e)\n",
    "        \n",
    "        if 'o' in e:\n",
    "            res.append(3*e)\n",
    "            \n",
    "        elif 'a' in e:\n",
    "            res.append(5*e)\n",
    "            \n",
    "        elif 'v' in e:\n",
    "            res.append(e)\n",
    "            \n",
    "        else:\n",
    "            res.append(None)\n",
    "            \n",
    "    return res"
   ]
  },
  {
   "cell_type": "code",
   "execution_count": 71,
   "id": "6e0a6b65",
   "metadata": {},
   "outputs": [
    {
     "name": "stdout",
     "output_type": "stream",
     "text": [
      "['hola', 'buenas', 'como', 'estamos', 'vemos', 'el', 'lio']\n",
      "hola\n",
      "venga\n"
     ]
    },
    {
     "data": {
      "text/plain": [
       "[None, 'holaholahola', 'vengavengavengavengavenga']"
      ]
     },
     "execution_count": 71,
     "metadata": {},
     "output_type": "execute_result"
    }
   ],
   "source": [
    "filtrar(['hola', 'buenas', 'como', 'estamos', 'vemos', 'el', 'lio'], 'hola', 'venga')"
   ]
  },
  {
   "cell_type": "code",
   "execution_count": 72,
   "id": "c8dbe24c",
   "metadata": {},
   "outputs": [
    {
     "data": {
      "text/plain": [
       "<function __main__.<lambda>(*lst)>"
      ]
     },
     "execution_count": 72,
     "metadata": {},
     "output_type": "execute_result"
    }
   ],
   "source": [
    "lambda *lst: [3*e if 'o' in e else(e if 'v' in e else(5*e if 'a' in e else None)) for e in lst]"
   ]
  },
  {
   "cell_type": "code",
   "execution_count": 74,
   "id": "54967c8d",
   "metadata": {},
   "outputs": [
    {
     "data": {
      "text/plain": [
       "[None, 'holaholahola', 'vengavengavengavengavenga']"
      ]
     },
     "execution_count": 74,
     "metadata": {},
     "output_type": "execute_result"
    }
   ],
   "source": [
    "(lambda *lst: [3*e if 'o' in e else\\\n",
    "               (5*e if 'v' in e else\\\n",
    "                (e if 'a' in e else None))\\\n",
    "               for e in lst])(['hola', 'buenas', 'como', 'estamos', 'vemos', 'el', 'lio'], 'hola', 'venga')"
   ]
  },
  {
   "cell_type": "markdown",
   "id": "ccb121bc",
   "metadata": {},
   "source": [
    "### Resumen\n",
    "\n",
    "+ Las funciones Lambda hacen lo mismo que las funciones `def` (valores por defecto, \\*args, \\*\\*kwargs)\n",
    "+ Tienen una sintaxis diferente\n",
    "+ Están en una línea (dificultad en expresar el return)"
   ]
  },
  {
   "cell_type": "markdown",
   "id": "3efd14c6",
   "metadata": {},
   "source": [
    "### Más\n",
    "\n",
    "https://realpython.com/python-lambda/"
   ]
  },
  {
   "cell_type": "code",
   "execution_count": null,
   "id": "f19e106d",
   "metadata": {},
   "outputs": [],
   "source": []
  },
  {
   "cell_type": "code",
   "execution_count": null,
   "id": "9f9e533e",
   "metadata": {},
   "outputs": [],
   "source": []
  },
  {
   "cell_type": "code",
   "execution_count": null,
   "id": "ebc32328",
   "metadata": {},
   "outputs": [],
   "source": []
  },
  {
   "cell_type": "code",
   "execution_count": null,
   "id": "6add2d4c",
   "metadata": {},
   "outputs": [],
   "source": []
  }
 ],
 "metadata": {
  "kernelspec": {
   "display_name": "IronHack",
   "language": "python",
   "name": "ironhack"
  },
  "language_info": {
   "codemirror_mode": {
    "name": "ipython",
    "version": 3
   },
   "file_extension": ".py",
   "mimetype": "text/x-python",
   "name": "python",
   "nbconvert_exporter": "python",
   "pygments_lexer": "ipython3",
   "version": "3.9.12"
  }
 },
 "nbformat": 4,
 "nbformat_minor": 5
}
