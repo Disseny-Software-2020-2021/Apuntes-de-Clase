{
 "cells": [
  {
   "cell_type": "markdown",
   "id": "c0700d99",
   "metadata": {},
   "source": [
    "# 3.2 - Funciones, generadores\n",
    "\n",
    "![funciones](../../images/funciones.jpg)"
   ]
  },
  {
   "cell_type": "markdown",
   "id": "490ae7ea",
   "metadata": {},
   "source": [
    "Una función es un bloque de código con un nombre asociado, que recibe cero o más argumentos como entrada, sigue una secuencia de sentencias, la cuales ejecuta una operación deseada y devuelve un valor y/o realiza una tarea, este bloque puede ser llamados cuando se necesite.\n",
    "\n",
    "El uso de funciones es un componente muy importante del paradigma de la programación llamada estructurada, y tiene varias ventajas:\n",
    "- modularización: permite segmentar un programa complejo en una serie de partes o módulos más simples, facilitando así la programación y el depurado.\n",
    "- reutilización: permite reutilizar una misma función en distintos programas."
   ]
  },
  {
   "cell_type": "markdown",
   "id": "35e84ae2",
   "metadata": {},
   "source": [
    "### Tabla contenidos:\n",
    "\n",
    "+ Funciones propias de python (built-in functions)\n",
    "+ Funciones custom\n",
    "* Funciones Lambda"
   ]
  },
  {
   "cell_type": "markdown",
   "id": "706718a9",
   "metadata": {},
   "source": [
    "#### Funciones propias de python (built-in functions)\n",
    "\n",
    "https://docs.python.org/3/library/functions.html\n",
    "\n",
    "Estas funciones están definidas dentro de python. Para usarlas simplemente hay que invocarlas."
   ]
  },
  {
   "cell_type": "code",
   "execution_count": null,
   "id": "74016039",
   "metadata": {},
   "outputs": [],
   "source": []
  },
  {
   "cell_type": "code",
   "execution_count": null,
   "id": "65a54141",
   "metadata": {},
   "outputs": [],
   "source": []
  },
  {
   "cell_type": "code",
   "execution_count": null,
   "id": "bd803941",
   "metadata": {},
   "outputs": [],
   "source": []
  },
  {
   "cell_type": "code",
   "execution_count": null,
   "id": "524e3fa7",
   "metadata": {},
   "outputs": [],
   "source": []
  },
  {
   "cell_type": "markdown",
   "id": "150fd1b9",
   "metadata": {},
   "source": [
    "#### Funciones custom\n",
    "\n",
    "Funciones creadas por nosotros con un objetivo. \n",
    "\n",
    "**Consejo:** Las funciones realizan acciones, por eso se recomienda que sus nombres sean verbos.\n",
    "\n",
    "\n",
    "**Estructura:**"
   ]
  },
  {
   "cell_type": "markdown",
   "id": "27f0e8b9",
   "metadata": {},
   "source": [
    "```python\n",
    "def nombre_funcion(argumentos de entrada):\n",
    "    # los dos puntos y la indentacion implican estar en la funcion\n",
    "    realiza acciones\n",
    "    return () # devuelve cierto valor\n",
    "```"
   ]
  },
  {
   "cell_type": "markdown",
   "id": "ef5788c1",
   "metadata": {},
   "source": [
    "```python\n",
    "\n",
    "lst = ['Ana', 'Pedro']\n",
    "lst[i]\n",
    "print(lst)\n",
    "```"
   ]
  },
  {
   "cell_type": "code",
   "execution_count": 2,
   "id": "2664223b",
   "metadata": {},
   "outputs": [],
   "source": [
    "def sumar(x,y):\n",
    "    \n",
    "    return x + y"
   ]
  },
  {
   "cell_type": "code",
   "execution_count": null,
   "id": "8a8cb71e",
   "metadata": {},
   "outputs": [],
   "source": []
  },
  {
   "cell_type": "code",
   "execution_count": 3,
   "id": "3b03b4d6",
   "metadata": {},
   "outputs": [],
   "source": [
    "def sumar_2(a, b, c):\n",
    "    \n",
    "    res = []\n",
    "    \n",
    "    suma = sumar(a,b)\n",
    "    \n",
    "    for i in range (c):\n",
    "        print(i)\n",
    "        res.append(c**i*suma)\n",
    "        \n",
    "    return sum(res)"
   ]
  },
  {
   "cell_type": "code",
   "execution_count": null,
   "id": "469aeee8",
   "metadata": {},
   "outputs": [],
   "source": []
  },
  {
   "cell_type": "code",
   "execution_count": 4,
   "id": "89cdf551",
   "metadata": {},
   "outputs": [],
   "source": [
    "#pep8\n",
    "\n",
    "def elevar_al_cuadrado(x: int, verbose: bool) -> int: # ElevarAlCuadrado\n",
    "    \n",
    "    '''\n",
    "        Función para elevar un número al cuadrado\n",
    "        \n",
    "        Params:\n",
    "        x: Recibe un int como argumento.\n",
    "        verbose: Valor booleano para imprimir mensaje\n",
    "        \n",
    "        Return:\n",
    "        \n",
    "        x elevado al cuadrado\n",
    "        \n",
    "    \n",
    "    '''\n",
    "    if verbose:\n",
    "        print(f'Has pasado el número {x}')\n",
    "    return x**2"
   ]
  },
  {
   "cell_type": "code",
   "execution_count": null,
   "id": "ede54c13",
   "metadata": {},
   "outputs": [],
   "source": []
  },
  {
   "cell_type": "code",
   "execution_count": 7,
   "id": "8e87b6f7",
   "metadata": {},
   "outputs": [],
   "source": [
    "import random\n",
    "\n",
    "def player(nombre:str, type_of_card:str):\n",
    "    '''\n",
    "    Función que nos genera un jugador\n",
    "    \n",
    "    Params:\n",
    "    nombre = Nombre del jugador\n",
    "    \n",
    "    Return:\n",
    "     Dict con los parámetros del jugador\n",
    "    '''\n",
    "    \n",
    "    pos = random.choice(['PT','DF','MD','DL'])\n",
    "    if type_of_card == 'TOTY':\n",
    "        med = random.randint(85,100)\n",
    "    elif type_of_card == 'LEGENDS':\n",
    "        med = random.randint(95,100)\n",
    "    else:\n",
    "        med = random.randint(75,90)\n",
    "    team = random.choice(['Real Madrid', 'FC Barcelona', 'Bayern München', 'Manchester City', 'PSG', 'Juventus'])\n",
    "    nac = random.choice(['Spain', 'England', 'Brazil', 'Argentina', 'France','Portugal', 'Italy'])\n",
    "    \n",
    "    p = {'Name':nombre,\n",
    "        'Mean': med,\n",
    "        'Team':team,\n",
    "        'Nacionality': nac,\n",
    "        'Type of card': type_of_card}\n",
    "    \n",
    "    return p"
   ]
  },
  {
   "cell_type": "code",
   "execution_count": 13,
   "id": "d339a320",
   "metadata": {},
   "outputs": [
    {
     "data": {
      "text/plain": [
       "{'Name': 'Messi',\n",
       " 'Mean': 77,\n",
       " 'Team': 'PSG',\n",
       " 'Nacionality': 'England',\n",
       " 'Type of card': 'TOTM'}"
      ]
     },
     "execution_count": 13,
     "metadata": {},
     "output_type": "execute_result"
    }
   ],
   "source": [
    "player('Messi', 'TOTM')"
   ]
  },
  {
   "cell_type": "code",
   "execution_count": null,
   "id": "6e5cf48f",
   "metadata": {},
   "outputs": [],
   "source": []
  },
  {
   "cell_type": "code",
   "execution_count": null,
   "id": "10b3ed11",
   "metadata": {},
   "outputs": [],
   "source": []
  },
  {
   "cell_type": "code",
   "execution_count": null,
   "id": "6d9ad666",
   "metadata": {},
   "outputs": [],
   "source": []
  },
  {
   "cell_type": "code",
   "execution_count": null,
   "id": "1adcf9ea",
   "metadata": {},
   "outputs": [],
   "source": []
  },
  {
   "cell_type": "code",
   "execution_count": null,
   "id": "2567cb58",
   "metadata": {},
   "outputs": [],
   "source": []
  },
  {
   "cell_type": "code",
   "execution_count": null,
   "id": "11a3d8d7",
   "metadata": {},
   "outputs": [],
   "source": []
  },
  {
   "cell_type": "code",
   "execution_count": null,
   "id": "156b6c4e",
   "metadata": {},
   "outputs": [],
   "source": []
  },
  {
   "cell_type": "code",
   "execution_count": null,
   "id": "bd00024c",
   "metadata": {},
   "outputs": [],
   "source": []
  },
  {
   "cell_type": "code",
   "execution_count": null,
   "id": "758f2383",
   "metadata": {},
   "outputs": [],
   "source": []
  },
  {
   "cell_type": "code",
   "execution_count": null,
   "id": "f78fc8d0",
   "metadata": {},
   "outputs": [],
   "source": []
  },
  {
   "cell_type": "code",
   "execution_count": null,
   "id": "8cb8e8f2",
   "metadata": {},
   "outputs": [],
   "source": []
  },
  {
   "cell_type": "code",
   "execution_count": null,
   "id": "3496d84c",
   "metadata": {},
   "outputs": [],
   "source": []
  },
  {
   "cell_type": "code",
   "execution_count": null,
   "id": "f466791d",
   "metadata": {},
   "outputs": [],
   "source": []
  },
  {
   "cell_type": "code",
   "execution_count": null,
   "id": "6add2d4c",
   "metadata": {},
   "outputs": [],
   "source": []
  }
 ],
 "metadata": {
  "kernelspec": {
   "display_name": "IronHack",
   "language": "python",
   "name": "ironhack"
  },
  "language_info": {
   "codemirror_mode": {
    "name": "ipython",
    "version": 3
   },
   "file_extension": ".py",
   "mimetype": "text/x-python",
   "name": "python",
   "nbconvert_exporter": "python",
   "pygments_lexer": "ipython3",
   "version": "3.9.12"
  }
 },
 "nbformat": 4,
 "nbformat_minor": 5
}
