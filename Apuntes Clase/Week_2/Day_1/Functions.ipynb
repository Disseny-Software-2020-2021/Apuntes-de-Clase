{
 "cells": [
  {
   "cell_type": "markdown",
   "id": "c0700d99",
   "metadata": {},
   "source": [
    "# 3.2 - Funciones, generadores\n",
    "\n",
    "![funciones](../../images/funciones.jpg)"
   ]
  },
  {
   "cell_type": "markdown",
   "id": "490ae7ea",
   "metadata": {},
   "source": [
    "Una función es un bloque de código con un nombre asociado, que recibe cero o más argumentos como entrada, sigue una secuencia de sentencias, la cuales ejecuta una operación deseada y devuelve un valor y/o realiza una tarea, este bloque puede ser llamados cuando se necesite.\n",
    "\n",
    "El uso de funciones es un componente muy importante del paradigma de la programación llamada estructurada, y tiene varias ventajas:\n",
    "- modularización: permite segmentar un programa complejo en una serie de partes o módulos más simples, facilitando así la programación y el depurado.\n",
    "- reutilización: permite reutilizar una misma función en distintos programas."
   ]
  },
  {
   "cell_type": "markdown",
   "id": "35e84ae2",
   "metadata": {},
   "source": [
    "# Tabla contenidos:\n",
    "\n",
    "+ Funciones propias de python (built-in functions)\n",
    "+ Funciones custom\n",
    "* Funciones Lambda"
   ]
  },
  {
   "cell_type": "markdown",
   "id": "706718a9",
   "metadata": {},
   "source": [
    "## Funciones propias de python (built-in functions)\n",
    "\n",
    "https://docs.python.org/3/library/functions.html\n",
    "\n",
    "Estas funciones están definidas dentro de python. Para usarlas simplemente hay que invocarlas."
   ]
  },
  {
   "cell_type": "code",
   "execution_count": null,
   "id": "74016039",
   "metadata": {},
   "outputs": [],
   "source": [
    "print('hola')"
   ]
  },
  {
   "cell_type": "code",
   "execution_count": null,
   "id": "65a54141",
   "metadata": {},
   "outputs": [],
   "source": [
    "len([1,2,3,4,5,6])"
   ]
  },
  {
   "cell_type": "code",
   "execution_count": null,
   "id": "2e2b31ab",
   "metadata": {},
   "outputs": [],
   "source": [
    "max([11,34,456,76,234,765,664,2345,745645,235434,765476,23453,7457,245,74567,2345,3456])"
   ]
  },
  {
   "cell_type": "code",
   "execution_count": null,
   "id": "524e3fa7",
   "metadata": {},
   "outputs": [],
   "source": [
    "min([11,34,456,76,234,765,664,2345,745645,235434,765476,23453,7457,245,74567,2345,3456])"
   ]
  },
  {
   "cell_type": "code",
   "execution_count": null,
   "id": "1451aecb",
   "metadata": {},
   "outputs": [],
   "source": [
    "sorted([11,34,456,76,234,765,664,2345,745645,235434,765476,23453,7457,245,74567,2345,3456])"
   ]
  },
  {
   "cell_type": "code",
   "execution_count": null,
   "id": "048b84eb",
   "metadata": {},
   "outputs": [],
   "source": [
    "sorted([11,34,456,76,234,765,664,2345,745645,235434,765476,23453,7457,245,74567,2345,3456], reverse=True)"
   ]
  },
  {
   "cell_type": "markdown",
   "id": "150fd1b9",
   "metadata": {},
   "source": [
    "## Funciones custom\n",
    "\n",
    "Funciones creadas por nosotros con un objetivo. \n",
    "\n",
    "**Consejo:** Las funciones realizan acciones, por eso se recomienda que sus nombres sean verbos.\n",
    "\n",
    "\n",
    "**Estructura:**"
   ]
  },
  {
   "cell_type": "markdown",
   "id": "27f0e8b9",
   "metadata": {},
   "source": [
    "```python\n",
    "def nombre_funcion(argumentos de entrada):\n",
    "    # los dos puntos y la indentacion implican estar en la funcion\n",
    "    realiza acciones\n",
    "    return () # devuelve cierto valor\n",
    "```"
   ]
  },
  {
   "cell_type": "markdown",
   "id": "ef5788c1",
   "metadata": {},
   "source": [
    "```python\n",
    "\n",
    "lst = ['Ana', 'Pedro']\n",
    "lst[i]\n",
    "print(lst)\n",
    "```"
   ]
  },
  {
   "cell_type": "code",
   "execution_count": null,
   "id": "2664223b",
   "metadata": {},
   "outputs": [],
   "source": [
    "def sumar(x,y):\n",
    "    \n",
    "    return x + y"
   ]
  },
  {
   "cell_type": "code",
   "execution_count": null,
   "id": "8a8cb71e",
   "metadata": {},
   "outputs": [],
   "source": []
  },
  {
   "cell_type": "code",
   "execution_count": null,
   "id": "3b03b4d6",
   "metadata": {},
   "outputs": [],
   "source": [
    "def sumar_2(a, b, c):\n",
    "    \n",
    "    res = []\n",
    "    \n",
    "    suma = sumar(a,b)\n",
    "    \n",
    "    for i in range (c):\n",
    "        print(i)\n",
    "        res.append(c**i*suma)\n",
    "        \n",
    "    return sum(res)"
   ]
  },
  {
   "cell_type": "code",
   "execution_count": null,
   "id": "469aeee8",
   "metadata": {},
   "outputs": [],
   "source": []
  },
  {
   "cell_type": "code",
   "execution_count": null,
   "id": "89cdf551",
   "metadata": {},
   "outputs": [],
   "source": [
    "#pep8\n",
    "\n",
    "def elevar_al_cuadrado(x: int, verbose: bool) -> int: # ElevarAlCuadrado\n",
    "    \n",
    "    '''\n",
    "        Función para elevar un número al cuadrado\n",
    "        \n",
    "        Params:\n",
    "        x: Recibe un int como argumento.\n",
    "        verbose: Valor booleano para imprimir mensaje\n",
    "        \n",
    "        Return:\n",
    "        \n",
    "        x elevado al cuadrado\n",
    "        \n",
    "    \n",
    "    '''\n",
    "    if verbose:\n",
    "        print(f'Has pasado el número {x}')\n",
    "    return x**2"
   ]
  },
  {
   "cell_type": "code",
   "execution_count": null,
   "id": "ede54c13",
   "metadata": {},
   "outputs": [],
   "source": [
    "for i in range(2,10):\n",
    "    print(f'{i} al cuadrado es {elevar_al_cuadrado(i, True)}')"
   ]
  },
  {
   "cell_type": "code",
   "execution_count": null,
   "id": "8e87b6f7",
   "metadata": {},
   "outputs": [],
   "source": [
    "import random\n",
    "\n",
    "def player(nombre:str, type_of_card:str):\n",
    "    '''\n",
    "    Función que nos genera un jugador\n",
    "    \n",
    "    Params:\n",
    "    nombre = Nombre del jugador\n",
    "    type_of_card = Tipo de carta que queremos generar\n",
    "    \n",
    "    Return:\n",
    "     Diccionario con los parámetros de la carta del jugador\n",
    "    '''\n",
    "    \n",
    "    pos = random.choice(['PT','DF','MD','DL'])\n",
    "    if type_of_card == 'TOTY':\n",
    "        med = random.randint(85,100)\n",
    "    elif type_of_card == 'LEGENDS':\n",
    "        med = random.randint(95,100)\n",
    "    else:\n",
    "        med = random.randint(75,90)\n",
    "    team = random.choice(['Real Madrid', 'FC Barcelona', 'Bayern München', 'Manchester City', 'PSG', 'Juventus'])\n",
    "    nac = random.choice(['Spain', 'England', 'Brazil', 'Argentina', 'France','Portugal', 'Italy'])\n",
    "    \n",
    "    p = {'Name':nombre,\n",
    "        'Mean': med,\n",
    "        'Team':team,\n",
    "        'Nacionality': nac,\n",
    "        'Type of card': type_of_card}\n",
    "    \n",
    "    return p"
   ]
  },
  {
   "cell_type": "code",
   "execution_count": null,
   "id": "02ad25eb",
   "metadata": {},
   "outputs": [],
   "source": [
    "help(player)"
   ]
  },
  {
   "cell_type": "code",
   "execution_count": null,
   "id": "d339a320",
   "metadata": {},
   "outputs": [],
   "source": [
    "player('Messi', 'TOTY')"
   ]
  },
  {
   "cell_type": "code",
   "execution_count": null,
   "id": "db5aac4a",
   "metadata": {},
   "outputs": [],
   "source": [
    "for i in range(5):\n",
    "    card = random.choice(['TOTY', 'LEGENDS', 'GOLD'])\n",
    "    name = random.choice(['Messi', 'Cristiano Ronaldo', 'Evra', 'Pogba', 'Vinicius Jr.', 'Benzema', 'Canales', 'Isco',\n",
    "                         'Gavi', 'Pedri', 'Ter Stegen', 'Joao Felix', 'Morata', 'Koke', 'Pau Torres', 'Maradona', 'Pelé',\n",
    "                         'Matthaüs', 'Muller', 'Mbappe', 'Neymar', 'Halland', 'Pirlo', 'Van Basten', 'Del Piero', 'Nakamura',\n",
    "                         'Oliver Atom', 'Benji Price', 'Mark Lenders', 'Julian Ross'])\n",
    "    print(player(name, card))"
   ]
  },
  {
   "cell_type": "markdown",
   "id": "8e80b019",
   "metadata": {},
   "source": [
    "**Argumentos por defecto**"
   ]
  },
  {
   "cell_type": "code",
   "execution_count": null,
   "id": "98c40c08",
   "metadata": {},
   "outputs": [],
   "source": [
    "def sumar_3(a,b,c=8 ):\n",
    "    \n",
    "    return a + b +1/c"
   ]
  },
  {
   "cell_type": "code",
   "execution_count": null,
   "id": "4e96f783",
   "metadata": {},
   "outputs": [],
   "source": [
    "sumar_3(4,5)"
   ]
  },
  {
   "cell_type": "code",
   "execution_count": null,
   "id": "a927fbd9",
   "metadata": {},
   "outputs": [],
   "source": [
    "sumar_3(3,4,0)"
   ]
  },
  {
   "cell_type": "code",
   "execution_count": null,
   "id": "ff837dd4",
   "metadata": {},
   "outputs": [],
   "source": [
    "def sumar_4(a, b, c=8):\n",
    "    try:\n",
    "        return a + b + 1/c\n",
    "    except ZeroDivisionError:\n",
    "        print('oye majo que estas diviendo por 0')\n",
    "        c=int(input('Introduce un valor distinto de 0 campeón:'))\n",
    "        return a + b + 1/c"
   ]
  },
  {
   "cell_type": "code",
   "execution_count": null,
   "id": "5ac276a7",
   "metadata": {},
   "outputs": [],
   "source": []
  },
  {
   "cell_type": "markdown",
   "id": "f335c366",
   "metadata": {},
   "source": [
    "**Argumentos posicionales y argumentos clave-valor (args, kwargs)**"
   ]
  },
  {
   "cell_type": "code",
   "execution_count": null,
   "id": "722e09f1",
   "metadata": {},
   "outputs": [],
   "source": [
    "def sumar(a,b):\n",
    "    return a+b"
   ]
  },
  {
   "cell_type": "code",
   "execution_count": null,
   "id": "630a8812",
   "metadata": {},
   "outputs": [],
   "source": [
    "sumar(1,2,3)"
   ]
  },
  {
   "cell_type": "code",
   "execution_count": null,
   "id": "ece27dd3",
   "metadata": {},
   "outputs": [],
   "source": [
    "def sumar(*args):\n",
    "    \n",
    "    if len(args)<10:\n",
    "        print(args)\n",
    "    \n",
    "    res= 0\n",
    "    \n",
    "    for e in args:\n",
    "        \n",
    "        res += e\n",
    "    \n",
    "    return res"
   ]
  },
  {
   "cell_type": "markdown",
   "id": "167fd07a",
   "metadata": {},
   "source": [
    "Al programar una función que acepte como paramatro de entrada todos los argumentos que queramos, le estamos pidiendo que internamente nuestra función genere una lista con todos los argumentos que le hemos pasado y vaya iterando por ellos y los seleccione uno a uno"
   ]
  },
  {
   "cell_type": "code",
   "execution_count": null,
   "id": "02cc7fca",
   "metadata": {},
   "outputs": [],
   "source": [
    "def saludar(nombre, lang='es', colega=True):\n",
    "    \n",
    "    s= ''\n",
    "    \n",
    "    if colega:\n",
    "        s= 'colegaa que pasaaah!!!'\n",
    "    if lang == 'es':\n",
    "        print('Hola {}, {}'.format(nombre, s))\n",
    "    else:\n",
    "        print('Hello {} buddy'.format(nombre))"
   ]
  },
  {
   "cell_type": "code",
   "execution_count": null,
   "id": "cf4eacd7",
   "metadata": {},
   "outputs": [],
   "source": [
    "saludar('kike')"
   ]
  },
  {
   "cell_type": "code",
   "execution_count": null,
   "id": "0b36f1a2",
   "metadata": {},
   "outputs": [],
   "source": [
    "saludar('kike', 'en')"
   ]
  },
  {
   "cell_type": "code",
   "execution_count": null,
   "id": "767895c8",
   "metadata": {},
   "outputs": [],
   "source": [
    "saludar('kike', 'es', False)"
   ]
  },
  {
   "cell_type": "code",
   "execution_count": null,
   "id": "437de045",
   "metadata": {},
   "outputs": [],
   "source": [
    "def saludo_a_clase(*args, lang='es', colega=True):\n",
    "    for e in args:\n",
    "        saludar(e, lang, colega)"
   ]
  },
  {
   "cell_type": "code",
   "execution_count": null,
   "id": "291c4c3e",
   "metadata": {},
   "outputs": [],
   "source": [
    "saludo_a_clase('Ana', 'David', 'Javier','Esperanza', 'Lucias')"
   ]
  },
  {
   "cell_type": "markdown",
   "id": "596b123d",
   "metadata": {},
   "source": [
    "El símbolo `**` quiere decir que coja los elementos de uno en uno sabiendo que tiene la estructura clave-valor como en un diccionario."
   ]
  },
  {
   "cell_type": "code",
   "execution_count": null,
   "id": "a525435b",
   "metadata": {},
   "outputs": [],
   "source": [
    "nombres = ['Ana', 'David', 'Javier','Esperanza', 'Lucias']\n",
    "\n",
    "config = {'lang': 'en', 'colega':False}"
   ]
  },
  {
   "cell_type": "code",
   "execution_count": null,
   "id": "850819b1",
   "metadata": {},
   "outputs": [],
   "source": [
    "saludo_a_clase(*nombres, **config)"
   ]
  },
  {
   "cell_type": "code",
   "execution_count": null,
   "id": "f9a2d217",
   "metadata": {},
   "outputs": [],
   "source": [
    "def func(*args, **kwargs):\n",
    "    print(args)\n",
    "    print(kwargs)"
   ]
  },
  {
   "cell_type": "code",
   "execution_count": null,
   "id": "65d063c5",
   "metadata": {},
   "outputs": [],
   "source": [
    "func(*[1,2,3], **config)"
   ]
  },
  {
   "cell_type": "markdown",
   "id": "2c44f049",
   "metadata": {},
   "source": [
    "## Funciones Lambda"
   ]
  },
  {
   "cell_type": "markdown",
   "id": "1a90d573",
   "metadata": {},
   "source": [
    "**Definición de Lambda**\n",
    "\n",
    "En Python, una función Lambda se refiere a una pequeña función anónima. Las llamamos “funciones anónimas” porque técnicamente carecen de nombre.\n",
    "\n",
    "Al contrario que una función normal, no la definimos con la palabra clave estándar def que utilizamos en python. En su lugar, las funciones Lambda se definen como una línea que ejecuta una sola expresión. Este tipo de funciones pueden tomar cualquier número de argumentos, pero solo pueden tener una expresión.\n",
    "\n",
    "Una de las utilidades principales de las funciones Lambda es la optimización de memoria, no guardando la función una vez utilizada.\n",
    "\n",
    "**Sintaxis de la función Lambda**\n",
    "```python\n",
    "lambda parámetro_1, parámetro_2: action(parámetro_1, parámetro_2)\n",
    "```\n",
    "\n",
    "También puede tener valores por defecto:\n",
    "\n",
    "```python\n",
    "lambda parámetro_1, parámetro_2='valor_por_defecto': action(parámetro_1, parámetro_2)\n",
    "```\n",
    "\n",
    "O más general:\n",
    "\n",
    "```python\n",
    "lambda *args,**kwargs: acción(*args,**kwargs)"
   ]
  },
  {
   "cell_type": "markdown",
   "id": "c5570d0d",
   "metadata": {},
   "source": [
    "**Ejemplos:**\n",
    "\n",
    "Supongamos primero una función sencilla:"
   ]
  },
  {
   "cell_type": "code",
   "execution_count": null,
   "id": "2567cb58",
   "metadata": {},
   "outputs": [],
   "source": [
    "def sumar (a,b):\n",
    "    return a,b"
   ]
  },
  {
   "cell_type": "code",
   "execution_count": null,
   "id": "11a3d8d7",
   "metadata": {},
   "outputs": [],
   "source": [
    "sumar"
   ]
  },
  {
   "cell_type": "code",
   "execution_count": null,
   "id": "156b6c4e",
   "metadata": {},
   "outputs": [],
   "source": [
    "sumar(3,4)"
   ]
  },
  {
   "cell_type": "code",
   "execution_count": null,
   "id": "bd00024c",
   "metadata": {},
   "outputs": [],
   "source": [
    "# con lambda\n",
    "\n",
    "lambda a,b : a+b"
   ]
  },
  {
   "cell_type": "code",
   "execution_count": null,
   "id": "758f2383",
   "metadata": {},
   "outputs": [],
   "source": [
    "(lambda a,b : a+b)(3,4)"
   ]
  },
  {
   "cell_type": "markdown",
   "id": "90512606",
   "metadata": {},
   "source": [
    "Siempre que queramos podremos transformar una función lambda en una función custom"
   ]
  },
  {
   "cell_type": "code",
   "execution_count": null,
   "id": "8cb8e8f2",
   "metadata": {},
   "outputs": [],
   "source": [
    "sumar = lambda a,b : a+b"
   ]
  },
  {
   "cell_type": "code",
   "execution_count": null,
   "id": "3496d84c",
   "metadata": {},
   "outputs": [],
   "source": [
    "sumar(3,4)"
   ]
  },
  {
   "cell_type": "markdown",
   "id": "057e00a3",
   "metadata": {},
   "source": [
    "Al igual que el resto de funciones las funciones lambda también pueden recibir argumentos por defecto"
   ]
  },
  {
   "cell_type": "code",
   "execution_count": null,
   "id": "dea77027",
   "metadata": {},
   "outputs": [],
   "source": [
    "def sumar_10(a, b=10):\n",
    "    return a + b"
   ]
  },
  {
   "cell_type": "code",
   "execution_count": null,
   "id": "5372d060",
   "metadata": {},
   "outputs": [],
   "source": [
    "sumar_10(2)"
   ]
  },
  {
   "cell_type": "code",
   "execution_count": null,
   "id": "03a0700d",
   "metadata": {},
   "outputs": [],
   "source": [
    "(lambda a, b=10: a+b)(2)"
   ]
  },
  {
   "cell_type": "code",
   "execution_count": null,
   "id": "7b0a1d90",
   "metadata": {},
   "outputs": [],
   "source": [
    "(lambda a, b=10: a+b)(2, 15)"
   ]
  },
  {
   "cell_type": "code",
   "execution_count": null,
   "id": "b0a59ab3",
   "metadata": {},
   "outputs": [],
   "source": [
    "help(lambda a,b : a+b)"
   ]
  },
  {
   "cell_type": "markdown",
   "id": "47685fd2",
   "metadata": {},
   "source": [
    "### Un ejemplo un poco más complicado 🏃‍♂️🏃‍♀️👺"
   ]
  },
  {
   "cell_type": "code",
   "execution_count": null,
   "id": "c8e1fc2c",
   "metadata": {},
   "outputs": [],
   "source": [
    "def filtrar(*lst):\n",
    "    \n",
    "    res = []\n",
    "    \n",
    "    for e in lst:\n",
    "        \n",
    "        if 'o' in e:\n",
    "            res.append(3*e)\n",
    "            \n",
    "        elif 'v' in e:\n",
    "            res.append(e)\n",
    "            \n",
    "        elif 'a' in e:\n",
    "            res.append(5*e)\n",
    "            \n",
    "        else:\n",
    "            res.append(None)\n",
    "            \n",
    "    return res"
   ]
  },
  {
   "cell_type": "code",
   "execution_count": null,
   "id": "6e0a6b65",
   "metadata": {},
   "outputs": [],
   "source": [
    "filtrar(['hola', 'buenas', 'como', 'estamos', 'vemos', 'el', 'lio'], 'hola', 'venga')"
   ]
  },
  {
   "cell_type": "code",
   "execution_count": null,
   "id": "c8dbe24c",
   "metadata": {},
   "outputs": [],
   "source": [
    "lambda *lst: [3*e if 'o' in e else(e if 'v' in e else(5*e if 'a' in e else None)) for e in lst]"
   ]
  },
  {
   "cell_type": "code",
   "execution_count": null,
   "id": "54967c8d",
   "metadata": {},
   "outputs": [],
   "source": [
    "(lambda *lst: [3*e if 'o' in e else\\\n",
    "               (e if 'v' in e else\\\n",
    "                (5*e if 'a' in e else None))\\\n",
    "               for e in lst])(['hola', 'buenas', 'como', 'estamos', 'vemos', 'el', 'lio'], 'hola', 'venga')"
   ]
  },
  {
   "cell_type": "markdown",
   "id": "ccb121bc",
   "metadata": {},
   "source": [
    "### Resumen\n",
    "\n",
    "+ Las funciones Lambda hacen lo mismo que las funciones `def` (valores por defecto, \\*args, \\*\\*kwargs)\n",
    "+ Tienen una sintaxis diferente\n",
    "+ Están en una línea (dificultad en expresar el return)"
   ]
  },
  {
   "cell_type": "markdown",
   "id": "3efd14c6",
   "metadata": {},
   "source": [
    "### Más\n",
    "\n",
    "https://realpython.com/python-lambda/"
   ]
  },
  {
   "cell_type": "code",
   "execution_count": null,
   "id": "f19e106d",
   "metadata": {},
   "outputs": [],
   "source": []
  },
  {
   "cell_type": "code",
   "execution_count": null,
   "id": "9f9e533e",
   "metadata": {},
   "outputs": [],
   "source": []
  },
  {
   "cell_type": "code",
   "execution_count": null,
   "id": "ebc32328",
   "metadata": {},
   "outputs": [],
   "source": []
  },
  {
   "cell_type": "code",
   "execution_count": null,
   "id": "6add2d4c",
   "metadata": {},
   "outputs": [],
   "source": []
  }
 ],
 "metadata": {
  "kernelspec": {
   "display_name": "IronHack",
   "language": "python",
   "name": "ironhack"
  },
  "language_info": {
   "codemirror_mode": {
    "name": "ipython",
    "version": 3
   },
   "file_extension": ".py",
   "mimetype": "text/x-python",
   "name": "python",
   "nbconvert_exporter": "python",
   "pygments_lexer": "ipython3",
   "version": "3.9.12"
  }
 },
 "nbformat": 4,
 "nbformat_minor": 5
}
