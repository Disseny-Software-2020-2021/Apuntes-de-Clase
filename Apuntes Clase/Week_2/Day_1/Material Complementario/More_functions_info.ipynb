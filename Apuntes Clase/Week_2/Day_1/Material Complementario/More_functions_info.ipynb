{
  "nbformat": 4,
  "nbformat_minor": 0,
  "metadata": {
    "kernelspec": {
      "display_name": "Python 3",
      "language": "python",
      "name": "python3"
    },
    "language_info": {
      "codemirror_mode": {
        "name": "ipython",
        "version": 3
      },
      "file_extension": ".py",
      "mimetype": "text/x-python",
      "name": "python",
      "nbconvert_exporter": "python",
      "pygments_lexer": "ipython3",
      "version": "3.8.4"
    },
    "toc": {
      "base_numbering": 1,
      "nav_menu": {},
      "number_sections": true,
      "sideBar": true,
      "skip_h1_title": false,
      "title_cell": "Table of Contents",
      "title_sidebar": "Contents",
      "toc_cell": false,
      "toc_position": {},
      "toc_section_display": true,
      "toc_window_display": false
    },
    "varInspector": {
      "cols": {
        "lenName": 16,
        "lenType": 16,
        "lenVar": 40
      },
      "kernels_config": {
        "python": {
          "delete_cmd_postfix": "",
          "delete_cmd_prefix": "del ",
          "library": "var_list.py",
          "varRefreshCmd": "print(var_dic_list())"
        },
        "r": {
          "delete_cmd_postfix": ") ",
          "delete_cmd_prefix": "rm(",
          "library": "var_list.r",
          "varRefreshCmd": "cat(var_dic_list()) "
        }
      },
      "types_to_exclude": [
        "module",
        "function",
        "builtin_function_or_method",
        "instance",
        "_Feature"
      ],
      "window_display": false
    },
    "colab": {
      "name": "Code_along_Functions.ipynb",
      "provenance": []
    }
  },
  "cells": [
    {
      "cell_type": "markdown",
      "metadata": {
        "id": "1_Fp9TJ6X_3d"
      },
      "source": [
        "## Functions"
      ]
    },
    {
      "cell_type": "markdown",
      "metadata": {
        "id": "lA76SYBzX_3i"
      },
      "source": [
        "A function is a 'device' that groups a set of statements so they can be run more than once in a program.\n",
        "\n",
        "They let us specify parameters (arguments) as inputs.\n",
        "\n",
        "**Why use functions?**\n",
        "\n",
        "- _Maximizing code re-use and minimizing redundancy:_\n",
        "\n",
        "Functions allow us to group operations in a single place (with a single name) and call it many times, we have to write less code. 'Packing' your code into functions is generally a way to make it more useful, portable and easy to automatize and re-use.\n",
        "\n",
        "- _Procedural decomposition:_\n",
        "\n",
        "Functions help you split programs into parts that have a meaning of their own. The same way making a pizza can be splitted into 'making the dough', 'adding topings', 'baking', your programs should be split into chunks (functions), each one with its sub-tasks."
      ]
    },
    {
      "cell_type": "markdown",
      "metadata": {
        "id": "b26C_tDbX_3i"
      },
      "source": [
        "Important: \n",
        "\n",
        "- diference between 'print' and 'return' in a function.\n",
        "\n",
        "- scope rules\n",
        "\n",
        "- argument passing\n"
      ]
    },
    {
      "cell_type": "markdown",
      "metadata": {
        "id": "ycU5XzB8X_3j"
      },
      "source": [
        "### Coding functions\n",
        "\n",
        "- **def** is executable code. We have to execute the code for the function to exist. def creates an object and assigns it to a name. A new function object is created and assigned to the function's name.\n",
        "\n",
        "- **lambda** creates an object but returns it as a result. With lambda expressions we can create functions and obtain their output in a single line.\n",
        "\n",
        "- **return** sends a result back to the caller [optional]\n",
        "\n",
        "- **global** and **non-local** adjust the scope of variables. By default, all names assigned in a function are local to that function and exist only while the function runs. To assign a name in the enclosing module, functions need to list it in a global statement. More generally, names are always looked up in scopes—places where variables are stored —and assignments bind names to scopes.\n",
        "\n",
        "- **arguments** are passed by position, unless you specify otherwise\n",
        "\n"
      ]
    },
    {
      "cell_type": "markdown",
      "metadata": {
        "id": "FtLp8pzhX_3j"
      },
      "source": [
        "#### def Statement\n",
        "\n",
        "```python\n",
        "def name(arg1, arg2, ... argN):\n",
        "    <statement1>\n",
        "    <statement2>\n",
        "    ...\n",
        "    [return] value\n",
        "```"
      ]
    },
    {
      "cell_type": "markdown",
      "metadata": {
        "id": "xhjqmxyDX_3j"
      },
      "source": [
        "Because function definition happens at runtime, there’s nothing special about the function name. What’s important is the object to which it refers:\n",
        "\n",
        "```python\n",
        "def func(): \n",
        "    return value           # Define func this way\n",
        "othername = func           # Assign function object\n",
        "othername()                # Call func again\n",
        "```"
      ]
    },
    {
      "cell_type": "markdown",
      "metadata": {
        "id": "EwCKsChLX_3k"
      },
      "source": [
        "#### Defining a function to divide 2 numbers:\n",
        "\n",
        "Let's start with a simple function which will as **inputs** two numbers and it return the division of both."
      ]
    },
    {
      "cell_type": "code",
      "metadata": {
        "id": "MxIKT84kX_3k"
      },
      "source": [
        "def divide(x, y):\n",
        "    '''\n",
        "    This function divides x over y\n",
        "    Input arguments: x ,y \n",
        "    Input arguments: integers\n",
        "    Output x / y \n",
        "    Output type: float\n",
        "    '''\n",
        "    if ( type(x) != int or type(y) != int  ):\n",
        "        print(\"I said INTEGERS!!!!\")\n",
        "    else:\n",
        "        z = x / y\n",
        "        return z"
      ],
      "execution_count": null,
      "outputs": []
    },
    {
      "cell_type": "markdown",
      "metadata": {
        "id": "n-BfoBnACJXG"
      },
      "source": [
        "As you can see, there are several differences between user defined functions and lambda functions.\n",
        "\n",
        "1. User defined functions start with `def` not `lambda``\n",
        "2. User defined functions have a name\n",
        "3. User defined functions can contain more than one single statement\n",
        "4. User defined functions can contain a `docstring` which is a documentation for thir parties. "
      ]
    },
    {
      "cell_type": "code",
      "metadata": {
        "colab": {
          "base_uri": "https://localhost:8080/"
        },
        "id": "xQV-P1EUlf3c",
        "outputId": "08537bc9-a10a-458f-ecf3-352ceda4cce5"
      },
      "source": [
        "divide(\"Hello\",5)"
      ],
      "execution_count": null,
      "outputs": [
        {
          "output_type": "stream",
          "name": "stdout",
          "text": [
            "I said INTEGERS!!!!\n"
          ]
        }
      ]
    },
    {
      "cell_type": "markdown",
      "metadata": {
        "id": "alIucNnWX_3k"
      },
      "source": [
        "#### Calling the function\n",
        "\n",
        "Unless specified otherwise, arguments are passed in order"
      ]
    },
    {
      "cell_type": "code",
      "metadata": {
        "id": "fbyN88D9X_3l",
        "colab": {
          "base_uri": "https://localhost:8080/"
        },
        "outputId": "1dba2aec-a6e6-4ad6-d1da-ab78210c37bb"
      },
      "source": [
        "divide(6,5)"
      ],
      "execution_count": null,
      "outputs": [
        {
          "output_type": "execute_result",
          "data": {
            "text/plain": [
              "1.2"
            ]
          },
          "metadata": {},
          "execution_count": 3
        }
      ]
    },
    {
      "cell_type": "markdown",
      "metadata": {
        "id": "xoHb8h7ZX_3l"
      },
      "source": [
        "### The order of the inputs matters!\n",
        "\n",
        "Let's see what happens if we switch the order of the arguments:"
      ]
    },
    {
      "cell_type": "code",
      "metadata": {
        "id": "g8_DHMxwX_3l",
        "colab": {
          "base_uri": "https://localhost:8080/"
        },
        "outputId": "629cb497-8484-4078-bc2d-1e4b64fb0dcf"
      },
      "source": [
        "divide(5,6)"
      ],
      "execution_count": null,
      "outputs": [
        {
          "output_type": "execute_result",
          "data": {
            "text/plain": [
              "0.8333333333333334"
            ]
          },
          "metadata": {
            "tags": []
          },
          "execution_count": 4
        }
      ]
    },
    {
      "cell_type": "markdown",
      "metadata": {
        "id": "Z0m1k4kLX_3l"
      },
      "source": [
        "### Defining optional arguments\n",
        "\n",
        "Sometimes, we would like our function to use a `default` value for a variable **unless we specify another value for it**\n",
        "\n",
        "Let's see what does it mean and how to recognize optional arguments in the interface of the function with an example."
      ]
    },
    {
      "cell_type": "code",
      "metadata": {
        "id": "v4gAmOxlX_3l"
      },
      "source": [
        "def divide2(x, y, z = 0):\n",
        "    '''\n",
        "    This function divides x over y\n",
        "    Input arguments: x ,y \n",
        "    Input arguments: integers\n",
        "    Output x / y \n",
        "    Output type: float\n",
        "    '''\n",
        "    if ( type(x) != int or type(y) != int  or type(z) != int):\n",
        "        print(\"I said INTEGERS!!!!\")\n",
        "    else:\n",
        "        if ( z != 0 ):\n",
        "            z2 = x / ( y * z )\n",
        "        else:\n",
        "            z2 = x / y\n",
        "        return z2"
      ],
      "execution_count": null,
      "outputs": []
    },
    {
      "cell_type": "markdown",
      "metadata": {
        "id": "MSXPp6CGEN6D"
      },
      "source": [
        "In this function `z` is an **optional argument/input**. It will take the value of 0 unless we provide another value for it when we call the function."
      ]
    },
    {
      "cell_type": "code",
      "metadata": {
        "colab": {
          "base_uri": "https://localhost:8080/"
        },
        "id": "a0Cq_ODvoIkX",
        "outputId": "73f46adb-b691-46b3-c2ef-75ee15b76ec7"
      },
      "source": [
        "divide2(6,5,\"Hello\")"
      ],
      "execution_count": null,
      "outputs": [
        {
          "output_type": "stream",
          "name": "stdout",
          "text": [
            "I said INTEGERS!!!!\n"
          ]
        }
      ]
    },
    {
      "cell_type": "markdown",
      "metadata": {
        "id": "lUi7RPMLEp38"
      },
      "source": [
        "Remember thst when we call the function, the values of the inputs are asigned to the variables in order from left to the right. Therefore, in the previous example **inside the function**:\n",
        "\n",
        "x = 6\n",
        "\n",
        "y = 5\n",
        "\n",
        "z = \"Hello\"\n",
        "\n",
        "This explains why the function shows what it shows."
      ]
    },
    {
      "cell_type": "markdown",
      "metadata": {
        "id": "ZtQicuV3FMQT"
      },
      "source": [
        "We can omit the third input and therefore z = 0"
      ]
    },
    {
      "cell_type": "code",
      "metadata": {
        "colab": {
          "base_uri": "https://localhost:8080/"
        },
        "id": "BnWGfSFHDTUg",
        "outputId": "c495efbf-b170-4d68-e46a-2a9fdcf625b1"
      },
      "source": [
        "divide2(6,5)"
      ],
      "execution_count": null,
      "outputs": [
        {
          "output_type": "execute_result",
          "data": {
            "text/plain": [
              "1.2"
            ]
          },
          "metadata": {},
          "execution_count": 7
        }
      ]
    },
    {
      "cell_type": "markdown",
      "metadata": {
        "id": "hNzhFfyKFVN8"
      },
      "source": [
        "We can also provide a variable to the inputs of a function. In this case, the values of the variables **inside the function** will be replaced by the values of the input variable. However, the original variable will not be modified."
      ]
    },
    {
      "cell_type": "code",
      "metadata": {
        "colab": {
          "base_uri": "https://localhost:8080/"
        },
        "id": "y1XY6ZWeDO12",
        "outputId": "6c1156b3-9f54-42d8-a6f4-70499a8f792f"
      },
      "source": [
        "z2 = 7\n",
        "z2"
      ],
      "execution_count": null,
      "outputs": [
        {
          "output_type": "execute_result",
          "data": {
            "text/plain": [
              "7"
            ]
          },
          "metadata": {},
          "execution_count": 6
        }
      ]
    },
    {
      "cell_type": "code",
      "metadata": {
        "colab": {
          "base_uri": "https://localhost:8080/"
        },
        "id": "gaCz-_FcDn1V",
        "outputId": "06d193fe-6f3e-41a4-ce6c-a6c07591d344"
      },
      "source": [
        "divide2(z2,5)"
      ],
      "execution_count": null,
      "outputs": [
        {
          "output_type": "execute_result",
          "data": {
            "text/plain": [
              "1.4"
            ]
          },
          "metadata": {},
          "execution_count": 11
        }
      ]
    },
    {
      "cell_type": "code",
      "metadata": {
        "colab": {
          "base_uri": "https://localhost:8080/"
        },
        "id": "Ije7h5m5DwHJ",
        "outputId": "f9528e0a-9be1-4ad8-ecec-32595760d73c"
      },
      "source": [
        "z2"
      ],
      "execution_count": null,
      "outputs": [
        {
          "output_type": "execute_result",
          "data": {
            "text/plain": [
              "7"
            ]
          },
          "metadata": {},
          "execution_count": 12
        }
      ]
    },
    {
      "cell_type": "markdown",
      "metadata": {
        "id": "be3FrnzFX_3l"
      },
      "source": [
        "Arguments are not restricted to an object type (we never declare the types of variables, arguments or return values)"
      ]
    },
    {
      "cell_type": "markdown",
      "metadata": {
        "id": "WpFnfs2zX_3m"
      },
      "source": [
        "Testing for types is not a common practice. Embrace python's flexibility!"
      ]
    },
    {
      "cell_type": "markdown",
      "metadata": {
        "id": "-7PvFXBHX_3n"
      },
      "source": [
        "#### Build a function to return the intersection of two lists"
      ]
    },
    {
      "cell_type": "code",
      "metadata": {
        "id": "VtEfbZeTEhk9"
      },
      "source": [
        "def intersection(list1, list2):\n",
        "    '''\n",
        "    This function outputs the intersection of two lists\n",
        "    Inputs: \n",
        "    list1 is a list\n",
        "    list2 is a list\n",
        "    Output:\n",
        "    another list\n",
        "    '''\n",
        "    common = []\n",
        "    # search common elements\n",
        "    # list1 = [1,2,3,4], list2 = [2,6,7,8,10,12]\n",
        "    for elem in list1:\n",
        "        if ( elem in list2 ):\n",
        "            common.append(elem)\n",
        "    \n",
        "    return common"
      ],
      "execution_count": null,
      "outputs": []
    },
    {
      "cell_type": "code",
      "metadata": {
        "colab": {
          "base_uri": "https://localhost:8080/"
        },
        "id": "B_L_iCTKG3y3",
        "outputId": "544902d5-4c3a-48a6-e585-f47041249bf0"
      },
      "source": [
        "intersection([1,2,3,4],[2,6,7,8,10,12])"
      ],
      "execution_count": null,
      "outputs": [
        {
          "output_type": "execute_result",
          "data": {
            "text/plain": [
              "[2]"
            ]
          },
          "metadata": {},
          "execution_count": 14
        }
      ]
    },
    {
      "cell_type": "code",
      "metadata": {
        "id": "xPBCNd-7HGHk"
      },
      "source": [
        "l1 = [1,2,3,4]\n",
        "l2 = [2,6,7,8,10,12]"
      ],
      "execution_count": null,
      "outputs": []
    },
    {
      "cell_type": "code",
      "metadata": {
        "colab": {
          "base_uri": "https://localhost:8080/"
        },
        "id": "SlzT3qxvHMQb",
        "outputId": "130c11e3-2d22-4e8e-d63b-df2cf20ad6dc"
      },
      "source": [
        "intersection(l1,l2)"
      ],
      "execution_count": null,
      "outputs": [
        {
          "output_type": "execute_result",
          "data": {
            "text/plain": [
              "[2]"
            ]
          },
          "metadata": {},
          "execution_count": 16
        }
      ]
    },
    {
      "cell_type": "code",
      "metadata": {
        "id": "WNTIEH9aX_3n"
      },
      "source": [
        "# Build a function to return the intersection of two sets\n",
        "def intersect(seq1, seq2):\n",
        "    '''\n",
        "    This function will return the common elements in both sets\n",
        "    Inputs: seq1 ( list )\n",
        "            seq2 ( list )\n",
        "    Output: list\n",
        "    '''\n",
        "                    # Start empty\n",
        "                    # Scan seq1\n",
        "                    # Common item?\n",
        "                    # Add to end\n",
        "    res = []\n",
        "    #seq1 = [ 4, 7, 1, 8]\n",
        "    #seq2 = [ 6, 7, 1, 3, 12]\n",
        "    for elem in seq1:\n",
        "        if ( elem in seq2 ):\n",
        "            res.append(elem)\n",
        "            \n",
        "    return res"
      ],
      "execution_count": null,
      "outputs": []
    },
    {
      "cell_type": "markdown",
      "metadata": {
        "id": "2vD7AbvnHrtN"
      },
      "source": [
        "Let's construct a function which takes three lists and it returns the list which has common values into another list."
      ]
    },
    {
      "cell_type": "code",
      "metadata": {
        "id": "4wo6YIwFH1j-"
      },
      "source": [
        "def intersection2(list1, list2, list3):\n",
        "    '''\n",
        "    This function outputs the list which has common elements into another list\n",
        "    Inputs: \n",
        "    list1 is a list\n",
        "    list2 is a list\n",
        "    list3 is list\n",
        "    Output:\n",
        "    another list\n",
        "    '''\n",
        "    common12 = [] # This list store common elements to lists 1 and 2\n",
        "    common13 = [] # This list store common elements to lists 1 and 3\n",
        "    common23 = [] # This list store common elements to lists 2 and 3\n",
        "    # search common elements\n",
        "    # list1 = [1,2,3,4], list2 = [2,6,7,8,10,12], list3 = [5,- 13,4,8]\n",
        "    # l1 -> l2, l1 -> l3\n",
        "    for elem in list1:\n",
        "        if ( ( elem in list2 ) and ( elem in list3 ) ): # elem in both lists\n",
        "            common12.append(elem)\n",
        "            common13.append(elem)\n",
        "        elif ( ( elem in list2 ) and ( elem not in list3 )): # elem only in second list\n",
        "            common12.append(elem)\n",
        "        else: # elem not in any list\n",
        "            continue\n",
        "\n",
        "    for elem in list2:\n",
        "        if ( elem in list3 ):\n",
        "            common23.append(elem)\n",
        "\n",
        "    if ( ( common12 == list1 ) and ( common13 == list1 ) ): # list1 in list2 and list3\n",
        "            return list1, list2, list3\n",
        "    elif ( ( common12 == list1 ) and ( common13 != list1 ) ): # list1 in list2 but not in list3\n",
        "            return list1, list2\n",
        "    elif ( ( common12 != list1 ) and ( common13 != list1 ) and ( common23 == list2 ) ): # list1 not in list3 or list2, but list2 in list3\n",
        "        return list2, list3\n",
        "    elif ( ( common12 != list1 ) and ( common13 == list1 ) and ( common23 != list2 ) ):\n",
        "        return list1\n",
        "    else:\n",
        "        print(\"No common lists!\")\n"
      ],
      "execution_count": null,
      "outputs": []
    },
    {
      "cell_type": "code",
      "metadata": {
        "colab": {
          "base_uri": "https://localhost:8080/"
        },
        "id": "H6AbflSBPqMe",
        "outputId": "190949d0-e2b8-482e-9888-94e9883f0997"
      },
      "source": [
        "intersection2([1,2,3,7], [5,-13,4,8], [5,-13,4,8])"
      ],
      "execution_count": null,
      "outputs": [
        {
          "output_type": "execute_result",
          "data": {
            "text/plain": [
              "([5, -13, 4, 8], [5, -13, 4, 8])"
            ]
          },
          "metadata": {},
          "execution_count": 19
        }
      ]
    },
    {
      "cell_type": "code",
      "metadata": {
        "id": "zqyDmdHIX_3n"
      },
      "source": [
        "# test your function\n",
        "small_primes = (1, 2, 3, 5, 7, 11, 13)\n",
        "fibonacci = [0, 1, 1, 2, 3, 5, 8, 13]"
      ],
      "execution_count": null,
      "outputs": []
    },
    {
      "cell_type": "code",
      "metadata": {
        "colab": {
          "base_uri": "https://localhost:8080/"
        },
        "id": "TfFgKl3-qZrG",
        "outputId": "71bb5554-a96c-4926-c549-d6aa1fc4fe5a"
      },
      "source": [
        "intersect(small_primes, fibonacci)"
      ],
      "execution_count": null,
      "outputs": [
        {
          "output_type": "execute_result",
          "data": {
            "text/plain": [
              "[1, 2, 3, 5, 13]"
            ]
          },
          "metadata": {},
          "execution_count": 21
        }
      ]
    },
    {
      "cell_type": "code",
      "metadata": {
        "id": "87mvA2ICQhob"
      },
      "source": [
        "# Write a function to print out the first n-elements of the Fibonacci sequence: \n",
        "# 1,1,2,3,5,8,13,...."
      ],
      "execution_count": null,
      "outputs": []
    },
    {
      "cell_type": "code",
      "metadata": {
        "id": "bg9DrYUcQvW_"
      },
      "source": [
        "def fibo(n):\n",
        "    '''\n",
        "    This function accepts an integer number and displays the n first elements of the Fibonacci sequence.\n",
        "    '''\n",
        "    sequence = [1,1]\n",
        "    # n = 2\n",
        "    # [1,1]\n",
        "    # n = 3 \n",
        "    # [1,1,2]\n",
        "    # sequence.append()\n",
        "    if ( n > 2):\n",
        "        for i in range(1,n):\n",
        "            sequence.append(sequence[i]+sequence[i-1]) # i = 1; sequence[1]+sequence[1-1]\n",
        "        return sequence\n",
        "    elif ( n == 2):\n",
        "        return sequence\n",
        "    elif ( n == 1 ):\n",
        "        return sequence[0]\n",
        "    else:\n",
        "        print(\"OMG!\")"
      ],
      "execution_count": null,
      "outputs": []
    },
    {
      "cell_type": "code",
      "metadata": {
        "colab": {
          "base_uri": "https://localhost:8080/"
        },
        "id": "HwtpwhuNSV3M",
        "outputId": "6402f05b-cd72-45a6-d6cf-622d81a4181f"
      },
      "source": [
        "fibo(-3)"
      ],
      "execution_count": null,
      "outputs": [
        {
          "output_type": "stream",
          "name": "stdout",
          "text": [
            "OMG!\n"
          ]
        }
      ]
    },
    {
      "cell_type": "code",
      "metadata": {
        "id": "l_DOdxN4qnF5"
      },
      "source": [
        "def fibo(n):\n",
        "    '''\n",
        "    Function to output n numbers of the Fibonacci sequence:\n",
        "    Input: n ( number of elements of the Fibonacci sequence )\n",
        "    Output: list of n first numbers of Fibonacci sequence\n",
        "    '''\n",
        "    s = [1,1]\n",
        "    for i in range(n-2):\n",
        "        s.append(s[-1]+s[-2])\n",
        "    \n",
        "    #for i in range(1,n):\n",
        "    #    s.append(s[i]+s[i-1])\n",
        "    return s"
      ],
      "execution_count": null,
      "outputs": []
    },
    {
      "cell_type": "code",
      "metadata": {
        "colab": {
          "base_uri": "https://localhost:8080/"
        },
        "id": "3DVdWvANrl-G",
        "outputId": "ee604bae-3d93-4d59-aceb-32d726c9b8d2"
      },
      "source": [
        "fibo(8)"
      ],
      "execution_count": null,
      "outputs": [
        {
          "output_type": "execute_result",
          "data": {
            "text/plain": [
              "[1, 1, 2, 3, 5, 8, 13, 21]"
            ]
          },
          "metadata": {},
          "execution_count": 26
        }
      ]
    },
    {
      "cell_type": "code",
      "metadata": {
        "id": "N2muOMkjX_3n"
      },
      "source": [
        "# Should work with strings as well\n",
        "Javi = \"javi\"\n",
        "Avión = \"avión\""
      ],
      "execution_count": null,
      "outputs": []
    },
    {
      "cell_type": "code",
      "metadata": {
        "colab": {
          "base_uri": "https://localhost:8080/"
        },
        "id": "KPaaBv6usxwN",
        "outputId": "f77906eb-610c-430e-e37b-903c40326453"
      },
      "source": [
        "intersect(Javi,Avión)"
      ],
      "execution_count": null,
      "outputs": [
        {
          "output_type": "execute_result",
          "data": {
            "text/plain": [
              "['a', 'v', 'i']"
            ]
          },
          "metadata": {},
          "execution_count": 28
        }
      ]
    },
    {
      "cell_type": "code",
      "metadata": {
        "id": "UsrW4mwMX_3n"
      },
      "source": [
        "teachers = [\"Guillem\", \"Javi\", \"Mar\", \"Pol\"]"
      ],
      "execution_count": null,
      "outputs": []
    },
    {
      "cell_type": "code",
      "metadata": {
        "id": "IltguWqTX_3n"
      },
      "source": [
        ""
      ],
      "execution_count": null,
      "outputs": []
    },
    {
      "cell_type": "markdown",
      "metadata": {
        "id": "pzAu5YVtX_3o"
      },
      "source": [
        "### Modules ( advanced )\n",
        "\n",
        "Sometimes, we will define lots of functions. We may want to store them into a separate python file and then be able to retrieve them.\n",
        "\n",
        "In order to do this, we **MUST** start the cell code with:\n",
        "\n",
        "```python\n",
        "%%writefile my_functions.py\n",
        "```\n",
        "where `my_functions.py` can be any name we want but the extension of the file **MUST be .py**"
      ]
    },
    {
      "cell_type": "code",
      "metadata": {
        "id": "dmOxw0UNtEOw",
        "colab": {
          "base_uri": "https://localhost:8080/"
        },
        "outputId": "23c7ab70-bc3b-482d-e269-bf2246081142"
      },
      "source": [
        "%%writefile my_functions.py\n",
        "\n",
        "def divide(x, y):\n",
        "    '''\n",
        "    This function divides x over y\n",
        "    Input arguments: x ,y \n",
        "    Input arguments: integers\n",
        "    Output x / y \n",
        "    Output type: integer\n",
        "    '''\n",
        "    if ( type(x) != int or type(y) != int  ):\n",
        "        print(\"I said INTEGERS!!!!\")\n",
        "    else:\n",
        "        z = x / y\n",
        "        return z\n",
        "\n",
        "def intersect(seq1, seq2):\n",
        "    '''\n",
        "    This function will return the common elements in both sets\n",
        "    Inputs: seq1 ( list )\n",
        "            seq2 ( list )\n",
        "    Output: list\n",
        "    '''\n",
        "\n",
        "    res = []\n",
        "    \n",
        "    for elem in seq1:\n",
        "        if ( elem in seq2 ):\n",
        "            res.append(elem)\n",
        "            \n",
        "    return res\n",
        "\n",
        "def fibo(n):\n",
        "    '''\n",
        "    Function to output n numbers of the Fibonacci sequence:\n",
        "    Input: n ( number of elements of the Fibonacci sequence )\n",
        "    Output: list of n first numbers of Fibonacci sequence\n",
        "    '''\n",
        "    s = [0,1]\n",
        "    for i in range(n-2):\n",
        "        s.append(s[-1]+s[-2])\n",
        "    \n",
        "    #for i in range(1,n):\n",
        "    #    s.append(s[i]+s[i-1])\n",
        "    return s\n"
      ],
      "execution_count": null,
      "outputs": [
        {
          "output_type": "stream",
          "name": "stdout",
          "text": [
            "Writing my_functions.py\n"
          ]
        }
      ]
    },
    {
      "cell_type": "markdown",
      "metadata": {
        "id": "p02Ave8iHZg2"
      },
      "source": [
        "Now we can retrieve our functions stored in `my_functions.py` with the following instruction: "
      ]
    },
    {
      "cell_type": "code",
      "metadata": {
        "id": "iAPfdipqtmvf"
      },
      "source": [
        "from my_functions import fibo, intersect # In this case we will only use the functions `fibo` and `intersect` but we may call all many as we want."
      ],
      "execution_count": null,
      "outputs": []
    },
    {
      "cell_type": "markdown",
      "metadata": {
        "id": "xPjNnjWsH4A7"
      },
      "source": [
        "**CAVEAT!!!** This will only work if `my_functions.py` is located in the same folder in which your jupyter notebook is loaded."
      ]
    },
    {
      "cell_type": "markdown",
      "metadata": {
        "id": "vqso8jbzX_3o"
      },
      "source": [
        "### Scopes\n",
        "\n",
        "#### where's the variable `res`?\n",
        "\n",
        "It is a local variable: a name that is visible only to code inside the function def and that exists only while the function runs. In fact, because all names assigned in any way inside a function are classified as local variables by default, nearly all the names in intersect are local variables:\n",
        "\n",
        "- res is obviously assigned, so it is a local variable.\n",
        "\n",
        "- Arguments are passed by assignment, so seq1 and seq2 are, too.\n",
        "\n",
        "- The for loop assigns items to a variable, so the name x is also local.\n",
        "\n",
        "When you use a name in a program, Python creates, changes, or looks up the name in what is known as a namespace—a place where names live. When we talk about the search for a name’s value in relation to code, the term scope refers to a namespace: that is, the location of a name’s assignment in your source code determines the scope of the name’s visibility to your code.\n",
        "\n",
        "The place where you assign a name in your source code determines the namespace it will live in, and hence its scope of visibility.\n",
        "\n",
        "- Names assigned inside a def can only be seen by the code within that def. You cannot even refer to such names from outside the function.\n",
        "\n",
        "- Names assigned inside a def do not clash with variables outside the def, even if the same names are used elsewhere. A name X assigned outside a given def (i.e., in a different def or at the top level of a module file) is a completely different variable from a name X assigned inside that def."
      ]
    },
    {
      "cell_type": "code",
      "metadata": {
        "id": "A3-V-BSGX_3o"
      },
      "source": [
        "x = 1990\n",
        "\n",
        "def func():\n",
        "    global x\n",
        "    x = 2020\n",
        "    print(x)"
      ],
      "execution_count": null,
      "outputs": []
    },
    {
      "cell_type": "code",
      "metadata": {
        "id": "Pe7uTYu_X_3o",
        "colab": {
          "base_uri": "https://localhost:8080/"
        },
        "outputId": "0d3b88b5-43ca-43f4-9a04-dec301638e64"
      },
      "source": [
        "func()"
      ],
      "execution_count": null,
      "outputs": [
        {
          "output_type": "stream",
          "text": [
            "2020\n"
          ],
          "name": "stdout"
        }
      ]
    },
    {
      "cell_type": "code",
      "metadata": {
        "id": "jnUQhqEGX_3p",
        "colab": {
          "base_uri": "https://localhost:8080/"
        },
        "outputId": "3f93fdff-1f9c-4492-d191-d5c2c3b9d9d9"
      },
      "source": [
        "x"
      ],
      "execution_count": null,
      "outputs": [
        {
          "output_type": "execute_result",
          "data": {
            "text/plain": [
              "2020"
            ]
          },
          "metadata": {
            "tags": []
          },
          "execution_count": 45
        }
      ]
    },
    {
      "cell_type": "markdown",
      "metadata": {
        "id": "s4MBj3sTX_3p"
      },
      "source": [
        "- If you need to assign a name that lives at the top level of the module enclosing the function, you can do so by declaring it in a global statement inside the function. \n",
        "\n",
        "- If you need to assign a name that lives in an enclosing def, as of Python 3.X you can do so by declaring it in a nonlocal statement."
      ]
    },
    {
      "cell_type": "markdown",
      "metadata": {
        "id": "izSIGl-XX_3q"
      },
      "source": [
        "Type of assignment within a function classifies a name as local. This includes = statements, module names in import, function names in def, function argument names, and so on. If you assign a name in any way within a def, it will become a local to that function by default.\n",
        "\n",
        "In-place changes to objects do not classify names as locals; only actual name assignments do. \n",
        "\n",
        "For instance, if the name L is assigned to a list at the top level of a module, a statement L = X within a function will classify L as a local, but L.append(X) will not. In the latter case, we are changing the list object that L references, not L itself—L is found in the global scope as usual, and Python happily modifies it without requiring a global (or nonlocal) declaration. As usual, it helps to keep the distinction between names and objects clear: changing an object is not an assignment to a name."
      ]
    },
    {
      "cell_type": "code",
      "metadata": {
        "id": "90B4yWGYX_3q",
        "colab": {
          "base_uri": "https://localhost:8080/"
        },
        "outputId": "f965f7fa-5aec-4a61-8e66-9669f238f267"
      },
      "source": [
        "L = [1, 2, 3]\n",
        "\n",
        "def append4():\n",
        "    L.append(4)\n",
        "    return L\n",
        "\n",
        "append4()"
      ],
      "execution_count": null,
      "outputs": [
        {
          "output_type": "execute_result",
          "data": {
            "text/plain": [
              "[1, 2, 3, 4]"
            ]
          },
          "metadata": {
            "tags": []
          },
          "execution_count": 46
        }
      ]
    },
    {
      "cell_type": "code",
      "metadata": {
        "id": "yLqTGe0XX_3q",
        "colab": {
          "base_uri": "https://localhost:8080/"
        },
        "outputId": "5010e694-ff5e-4164-e294-e12f5fb260d9"
      },
      "source": [
        "L"
      ],
      "execution_count": null,
      "outputs": [
        {
          "output_type": "execute_result",
          "data": {
            "text/plain": [
              "[1, 2, 3, 4]"
            ]
          },
          "metadata": {
            "tags": []
          },
          "execution_count": 47
        }
      ]
    },
    {
      "cell_type": "code",
      "metadata": {
        "id": "-Gc5U_q4X_3q",
        "colab": {
          "base_uri": "https://localhost:8080/",
          "height": 35
        },
        "outputId": "2c340539-c176-4dfa-ca18-9839a119bf5f"
      },
      "source": [
        "L = [1, 2, 3]\n",
        "\n",
        "def transform_L_into_X():\n",
        "    X = \"This is X\"\n",
        "    L = X\n",
        "    return L\n",
        "\n",
        "transform_L_into_X()"
      ],
      "execution_count": null,
      "outputs": [
        {
          "output_type": "execute_result",
          "data": {
            "application/vnd.google.colaboratory.intrinsic+json": {
              "type": "string"
            },
            "text/plain": [
              "'This is X'"
            ]
          },
          "metadata": {
            "tags": []
          },
          "execution_count": 48
        }
      ]
    },
    {
      "cell_type": "code",
      "metadata": {
        "id": "iSI9xfvuX_3q",
        "outputId": "bac5311e-d2db-4985-cf07-67fe4b070ca6"
      },
      "source": [
        "L"
      ],
      "execution_count": null,
      "outputs": [
        {
          "output_type": "execute_result",
          "data": {
            "text/plain": [
              "[1, 2, 3]"
            ]
          },
          "metadata": {
            "tags": []
          },
          "execution_count": 7
        }
      ]
    },
    {
      "cell_type": "markdown",
      "metadata": {
        "id": "ncTDwbhVX_3r"
      },
      "source": [
        "#### The global statement"
      ]
    },
    {
      "cell_type": "code",
      "metadata": {
        "id": "je1i8PqtX_3r",
        "colab": {
          "base_uri": "https://localhost:8080/"
        },
        "outputId": "16133b33-7bc9-4d96-e5ad-46a474dc5a67"
      },
      "source": [
        "X = 88                         # Global X\n",
        "\n",
        "def func(X):\n",
        "    global X\n",
        "    X = 99                     # Global X: outside def\n",
        "\n",
        "func()\n",
        "print(X)                       # Prints 99"
      ],
      "execution_count": null,
      "outputs": [
        {
          "output_type": "stream",
          "text": [
            "99\n"
          ],
          "name": "stdout"
        }
      ]
    },
    {
      "cell_type": "markdown",
      "metadata": {
        "id": "e4KGC9urX_3r"
      },
      "source": [
        "Minimize globals! What is the value of x here? It depends on where you ask during running time, and that's confusing and prone to errors."
      ]
    },
    {
      "cell_type": "markdown",
      "metadata": {
        "id": "zUtfw6g4X_3r"
      },
      "source": [
        "Some more tips for using functions:\n",
        "\n",
        "- each function should have a single, unified purpose.\n",
        "\n",
        "- each function should be relatively small"
      ]
    }
  ]
}