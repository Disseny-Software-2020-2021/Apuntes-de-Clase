{
 "cells": [
  {
   "cell_type": "markdown",
   "metadata": {
    "id": "Ia3j_EqKWnDo"
   },
   "source": [
    "## Map"
   ]
  },
  {
   "cell_type": "markdown",
   "metadata": {
    "id": "ahG9Su1Vpz_s"
   },
   "source": [
    "`map` is a function that allows us to apply any lambda function to any iterable. Let's see some examples."
   ]
  },
  {
   "cell_type": "markdown",
   "metadata": {
    "id": "JMKx14bZtIxA"
   },
   "source": [
    "Area of circle is: $\\pi * r^{2}$"
   ]
  },
  {
   "cell_type": "code",
   "execution_count": 1,
   "metadata": {
    "executionInfo": {
     "elapsed": 8,
     "status": "ok",
     "timestamp": 1631696015234,
     "user": {
      "displayName": "Ignacio Soteras",
      "photoUrl": "https://lh3.googleusercontent.com/a/default-user=s64",
      "userId": "02050793736257155229"
     },
     "user_tz": -120
    },
    "id": "VK5a1r5ZWnDq"
   },
   "outputs": [],
   "source": [
    "# We first load this library to have access to the pi number.\n",
    "import math"
   ]
  },
  {
   "cell_type": "code",
   "execution_count": 3,
   "metadata": {
    "executionInfo": {
     "elapsed": 578,
     "status": "ok",
     "timestamp": 1631696019491,
     "user": {
      "displayName": "Ignacio Soteras",
      "photoUrl": "https://lh3.googleusercontent.com/a/default-user=s64",
      "userId": "02050793736257155229"
     },
     "user_tz": -120
    },
    "id": "os1WclAGWnDq"
   },
   "outputs": [],
   "source": [
    "area = lambda r : math.pi * (r**2)"
   ]
  },
  {
   "cell_type": "markdown",
   "metadata": {
    "id": "V-uPQ96PqWZK"
   },
   "source": [
    "Now imagine that we have a list of radii, and we want to compute the area of a circle with the radii values stored in out list."
   ]
  },
  {
   "cell_type": "code",
   "execution_count": 4,
   "metadata": {
    "executionInfo": {
     "elapsed": 267,
     "status": "ok",
     "timestamp": 1631696114003,
     "user": {
      "displayName": "Ignacio Soteras",
      "photoUrl": "https://lh3.googleusercontent.com/a/default-user=s64",
      "userId": "02050793736257155229"
     },
     "user_tz": -120
    },
    "id": "sI2_edF2WnDr"
   },
   "outputs": [],
   "source": [
    "radii = [2, 5, 7.1, 0.3, 10]"
   ]
  },
  {
   "cell_type": "markdown",
   "metadata": {
    "id": "HX1r1kEHWnDr"
   },
   "source": [
    "Let's do it first with the \"classic\" approach:"
   ]
  },
  {
   "cell_type": "code",
   "execution_count": 5,
   "metadata": {
    "colab": {
     "base_uri": "https://localhost:8080/"
    },
    "executionInfo": {
     "elapsed": 582,
     "status": "ok",
     "timestamp": 1631696116806,
     "user": {
      "displayName": "Ignacio Soteras",
      "photoUrl": "https://lh3.googleusercontent.com/a/default-user=s64",
      "userId": "02050793736257155229"
     },
     "user_tz": -120
    },
    "id": "vqmdMpd-WnDr",
    "outputId": "42a9bf34-015b-4413-80df-fbd0fc5f2d45"
   },
   "outputs": [
    {
     "name": "stdout",
     "output_type": "stream",
     "text": [
      "[12.566370614359172, 78.53981633974483, 158.36768566746144, 0.2827433388230814, 314.1592653589793]\n"
     ]
    }
   ],
   "source": [
    "results = []\n",
    "\n",
    "for i in radii:\n",
    "    results.append(math.pi * i *i)\n",
    "\n",
    "print(results)"
   ]
  },
  {
   "cell_type": "markdown",
   "metadata": {
    "id": "Pm20Qbutqwok"
   },
   "source": [
    "Now let's use our lambda function first with a single value to make sure that works."
   ]
  },
  {
   "cell_type": "code",
   "execution_count": 6,
   "metadata": {
    "colab": {
     "base_uri": "https://localhost:8080/"
    },
    "executionInfo": {
     "elapsed": 231,
     "status": "ok",
     "timestamp": 1631696123186,
     "user": {
      "displayName": "Ignacio Soteras",
      "photoUrl": "https://lh3.googleusercontent.com/a/default-user=s64",
      "userId": "02050793736257155229"
     },
     "user_tz": -120
    },
    "id": "TxWl1J_Nu0RB",
    "outputId": "9944f6b0-298c-4dd4-e8ce-dbc826160ab7"
   },
   "outputs": [
    {
     "data": {
      "text/plain": [
       "153.93804002589985"
      ]
     },
     "execution_count": 6,
     "metadata": {},
     "output_type": "execute_result"
    }
   ],
   "source": [
    "area(7)"
   ]
  },
  {
   "cell_type": "markdown",
   "metadata": {
    "id": "iryj2Yktq5P4"
   },
   "source": [
    "Now let's replace the previous loop with the lambda function. We should get the same values."
   ]
  },
  {
   "cell_type": "code",
   "execution_count": 7,
   "metadata": {
    "colab": {
     "base_uri": "https://localhost:8080/"
    },
    "executionInfo": {
     "elapsed": 317,
     "status": "ok",
     "timestamp": 1622708987416,
     "user": {
      "displayName": "Ignacio Soteras",
      "photoUrl": "",
      "userId": "02050793736257155229"
     },
     "user_tz": -120
    },
    "id": "a6H9Q9oY_HVE",
    "outputId": "bc14cc10-18c7-4ca7-ed49-28e909bf7e93"
   },
   "outputs": [
    {
     "name": "stdout",
     "output_type": "stream",
     "text": [
      "[12.566370614359172, 78.53981633974483, 158.36768566746147, 0.2827433388230814, 314.1592653589793]\n"
     ]
    }
   ],
   "source": [
    "results = []\n",
    "\n",
    "for i in radii:\n",
    "    results.append(area(i))\n",
    "\n",
    "print(results)"
   ]
  },
  {
   "cell_type": "markdown",
   "metadata": {
    "id": "vyN7sJHqrHQ4"
   },
   "source": [
    "Finally let's se how to combine `map` and our lambda function. Remember that the output of `map` can't be handled directly and needs to be casted into a list with `list()`.\n",
    "\n",
    "Remeber that the first slot of `map` needs to contain our function, while in the second ww need to provide our list. Then map will apply our function to each element of our list."
   ]
  },
  {
   "cell_type": "code",
   "execution_count": 8,
   "metadata": {
    "colab": {
     "base_uri": "https://localhost:8080/"
    },
    "executionInfo": {
     "elapsed": 570,
     "status": "ok",
     "timestamp": 1631696951766,
     "user": {
      "displayName": "Ignacio Soteras",
      "photoUrl": "https://lh3.googleusercontent.com/a/default-user=s64",
      "userId": "02050793736257155229"
     },
     "user_tz": -120
    },
    "id": "u07TmM2__rPc",
    "outputId": "913eb653-a86b-4d39-af77-2ae97de487c6"
   },
   "outputs": [
    {
     "data": {
      "text/plain": [
       "[12.566370614359172,\n",
       " 78.53981633974483,\n",
       " 158.36768566746147,\n",
       " 0.2827433388230814,\n",
       " 314.1592653589793]"
      ]
     },
     "execution_count": 8,
     "metadata": {},
     "output_type": "execute_result"
    }
   ],
   "source": [
    "results = list( map(area , radii) ) \n",
    "results"
   ]
  },
  {
   "cell_type": "code",
   "execution_count": 10,
   "metadata": {},
   "outputs": [
    {
     "data": {
      "text/plain": [
       "[12.566370614359172,\n",
       " 78.53981633974483,\n",
       " 158.36768566746147,\n",
       " 0.2827433388230814,\n",
       " 314.1592653589793]"
      ]
     },
     "execution_count": 10,
     "metadata": {},
     "output_type": "execute_result"
    }
   ],
   "source": [
    "list(map(area , radii))"
   ]
  },
  {
   "cell_type": "markdown",
   "metadata": {
    "id": "cfDGZfLBWnDs"
   },
   "source": [
    "The \"pythonic\" approach, using map():"
   ]
  },
  {
   "cell_type": "code",
   "execution_count": null,
   "metadata": {
    "colab": {
     "base_uri": "https://localhost:8080/"
    },
    "executionInfo": {
     "elapsed": 484,
     "status": "ok",
     "timestamp": 1616664939993,
     "user": {
      "displayName": "Ignacio Soteras",
      "photoUrl": "",
      "userId": "02050793736257155229"
     },
     "user_tz": -60
    },
    "id": "eOfHQZDBWnDs",
    "outputId": "3ba38233-ac16-4644-b70c-8eb7cbc9095f"
   },
   "outputs": [
    {
     "data": {
      "text/plain": [
       "[12.566370614359172,\n",
       " 78.53981633974483,\n",
       " 158.36768566746147,\n",
       " 0.2827433388230814,\n",
       " 314.1592653589793]"
      ]
     },
     "execution_count": 7,
     "metadata": {
      "tags": []
     },
     "output_type": "execute_result"
    }
   ],
   "source": [
    "list(map(area,radii))"
   ]
  },
  {
   "cell_type": "markdown",
   "metadata": {
    "id": "d9bjyhxSWnDt"
   },
   "source": [
    "## Filter"
   ]
  },
  {
   "cell_type": "markdown",
   "metadata": {
    "id": "pLRBclicu0tp"
   },
   "source": [
    "Now let's see how to filter elements of a list.\n",
    "\n",
    "Just to see a simple example, imagine that we are given a list of numbers and we are asked to drop any number below the mean of all the numbers. \n",
    "\n",
    "In order to do this, we will need to proceed in two steps:\n",
    "\n",
    "1. Compute the mean of all the numbers\n",
    "2. Create a lambda function to return `True` or `False` wether the values smaller or larger than the mean.\n",
    "3. Filter out elements smaller than the mean"
   ]
  },
  {
   "cell_type": "markdown",
   "metadata": {
    "id": "nd1ZETHJvood"
   },
   "source": [
    "Step 1: Computing and storing the mean."
   ]
  },
  {
   "cell_type": "code",
   "execution_count": 11,
   "metadata": {
    "colab": {
     "base_uri": "https://localhost:8080/"
    },
    "executionInfo": {
     "elapsed": 242,
     "status": "ok",
     "timestamp": 1631697586498,
     "user": {
      "displayName": "Ignacio Soteras",
      "photoUrl": "https://lh3.googleusercontent.com/a/default-user=s64",
      "userId": "02050793736257155229"
     },
     "user_tz": -120
    },
    "id": "tkXINariWnDt",
    "outputId": "02280dba-9368-4d8d-f804-1460e747150c"
   },
   "outputs": [
    {
     "name": "stdout",
     "output_type": "stream",
     "text": [
      "2.3666666666666663\n"
     ]
    }
   ],
   "source": [
    "import statistics\n",
    "\n",
    "data = [1.5, 9.2, 3.4, 5.1, -9,4]\n",
    "\n",
    "#mean()\n",
    "avg = statistics.mean(data)\n",
    "\n",
    "print(avg)"
   ]
  },
  {
   "cell_type": "markdown",
   "metadata": {
    "id": "L7yWOUhZWnDu"
   },
   "source": [
    "Step 2: Defining our lambda function"
   ]
  },
  {
   "cell_type": "code",
   "execution_count": 12,
   "metadata": {
    "executionInfo": {
     "elapsed": 220,
     "status": "ok",
     "timestamp": 1631698038770,
     "user": {
      "displayName": "Ignacio Soteras",
      "photoUrl": "https://lh3.googleusercontent.com/a/default-user=s64",
      "userId": "02050793736257155229"
     },
     "user_tz": -120
    },
    "id": "sel9jtNQWnDu"
   },
   "outputs": [],
   "source": [
    "above_avg = lambda number: False if ( number <=  2.36 ) else True"
   ]
  },
  {
   "cell_type": "markdown",
   "metadata": {
    "id": "ZxT4vk2Pwses"
   },
   "source": [
    "Testing our lambda function with a single value"
   ]
  },
  {
   "cell_type": "code",
   "execution_count": 13,
   "metadata": {
    "colab": {
     "base_uri": "https://localhost:8080/"
    },
    "executionInfo": {
     "elapsed": 359,
     "status": "ok",
     "timestamp": 1631698044965,
     "user": {
      "displayName": "Ignacio Soteras",
      "photoUrl": "https://lh3.googleusercontent.com/a/default-user=s64",
      "userId": "02050793736257155229"
     },
     "user_tz": -120
    },
    "id": "xBN1WcPgBpnG",
    "outputId": "0af75f83-3530-4d4a-ac9a-4963235c4882"
   },
   "outputs": [
    {
     "data": {
      "text/plain": [
       "False"
      ]
     },
     "execution_count": 13,
     "metadata": {},
     "output_type": "execute_result"
    }
   ],
   "source": [
    "above_avg(-12)"
   ]
  },
  {
   "cell_type": "markdown",
   "metadata": {
    "id": "GFANOWG0w0qo"
   },
   "source": [
    "Classic approach"
   ]
  },
  {
   "cell_type": "code",
   "execution_count": 14,
   "metadata": {
    "colab": {
     "base_uri": "https://localhost:8080/"
    },
    "executionInfo": {
     "elapsed": 311,
     "status": "ok",
     "timestamp": 1631698052956,
     "user": {
      "displayName": "Ignacio Soteras",
      "photoUrl": "https://lh3.googleusercontent.com/a/default-user=s64",
      "userId": "02050793736257155229"
     },
     "user_tz": -120
    },
    "id": "UA660ChrxNG9",
    "outputId": "a2471f5d-9017-4639-d446-871270cbe1b7"
   },
   "outputs": [
    {
     "name": "stdout",
     "output_type": "stream",
     "text": [
      "[9.2, 3.4, 5.1, 4]\n"
     ]
    }
   ],
   "source": [
    "results = []\n",
    "\n",
    "for elem in data:\n",
    "    if ( above_avg(elem) == True ): \n",
    "        results.append(elem)\n",
    "\n",
    "print(results)"
   ]
  },
  {
   "cell_type": "markdown",
   "metadata": {
    "id": "jxvVSs3cWnDu"
   },
   "source": [
    "The \"pythonic\" approach, using filter():"
   ]
  },
  {
   "cell_type": "code",
   "execution_count": 15,
   "metadata": {
    "colab": {
     "base_uri": "https://localhost:8080/"
    },
    "executionInfo": {
     "elapsed": 239,
     "status": "ok",
     "timestamp": 1631698062085,
     "user": {
      "displayName": "Ignacio Soteras",
      "photoUrl": "https://lh3.googleusercontent.com/a/default-user=s64",
      "userId": "02050793736257155229"
     },
     "user_tz": -120
    },
    "id": "b_qW70KJWnDv",
    "outputId": "0ae30a24-9241-4d85-a812-07813ad292d4"
   },
   "outputs": [
    {
     "data": {
      "text/plain": [
       "[9.2, 3.4, 5.1, 4]"
      ]
     },
     "execution_count": 15,
     "metadata": {},
     "output_type": "execute_result"
    }
   ],
   "source": [
    "list(filter( above_avg, data))"
   ]
  },
  {
   "cell_type": "code",
   "execution_count": 16,
   "metadata": {},
   "outputs": [
    {
     "data": {
      "text/plain": [
       "<filter at 0x23717f53c40>"
      ]
     },
     "execution_count": 16,
     "metadata": {},
     "output_type": "execute_result"
    }
   ],
   "source": [
    "filter( above_avg, data)"
   ]
  },
  {
   "cell_type": "markdown",
   "metadata": {
    "id": "XB4lIN1AWnDv"
   },
   "source": [
    "## Reduce"
   ]
  },
  {
   "cell_type": "markdown",
   "metadata": {
    "id": "3LoOCpOtzvIL"
   },
   "source": [
    "Reduce is a function that allows to apply a function to consecutive elements of a list while acumulates the result.\n",
    "\n",
    "Let's see some examples."
   ]
  },
  {
   "cell_type": "code",
   "execution_count": 17,
   "metadata": {
    "executionInfo": {
     "elapsed": 300,
     "status": "ok",
     "timestamp": 1631698590715,
     "user": {
      "displayName": "Ignacio Soteras",
      "photoUrl": "https://lh3.googleusercontent.com/a/default-user=s64",
      "userId": "02050793736257155229"
     },
     "user_tz": -120
    },
    "id": "qC7S4vD7WnDv"
   },
   "outputs": [],
   "source": [
    "from functools import reduce"
   ]
  },
  {
   "cell_type": "markdown",
   "metadata": {
    "id": "MikpJirq0OcX"
   },
   "source": [
    "First, imagine that we're given a list of names and we're asked to join the strings separated by a blank space."
   ]
  },
  {
   "cell_type": "code",
   "execution_count": 18,
   "metadata": {
    "executionInfo": {
     "elapsed": 253,
     "status": "ok",
     "timestamp": 1631698578207,
     "user": {
      "displayName": "Ignacio Soteras",
      "photoUrl": "https://lh3.googleusercontent.com/a/default-user=s64",
      "userId": "02050793736257155229"
     },
     "user_tz": -120
    },
    "id": "bROP2oFtWnDv"
   },
   "outputs": [],
   "source": [
    "names = [\"Guillem\", \"Javi\", \"Mar\", \"Pol\"]"
   ]
  },
  {
   "cell_type": "code",
   "execution_count": 19,
   "metadata": {
    "colab": {
     "base_uri": "https://localhost:8080/",
     "height": 35
    },
    "executionInfo": {
     "elapsed": 11,
     "status": "ok",
     "timestamp": 1631698579237,
     "user": {
      "displayName": "Ignacio Soteras",
      "photoUrl": "https://lh3.googleusercontent.com/a/default-user=s64",
      "userId": "02050793736257155229"
     },
     "user_tz": -120
    },
    "id": "5-dEU5wcyNhw",
    "outputId": "d7170d4b-d6c8-4735-d553-0a8e02eb98e4"
   },
   "outputs": [
    {
     "data": {
      "text/plain": [
       "'Guillem Javi'"
      ]
     },
     "execution_count": 19,
     "metadata": {},
     "output_type": "execute_result"
    }
   ],
   "source": [
    "names[0] + ' ' + names[1]"
   ]
  },
  {
   "cell_type": "code",
   "execution_count": 20,
   "metadata": {
    "executionInfo": {
     "elapsed": 247,
     "status": "ok",
     "timestamp": 1631698581347,
     "user": {
      "displayName": "Ignacio Soteras",
      "photoUrl": "https://lh3.googleusercontent.com/a/default-user=s64",
      "userId": "02050793736257155229"
     },
     "user_tz": -120
    },
    "id": "CDAH3X25WnDv"
   },
   "outputs": [],
   "source": [
    "concatenator = lambda x, y: x + \" \" + y"
   ]
  },
  {
   "cell_type": "code",
   "execution_count": 21,
   "metadata": {
    "colab": {
     "base_uri": "https://localhost:8080/",
     "height": 35
    },
    "executionInfo": {
     "elapsed": 236,
     "status": "ok",
     "timestamp": 1631698592861,
     "user": {
      "displayName": "Ignacio Soteras",
      "photoUrl": "https://lh3.googleusercontent.com/a/default-user=s64",
      "userId": "02050793736257155229"
     },
     "user_tz": -120
    },
    "id": "28705B_-WnDw",
    "outputId": "f7c4a70c-41c9-4601-a78c-878e57a068c4"
   },
   "outputs": [
    {
     "data": {
      "text/plain": [
       "'Guillem Javi Mar Pol'"
      ]
     },
     "execution_count": 21,
     "metadata": {},
     "output_type": "execute_result"
    }
   ],
   "source": [
    "reduce(concatenator, names)"
   ]
  },
  {
   "cell_type": "markdown",
   "metadata": {
    "id": "uOxyAw9H0aDN"
   },
   "source": [
    "Another example: imagine that we're given another list of numbers and we're asked to compute the product of all of them. We can do this first multiplying the first two values, and then multiply the result by the new value in the list and so on..."
   ]
  },
  {
   "cell_type": "code",
   "execution_count": 22,
   "metadata": {
    "executionInfo": {
     "elapsed": 298,
     "status": "ok",
     "timestamp": 1631698596933,
     "user": {
      "displayName": "Ignacio Soteras",
      "photoUrl": "https://lh3.googleusercontent.com/a/default-user=s64",
      "userId": "02050793736257155229"
     },
     "user_tz": -120
    },
    "id": "Wm37454Hzy8S"
   },
   "outputs": [],
   "source": [
    "numbers = [1,2,3,4]"
   ]
  },
  {
   "cell_type": "code",
   "execution_count": 23,
   "metadata": {
    "colab": {
     "base_uri": "https://localhost:8080/"
    },
    "executionInfo": {
     "elapsed": 9,
     "status": "ok",
     "timestamp": 1631698598232,
     "user": {
      "displayName": "Ignacio Soteras",
      "photoUrl": "https://lh3.googleusercontent.com/a/default-user=s64",
      "userId": "02050793736257155229"
     },
     "user_tz": -120
    },
    "id": "Hpnu3BJvzr1m",
    "outputId": "c94ab2bc-da8b-4c51-896d-11154472aabd"
   },
   "outputs": [
    {
     "data": {
      "text/plain": [
       "24"
      ]
     },
     "execution_count": 23,
     "metadata": {},
     "output_type": "execute_result"
    }
   ],
   "source": [
    "reduce(lambda x,y: x*y, numbers)"
   ]
  },
  {
   "cell_type": "code",
   "execution_count": 9,
   "metadata": {
    "executionInfo": {
     "elapsed": 339,
     "status": "ok",
     "timestamp": 1631698600127,
     "user": {
      "displayName": "Ignacio Soteras",
      "photoUrl": "https://lh3.googleusercontent.com/a/default-user=s64",
      "userId": "02050793736257155229"
     },
     "user_tz": -120
    },
    "id": "uFDg2UQwWnDw"
   },
   "outputs": [],
   "source": [
    "numbers = [1,2,3,4,5]"
   ]
  }
 ],
 "metadata": {
  "colab": {
   "name": "Code along Map, filter, reduce.ipynb",
   "provenance": []
  },
  "kernelspec": {
   "display_name": "Python 3 (ipykernel)",
   "language": "python",
   "name": "python3"
  },
  "language_info": {
   "codemirror_mode": {
    "name": "ipython",
    "version": 3
   },
   "file_extension": ".py",
   "mimetype": "text/x-python",
   "name": "python",
   "nbconvert_exporter": "python",
   "pygments_lexer": "ipython3",
   "version": "3.9.7"
  },
  "toc": {
   "base_numbering": 1,
   "nav_menu": {},
   "number_sections": true,
   "sideBar": true,
   "skip_h1_title": false,
   "title_cell": "Table of Contents",
   "title_sidebar": "Contents",
   "toc_cell": false,
   "toc_position": {},
   "toc_section_display": true,
   "toc_window_display": false
  },
  "varInspector": {
   "cols": {
    "lenName": 16,
    "lenType": 16,
    "lenVar": 40
   },
   "kernels_config": {
    "python": {
     "delete_cmd_postfix": "",
     "delete_cmd_prefix": "del ",
     "library": "var_list.py",
     "varRefreshCmd": "print(var_dic_list())"
    },
    "r": {
     "delete_cmd_postfix": ") ",
     "delete_cmd_prefix": "rm(",
     "library": "var_list.r",
     "varRefreshCmd": "cat(var_dic_list()) "
    }
   },
   "types_to_exclude": [
    "module",
    "function",
    "builtin_function_or_method",
    "instance",
    "_Feature"
   ],
   "window_display": false
  }
 },
 "nbformat": 4,
 "nbformat_minor": 1
}
