{
 "cells": [
  {
   "cell_type": "code",
   "execution_count": null,
   "id": "b0ff9356-80c8-43a1-8004-1468a0a25310",
   "metadata": {
    "tags": []
   },
   "outputs": [],
   "source": [
    "#!pip install mplsoccer"
   ]
  },
  {
   "cell_type": "markdown",
   "id": "ead1d7e5-576b-46bb-b774-449446f19119",
   "metadata": {},
   "source": [
    "## Ejemplo de EDA - Analisis Táctico de Posición de Jugadores"
   ]
  },
  {
   "cell_type": "markdown",
   "id": "d50e61fe-22ab-4d6e-a971-71c7fdafe83e",
   "metadata": {},
   "source": [
    "En este caso se nos pide realizar un Análisis táctico del juego de ambos equipos y clasificar a los jugadores en base a su posición en el campo en una línea táctica del campo:\n",
    "\n",
    "    + Linea Defensiva\n",
    "    + Línea de Mediocampo\n",
    "    + Línea de ataque\n",
    "    \n",
    "Se nos proporcionan datos de tracking de 14 jugadores, arbitro y balón cada 10 ms (los elementos que aparecen normalmente en el campo visual de la cámara)\n",
    "\n",
    "    - Posición x,y en el campo\n",
    "    - id del jugador capturado\n",
    "    - id de la jugada por si se quiere hacer un análisis continuado de la jugada\n",
    "    - periodo de juego\n",
    "    - las medidas del campo son 105 x 52 y el punto (0,0) se encuentra en el centro del campo\n",
    "    "
   ]
  },
  {
   "cell_type": "code",
   "execution_count": null,
   "id": "8427a0df-b944-40c2-8552-971fd983435a",
   "metadata": {},
   "outputs": [],
   "source": [
    "import pandas as pd\n",
    "from tqdm.notebook import tqdm\n",
    "import warnings\n",
    "import json\n",
    "from mplsoccer.pitch import Pitch\n",
    "import seaborn as sns\n",
    "import matplotlib.pyplot as plt\n",
    "import matplotlib\n",
    "warnings.filterwarnings('ignore')"
   ]
  },
  {
   "cell_type": "code",
   "execution_count": null,
   "id": "0d4dd004-e07b-4ea3-a77f-e16f7b488b87",
   "metadata": {
    "tags": []
   },
   "outputs": [],
   "source": [
    "file = 'data/structured_data.json'\n",
    "file2 = 'data/match_data.json'"
   ]
  },
  {
   "cell_type": "code",
   "execution_count": null,
   "id": "a985ccf6-94f4-407c-8c6f-da46ec0aea66",
   "metadata": {
    "tags": []
   },
   "outputs": [],
   "source": [
    "with open(file) as f:\n",
    "        match_js = json.load(f)\n",
    "    \n",
    "with open(file2) as f2:\n",
    "        match_data_js = json.load(f2)"
   ]
  },
  {
   "cell_type": "code",
   "execution_count": null,
   "id": "85a8b30f-2483-4752-9e50-9107358e3039",
   "metadata": {},
   "outputs": [],
   "source": [
    "match_js[0]"
   ]
  },
  {
   "cell_type": "code",
   "execution_count": null,
   "id": "ad4831c2-7ef9-44a0-81c3-d357d52fd5bc",
   "metadata": {},
   "outputs": [],
   "source": [
    "for i in range(len(match_js)):\n",
    "    if match_js[i]['data']:\n",
    "        print(i)\n",
    "        print(match_js[i]['data'])\n",
    "        break\n",
    "    else:\n",
    "        continue"
   ]
  },
  {
   "cell_type": "code",
   "execution_count": null,
   "id": "4dfe015b-fd02-4daa-aaa5-e87c6e47e00e",
   "metadata": {},
   "outputs": [],
   "source": [
    "match_data_js['players'][0]"
   ]
  },
  {
   "cell_type": "markdown",
   "id": "b2ca03e6-84f5-409e-9bf3-020c8c52d220",
   "metadata": {},
   "source": [
    "Vamos a tratar de extraer la información que necesitamos de cada uno de los archivos para poder montar una tabla con la que nos sea más fácil trabajar"
   ]
  },
  {
   "cell_type": "code",
   "execution_count": null,
   "id": "853e55bb-72c1-45ef-aaea-da5af1843f29",
   "metadata": {},
   "outputs": [],
   "source": [
    "event = 0\n",
    "events = []\n",
    "for i in tqdm(range(len(match_js))):\n",
    "    for j in range(len(match_js[i]['data'])):\n",
    "        try:\n",
    "            if match_js[i]['data'][j]['trackable_object']:\n",
    "                event_id = event +1\n",
    "                pos_x = match_js[i]['data'][j]['x']\n",
    "                pos_y = match_js[i]['data'][j]['y']\n",
    "                time = match_js[i]['time']\n",
    "                period = match_js[i]['period']\n",
    "                track_object = match_js[i]['data'][j]['trackable_object']\n",
    "                track_id = match_js[i]['data'][j]['track_id']\n",
    "\n",
    "\n",
    "                ev = {'event_id': event_id,\n",
    "                      'pos_x': pos_x,\n",
    "                      'pos_y':pos_y,\n",
    "                      'time': time,\n",
    "                      'period': period,\n",
    "                      'track_object': track_object,\n",
    "                      'track_id': track_id}\n",
    "                events.append(ev)\n",
    "            else:\n",
    "                pass\n",
    "        except:\n",
    "            pass"
   ]
  },
  {
   "cell_type": "code",
   "execution_count": null,
   "id": "85e3b6a9-e6ec-4689-ae31-678d9f754e3e",
   "metadata": {},
   "outputs": [],
   "source": [
    "df = pd.DataFrame(events)\n",
    "\n",
    "df.head()"
   ]
  },
  {
   "cell_type": "code",
   "execution_count": null,
   "id": "6579545a-3445-4bb2-87fc-d8aa71da64e8",
   "metadata": {},
   "outputs": [],
   "source": [
    "df.info()"
   ]
  },
  {
   "cell_type": "markdown",
   "id": "83787f98-d6a0-4adc-9260-f756154f93b0",
   "metadata": {},
   "source": [
    "Como nos interesa saber la posición del jugador durante todo el partido vamos a crear una nueva columna con su posición absoluta durante todo el encuentro, ya que a mitad del partido los equipos cambian de posición en el terreno de juego"
   ]
  },
  {
   "cell_type": "code",
   "execution_count": null,
   "id": "35809e55-a065-40a2-80f0-52138b106b28",
   "metadata": {},
   "outputs": [],
   "source": [
    "p1 = df[df.period == 1]\n",
    "p2 = df[df.period == 2]\n",
    "p2['pos_x_abs'] = [-1 * i for i in p2.pos_x]\n",
    "p2['pos_y_abs'] = [-1 * i for i in p2.pos_y]\n",
    "p1['pos_x_abs'] = [1 * i for i in p1.pos_x]\n",
    "p1['pos_y_abs'] = [1 * i for i in p1.pos_y]\n",
    "all_p = pd.concat([p1,p2],0)"
   ]
  },
  {
   "cell_type": "markdown",
   "id": "517c7aaa-4fb6-495c-984f-9a60da5d9ce2",
   "metadata": {},
   "source": [
    "Ahora vamos a hacer lo mismo con la tabla de info de jugadores, genero una tabla y la filtro con las columnas que me interesan"
   ]
  },
  {
   "cell_type": "code",
   "execution_count": null,
   "id": "7d068be5-6cd2-44a0-a05a-c0213cde80bc",
   "metadata": {},
   "outputs": [],
   "source": [
    "players = pd.DataFrame(match_data_js['players'])\n",
    "players.head()"
   ]
  },
  {
   "cell_type": "code",
   "execution_count": null,
   "id": "1c15a9ed-a2ed-4eb9-bcd8-70ac31ed1492",
   "metadata": {},
   "outputs": [],
   "source": [
    "players = pd.DataFrame(match_data_js['players'])[['id','trackable_object','first_name','last_name','team_id']]\n",
    "pos = [match_data_js['players'][i]['player_role']['name'] for i in range(len(players))]\n",
    "id_pos = [match_data_js['players'][i]['player_role']['id'] for i in range(len(players))]\n",
    "home_away = ['Home' if match_data_js['home_team']['id'] == players['team_id'][i] else 'Away' for i in range(len(players))]\n",
    "players['Position'] = pos\n",
    "players['id_pos'] = id_pos\n",
    "players['Home_Away'] = home_away"
   ]
  },
  {
   "cell_type": "code",
   "execution_count": null,
   "id": "eeba05a8-4b7b-4d99-b308-e9beb9ac81eb",
   "metadata": {},
   "outputs": [],
   "source": [
    "players.head()"
   ]
  },
  {
   "cell_type": "markdown",
   "id": "ed45d40f-2f73-4dcd-a79e-7699aab04a24",
   "metadata": {},
   "source": [
    "Ahora unimos los dos dataframes para tener una tabla final con la que poder trabajar"
   ]
  },
  {
   "cell_type": "code",
   "execution_count": null,
   "id": "7c27b908-ecd5-47e8-bb60-a8e87dd47b6f",
   "metadata": {},
   "outputs": [],
   "source": [
    "final = all_p.merge(players, how='left', left_on='track_object', right_on='trackable_object' )"
   ]
  },
  {
   "cell_type": "markdown",
   "id": "92dd6331-30fc-4466-90ad-4122c5750279",
   "metadata": {},
   "source": [
    "Y divido la tabla entre el equipo de casa y el visitante para poder tratar con los datos de forma separada"
   ]
  },
  {
   "cell_type": "code",
   "execution_count": null,
   "id": "f18340ad-5dc5-4c70-88bf-7ec28ff221c5",
   "metadata": {},
   "outputs": [],
   "source": [
    "final_home = final[final.Home_Away=='Home'].reset_index(drop=True)\n",
    "final_home.reset_index(drop=True, inplace=True)\n",
    "final_away = final[final.Home_Away=='Away']\n",
    "final_away.reset_index(drop=True, inplace=True)"
   ]
  },
  {
   "cell_type": "markdown",
   "id": "8fe47487-7a1d-4e22-b9bb-fb4b5c8a1b0f",
   "metadata": {},
   "source": [
    "Con la intención de poder extrapolar nuestro análisis a otros partidos vamos a unificar el código en una función"
   ]
  },
  {
   "cell_type": "markdown",
   "id": "77a41d2f-4128-4fbb-ae84-50f78879377f",
   "metadata": {},
   "source": [
    "## Análisis por Equipo"
   ]
  },
  {
   "cell_type": "code",
   "execution_count": null,
   "id": "573cd652-2a77-41e5-9e69-4aaa8efdd431",
   "metadata": {},
   "outputs": [],
   "source": [
    "def generate_teams_match_data(file:str, file2:str)->(pd.DataFrame, pd.DataFrame):\n",
    "    \n",
    "    with open(file) as f:\n",
    "        match_js = json.load(f)\n",
    "    \n",
    "    with open(file2) as f2:\n",
    "        match_data_js = json.load(f2)\n",
    "    \n",
    "    event = 0\n",
    "    events = []\n",
    "    for i in tqdm(range(len(match_js))):\n",
    "        for j in range(len(match_js[i]['data'])):\n",
    "                try:\n",
    "                    if match_js[i]['data'][j]['trackable_object']:\n",
    "                        event_id = event +1\n",
    "                        pos_x = match_js[i]['data'][j]['x']\n",
    "                        pos_y = match_js[i]['data'][j]['y']\n",
    "                        time = match_js[i]['time']\n",
    "                        period = match_js[i]['period']\n",
    "                        track_object = match_js[i]['data'][j]['trackable_object']\n",
    "                        track_id = match_js[i]['data'][j]['track_id']\n",
    "\n",
    "\n",
    "                        ev = {'event_id': event_id,\n",
    "                              'pos_x': pos_x,\n",
    "                              'pos_y':pos_y,\n",
    "                              'time': time,\n",
    "                              'period': period,\n",
    "                              'track_object': track_object,\n",
    "                              'track_id': track_id}\n",
    "                        events.append(ev)\n",
    "                    else:\n",
    "                        pass\n",
    "                except:\n",
    "                    pass\n",
    "    \n",
    "    match = pd.DataFrame(events)\n",
    "    p1 = match[match.period == 1]\n",
    "    p2 = match[match.period == 2]\n",
    "    p2['pos_x_abs'] = [-1 * i for i in p2.pos_x]\n",
    "    p2['pos_y_abs'] = [-1 * i for i in p2.pos_y]\n",
    "    p1['pos_x_abs'] = [1 * i for i in p1.pos_x]\n",
    "    p1['pos_y_abs'] = [1 * i for i in p1.pos_y]\n",
    "    all_p = pd.concat([p1,p2],0)\n",
    "    \n",
    "    players = pd.DataFrame(match_data_js['players'])[['id','trackable_object','first_name','last_name','team_id']]\n",
    "    pos = [match_data_js['players'][i]['player_role']['name'] for i in range(len(players))]\n",
    "    id_pos = [match_data_js['players'][i]['player_role']['id'] for i in range(len(players))]\n",
    "    home_away = ['Home' if match_data_js['home_team']['id'] == players['team_id'][i] else 'Away' for i in range(len(players))]\n",
    "    players['Position'] = pos\n",
    "    players['id_pos'] = id_pos\n",
    "    players['Home_Away'] = home_away\n",
    "    \n",
    "    final = all_p.merge(players, how='left', left_on='track_object', right_on='trackable_object' )\n",
    "    \n",
    "    final_home = final[final.Home_Away=='Home'].reset_index(drop=True)\n",
    "    final_home.reset_index(drop=True, inplace=True)\n",
    "    final_away = final[final.Home_Away=='Away']\n",
    "    final_away.reset_index(drop=True, inplace=True)\n",
    "    \n",
    "    return final_home, final_away\n",
    "    "
   ]
  },
  {
   "cell_type": "code",
   "execution_count": null,
   "id": "6ab71130-cef6-46f2-b6e2-eab2422aaf2f",
   "metadata": {},
   "outputs": [],
   "source": [
    "f_h, f_a = generate_teams_match_data('data/structured_data.json','data/match_data.json' )"
   ]
  },
  {
   "cell_type": "code",
   "execution_count": null,
   "id": "aeb4f28b-c0b4-436d-a2b5-b7032529374b",
   "metadata": {},
   "outputs": [],
   "source": [
    "final_home.shape == f_h.shape"
   ]
  },
  {
   "cell_type": "markdown",
   "id": "2d5da0e3-699c-47c6-9958-18d67fcb776c",
   "metadata": {},
   "source": [
    "Con los datos ya generados podemos empezar nuestro análisis de los equipos"
   ]
  },
  {
   "cell_type": "code",
   "execution_count": null,
   "id": "1cc1822f-d68e-4b09-921f-660532c3ce26",
   "metadata": {},
   "outputs": [],
   "source": [
    "plt.figure(figsize=(12,6))\n",
    "sns.histplot(f_h.pos_x_abs)\n",
    "plt.title(f'{f_h.Home_Away[0]} X Position')\n",
    "plt.axvline(-12,\n",
    "            c='r',\n",
    "            linewidth=3.,\n",
    "            linestyle='--',\n",
    "            label='Defending Line Limit')\n",
    "plt.axvline(12,\n",
    "            c='b',\n",
    "            linewidth=3.,\n",
    "            linestyle='--',\n",
    "            label='Atacking Line Limit')\n",
    "plt.ylabel(None)\n",
    "plt.xlabel(None)\n",
    "plt.show();"
   ]
  },
  {
   "cell_type": "code",
   "execution_count": null,
   "id": "106796e9-ff6a-407f-9c1f-b1b533539803",
   "metadata": {},
   "outputs": [],
   "source": [
    "plt.figure(figsize=(12,6))\n",
    "sns.histplot(f_a.pos_x_abs)\n",
    "plt.title(f'{f_a.Home_Away[0]} X Position')\n",
    "plt.axvline(12,\n",
    "            c='r',\n",
    "            linewidth=3.,\n",
    "            linestyle='--',\n",
    "            label='Defending Line Limit')\n",
    "plt.axvline(-12,\n",
    "            c='b',\n",
    "            linewidth=3.,\n",
    "            linestyle='--',\n",
    "            label='Atacking Line Limit')\n",
    "plt.ylabel(None)\n",
    "plt.xlabel(None)\n",
    "plt.show();"
   ]
  },
  {
   "cell_type": "code",
   "execution_count": null,
   "id": "bb06de3b-e3e7-4e24-ae9e-28927ce0edba",
   "metadata": {},
   "outputs": [],
   "source": [
    "def plot_team_hist(df:pd.DataFrame)->None:\n",
    "    \n",
    "    '''\n",
    "        This function reveices a dataframe and returns an histplot from the x values of all the players\n",
    "        \n",
    "        Parameters:\n",
    "            df: Pandas dataframe with the team data\n",
    "            \n",
    "        Returns:\n",
    "        \n",
    "            Histogram of th value pos_x_abs\n",
    "    \n",
    "    '''\n",
    "    \n",
    "    plt.figure(figsize=(12,6))\n",
    "    sns.histplot(f_h.pos_x_abs)\n",
    "    plt.title(f'{df.Home_Away[0]} X Position')\n",
    "    plt.ylabel(None)\n",
    "    plt.xlabel(None)\n",
    "    plt.show();"
   ]
  },
  {
   "cell_type": "markdown",
   "id": "18a06559-d5b3-4526-ae8d-49a343437a52",
   "metadata": {},
   "source": [
    "Como podemos observar a simple vista el equipo local estuvo más tiempo en zona defensiva y el equipo visitante estuvo más en la zona del medio campo y ataque, en este punto vamos ha utilizar una librería específica para poder pintar mapas de calor en el futbol"
   ]
  },
  {
   "cell_type": "code",
   "execution_count": null,
   "id": "4c4336fe-b160-453a-ab2f-cfd88c4e4602",
   "metadata": {
    "tags": []
   },
   "outputs": [],
   "source": [
    "def plot_heatmap_team(df:pd.DataFrame, players:str)->None:\n",
    "    \n",
    "    print('Calculando posición de los jugadores en el terreno de juego ...\\n')\n",
    "    \n",
    "    start_p = [n for n in df[df.period == 2].sort_values('id_pos').trackable_object.unique() if n in df[df.period == 1].trackable_object.unique()]\n",
    "    subs = [n for n in df[df.period == 2].sort_values('id_pos').trackable_object.unique() if n not in df[df.period == 1].trackable_object.unique()]\n",
    "    \n",
    "    with plt.xkcd():\n",
    "        matplotlib.rcParams['font.family'] = ['CENTAUR']\n",
    "        pitch = Pitch(pitch_type='skillcorner', pitch_length= 105, pitch_width=68, pitch_color='limegreen', \n",
    "                  line_color='white', stripe=True, line_zorder=3)\n",
    "        \n",
    "        fig, ax = pitch.draw(figsize=(12,6))\n",
    "\n",
    "        custcmap = matplotlib.colors.LinearSegmentedColormap.from_list('custom', ['limegreen','green','yellow','gold','orange','orangered','red'])\n",
    "        kde = pitch.kdeplot(df.pos_x_abs, df.pos_y_abs, fill=True, ax=ax,\n",
    "                       levels=100,shade=True, shade_lowest=True, cut=4, cmap=custcmap, zorder=1)\n",
    "        \n",
    "        print('Creando Mapa de calor ...\\n')\n",
    "        \n",
    "        if players == 'start':\n",
    "            def_line = 0\n",
    "            mid_line = 0\n",
    "            atk_line = 0\n",
    "            for p in tqdm(start_p):\n",
    "                \n",
    "                name = df[df.trackable_object == p]['last_name'].values[0]\n",
    "                x = round(df[df.trackable_object == p].pos_x_abs.median(),2)\n",
    "                y = round(df[df.trackable_object == p].pos_y_abs.median(),2)\n",
    "                \n",
    "                if df.Home_Away.unique()[0] == 'Away':\n",
    "                    \n",
    "                    if 12 < x:\n",
    "                        pl_clas = 'Defending Line'\n",
    "                        def_line += 1\n",
    "                    elif -12 < x < 12:\n",
    "                        pl_clas = 'Midfield Line'\n",
    "                        mid_line += 1\n",
    "                    else:\n",
    "                        pl_clas = 'Attacking Line'\n",
    "                        atk_line += 1\n",
    "                else:\n",
    "                    \n",
    "                    if 12 < x:\n",
    "                        pl_clas = 'Attacking Line'\n",
    "                        atk_line += 1\n",
    "                    elif -12 < x < 12:\n",
    "                        pl_clas = 'Midfield Line'\n",
    "                        mid_line += 1\n",
    "                    else:\n",
    "                        pl_clas = 'Defending Line'\n",
    "                        def_line += 1\n",
    "                        \n",
    "                print(f'{name} : {pl_clas} --> ({x},{y})')\n",
    "                plt.annotate(f'+ {name}',(x,y), fontsize=20, zorder=4)\n",
    "            #plt.annotate(f'Initial Squad - Tactic 1-{def_line-1}-{mid_line}-{atk_line}', (-25,35), color='black', fontsize= 20, zorder=4)\n",
    "            plt.plot([-12,-12],[-35,35] ,color='r', zorder=3)\n",
    "            plt.plot([12,12],[-35,35] ,color='r', zorder=3)\n",
    "            plt.title(f'{df.Home_Away.unique()[0]} Team Initial Squad - Tactic 1-{def_line-1}-{mid_line}-{atk_line}', fontsize=25)\n",
    "        \n",
    "            print('\\nGuardando imagen ...\\n')\n",
    "            plt.savefig(f'images/{df.Home_Away.unique()[0]}_Team.png')\n",
    "        \n",
    "        else:\n",
    "            \n",
    "            for p in tqdm(subs):\n",
    "                name = df[df.trackable_object == p]['last_name'].values[0]\n",
    "                x = round(df[df.trackable_object == p].pos_x_abs.median(),2)\n",
    "                y = round(df[df.trackable_object == p].pos_y_abs.median(),2)\n",
    "                \n",
    "                if df.Home_Away.unique()[0] == 'Away':\n",
    "                    \n",
    "                    if 12 < x:\n",
    "                        pl_clas = 'Defending Line'\n",
    "                    elif -12 < x < 12:\n",
    "                        pl_clas = 'Midfield Line'\n",
    "                    else:\n",
    "                        pl_clas = 'Attacking Line'\n",
    "                        \n",
    "                else:\n",
    "                    \n",
    "                    if 12 < x:\n",
    "                        pl_clas = 'Attacking Line'\n",
    "                    elif -12 < x < 12:\n",
    "                        pl_clas = 'Midfield Line'\n",
    "                    else:\n",
    "                        pl_clas = 'Defending Line'\n",
    "                        \n",
    "                print(f'{name} : {pl_clas} --> (x:{x}, y:{y})')\n",
    "                plt.annotate(f'+ {name}',(x,y), fontsize=20, zorder=4)\n",
    "            #plt.annotate('Subtitutions', (-15,35), fontsize= 20)\n",
    "            \n",
    "            plt.plot([-12,-12],[-35,35] ,color='r', zorder=3)\n",
    "            plt.plot([12,12],[-35,35] ,color='b', zorder=3)\n",
    "            plt.title(f'{df.Home_Away.unique()[0]} Team Subtitutions', fontsize=25)\n",
    "        \n",
    "            print('\\nGuardando imagen ...\\n')\n",
    "            plt.savefig(f'images/{df.Home_Away.unique()[0]}_Team_Subtitutions.png')\n",
    "        plt.show();"
   ]
  },
  {
   "cell_type": "markdown",
   "id": "669cb294-1228-49ee-aa60-f7aeddb7a220",
   "metadata": {
    "tags": []
   },
   "source": [
    "Vamos a imprimir el mapa de calor del once inical del equipo local"
   ]
  },
  {
   "cell_type": "markdown",
   "id": "9d30bcf0-4160-4ca1-9ce6-5d01b076a3ec",
   "metadata": {},
   "source": [
    "#### Equipo Local"
   ]
  },
  {
   "cell_type": "code",
   "execution_count": null,
   "id": "eaddf7fd-160c-40ad-86cb-ad6ff648514b",
   "metadata": {},
   "outputs": [],
   "source": [
    "plot_heatmap_team(f_h, 'start')"
   ]
  },
  {
   "cell_type": "markdown",
   "id": "a4748576-502f-45af-ae82-7ac7c706bf04",
   "metadata": {},
   "source": [
    "Ahora el del visitante"
   ]
  },
  {
   "cell_type": "markdown",
   "id": "3991a57b-8a81-48fb-be52-a3a3ab4145b6",
   "metadata": {},
   "source": [
    "#### Equipo Visitante"
   ]
  },
  {
   "cell_type": "code",
   "execution_count": null,
   "id": "10bda2f7-d3bc-4a6f-bd96-1e1a01a89de3",
   "metadata": {},
   "outputs": [],
   "source": [
    "plot_heatmap_team(f_a, 'start')"
   ]
  },
  {
   "cell_type": "markdown",
   "id": "623a709a-3790-4bce-a53a-ab6d5dedbd1e",
   "metadata": {},
   "source": [
    "## Análisis Jugador por Jugador"
   ]
  },
  {
   "cell_type": "markdown",
   "id": "94f17082-ec50-4df3-a577-ec2bfceb2770",
   "metadata": {},
   "source": [
    "Con unos pequeños cambios podemos adaptar las funciones que creamos antes para analizar a un jugador específico"
   ]
  },
  {
   "cell_type": "code",
   "execution_count": null,
   "id": "c2dc9ad6-2b43-40cc-b202-4fc31dddacfc",
   "metadata": {},
   "outputs": [],
   "source": [
    "def generate_player_match_data(file:str, file2:str, id_player:str)->pd.DataFrame:    \n",
    "    \n",
    "    with open(file) as f:\n",
    "            match_js = json.load(f)\n",
    "\n",
    "    with open(file2) as f2:\n",
    "            match_data_js = json.load(f2)\n",
    "\n",
    "    event = 0\n",
    "    events = []\n",
    "    for i in tqdm(range(len(match_js))):\n",
    "        for j in range(len(match_js[i]['data'])):\n",
    "            try:\n",
    "                if match_js[i]['data'][j]['trackable_object'] == id_player:\n",
    "                    event_id = event +1\n",
    "                    pos_x = match_js[i]['data'][j]['x']\n",
    "                    pos_y = match_js[i]['data'][j]['y']\n",
    "                    time = match_js[i]['time']\n",
    "                    period = match_js[i]['period']\n",
    "                    track_object = id_player\n",
    "\n",
    "\n",
    "                    ev = {'event_id': event_id,\n",
    "                          'pos_x': pos_x,\n",
    "                          'pos_y':pos_y,\n",
    "                          'time': time,\n",
    "                          'period': period,\n",
    "                          'track_object': track_object}\n",
    "                    events.append(ev)\n",
    "                else:\n",
    "                    pass\n",
    "            except:\n",
    "                pass\n",
    "\n",
    "    match = pd.DataFrame(events)\n",
    "    p1 = match[match.period == 1]\n",
    "    p2 = match[match.period == 2]\n",
    "    p2['pos_x_abs'] = [-1 * i for i in p2.pos_x]\n",
    "    p2['pos_y_abs'] = [-1 * i for i in p2.pos_y]\n",
    "    p1['pos_x_abs'] = [1 * i for i in p1.pos_x]\n",
    "    p1['pos_y_abs'] = [1 * i for i in p1.pos_y]\n",
    "    all_p = pd.concat([p1,p2],0)\n",
    "\n",
    "    players = pd.DataFrame(match_data_js['players'])[['id','trackable_object','first_name','last_name','team_id']]\n",
    "    pos = [match_data_js['players'][i]['player_role']['name'] for i in range(len(players))]\n",
    "    id_pos = [match_data_js['players'][i]['player_role']['id'] for i in range(len(players))]\n",
    "    home_away = ['Home' if match_data_js['home_team']['id'] == players['team_id'][i] else 'Away' for i in range(len(players))]\n",
    "    players['Position'] = pos\n",
    "    players['id_pos'] = id_pos\n",
    "    players['Home_Away'] = home_away\n",
    "\n",
    "    final = all_p.merge(players, how='left', left_on='track_object', right_on='trackable_object' )\n",
    "    \n",
    "    return final"
   ]
  },
  {
   "cell_type": "code",
   "execution_count": null,
   "id": "112872cc-1739-4b9b-b161-ba75767ea9de",
   "metadata": {},
   "outputs": [],
   "source": [
    "def plot_player_heatmap(df:pd.DataFrame)->None:\n",
    "    \n",
    "    name = df['last_name'][0]\n",
    "    x = round(df.pos_x_abs.median(),2)\n",
    "    y = round(df.pos_y_abs.median(),2)\n",
    "                \n",
    "    if df.Home_Away.unique()[0] == 'Away':\n",
    "                    \n",
    "        if 12 < x:\n",
    "            pl_clas = 'Defending Line'\n",
    "        elif -12 < x < 12:\n",
    "            pl_clas = 'Midfield Line'   \n",
    "        else:\n",
    "            pl_clas = 'Attacking Line'\n",
    "                \n",
    "    else:    \n",
    "        if 12 < x:\n",
    "            pl_clas = 'Attacking Line'\n",
    "        elif -12 < x < 12:\n",
    "            pl_clas = 'Midfield Line' \n",
    "        else:\n",
    "            pl_clas = 'Defending Line'\n",
    "            \n",
    "    print('Calculando posiciónes del jugadore en el terreno de juego ...\\n')\n",
    "    print('Creando Mapa de calor ...\\n')\n",
    "    \n",
    "    with plt.xkcd():\n",
    "        matplotlib.rcParams['font.family'] = ['CENTAUR']\n",
    "        pitch = Pitch(pitch_type='skillcorner', pitch_length= 105, pitch_width=68, pitch_color='limegreen', \n",
    "                  line_color='white', stripe=False, line_zorder=3)\n",
    "        fig, ax = pitch.draw(figsize=(12,6))\n",
    "        \n",
    "        custcmap = matplotlib.colors.LinearSegmentedColormap.from_list('custom', ['limegreen','green','yellow', 'gold','orange','orangered','red'])\n",
    "        kde = pitch.kdeplot(df.pos_x_abs, df.pos_y_abs, fill=True, ax=ax,\n",
    "                       levels=100, shade_lowest=True, cut=4, cmap=custcmap, zorder=1)\n",
    "        \n",
    "        plt.title(f'{df.first_name[0]} {name} - {pl_clas}', fontsize=25) \n",
    "        plt.annotate(f'+ {name}',(x,y), fontsize=20, zorder=4)\n",
    "        plt.plot([-12,-12],[-35,35] ,color='r', zorder=3)\n",
    "        plt.plot([12,12],[-35,35] ,color='r', zorder=3)\n",
    "        \n",
    "        \n",
    "        print(f'{name} : {pl_clas} --> ({x},{y})')\n",
    "        print('\\nGuardando imagen ...\\n')\n",
    "        plt.savefig(f'images/{df.Home_Away[0]}/{name}_heatmap.png')\n",
    "        \n",
    "        plt.show();"
   ]
  },
  {
   "cell_type": "markdown",
   "id": "0a3be19a-d533-43e4-acd0-7d487f2df1d5",
   "metadata": {},
   "source": [
    "Con estas dos funciones podemos generar mapas de calor de cada uno de los jugadores de ambos equipo para clasificarlos individualmente en la línea táctica"
   ]
  },
  {
   "cell_type": "code",
   "execution_count": null,
   "id": "2f31ac90-b9b8-405c-8821-c2ac3c267a99",
   "metadata": {},
   "outputs": [],
   "source": [
    "start_p_h = [n for n in f_h[f_h.period == 2].sort_values('id_pos').trackable_object.unique() if n in f_h[f_h.period == 1].trackable_object.unique()]\n",
    "subs_h = [n for n in f_h[f_h.period == 2].sort_values('id_pos').trackable_object.unique() if n not in f_h[f_h.period == 1].trackable_object.unique()]\n",
    "start_p_a = [n for n in f_a[f_a.period == 2].sort_values('id_pos').trackable_object.unique() if n in f_a[f_a.period == 1].trackable_object.unique()]\n",
    "subs_a = [n for n in f_a[f_a.period == 2].sort_values('id_pos').trackable_object.unique() if n not in f_a[f_a.period == 1].trackable_object.unique()]"
   ]
  },
  {
   "cell_type": "markdown",
   "id": "4051f627-706b-4560-987c-17b67445bf60",
   "metadata": {},
   "source": [
    "#### Análisis del equipo titular local"
   ]
  },
  {
   "cell_type": "code",
   "execution_count": null,
   "id": "e384c7c0-ccdb-4021-8520-c61629f7756b",
   "metadata": {},
   "outputs": [],
   "source": [
    "for p in start_p_h:\n",
    "    pl = generate_player_match_data('data/structured_data.json','data/match_data.json', p)\n",
    "    plot_player_heatmap(pl)"
   ]
  },
  {
   "cell_type": "markdown",
   "id": "2c95421b-49b9-44a3-9a60-7f8093f7a06f",
   "metadata": {},
   "source": [
    "#### Análisis de jugadores que entraron de recambio en el equipo local"
   ]
  },
  {
   "cell_type": "code",
   "execution_count": null,
   "id": "c6baaeff-a958-4188-82b8-0f04a450a012",
   "metadata": {},
   "outputs": [],
   "source": [
    "for p in subs_h:\n",
    "    pl = generate_player_match_data('data/structured_data.json','data/match_data.json', p)\n",
    "    plot_player_heatmap(pl)"
   ]
  },
  {
   "cell_type": "markdown",
   "id": "3d2d5e0f-8ce8-42de-8573-d2cab5354869",
   "metadata": {},
   "source": [
    "#### Análisis del equipo titular visitante"
   ]
  },
  {
   "cell_type": "code",
   "execution_count": null,
   "id": "5b35e4db-c7b4-4126-8857-bf508e0e3ef9",
   "metadata": {},
   "outputs": [],
   "source": [
    "for p in start_p_a:\n",
    "    pl = generate_player_match_data('data/structured_data.json','data/match_data.json', p)\n",
    "    plot_player_heatmap(pl)"
   ]
  },
  {
   "cell_type": "markdown",
   "id": "df0a4c53-07fc-4f6e-b5a0-5aa17edf8b3a",
   "metadata": {},
   "source": [
    "#### Análisis de jugadores que entraron de recambio en el equipo visitante"
   ]
  },
  {
   "cell_type": "code",
   "execution_count": null,
   "id": "44b9766d-8ce2-447d-aea3-1d1af077d798",
   "metadata": {},
   "outputs": [],
   "source": [
    "for p in subs_a:\n",
    "    pl = generate_player_match_data('data/structured_data.json','data/match_data.json', p)\n",
    "    plot_player_heatmap(pl)"
   ]
  },
  {
   "cell_type": "code",
   "execution_count": null,
   "id": "d608d908-6cf6-4095-9249-de4de1356bc1",
   "metadata": {},
   "outputs": [],
   "source": []
  },
  {
   "cell_type": "code",
   "execution_count": null,
   "id": "c0338a04-8106-4a58-9f18-e38701c30991",
   "metadata": {},
   "outputs": [],
   "source": []
  },
  {
   "cell_type": "code",
   "execution_count": null,
   "id": "519d21d3-d4eb-484b-bb0d-bb8579a4342a",
   "metadata": {},
   "outputs": [],
   "source": []
  },
  {
   "cell_type": "code",
   "execution_count": null,
   "id": "2e19cde9-e22f-48eb-826d-8f06b1301fae",
   "metadata": {},
   "outputs": [],
   "source": []
  }
 ],
 "metadata": {
  "kernelspec": {
   "display_name": "Python 3 (ipykernel)",
   "language": "python",
   "name": "python3"
  },
  "language_info": {
   "codemirror_mode": {
    "name": "ipython",
    "version": 3
   },
   "file_extension": ".py",
   "mimetype": "text/x-python",
   "name": "python",
   "nbconvert_exporter": "python",
   "pygments_lexer": "ipython3",
   "version": "3.9.7"
  }
 },
 "nbformat": 4,
 "nbformat_minor": 5
}
