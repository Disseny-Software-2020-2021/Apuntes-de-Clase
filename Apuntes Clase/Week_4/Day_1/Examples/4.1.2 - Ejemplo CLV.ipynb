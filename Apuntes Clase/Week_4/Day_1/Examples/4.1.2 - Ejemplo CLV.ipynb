{
 "cells": [
  {
   "cell_type": "markdown",
   "metadata": {},
   "source": [
    "# 4.1.2 - Ejemplo CLV, Análisis de cliente\n",
    "\n",
    "![clv](../../images/clv.jpeg)"
   ]
  },
  {
   "cell_type": "markdown",
   "metadata": {},
   "source": [
    "## Problema (caso de estudio)"
   ]
  },
  {
   "cell_type": "markdown",
   "metadata": {},
   "source": [
    "### Resumen\n",
    "\n",
    "**Descripcion de los datos**:  \n",
    "\n",
    "+ **customer :** `ID del cliente`                        \n",
    "+ **state :** `estados en US`                      \n",
    "+ **customer_lifetime_value :** `CLV es el valor economico del cliente para la empresa durante toda su relacion`\n",
    "+ **response :**  `Respuesta a campañas/llamadas (marketing-engagement)`                   \n",
    "+ **coverage :** `Tipo de cobertura del cliente`                        \n",
    "+ **education** `Nivel educativo del cliente`                   \n",
    "+ **effective_to_date :** `Fecha efectiva`              \n",
    "+ **employmentstatus :** `Estado laboral del cliente`                \n",
    "+ **gender :**  `Genero del cliente`                  \n",
    "+ **income :**  `Ingresos del cliente`\n",
    "+ **location_code :** `Zona de residencia del cliente`                  \n",
    "+ **marital_status :** `Estado Civil del cliente`                  \n",
    "+ **monthly_premium_auto :** `Premium mensual`            \n",
    "+ **months_since_last_claim :** `Ultima reclamacion del cliente`          \n",
    "+ **months_since_policy_inception :** `Inicio de la poliza`    \n",
    "+ **number_of_open_complaints :** `Reclamaciones abiertas`        \n",
    "+ **number_of_policies :** `Numero de polizas`              \n",
    "+ **policy_type :** `Tipo de poliza`                     \n",
    "+ **policy :** `Poliza`                         \n",
    "+ **renew_offer_type :**  `Oferta de renovacion`                 \n",
    "+ **sales_channel :**  `Canal de ventas (primer contacto compañia-cliente)`                 \n",
    "+ **total_claim_amount :** `Monto de la reclamacion`              \n",
    "+ **vehicle_class :**  `Tipo de vehiculo`                 \n",
    "+ **vehicle_size :**  `Tamaño del vehiculo`  \n",
    "\n",
    "\n",
    "**Objetivo:**\n",
    "\n",
    "Mejorar el CLV a traves del marketing."
   ]
  },
  {
   "cell_type": "code",
   "execution_count": null,
   "metadata": {},
   "outputs": [],
   "source": [
    "import warnings\n",
    "warnings.simplefilter('ignore')\n",
    "\n",
    "import matplotlib.pyplot as plt\n",
    "import seaborn as sns\n",
    "%matplotlib inline\n",
    "\n",
    "import pandas as pd\n",
    "pd.set_option('display.max_columns', None)\n",
    "plt.rcParams['figure.figsize']=(20, 10)"
   ]
  },
  {
   "cell_type": "markdown",
   "metadata": {},
   "source": [
    "## Obtener datos"
   ]
  },
  {
   "cell_type": "code",
   "execution_count": null,
   "metadata": {},
   "outputs": [],
   "source": [
    "data=pd.read_csv('../../../data/Marketing-Customer-Analysis.csv')\n",
    "\n",
    "data.columns=[e.lower().replace(' ', '_') for e in data.columns]\n",
    "\n",
    "data.head()"
   ]
  },
  {
   "cell_type": "markdown",
   "metadata": {},
   "source": [
    "## Analisis exploratorio"
   ]
  },
  {
   "cell_type": "code",
   "execution_count": null,
   "metadata": {},
   "outputs": [],
   "source": [
    "data.info(memory_usage='deep')"
   ]
  },
  {
   "cell_type": "markdown",
   "metadata": {},
   "source": [
    "#### Objetivo"
   ]
  },
  {
   "cell_type": "code",
   "execution_count": null,
   "metadata": {},
   "outputs": [],
   "source": [
    "data.customer_lifetime_value.describe()"
   ]
  },
  {
   "cell_type": "code",
   "execution_count": null,
   "metadata": {},
   "outputs": [],
   "source": [
    "sns.distplot(data.customer_lifetime_value);"
   ]
  },
  {
   "cell_type": "code",
   "execution_count": null,
   "metadata": {},
   "outputs": [],
   "source": [
    "sns.distplot(data.customer_lifetime_value,\n",
    "             hist_kws={'cumulative': True}, \n",
    "             kde_kws={'cumulative': True});"
   ]
  },
  {
   "cell_type": "markdown",
   "metadata": {},
   "source": [
    "#### a) Numero total de clientes que responden a las campañas de marketing (engagement)"
   ]
  },
  {
   "cell_type": "code",
   "execution_count": null,
   "metadata": {},
   "outputs": [],
   "source": [
    "data.groupby('response').count().customer"
   ]
  },
  {
   "cell_type": "code",
   "execution_count": null,
   "metadata": {},
   "outputs": [],
   "source": [
    "ax=data.groupby('response').count().customer.plot(\n",
    "        \n",
    "        kind='bar',\n",
    "        color=['r', 'b'],\n",
    "        grid=True,\n",
    "        figsize=(12, 8),\n",
    "        title='Engagement'\n",
    ")\n",
    "\n",
    "ax.set_xlabel('Engage')\n",
    "ax.set_ylabel('# Count')\n",
    "\n",
    "plt.show();"
   ]
  },
  {
   "cell_type": "code",
   "execution_count": null,
   "metadata": {},
   "outputs": [],
   "source": [
    "data.groupby('response').count().customer/data.shape[0]"
   ]
  },
  {
   "cell_type": "markdown",
   "metadata": {},
   "source": [
    "**Esto nos muestra que solo el 14% de los clientes responden positivamente a las campañas.**"
   ]
  },
  {
   "cell_type": "markdown",
   "metadata": {},
   "source": [
    "#### b) Oferta de renovacion\n",
    "\n",
    "Nos fijaremos en los datos de las ofertas de renovacion. Buscaremos que tipo de oferta funciona mejor para los clientes."
   ]
  },
  {
   "cell_type": "code",
   "execution_count": null,
   "metadata": {},
   "outputs": [],
   "source": [
    "por_tipo_de_oferta=data[data.response=='Yes']\\\n",
    "                        .groupby('renew_offer_type')\\\n",
    "                        .count().customer/data.groupby('renew_offer_type').count().customer\n",
    "\n",
    "\n",
    "por_tipo_de_oferta"
   ]
  },
  {
   "cell_type": "code",
   "execution_count": null,
   "metadata": {},
   "outputs": [],
   "source": [
    "ax=(por_tipo_de_oferta*100).plot(kind='bar',\n",
    "                                 figsize=(12, 8),\n",
    "                                 color=['r', 'g', 'b', 'y'],  \n",
    "                                 grid=True)\n",
    "\n",
    "ax.set_xlabel('Tipo de oferta')\n",
    "ax.set_ylabel('Tasa de engage %');"
   ]
  },
  {
   "cell_type": "code",
   "execution_count": null,
   "metadata": {},
   "outputs": [],
   "source": [
    "data.groupby('renew_offer_type').count().customer"
   ]
  },
  {
   "cell_type": "markdown",
   "metadata": {},
   "source": [
    "**Podemos ver que la oferta tipo 2 tiene mayor engage.**"
   ]
  },
  {
   "cell_type": "markdown",
   "metadata": {},
   "source": [
    "#### c) Renovacion/Atributo\n",
    "\n",
    "Ahora vamos a intentar entender como los clientes con diferentes atributos responden a los mensajes de marketing.\n",
    "Empezaremos observando la respuesta para cada tipo de oferta y clase de vehiculo."
   ]
  },
  {
   "cell_type": "code",
   "execution_count": null,
   "metadata": {},
   "outputs": [],
   "source": [
    "def engage(resp, grupo1, grupo2):\n",
    "\n",
    "    df=data[data.response==resp]\\\n",
    "                .groupby([grupo1, grupo2])\\\n",
    "                .count().customer/data.groupby(grupo1).count().customer\n",
    "    \n",
    "    df=df.unstack().fillna(0)\n",
    "\n",
    "    ax=(df*100).plot(kind='bar',\n",
    "                     figsize=(12, 8),\n",
    "                     color=['r', 'g', 'b', 'y', 'grey', 'black'],  \n",
    "                     grid=True)\n",
    "\n",
    "    ax.set_ylabel('Tasa de engage %')\n",
    "    \n",
    "    plt.show();\n",
    "    \n",
    "    return df"
   ]
  },
  {
   "cell_type": "code",
   "execution_count": null,
   "metadata": {},
   "outputs": [],
   "source": [
    "engage('Yes', 'renew_offer_type', 'vehicle_class')"
   ]
  },
  {
   "cell_type": "markdown",
   "metadata": {},
   "source": [
    "**Ya sabiamos que el tipo 2 de oferta tenia la respuesta mas alta entre los clientes, aunque ahora se pueden ver mas cosas cruzando con otros atributos, por ejemplo, la clase vehiculo. Los clientes con vehiculos de 4 puertas responden con mayor frecuencia a todo tipo de ofertas, y aquellos clientes con Luxury SUV responden con mas alta frecuecia las ofertas tipo 1 y 2. Si tenemos diferencias significativas entre las tasas de respuesta entre los clientes, podemos ajustar el objetivo de las distintas ofertas.**"
   ]
  },
  {
   "cell_type": "code",
   "execution_count": null,
   "metadata": {},
   "outputs": [],
   "source": [
    "data.columns"
   ]
  },
  {
   "cell_type": "code",
   "execution_count": null,
   "metadata": {},
   "outputs": [],
   "source": [
    "engage('Yes', 'renew_offer_type', 'state')"
   ]
  },
  {
   "cell_type": "markdown",
   "metadata": {},
   "source": [
    "#### d) Analizando la tasas de respuesta por genero"
   ]
  },
  {
   "cell_type": "code",
   "execution_count": null,
   "metadata": {},
   "outputs": [],
   "source": [
    "por_genero=data.loc[data.response=='Yes']\\\n",
    "                    .groupby(['gender'])\\\n",
    "                    .count().customer/data.groupby('gender').count().customer*100.\n",
    "\n",
    "por_genero"
   ]
  },
  {
   "cell_type": "code",
   "execution_count": null,
   "metadata": {},
   "outputs": [],
   "source": [
    "ax=(por_genero).plot(kind='bar', figsize=(12,8),\n",
    "                               color=['r', 'g', 'b', 'y'], grid=True)\n",
    "\n",
    "ax.set_xlabel('Tipo de oferta')\n",
    "ax.set_ylabel('Tasa Engage %')\n",
    "\n",
    "plt.show();"
   ]
  },
  {
   "cell_type": "code",
   "execution_count": null,
   "metadata": {},
   "outputs": [],
   "source": [
    "engage('Yes', 'gender', 'vehicle_class')"
   ]
  },
  {
   "cell_type": "markdown",
   "metadata": {},
   "source": [
    "**Las clases estan balanceadas. Pero se puede observar una menor respuesta entre las mujeres. Por otro lado, los hombres con coches de lujo no responden nunca a las campañas de marketing.**"
   ]
  },
  {
   "cell_type": "markdown",
   "metadata": {},
   "source": [
    "#### e) Analizando la tasa de respuesta por diferentes canales de venta"
   ]
  },
  {
   "cell_type": "code",
   "execution_count": null,
   "metadata": {},
   "outputs": [],
   "source": [
    "por_canal_venta=data.loc[data.response=='Yes']\\\n",
    "                    .groupby(['sales_channel'])\\\n",
    "                    .count().customer/data.groupby('sales_channel').count().customer\n",
    "\n",
    "por_canal_venta"
   ]
  },
  {
   "cell_type": "code",
   "execution_count": null,
   "metadata": {},
   "outputs": [],
   "source": [
    "ax=(por_canal_venta*100.).plot(kind='bar', figsize=(12,8),\n",
    "                               color=['r', 'g', 'b', 'y'], grid=True)\n",
    "\n",
    "\n",
    "ax.set_ylabel('Tasa Engage %')\n",
    "\n",
    "plt.show();"
   ]
  },
  {
   "cell_type": "markdown",
   "metadata": {},
   "source": [
    "**Como podemos ver, Agent funciona mejor en terminos de obtener respuesta de los clientes, y en segundo lugar Web. Podemos ver otras relaciones.**"
   ]
  },
  {
   "cell_type": "code",
   "execution_count": null,
   "metadata": {},
   "outputs": [],
   "source": [
    "engage('Yes', 'sales_channel', 'renew_offer_type')"
   ]
  },
  {
   "cell_type": "markdown",
   "metadata": {},
   "source": [
    "**La oferta tipo 3 no funciona en el canal Branch ni en el canal Call Center. La oferta tipo 1 necesita mejorar Call Centers.**"
   ]
  },
  {
   "cell_type": "markdown",
   "metadata": {},
   "source": [
    "#### e) Clusterizacion Sencilla\n",
    "\n",
    "Vamos a segmentar a los clientes segun el CLV y segun los meses desde el inicio de la poliza."
   ]
  },
  {
   "cell_type": "markdown",
   "metadata": {},
   "source": [
    "Aquellos clientes con un CLV mayor que la mediana, se clasifican como alto CLV (`high`), aquellos por debajo de la mediana como bajo CLV (`low`)."
   ]
  },
  {
   "cell_type": "code",
   "execution_count": null,
   "metadata": {},
   "outputs": [],
   "source": [
    "data['clv_segment']=data.customer_lifetime_value\\\n",
    "                        .apply(lambda x: 'high' if x>data.customer_lifetime_value.median() else 'low')\n",
    "\n",
    "data.head()"
   ]
  },
  {
   "cell_type": "code",
   "execution_count": null,
   "metadata": {},
   "outputs": [],
   "source": [
    "data.months_since_policy_inception.describe()"
   ]
  },
  {
   "cell_type": "code",
   "execution_count": null,
   "metadata": {},
   "outputs": [],
   "source": [
    "data['policy_age_segment']=data.months_since_policy_inception\\\n",
    "                        .apply(lambda x: 'high' if x>data.months_since_policy_inception.median() else 'low')\n",
    "\n",
    "data.head()"
   ]
  },
  {
   "cell_type": "code",
   "execution_count": null,
   "metadata": {},
   "outputs": [],
   "source": [
    "logy=False\n",
    "\n",
    "ax=data.loc[(data.clv_segment=='high')&(data.policy_age_segment=='high')]\\\n",
    "       .plot.scatter(x='months_since_policy_inception', y='customer_lifetime_value', \n",
    "                    logy=logy, color='red')\n",
    "\n",
    "\n",
    "data.loc[(data.clv_segment=='low')&(data.policy_age_segment=='high')]\\\n",
    "       .plot.scatter(ax=ax, # con esta variable se pinta uno encima de otro\n",
    "                     x='months_since_policy_inception', y='customer_lifetime_value', \n",
    "                     logy=logy, color='blue')\n",
    "\n",
    "\n",
    "data.loc[(data.clv_segment=='high')&(data.policy_age_segment=='low')]\\\n",
    "       .plot.scatter(ax=ax,\n",
    "                     x='months_since_policy_inception', y='customer_lifetime_value', \n",
    "                     logy=logy, color='orange')\n",
    "\n",
    "\n",
    "data.loc[(data.clv_segment=='low')&(data.policy_age_segment=='low')]\\\n",
    "       .plot.scatter(ax=ax,\n",
    "                     x='months_since_policy_inception', y='customer_lifetime_value', \n",
    "                     logy=logy, color='green', grid=True, figsize=(10, 7))\n",
    "\n",
    "\n",
    "ax.set_ylim(1e3, 5e4)\n",
    "ax.set_ylabel('CLV (escala log)')\n",
    "ax.set_xlabel('Meses')\n",
    "ax.set_title('Segmentos')\n",
    "plt.show();"
   ]
  },
  {
   "cell_type": "markdown",
   "metadata": {},
   "source": [
    "`logy=True` transforma la escala una escala logaritmica, que se usa a menudo en valores monetario, aunque suelen generar un problema de simitria (skewness). "
   ]
  },
  {
   "cell_type": "code",
   "execution_count": null,
   "metadata": {},
   "outputs": [],
   "source": [
    "engage('Yes', 'clv_segment', 'policy_age_segment')"
   ]
  },
  {
   "cell_type": "markdown",
   "metadata": {},
   "source": [
    "**Podemos ver que el segmento de polizas mas antiguas tiene mayor tasa de respuesta. Esto sugiere que esos clientes que llevan mas tiempo en la compañia responden mejor. De hecho, el mejor segmento de los cuatro en respuesta es el de polizas mas antiguas y bajo CLV. Creando diferentes segmentaciones de los clientes basandonos en sus atributos, podemos tener un mejor entendimiento del comportamiento de los distintos tipos de clientes y, por tanto, desarrollar una mejor estrategia de marketing.**"
   ]
  },
  {
   "cell_type": "markdown",
   "metadata": {},
   "source": [
    "### Conclusion\n",
    "\n",
    "\n",
    "+ Objetivo:\n",
    "    + **Mejorar el CLV** (Media CLV: 8005)\n",
    "    \n",
    "+ Insights:\n",
    "    + Solo el 14% de los clientes responden a campañas de marketing (Mejorar respuesta)\n",
    "    + La oferta tipo 2 tiene la mayor tasa de respuesta (¿Cual es la diferencia entre las ofertas?)\n",
    "    + Los clientes con Luxury SUV responden con mayor frecuencia a las ofertas 1 y 2\n",
    "    + Principalmente enfocado en coches de cuatro puertas \n",
    "    + La oferta tipo 3 no es representativa (cambiarla y/o eliminarla, enfoque en coches deportivos y de lujo. Lo mismo con la oferta 4)\n",
    "    + Las mujeres tienen menor tasa de respuesta \n",
    "    + Los hombres con coches de lujo no responden en absoluto\n",
    "    + La oferta tipo 3 no funciona en los canales de venta branch y call center \n",
    "    + La oferta tipo 1 necesita mejorar en call centers \n",
    "    + Los clientes mas antiguos responden mejor "
   ]
  }
 ],
 "metadata": {
  "kernelspec": {
   "display_name": "IronHack",
   "language": "python",
   "name": "ironhack"
  },
  "language_info": {
   "codemirror_mode": {
    "name": "ipython",
    "version": 3
   },
   "file_extension": ".py",
   "mimetype": "text/x-python",
   "name": "python",
   "nbconvert_exporter": "python",
   "pygments_lexer": "ipython3",
   "version": "3.9.12"
  },
  "varInspector": {
   "cols": {
    "lenName": 16,
    "lenType": 16,
    "lenVar": 40
   },
   "kernels_config": {
    "python": {
     "delete_cmd_postfix": "",
     "delete_cmd_prefix": "del ",
     "library": "var_list.py",
     "varRefreshCmd": "print(var_dic_list())"
    },
    "r": {
     "delete_cmd_postfix": ") ",
     "delete_cmd_prefix": "rm(",
     "library": "var_list.r",
     "varRefreshCmd": "cat(var_dic_list()) "
    }
   },
   "types_to_exclude": [
    "module",
    "function",
    "builtin_function_or_method",
    "instance",
    "_Feature"
   ],
   "window_display": false
  }
 },
 "nbformat": 4,
 "nbformat_minor": 2
}
