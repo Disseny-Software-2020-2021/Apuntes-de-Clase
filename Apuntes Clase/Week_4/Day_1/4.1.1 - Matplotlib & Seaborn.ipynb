{
 "cells": [
  {
   "cell_type": "markdown",
   "id": "e60abbca",
   "metadata": {},
   "source": [
    "# 4.1.1 - Matplotlib & Seaborn."
   ]
  },
  {
   "cell_type": "markdown",
   "id": "35d02d95",
   "metadata": {},
   "source": [
    "En Python podemos realizar visualizaciones de todo tipo. En esta clase veremos algunas herramientas que nos permitirán crear gráficos. Algunos ejemplos:\n",
    "\n",
    "\n",
    "![cuadrados](../../images/cuadrados.png)\n",
    "\n",
    "\n",
    "![julia](../../images/julia.png)\n",
    "\n",
    "\n",
    "![mandelbrot](../../images/mandelbrot.png)\n",
    "\n",
    "$$$$\n",
    "\n",
    "Esto no es nuestro objetivo. \n",
    "\n",
    "En realidad, nuestros objetivos son dos, en primer lugar visualizar los datos para realizar un análisis exploratorio de los datos, EDA por las siglas en inglés. Necesitamos describir correctamente los datos y la visualización es una gran herramienta para ello. Nuestro segundo objetivo es representar los datos de tal manera que tengan narrativa, que podamos contar una historia a través de ellos. Es lo que se llama storytelling.\n",
    "\n",
    "**¿Qué es storytelling?**\n",
    "\n",
    "Es una técnica que utiliza datos para contar una historia. Es una forma útil de presentar información, lo que significa que se puede utilizar tanto con audiencias internas como externas. Si estás realizando la presentación de un informe, por ejemplo, puedes expresar mejor una idea o explicar mejor un punto si utilizas gráficos, tablas o infografías, ya que dichos contenidos retienen la atención de tu audiencia de una manera que un texto o incluso un video no lo pueden hacer. Estas herramientas facilitan el procesamiento de toda la información a la vez y la toma de decisiones.\n",
    "\n",
    "El storytelling va más allá de representar datos de una manera más atractiva. Consiste en mostrar cómo o por qué los datos cambiaron durante un período, y para eso es necesario reunir:\n",
    "\n",
    "+ una narrativa\n",
    "+ un contexto\n",
    "+ personajes\n",
    "\n",
    "Estos son los factores clave para que tu audiencia se involucre realmente con el contenido.\n",
    "\n",
    "$$$$\n",
    "\n",
    "Comenzaremos repasando algunos gráficos que más utilizaremos para realizar EDAs.\n",
    "\n",
    "**Matplotlib/Pylab - Seaborn**"
   ]
  },
  {
   "cell_type": "markdown",
   "id": "ddc566dd",
   "metadata": {},
   "source": [
    "Antes de comenzar como siempre importaremos las librerías necesarias para poder trabajar en nuestro notebook"
   ]
  },
  {
   "cell_type": "code",
   "execution_count": null,
   "id": "6978e447",
   "metadata": {},
   "outputs": [],
   "source": [
    "#libreria que nos permite movernos por carpetas\n",
    "import os\n",
    "\n",
    "#Librerias para poder obtener datos\n",
    "import numpy as np\n",
    "import pandas as pd\n",
    "\n",
    "\n",
    "#librerías de visualización\n",
    "import pylab as plt\n",
    "import seaborn as sns\n",
    "\n",
    "# Establecemos ciertos parámetros por defecto de nuestros gráficos\n",
    "plt.rcParams['figure.figsize']=(20, 10)  # tamaño por defecto para los plots\n",
    "\n"
   ]
  },
  {
   "cell_type": "code",
   "execution_count": null,
   "id": "c8f6bdea",
   "metadata": {},
   "outputs": [],
   "source": [
    "df = pd.read_csv('../../../data/video_games_sales.csv')\n",
    "\n",
    "df.head()"
   ]
  },
  {
   "cell_type": "markdown",
   "id": "828366b1",
   "metadata": {},
   "source": [
    "Siempre antes de empezar a crear gráficos, lo primero que debemos hacer es realizar un ánalisis de nuestros datos y ver como están distribuidos, para ello utilizaremos el método de pandas describe(), que nos devolverá una descripción estadística de nuestros datos."
   ]
  },
  {
   "cell_type": "code",
   "execution_count": null,
   "id": "d24f62e9",
   "metadata": {},
   "outputs": [],
   "source": [
    "df.describe(include='all').T"
   ]
  },
  {
   "cell_type": "markdown",
   "id": "280238b4",
   "metadata": {},
   "source": [
    "Seguidamente veremos si contiene nulos"
   ]
  },
  {
   "cell_type": "code",
   "execution_count": null,
   "id": "cfc4fd94",
   "metadata": {
    "scrolled": true
   },
   "outputs": [],
   "source": [
    "df.info()"
   ]
  },
  {
   "cell_type": "markdown",
   "id": "63592a16",
   "metadata": {},
   "source": [
    "## Lineplot\n",
    "\n",
    "Gráfico más simple que podemos usar, sirve para pintar una línea"
   ]
  },
  {
   "cell_type": "code",
   "execution_count": null,
   "id": "c85262d1",
   "metadata": {},
   "outputs": [],
   "source": [
    "x=[np.random.random() for i in range(10000)]\n",
    "y = [i+2 for i in x]\n",
    "prueba = pd.DataFrame()\n",
    "prueba['x'] = x\n",
    "prueba['y'] = y\n",
    "sns.lineplot(data = prueba, x ='x', y='y');"
   ]
  },
  {
   "cell_type": "markdown",
   "id": "211f0091",
   "metadata": {},
   "source": [
    "Podemos cambiar los estilos de los gráficos con el parámetro style"
   ]
  },
  {
   "cell_type": "code",
   "execution_count": null,
   "id": "2408b306",
   "metadata": {},
   "outputs": [],
   "source": [
    "plt.style.use('classic')\n",
    "plt.rcParams['figure.figsize']=(20, 10)"
   ]
  },
  {
   "cell_type": "code",
   "execution_count": null,
   "id": "80b3d587",
   "metadata": {},
   "outputs": [],
   "source": [
    "x=[np.random.random() for i in range(10000)]\n",
    "y = [np.log10(i) for i in x]\n",
    "prueba = pd.DataFrame()\n",
    "prueba['x'] = x\n",
    "prueba['y'] = y\n",
    "sns.lineplot(data = prueba, x ='x', y='y')\n",
    ";"
   ]
  },
  {
   "cell_type": "code",
   "execution_count": null,
   "id": "6a0f7936",
   "metadata": {},
   "outputs": [],
   "source": [
    "plt.style.use('Solarize_Light2')\n",
    "plt.rcParams['figure.figsize']=(20, 10)"
   ]
  },
  {
   "cell_type": "code",
   "execution_count": null,
   "id": "654d3e03",
   "metadata": {},
   "outputs": [],
   "source": [
    "x= [-np.random.random() for i in range(100)] + [np.random.random() for i in range(100)]\n",
    "y = [i**2 for i in x]\n",
    "prueba = pd.DataFrame()\n",
    "prueba['x'] = x\n",
    "prueba['y'] = y\n",
    "sns.lineplot(data = prueba, x ='x', y='y');"
   ]
  },
  {
   "cell_type": "code",
   "execution_count": null,
   "id": "2757f491",
   "metadata": {},
   "outputs": [],
   "source": [
    "plt.style.use('default') # restablecer valor por defecto\n",
    "plt.rcParams['figure.figsize']=(20, 10)"
   ]
  },
  {
   "cell_type": "markdown",
   "id": "cef39303",
   "metadata": {},
   "source": [
    "## Countplot\n",
    "\n",
    "Usaremos el countplot cuando queramos obtener el número de observaciones de una columna categórica en forma de gráfico de barras, vamos a explicar algunos de los parámetros que podemos usar para poder darle el formato que queramos.\n",
    "    \n",
    "    - data: El set de datos que usaremos para realizar el gráfico --> type DataFrame\n",
    "    - x, y, hue: Variables que queremos mostrar en el grafico --> str o list of strings\n",
    "    - orient: 'v' (para mostrar barras verticales) | 'h' (para barras horizontales)\n",
    "    - color: Para cambiar el color de las barras --> string\n",
    "    - palette: Nombre de la paleta de colores que queremos usar en el caso de usar el parámetro 'hue' o que muestre cada una de las barras de un color diferente.\n",
    "[color_palettes_seaborn](https://seaborn.pydata.org/tutorial/color_palettes.html)"
   ]
  },
  {
   "cell_type": "code",
   "execution_count": null,
   "id": "ddcb4606",
   "metadata": {},
   "outputs": [],
   "source": [
    "sns.countplot(data=df, x='Genre');"
   ]
  },
  {
   "cell_type": "code",
   "execution_count": null,
   "id": "e30442a5",
   "metadata": {},
   "outputs": [],
   "source": [
    "sns.countplot(data=df, x='Genre', color='blue');"
   ]
  },
  {
   "cell_type": "code",
   "execution_count": null,
   "id": "18b937e0",
   "metadata": {},
   "outputs": [],
   "source": [
    "sns.countplot(data=df, x='Genre', palette='rocket');"
   ]
  },
  {
   "cell_type": "code",
   "execution_count": null,
   "id": "c35cc297",
   "metadata": {},
   "outputs": [],
   "source": [
    "def print_countplot(data:pd.DataFrame, x:str, palette:str=None, title:str=None, save:bool = False,ax:int=None,)->None:\n",
    "    \n",
    "    '''\n",
    "        Función que devuelve un countplot de los datos que recibe\n",
    "        \n",
    "        Parameters:\n",
    "        -----------\n",
    "        df: Fuente de datos (pd.DataFrame)\n",
    "        x: Columna de los datos sobre la que queremos realizar el countplot (str)\n",
    "        palette: Paleta de colores que queremos usar para nuestro gráfico (str, None by default)\n",
    "        title: Titulo que queremos ponerle al gráfico\n",
    "        save: Si queremos guardar nuestro grafico o no\n",
    "        ax: Posición en la que mostraremos nuestro gráfico en el caso de usar subplots\n",
    "        \n",
    "        Return:\n",
    "        ------\n",
    "        \n",
    "        None, muestra el gráfico en el notebook pero no devuelve nada.\n",
    "        \n",
    "    '''\n",
    "    \n",
    "    p = sns.countplot(data=data, x=x, palette=palette)\n",
    "    p.set_title(title, fontsize=20)\n",
    "    \n",
    "    if save:\n",
    "        try:\n",
    "            plt.savefig(f'graphics/{title}.png')\n",
    "        except:\n",
    "            destino = input('No exite la carpeta de destino, introduce un nombre para la carpeta de destino: ')\n",
    "            os.mkdir(destino)\n",
    "            plt.savefig(f'{destino}/{title}.png')\n",
    "        \n",
    "    plt.show();\n",
    "    "
   ]
  },
  {
   "cell_type": "code",
   "execution_count": null,
   "id": "235b3963",
   "metadata": {
    "scrolled": true
   },
   "outputs": [],
   "source": [
    "print_countplot(df, 'Genre', 'rocket', 'Games per Genre')"
   ]
  },
  {
   "cell_type": "markdown",
   "id": "ec731f20",
   "metadata": {},
   "source": [
    "## Histograma\n",
    "\n",
    "El histograma es una herramienta clásica en la visualización de datos en la que podemos ver la distribución de una o más variables realizando un conteo de cada una de las observaciones y agrupándolas en un número concreto de grupos. Algunos de los parámetros que podemos usar a la hora de mostrar un histograma.\n",
    "\n",
    "    - data: Set de datos que usaremos para realizar el histograma - type pd.DataFrame\n",
    "    - x,y: Columna o columnas sobre las que queremos realizar el gráfico - type string o list of strings\n",
    "    - hue: Parámetro por el que queremos mapear nuestro datos\n",
    "    - stat: Agregado estadístico que queremos aplicar al gráfico\n",
    "    - bins: Número de barras que tendrá nuestro gráfico sobre el que agruparemos los resultados del stat\n",
    "    - bindwidth: Número que nos indica el paso en el que dividimos el rango total de la variable. \n",
    "      Ej. Si nuestro rango de datos es entre 0 y 10 y le damos un valor de 2, nos dividiría el eje x en [0,2,4,6,8,10]\n",
    "    - cumulative: Si el valor es True nos muestra los datos de forma acumulada\n",
    "    - kde: Si es True muestra estimación de densidad de los datos\n",
    "    "
   ]
  },
  {
   "cell_type": "code",
   "execution_count": null,
   "id": "adf0d076",
   "metadata": {},
   "outputs": [],
   "source": [
    "sns.histplot(data=df, x='Year_of_Release');"
   ]
  },
  {
   "cell_type": "code",
   "execution_count": null,
   "id": "0c552737",
   "metadata": {},
   "outputs": [],
   "source": [
    "sns.histplot(data=df, x='Year_of_Release', hue='Platform');"
   ]
  },
  {
   "cell_type": "code",
   "execution_count": null,
   "id": "76eeb90a",
   "metadata": {},
   "outputs": [],
   "source": [
    "sns.histplot(data=df, x='Year_of_Release', hue='Platform', stat='frequency');"
   ]
  },
  {
   "cell_type": "code",
   "execution_count": null,
   "id": "caaaad2c",
   "metadata": {},
   "outputs": [],
   "source": [
    "sns.histplot(data=df, x='Year_of_Release', hue='Platform', stat='count', bins=40);"
   ]
  },
  {
   "cell_type": "code",
   "execution_count": null,
   "id": "433e4c0e",
   "metadata": {},
   "outputs": [],
   "source": [
    "sns.histplot(data=df, x='Year_of_Release', hue='Platform', stat='count', binwidth=5);"
   ]
  },
  {
   "cell_type": "code",
   "execution_count": null,
   "id": "ca0230ce",
   "metadata": {},
   "outputs": [],
   "source": [
    "sns.histplot(data=df, x='Year_of_Release', hue='Platform', stat='count', cumulative=True);"
   ]
  },
  {
   "cell_type": "code",
   "execution_count": null,
   "id": "2e593cdc",
   "metadata": {},
   "outputs": [],
   "source": [
    "sns.histplot(data=df, x='Year_of_Release', hue='Platform', stat='count', kde=True);"
   ]
  },
  {
   "cell_type": "code",
   "execution_count": null,
   "id": "118e06d1",
   "metadata": {},
   "outputs": [],
   "source": [
    "def print_histplot(data:pd.DataFrame, x:str, title:str=None, hue:str=None, palette:str= None, stat:str='count', ax:int=None,\n",
    "                   bins:int=10,binwidth:int=None, cumulative:bool=False, kde:bool=False, save:bool=False)->None:\n",
    "    \n",
    "    '''\n",
    "        Función que no imprime un histograma\n",
    "        \n",
    "        Parameters:\n",
    "        ----------\n",
    "        df: Set de datos\n",
    "        x: Columna o variables sobre las que deseamos realizar el gráfico\n",
    "        title: Título de nuestro gráfico\n",
    "        hue: Variable sobre la que deseamos mapear\n",
    "        palette: Paleta de colores que deseamos usar en nuestro gráfico\n",
    "        stat: Agregado estadístico sobre el que queremos realizar nuestro histograma\n",
    "        bins: Número de columnas por las que queremos que agrupe nuestros datos\n",
    "        binwidth: Paso en el que dividimos nuestro rango de datos\n",
    "        cumulative: Si queremos realizar un histograma acumulativo o no\n",
    "        kde: Parametro para mostrar en el gráfico la línea de densidad\n",
    "        save: Si queremos guardar nuestro gráfico\n",
    "        ax: Posición en la que mostraremos nuestro gráfico en el caso de usar subplots\n",
    "        \n",
    "        Return:\n",
    "        -------\n",
    "        \n",
    "        None, muestra el gráfico por pantalla pero la función no devuelve nada\n",
    "    '''\n",
    "    \n",
    "    p=sns.histplot(data=data, x=x, hue=hue, stat=stat,\\\n",
    "                 palette=palette, bins= bins, binwidth= binwidth,\\\n",
    "                 cumulative=cumulative, kde=kde)\n",
    "    p.set_title(title, fontsize=20)\n",
    "    \n",
    "    if save:\n",
    "        try:\n",
    "            plt.savefig(f'graphics/{title}.png')\n",
    "        except:\n",
    "            destino = input('No exite la carpeta de destino, introduce un nombre para la carpeta de destino: ')\n",
    "            os.mkdir(destino)\n",
    "            plt.savefig(f'{destino}/{title}.png')\n",
    "        \n",
    "    plt.show();"
   ]
  },
  {
   "cell_type": "code",
   "execution_count": null,
   "id": "08f2963e",
   "metadata": {},
   "outputs": [],
   "source": [
    "print_histplot(df,x='Year_of_Release', kde=True, title='Games Releaded per Year')"
   ]
  },
  {
   "cell_type": "markdown",
   "id": "f08035b4",
   "metadata": {},
   "source": [
    "## Scatterplot\n",
    "\n",
    "El scatterplot es un gráfico de puntos en el que representamos el valor de una variable frente a otra, solemos usar este tipo de gráficos para comprobar la dispersión de nuestros datos. Solemos usar los siguientes parámetros:\n",
    "\n",
    "    - data: Datos sobre los que vamos a realizar el gráfico\n",
    "    - x,y: Variables que vamos a comparar\n",
    "    - hue: Agrupación que queremos mostrar en nuestro gráfico\n",
    "    - size: Parámetro que sirve para diferenciar diferentes grupos y los muestra en diferentes tamaños\n",
    "    - style: Sirve para añadir otra dimensión más a nuestro gráfico, agrupa por la columna que recibe y los muestra con un estilo diferente\n",
    "    - palette: Paleta de colores que queremos usar\n"
   ]
  },
  {
   "cell_type": "code",
   "execution_count": null,
   "id": "4951846a",
   "metadata": {},
   "outputs": [],
   "source": [
    "sns.scatterplot(data=df, x='Platform', y='Critic_Score', hue='Genre', size='User_Count');"
   ]
  },
  {
   "cell_type": "code",
   "execution_count": null,
   "id": "6e32e4ae",
   "metadata": {},
   "outputs": [],
   "source": [
    "def print_scatter(data:pd.DataFrame, x:str, y:str, title:str=None, hue:str=None, ax:int=None,\n",
    "                  size:str=None, style:str=None, palette:str=None, save:bool=False)->None:\n",
    "    '''\n",
    "        Función que nos muestra por pantalla un gráfico de dispersión de dos variables.\n",
    "        \n",
    "        Parameters:\n",
    "        -----------\n",
    "        df: Datos sobre los que queremos realizar el gráfico\n",
    "        x: Variable del eje X\n",
    "        y: Variable del eje Y\n",
    "        title: Título de nuestro gráfico\n",
    "        hue: Agrupación que nos muestra los diferentes grupos de nuestros datos en forma de colores diferentes\n",
    "        size: Agrupación que nos muestra los diferentes grupos de nuestros datos en forma de diferentes tamaños\n",
    "        style: Agrupación que nos muestra los diferentes grupos de nuestros datos en forma de estilos de puntos diferentes\n",
    "        palette: Paleta de colores que queremos usar en el hue\n",
    "        save: Parametro para guardar nuestro gráfico, False por defecto\n",
    "        ax: Posición en la que mostraremos nuestro gráfico en el caso de usar subplots\n",
    "    '''\n",
    "    \n",
    "    p=sns.scatterplot(data=data, x=x, y=y, hue=hue, size=size,\\\n",
    "                 palette=palette, style=style)\n",
    "    if title:\n",
    "        p.set_title(title, fontsize=20)\n",
    "    else:\n",
    "        title = f'{x} vs {y}'\n",
    "        p.set_title(title, fontsize=20)\n",
    "    \n",
    "    if save:\n",
    "        try:\n",
    "            plt.savefig(f'graphics/{title}.png')\n",
    "        except:\n",
    "            destino = input('No exite la carpeta de destino, introduce un nombre para la carpeta de destino: ')\n",
    "            os.mkdir(destino)\n",
    "            plt.savefig(f'{destino}/{title}.png')\n",
    "        \n",
    "    plt.show();\n",
    "    "
   ]
  },
  {
   "cell_type": "code",
   "execution_count": null,
   "id": "3a5cf233",
   "metadata": {},
   "outputs": [],
   "source": [
    "print_scatter(data=df, x='Platform', y='Critic_Score',title='Platform vs Critic Score', hue='Genre', size='User_Count')"
   ]
  },
  {
   "cell_type": "markdown",
   "id": "c5160e74",
   "metadata": {},
   "source": [
    "## Barplot\n",
    "\n",
    "Los gráficos de barras representan una estimación de la tendencia central respecto a una altura determinada de un rectángulo de una variable numérica, también nos muestra un indicador del error estandar de dicha variable mediante una barra central en cada una de las columnas. Paramétros más usados:\n",
    "\n",
    "    - data: Set de datos sobre los que queremos realizar el gráfico\n",
    "    - x,y: Variables a representar en el gráfico\n",
    "    - hue: Variable (normalmente categórica) que podemos utilizar para agrupar datos y mapearlos\n",
    "    - orient: 'v' | 'h', disposición de las barras vertical u horizontal.\n",
    "    - palette: Disposición de colores\n",
    "    - color: Si queremos que todas las barras sean del mismo color"
   ]
  },
  {
   "cell_type": "code",
   "execution_count": null,
   "id": "c1077ac8",
   "metadata": {},
   "outputs": [],
   "source": [
    "sns.barplot(data=df, x='Platform', y='User_Count');"
   ]
  },
  {
   "cell_type": "code",
   "execution_count": null,
   "id": "7bc90827",
   "metadata": {},
   "outputs": [],
   "source": [
    "def print_barplot(data:pd.DataFrame, x:str, y:str, hue:str=None, orient:str='v', palette:str=None, \n",
    "                  color:str=None, title:str=None, save:bool=False, ax:int=None)->None:\n",
    "    '''\n",
    "        Función que muestra por pantalla un gráfico de barras de los datos que recibe como parámetro.\n",
    "        \n",
    "        Parameters:\n",
    "        -----------\n",
    "        data = Set de datos a utilizar. pd.DataFrame\n",
    "        x = Columna sobre la que queremos realizar la estimación\n",
    "        y = Columna que usaremos para calcular la estimaión de x\n",
    "        hue = Columna, normalmente categórica, que podemos usar para agrupar los datos X\n",
    "        error = Parámetro para mostrar el error estandar de la columna\n",
    "        orient = Disposición de las barras del gráfico 'v' o 'h'\n",
    "        palette = Paleta de colores que queremos usar para representar nuestro gráfico\n",
    "        color = Parámetro que usaremos en el caso de querer todas las columnas del mismo color\n",
    "        title = Título que llevará nuestro gráfico en el caso de queramos que lo lleve\n",
    "        save = Parámetro para guardar nuestro gráfico en el disco duro\n",
    "        ax: Posición en la que mostraremos nuestro gráfico en el caso de usar subplots\n",
    "    '''\n",
    "    \n",
    "    p=sns.barplot(data=data, x=x, y=y, hue=hue,\\\n",
    "                 orient=orient, palette=palette, color=color)\n",
    "    p.set_title(title, fontsize=20)\n",
    "    \n",
    "    if save:\n",
    "        try:\n",
    "            plt.savefig(f'graphics/{title}.png')\n",
    "        except:\n",
    "            destino = input('No exite la carpeta de destino, introduce un nombre para la carpeta de destino: ')\n",
    "            os.mkdir(destino)\n",
    "            plt.savefig(f'{destino}/{title}.png')\n",
    "        \n",
    "    plt.show();"
   ]
  },
  {
   "cell_type": "code",
   "execution_count": null,
   "id": "4a76c26a",
   "metadata": {
    "scrolled": true
   },
   "outputs": [],
   "source": [
    "print_barplot(data=df, x='Platform', y='User_Count', title='Users per Platform');"
   ]
  },
  {
   "cell_type": "markdown",
   "id": "002d742a",
   "metadata": {},
   "source": [
    "## Boxplot & Violinplot\n",
    "\n",
    "Los boxplot o gráficos de \"cajas y bigotes\" se usan para mostrar la distribución de los datos de una variable, así como para facilitar la comparación entre distintas variables a través de una variable categórica. La caja representa los quartiles del set de datos y los bigotes marcan los rangos a partir de los cauales marcaremos nuestros datos como 'outliers' (valores atípicos) a través del [test de tukey](https://en.wikipedia.org/wiki/Tukey%27s_range_test) o la función del rango intercuartílico.\n",
    "\n",
    "El violinplot muestra la distribución de los datos a través de la estimación de la densidad (kde).\n",
    "\n",
    "Parámetros más usados:\n",
    "\n",
    "    - data: Set de datos que usaremos para realizar el gráfico\n",
    "    - x,y, hue: variables que usaremos para las cajas\n",
    "    - orient: orientación del gráfico 'v' | 'h'\n",
    "    - palette : Paleta de colores que usaremos en nuestro gráfico\n",
    "    - color : Si queremos que todas las cajas sean iguales utilizaremos este parámetro"
   ]
  },
  {
   "cell_type": "markdown",
   "id": "1a2dba38",
   "metadata": {},
   "source": [
    "Vamos a cargar unos datos nuevos, seaborn tiene una serie de dataset en su API que podemos usar e importar a través del método load_set(), en este caso usaremos el dataset 'titanic' que incluye unos datos extraidos de la tragedia del titanic, si queremos ver otros tipos de dataset tenemos el método get_dataset_names()"
   ]
  },
  {
   "cell_type": "code",
   "execution_count": null,
   "id": "1da4d83f",
   "metadata": {},
   "outputs": [],
   "source": [
    "sns.get_dataset_names()"
   ]
  },
  {
   "cell_type": "code",
   "execution_count": null,
   "id": "763ca7fb",
   "metadata": {},
   "outputs": [],
   "source": [
    "df = sns.load_dataset('titanic')"
   ]
  },
  {
   "cell_type": "code",
   "execution_count": null,
   "id": "d8d43e41",
   "metadata": {},
   "outputs": [],
   "source": [
    "df.info()"
   ]
  },
  {
   "cell_type": "code",
   "execution_count": null,
   "id": "a284b5de",
   "metadata": {},
   "outputs": [],
   "source": [
    "sns.boxplot(data=df, x='age', y='sex',hue='alive',orient='h');"
   ]
  },
  {
   "cell_type": "code",
   "execution_count": null,
   "id": "e9280936",
   "metadata": {},
   "outputs": [],
   "source": [
    "sns.violinplot(data=df, x='age', y='sex',hue='alive',orient='h');"
   ]
  },
  {
   "cell_type": "markdown",
   "id": "a1c18aca",
   "metadata": {},
   "source": [
    "## Heatmap\n",
    "\n",
    "Los mapas de calor nos muestran los datos de una matriz codificados en forma de color, tienen varios usos pero para nuestro caso los usaremos principalmente para mostrar la matrice de correlación y la matriz de confusión (para evaluar modelos de clasficación de ML)"
   ]
  },
  {
   "cell_type": "code",
   "execution_count": null,
   "id": "96e79be2",
   "metadata": {},
   "outputs": [],
   "source": [
    "sns.heatmap(df.corr());"
   ]
  },
  {
   "cell_type": "code",
   "execution_count": null,
   "id": "c87d64a0",
   "metadata": {},
   "outputs": [],
   "source": [
    "def print_heatmap_corr(data:pd.DataFrame, annot:bool=True, cmap:str=None, \n",
    "                       mask:bool=True, save:bool=False, title:str=None)->None:\n",
    "    \n",
    "    '''\n",
    "        Función que recibe un dataframe y devuelve la matriz de correlación en forma de mapa de color\n",
    "        \n",
    "        Parameters:\n",
    "        -----------\n",
    "        \n",
    "        data: Dataset sobre el que queremos realizar la matriz de correlación\n",
    "        annot: Si queremos mostrar el valor de la correlación en la matriz, default = True\n",
    "        cmap: Paleta de colores que queremos usar para nuestro heatmap\n",
    "        mask: Parámetro para mostrar solo la triangular inferior de la matriz de correlación\n",
    "        save: Parámetro para salvar nuestro gráfico\n",
    "        title: Título que queremos que lleve nuestro gráfico\n",
    "    '''\n",
    "    \n",
    "    sns.set(style='white')     # estilo blanco hace que el fondo de la matriz sea transparente\n",
    "\n",
    "    if mask: # Si mask es True\n",
    "        mascara=np.triu(np.ones_like(df.corr(), dtype=bool))   # genera una mascara para tapar valores\n",
    "    else:\n",
    "        mascara = None # No aplicamos máscar\n",
    "\n",
    "    if cmap: # Si le hemos pasado una paleta de colores\n",
    "        c_map = sns.color_palette(cmap, as_cmap=True)\n",
    "    else:\n",
    "        c_map=sns.diverging_palette(0, 10, as_cmap=True)   # paleta de colores por defecto\n",
    "\n",
    "\n",
    "    p = sns.heatmap(df.corr(), # aplica el método corr() a nuestro dataset\n",
    "            mask=mascara, # aplica la mascara\n",
    "            cmap=c_map, # aplica la paleta de colores\n",
    "            vmax=1, # para establecer el valor máximo de valores\n",
    "            center=0, # establece el centro de la paleta de colores\n",
    "            square=True,\n",
    "            linewidth=0.5, # para aplicar borde a los cuadros de la matriz\n",
    "            cbar_kws={'shrink': 0.5}, # mostrar leyenda de colores\n",
    "            annot=annot # mostrar valores de la matriz\n",
    "           )\n",
    "    p.set_title(title, fontsize=20)\n",
    "    \n",
    "    if save:\n",
    "        try:\n",
    "            plt.savefig(f'graphics/{title}.png')\n",
    "        except:\n",
    "            destino = input('No exite la carpeta de destino, introduce un nombre para la carpeta de destino: ')\n",
    "            os.mkdir(destino)\n",
    "            plt.savefig(f'{destino}/{title}.png')\n",
    "    \n",
    "    plt.show();\n",
    "    "
   ]
  },
  {
   "cell_type": "code",
   "execution_count": null,
   "id": "a6e62566",
   "metadata": {},
   "outputs": [],
   "source": [
    "print_heatmap_corr(df, cmap='rocket', title='Titanic Corr')"
   ]
  },
  {
   "cell_type": "markdown",
   "id": "38bbafe3",
   "metadata": {},
   "source": [
    "## Subplots"
   ]
  },
  {
   "cell_type": "markdown",
   "id": "c8e4ccfe",
   "metadata": {},
   "source": [
    "La idea de los subplots es mostrar diferentes gráficos de forma continuada, para ello creamos una variable en forma de matriz, que a su vez dividirá la pantalla para mostar tantos gráficos como valores le hayamos asignado a dicha matriz."
   ]
  },
  {
   "cell_type": "code",
   "execution_count": null,
   "id": "5e81610d",
   "metadata": {},
   "outputs": [],
   "source": [
    "fig, ax = plt.subplots(1,3) # generamos una matriz de 3 columnas y una fila\n",
    "\n",
    "for i, col in enumerate(df.columns[1:4]):\n",
    "    ax[i].scatter(x=df.survived, y=df[col])\n",
    "    "
   ]
  },
  {
   "cell_type": "markdown",
   "id": "0b703cc7",
   "metadata": {},
   "source": [
    "Con FacetGrid, este método lo que hace es crear un gráfico para cada una de las posibles combinaciones entre dos variables categóricas"
   ]
  },
  {
   "cell_type": "code",
   "execution_count": null,
   "id": "846c11d4",
   "metadata": {},
   "outputs": [],
   "source": [
    "g = sns.FacetGrid(df, col='survived', row='pclass')\n",
    "g.map(sns.scatterplot, 'alone', 'age');"
   ]
  }
 ],
 "metadata": {
  "kernelspec": {
   "display_name": "Python 3 (ipykernel)",
   "language": "python",
   "name": "python3"
  },
  "language_info": {
   "codemirror_mode": {
    "name": "ipython",
    "version": 3
   },
   "file_extension": ".py",
   "mimetype": "text/x-python",
   "name": "python",
   "nbconvert_exporter": "python",
   "pygments_lexer": "ipython3",
   "version": "3.9.7"
  }
 },
 "nbformat": 4,
 "nbformat_minor": 5
}
